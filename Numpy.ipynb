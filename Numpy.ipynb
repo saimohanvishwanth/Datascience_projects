{
 "cells": [
  {
   "cell_type": "code",
   "execution_count": 4,
   "id": "000ebb6e",
   "metadata": {},
   "outputs": [
    {
     "data": {
      "text/plain": [
       "array([1, 2])"
      ]
     },
     "execution_count": 4,
     "metadata": {},
     "output_type": "execute_result"
    }
   ],
   "source": [
    "#one d array\n",
    "#numpy.array(object, dtype=none,copy=true,order=none,subok=false,ndim=0)\n",
    "import numpy as np\n",
    "a=np.array([1,2])\n",
    "a"
   ]
  },
  {
   "cell_type": "code",
   "execution_count": 6,
   "id": "c8fc7a8e",
   "metadata": {},
   "outputs": [
    {
     "data": {
      "text/plain": [
       "array([[1, 2],\n",
       "       [3, 4]])"
      ]
     },
     "execution_count": 6,
     "metadata": {},
     "output_type": "execute_result"
    }
   ],
   "source": [
    "#2d array\n",
    "import numpy as np\n",
    "a=np.array([[1,2],[3,4]])\n",
    "a"
   ]
  },
  {
   "cell_type": "code",
   "execution_count": 3,
   "id": "e92853b1",
   "metadata": {},
   "outputs": [
    {
     "data": {
      "text/plain": [
       "array([[[1, 2],\n",
       "        [3, 4],\n",
       "        [4, 5]]])"
      ]
     },
     "execution_count": 3,
     "metadata": {},
     "output_type": "execute_result"
    }
   ],
   "source": [
    "#3d array\n",
    "import numpy as np\n",
    "a=np.array([[[1,2],[3,4],[4,5]]])\n",
    "a\n"
   ]
  },
  {
   "cell_type": "code",
   "execution_count": 2,
   "id": "989e2e92",
   "metadata": {},
   "outputs": [
    {
     "data": {
      "text/plain": [
       "(4,)"
      ]
     },
     "execution_count": 2,
     "metadata": {},
     "output_type": "execute_result"
    }
   ],
   "source": [
    "#numpy.dtype(object, align, copy)\n",
    "#shape()\n",
    "g=np.array([1,2,3,4],dtype= int)\n",
    "g.shape\n"
   ]
  },
  {
   "cell_type": "code",
   "execution_count": 11,
   "id": "28fec2b2",
   "metadata": {},
   "outputs": [
    {
     "name": "stdout",
     "output_type": "stream",
     "text": [
      "[[8 7 5 6]\n",
      " [3 4 7 1]]\n"
     ]
    }
   ],
   "source": [
    "#RESIZE THE NARRAY\n",
    "import numpy as np\n",
    "h=np.array([[8,7,5,6],[3,4,7,1]])\n",
    "h.shape = (2,4)\n",
    "print(h)"
   ]
  },
  {
   "cell_type": "code",
   "execution_count": 7,
   "id": "3930baa0",
   "metadata": {},
   "outputs": [
    {
     "name": "stdout",
     "output_type": "stream",
     "text": [
      "array x:/n [[2 3 4]\n",
      " [5 6 7]\n",
      " [7 8 4]]\n",
      "the transpose of the array d is \n",
      " [[2 5 7]\n",
      " [3 6 8]\n",
      " [4 7 4]]\n"
     ]
    }
   ],
   "source": [
    "#transpose of the matrix\n",
    "import  numpy as np\n",
    "d=np.array([[2,3,4],[5,6,7],[7,8,4]])\n",
    "print('array x:/n', d)\n",
    "print('the transpose of the array d is \\n',d.T)"
   ]
  },
  {
   "cell_type": "code",
   "execution_count": 13,
   "id": "b83b071e",
   "metadata": {},
   "outputs": [
    {
     "data": {
      "text/plain": [
       "array([[ 376599412, 1912602624],\n",
       "       [        92, 1818430426],\n",
       "       [1836282721, 1869116517]])"
      ]
     },
     "execution_count": 13,
     "metadata": {},
     "output_type": "execute_result"
    }
   ],
   "source": [
    "import numpy as np\n",
    "g=np.empty((3,2),dtype= int)\n",
    "g"
   ]
  },
  {
   "cell_type": "code",
   "execution_count": 18,
   "id": "4678d2f9",
   "metadata": {},
   "outputs": [
    {
     "name": "stdout",
     "output_type": "stream",
     "text": [
      "[1 2 3 4 5 6 7 8 9]\n"
     ]
    },
    {
     "data": {
      "text/plain": [
       "array([ 1,  2,  3,  4,  5,  6,  7,  8,  9, 10, 11, 12, 13, 14, 15, 16, 17,\n",
       "       18, 19, 20, 21])"
      ]
     },
     "execution_count": 18,
     "metadata": {},
     "output_type": "execute_result"
    }
   ],
   "source": [
    "#an array of evenly spaced numbers\n",
    "import numpy as np\n",
    "a=np.arange(1,10)\n",
    "b=np.arange(1,22)\n",
    "print(a)\n",
    "b"
   ]
  },
  {
   "cell_type": "code",
   "execution_count": 14,
   "id": "083c5783",
   "metadata": {},
   "outputs": [
    {
     "data": {
      "text/plain": [
       "array([[1, 1, 1],\n",
       "       [1, 1, 1],\n",
       "       [1, 1, 1]])"
      ]
     },
     "execution_count": 14,
     "metadata": {},
     "output_type": "execute_result"
    }
   ],
   "source": [
    "import numpy as np\n",
    "v=np.ones((3,3), dtype=int)\n",
    "v"
   ]
  },
  {
   "cell_type": "code",
   "execution_count": 23,
   "id": "7897525f",
   "metadata": {},
   "outputs": [
    {
     "data": {
      "text/plain": [
       "array([0., 0., 0., 0., 0., 0., 0., 0., 0., 0., 0., 0.])"
      ]
     },
     "execution_count": 23,
     "metadata": {},
     "output_type": "execute_result"
    }
   ],
   "source": [
    "#array of zeros \n",
    "import numpy as np\n",
    "c=np.zeros(12)\n",
    "c"
   ]
  },
  {
   "cell_type": "code",
   "execution_count": 30,
   "id": "89cb4e1c",
   "metadata": {},
   "outputs": [
    {
     "data": {
      "text/plain": [
       "array([0., 0., 0., 0., 0., 0., 0., 0.])"
      ]
     },
     "execution_count": 30,
     "metadata": {},
     "output_type": "execute_result"
    }
   ],
   "source": [
    "#array of zeros with including dtype and warning function\n",
    "import numpy as np\n",
    "import warnings\n",
    "warnings.filterwarnings('ignore')\n",
    "s=np.zeros(8 , dtype=float)\n",
    "s\n"
   ]
  },
  {
   "cell_type": "code",
   "execution_count": 31,
   "id": "6cd71e25",
   "metadata": {},
   "outputs": [
    {
     "data": {
      "text/plain": [
       "array(['name', '12', '3.3', '454'], dtype='<U4')"
      ]
     },
     "execution_count": 31,
     "metadata": {},
     "output_type": "execute_result"
    }
   ],
   "source": [
    "#convert list in to array\n",
    "v=['name',12,3.3,454]\n",
    "d=np.array(v)\n",
    "d"
   ]
  },
  {
   "cell_type": "code",
   "execution_count": 37,
   "id": "e44ed2ef",
   "metadata": {},
   "outputs": [
    {
     "data": {
      "text/plain": [
       "array([(1, 2, 3.3), list([4, 5, 6, 7])], dtype=object)"
      ]
     },
     "execution_count": 37,
     "metadata": {},
     "output_type": "execute_result"
    }
   ],
   "source": [
    "#array from list to tuples\n",
    "import numpy as np\n",
    "f=[(1,2,3.3),[4,5,6,7]]\n",
    "b=np.asarray(f)\n",
    "b"
   ]
  },
  {
   "cell_type": "code",
   "execution_count": 38,
   "id": "5929b1bc",
   "metadata": {},
   "outputs": [
    {
     "name": "stdout",
     "output_type": "stream",
     "text": [
      "[ 0  1  2  3  4  5  6  7  8  9 10 11 12]\n"
     ]
    },
    {
     "data": {
      "text/plain": [
       "2"
      ]
     },
     "execution_count": 38,
     "metadata": {},
     "output_type": "execute_result"
    }
   ],
   "source": [
    "#slicing in numpy \n",
    "#numpy.arange(start, stop, step, dtype)\n",
    "a=np.arange(13)\n",
    "print(a)\n",
    "s=slice(2,3,4.5)\n",
    "a[2]"
   ]
  },
  {
   "cell_type": "code",
   "execution_count": 5,
   "id": "57230662",
   "metadata": {},
   "outputs": [
    {
     "name": "stdout",
     "output_type": "stream",
     "text": [
      "our array is :\n",
      "[[1 2 3]\n",
      " [4 5 6]\n",
      " [7 8 9]\n",
      " [5 6 3]]\n",
      "/n\n",
      "the items in secound coulmn are\n",
      "[2 5 8 6]\n",
      "\n",
      "\n",
      "the items in secound row\n",
      "[4 5 6]\n",
      "/n\n",
      "the coulmn items one are:\n",
      "[[2 3]\n",
      " [5 6]\n",
      " [8 9]\n",
      " [6 3]]\n",
      "/n\n",
      "the row items one are:\n",
      "[[1 2 3]]\n",
      "/n\n",
      "the row items one are:\n",
      "[[4]\n",
      " [7]\n",
      " [5]]\n",
      "/n\n"
     ]
    }
   ],
   "source": [
    "#sclicing\n",
    "import numpy as np\n",
    "d=np.array([[1,2,3],[4,5,6],[7,8,9],[5,6,3]])\n",
    "print('our array is :')\n",
    "print(d)\n",
    "print('/n')\n",
    "#this returns the array in secound column\n",
    "print('the items in secound coulmn are')\n",
    "print(d[...,1])\n",
    "print('\\n')\n",
    "#now secound row\n",
    "print('the items in secound row')\n",
    "print(d[1,...])\n",
    "print('/n')\n",
    "#all items in column in 1:\n",
    "print('the coulmn items one are:')\n",
    "print(d[...,1:])\n",
    "print('/n')\n",
    "print('the row items one are:')\n",
    "print(d[:1,...])\n",
    "print('/n')\n",
    "print('the row items one are:')\n",
    "print(d[1:,:1,...])\n",
    "print('/n')"
   ]
  },
  {
   "cell_type": "code",
   "execution_count": 34,
   "id": "899a2d4f",
   "metadata": {},
   "outputs": [
    {
     "name": "stdout",
     "output_type": "stream",
     "text": [
      "the array in given below in a range is  [ 4  6  8 10 12 14 16 18 20 22 24 26 28 30 32 34 36 38]\n"
     ]
    }
   ],
   "source": [
    "h=np.arange(4,40,2, int)\n",
    "print('the array in given below in a range is ',h)"
   ]
  },
  {
   "cell_type": "code",
   "execution_count": 15,
   "id": "e477282c",
   "metadata": {},
   "outputs": [
    {
     "name": "stdout",
     "output_type": "stream",
     "text": [
      "[ 0  1  2  3  4  5  6  7  8  9 10 11 12]\n"
     ]
    }
   ],
   "source": [
    "f=np.arange(13)\n",
    "print(f)"
   ]
  },
  {
   "cell_type": "code",
   "execution_count": 24,
   "id": "af499980",
   "metadata": {},
   "outputs": [
    {
     "name": "stdout",
     "output_type": "stream",
     "text": [
      "the array of the given range is : [10.    8.25  6.5   4.75  3.  ]\n",
      "(array([1. , 1.5, 2. ]), 0.5)\n"
     ]
    }
   ],
   "source": [
    "#linespace\n",
    "import numpy as np\n",
    "s=np.linspace(10,3,5)\n",
    "print('the array of the given range is :',s)\n",
    "#endpoint set to false\n",
    "f=np.linspace(12,3,4,endpoint=False)\n",
    "f\n",
    "#find the restep value\n",
    "import numpy as np\n",
    "f=np.linspace(1,2,3, retstep=True)\n",
    "print(f)\n"
   ]
  },
  {
   "cell_type": "code",
   "execution_count": 51,
   "id": "87b28e03",
   "metadata": {},
   "outputs": [
    {
     "data": {
      "text/plain": [
       "array([ 1,  4,  7, 10])"
      ]
     },
     "execution_count": 51,
     "metadata": {},
     "output_type": "execute_result"
    }
   ],
   "source": [
    "import numpy as np\n",
    "s=np.arange(14)\n",
    "b=s[1 : 13 : 3]\n",
    "b"
   ]
  },
  {
   "cell_type": "code",
   "execution_count": 27,
   "id": "4e9b84f5",
   "metadata": {},
   "outputs": [
    {
     "data": {
      "text/plain": [
       "array([1.00000000e+01, 1.77827941e+08, 3.16227766e+15, 5.62341325e+22,\n",
       "       1.00000000e+30])"
      ]
     },
     "execution_count": 27,
     "metadata": {},
     "output_type": "execute_result"
    }
   ],
   "source": [
    "#numpy.logspace(start,stop, num, endpoint, base, dtype)\n",
    "import numpy as np\n",
    "d=np.logspace(1, 30, num=5)\n",
    "d"
   ]
  },
  {
   "cell_type": "code",
   "execution_count": 29,
   "id": "8c2d3981",
   "metadata": {},
   "outputs": [
    {
     "data": {
      "text/plain": [
       "array([2.00000000e+00, 2.26274170e+01, 2.56000000e+02, 2.89630938e+03,\n",
       "       3.27680000e+04])"
      ]
     },
     "execution_count": 29,
     "metadata": {},
     "output_type": "execute_result"
    }
   ],
   "source": [
    "#set base of logspace to 2 and endpoint is true\n",
    "import numpy as np\n",
    "g=np.logspace(1,15,num=5,base=2,endpoint = True)\n",
    "g"
   ]
  },
  {
   "cell_type": "code",
   "execution_count": 51,
   "id": "099118ca",
   "metadata": {},
   "outputs": [
    {
     "name": "stdout",
     "output_type": "stream",
     "text": [
      "the array used for array indexing :\n",
      "[[2 3 4]\n",
      " [5 6 7]\n",
      " [9 6 5]\n",
      " [3 4 1]]\n",
      "the output is :\n",
      "[2 6 9 3]\n",
      "the corner element of the array is:  [[2 3]\n",
      " [5 6]]\n"
     ]
    }
   ],
   "source": [
    "#advanced indexing: retunrs copy of the data, it is used when selection object from narray is non-tuple object with on eint or boolean value\n",
    "#int indexing\n",
    "import numpy as np\n",
    "s=np.array([[2,3,4],[5,6,7],[9,6,5],[3,4,1]])\n",
    "print('the array used for array indexing :')\n",
    "print(s)\n",
    "y=s[[0,1,2,3],[0,1,0,0]]\n",
    "print('the output is :')\n",
    "print(y)\n",
    "rows=np.array([[0],[1]])\n",
    "columns=np.array([[0,1],[0,1]])\n",
    "f=s[rows,columns]\n",
    "print('the corner element of the array is: ',f)\n",
    "\n"
   ]
  },
  {
   "cell_type": "code",
   "execution_count": 62,
   "id": "d8cd52f0",
   "metadata": {},
   "outputs": [
    {
     "data": {
      "text/plain": [
       "array([ 21.1,  22.3,  34. ,  45. , 117. , 958. ])"
      ]
     },
     "execution_count": 62,
     "metadata": {},
     "output_type": "execute_result"
    }
   ],
   "source": [
    "#adding of two array in numpy\n",
    "a=np.array([1.1,2.3,4,5,67,898])\n",
    "b=np.array([20,20,30,40,50,60])\n",
    "c= np.ravel([a + b])\n",
    "np.ravel(c)"
   ]
  },
  {
   "cell_type": "code",
   "execution_count": 14,
   "id": "b9b65812",
   "metadata": {},
   "outputs": [
    {
     "name": "stdout",
     "output_type": "stream",
     "text": [
      "the array is \n",
      "/n\n",
      "[[2, 3, 4], [4, 5, 6], [8, 9, 2]]\n",
      "items more than 4 are\n"
     ]
    },
    {
     "ename": "TypeError",
     "evalue": "'>=' not supported between instances of 'list' and 'int'",
     "output_type": "error",
     "traceback": [
      "\u001b[1;31m---------------------------------------------------------------------------\u001b[0m",
      "\u001b[1;31mTypeError\u001b[0m                                 Traceback (most recent call last)",
      "\u001b[1;32m~\\AppData\\Local\\Temp/ipykernel_7020/3089713562.py\u001b[0m in \u001b[0;36m<module>\u001b[1;34m\u001b[0m\n\u001b[0;32m      7\u001b[0m \u001b[1;31m#items greater than 4\u001b[0m\u001b[1;33m\u001b[0m\u001b[1;33m\u001b[0m\u001b[1;33m\u001b[0m\u001b[0m\n\u001b[0;32m      8\u001b[0m \u001b[0mprint\u001b[0m\u001b[1;33m(\u001b[0m\u001b[1;34m'items more than 4 are'\u001b[0m\u001b[1;33m)\u001b[0m\u001b[1;33m\u001b[0m\u001b[1;33m\u001b[0m\u001b[0m\n\u001b[1;32m----> 9\u001b[1;33m \u001b[0mg\u001b[0m\u001b[1;33m[\u001b[0m\u001b[0mg\u001b[0m\u001b[1;33m>=\u001b[0m\u001b[1;36m4\u001b[0m\u001b[1;33m]\u001b[0m\u001b[1;33m\u001b[0m\u001b[1;33m\u001b[0m\u001b[0m\n\u001b[0m",
      "\u001b[1;31mTypeError\u001b[0m: '>=' not supported between instances of 'list' and 'int'"
     ]
    }
   ],
   "source": [
    "#boolean indexing: it is used for the condition using comparision operator or some other operator\n",
    "import numpy as np\n",
    "g=([[2,3,4],[4,5,6],[8,9,2]])\n",
    "print('the array is ')\n",
    "print('/n')\n",
    "print(g)\n",
    "#items greater than 4\n",
    "print('items more than 4 are')\n",
    "g[g>=4]"
   ]
  },
  {
   "cell_type": "code",
   "execution_count": 54,
   "id": "61951b1f",
   "metadata": {},
   "outputs": [
    {
     "name": "stdout",
     "output_type": "stream",
     "text": [
      "After omiting the Nan value is\n",
      "[2. 3. 4. 5.]\n"
     ]
    }
   ],
   "source": [
    "#complement operator\n",
    "import numpy as np\n",
    "f=np.array([2,3,4,np.nan,5, np.nan])\n",
    "print('After omiting the Nan value is')\n",
    "print(f[~np.isnan(f)])"
   ]
  },
  {
   "cell_type": "code",
   "execution_count": 55,
   "id": "ea8d171c",
   "metadata": {},
   "outputs": [
    {
     "name": "stdout",
     "output_type": "stream",
     "text": [
      "(4,)\n"
     ]
    }
   ],
   "source": [
    "import numpy as np\n",
    "l=np.arange(0,20,5)\n",
    "print(l.shape)\n",
    "\n",
    "\n"
   ]
  },
  {
   "cell_type": "code",
   "execution_count": 75,
   "id": "1135cef7",
   "metadata": {},
   "outputs": [
    {
     "name": "stdout",
     "output_type": "stream",
     "text": [
      "sine of different angles\n",
      "[-0.54402111  0.91294525  0.74511316 -0.26237485  0.74511316]\n",
      "[-0.83907153  0.40808206 -0.66693806  0.96496603 -0.66693806]\n",
      "[ 0.64836083  2.23716094 -1.11721493 -0.27190061 -1.11721493]\n",
      "[0.42037176 5.00488909 1.2481692  0.07392994 1.2481692 ]\n"
     ]
    }
   ],
   "source": [
    "#Trignometry in numpy\n",
    "import numpy as np\n",
    "l=np.array([10,20,40,50,40])\n",
    "print('sine of different angles')\n",
    "print(np.sin(l))\n",
    "print(np.cos(l))\n",
    "print(np.tan(l))\n",
    "print(np.tan(l)**2)\n"
   ]
  },
  {
   "cell_type": "code",
   "execution_count": 58,
   "id": "19b2c501",
   "metadata": {},
   "outputs": [
    {
     "name": "stdout",
     "output_type": "stream",
     "text": [
      "[3.+8.j]\n"
     ]
    }
   ],
   "source": [
    "#to remove the complex value from an array\n",
    "import numpy as np\n",
    "s=np.array([1,2,56,3+8j])\n",
    "print(s[np.iscomplex(s)])\n"
   ]
  },
  {
   "cell_type": "code",
   "execution_count": 97,
   "id": "135c2b23",
   "metadata": {},
   "outputs": [
    {
     "name": "stdout",
     "output_type": "stream",
     "text": [
      "first array\n"
     ]
    },
    {
     "data": {
      "text/plain": [
       "array([[ 0.,  1.,  2.,  3.,  4.],\n",
       "       [ 5.,  6.,  7.,  8.,  9.],\n",
       "       [10., 11., 12., 13., 14.],\n",
       "       [15., 16., 17., 18., 19.],\n",
       "       [20., 21., 22., 23., 24.]])"
      ]
     },
     "execution_count": 97,
     "metadata": {},
     "output_type": "execute_result"
    }
   ],
   "source": [
    "#arranging arrays and shaping in to matrix\n",
    "import numpy as np\n",
    "a=np.arange(25,dtype=float).reshape(5,5)\n",
    "print('first array')\n",
    "a\n"
   ]
  },
  {
   "cell_type": "code",
   "execution_count": 104,
   "id": "7de93817",
   "metadata": {},
   "outputs": [
    {
     "name": "stdout",
     "output_type": "stream",
     "text": [
      "secound array\n",
      "[1 2 3 4 5]\n"
     ]
    }
   ],
   "source": [
    "print('secound array')\n",
    "h=np.array([1,2,3,4,5])\n",
    "print(h)"
   ]
  },
  {
   "cell_type": "code",
   "execution_count": 105,
   "id": "600238a7",
   "metadata": {},
   "outputs": [
    {
     "name": "stdout",
     "output_type": "stream",
     "text": [
      "add two arrays\n",
      "[[ 1.  3.  5.  7.  9.]\n",
      " [ 6.  8. 10. 12. 14.]\n",
      " [11. 13. 15. 17. 19.]\n",
      " [16. 18. 20. 22. 24.]\n",
      " [21. 23. 25. 27. 29.]]\n"
     ]
    }
   ],
   "source": [
    "print('add two arrays')\n",
    "print(np.add(a,h))\n",
    "\n"
   ]
  },
  {
   "cell_type": "code",
   "execution_count": 114,
   "id": "7778a64a",
   "metadata": {},
   "outputs": [
    {
     "name": "stdout",
     "output_type": "stream",
     "text": [
      "subtraction of two arrays\n",
      "[[-1. -1. -1. -1. -1.]\n",
      " [ 4.  4.  4.  4.  4.]\n",
      " [ 9.  9.  9.  9.  9.]\n",
      " [14. 14. 14. 14. 14.]\n",
      " [19. 19. 19. 19. 19.]]\n",
      "mul of two arrays\n",
      "[[  0.   2.   6.  12.  20.]\n",
      " [  5.  12.  21.  32.  45.]\n",
      " [ 10.  22.  36.  52.  70.]\n",
      " [ 15.  32.  51.  72.  95.]\n",
      " [ 20.  42.  66.  92. 120.]]\n",
      "dividing of two arrays\n",
      "[[ 0.          0.5         0.66666667  0.75        0.8       ]\n",
      " [ 5.          3.          2.33333333  2.          1.8       ]\n",
      " [10.          5.5         4.          3.25        2.8       ]\n",
      " [15.          8.          5.66666667  4.5         3.8       ]\n",
      " [20.         10.5         7.33333333  5.75        4.8       ]]\n"
     ]
    }
   ],
   "source": [
    "print('subtraction of two arrays')\n",
    "print(np.subtract(a,h))\n",
    "print('mul of two arrays')\n",
    "print(np.multiply(a,h))\n",
    "print('dividing of two arrays')\n",
    "print(np.divide(a,h))\n"
   ]
  },
  {
   "cell_type": "code",
   "execution_count": 130,
   "id": "ea5b1f8a",
   "metadata": {},
   "outputs": [
    {
     "name": "stdout",
     "output_type": "stream",
     "text": [
      "or array is \n",
      "[[[2 9 6 7]\n",
      "  [3 6 8 3]\n",
      "  [1 5 8 3]]]\n",
      "aplying a min function again:\n",
      "[0. 1. 2. 3. 4.]\n",
      "5\n"
     ]
    }
   ],
   "source": [
    "import numpy as np\n",
    "s=np.array([[[2,9,6,7],[3,6,8,3],[1,5,8,3]]])\n",
    "print('or array is ')\n",
    "print(s)\n",
    "print('aplying a min function again:')\n",
    "print(np.min(a,0))\n",
    "print(np.max(h,0))"
   ]
  },
  {
   "cell_type": "code",
   "execution_count": 131,
   "id": "0fef048f",
   "metadata": {},
   "outputs": [
    {
     "data": {
      "text/plain": [
       "8"
      ]
     },
     "execution_count": 131,
     "metadata": {},
     "output_type": "execute_result"
    }
   ],
   "source": [
    "import numpy as np\n",
    "arr=np.array([1,3,5,30],dtype=float)\n",
    "g=arr.itemsize\n",
    "g"
   ]
  },
  {
   "cell_type": "code",
   "execution_count": 137,
   "id": "1434f033",
   "metadata": {},
   "outputs": [
    {
     "name": "stdout",
     "output_type": "stream",
     "text": [
      "squareroot of arr1:  [1.         1.41421356 1.73205081 2.         7.34846923 2.\n",
      " 6.63324958 2.        ]\n",
      "squareroot of array2:  [2.23606798 2.58843582 5.83095189 8.06225775 4.79583152 9.48683298\n",
      " 6.4807407 ]\n"
     ]
    }
   ],
   "source": [
    "#broadcasting\n",
    "#3.rules:a)should same shape.2)should have same no of dimensions. 3)length of the dimension equal or less than 1.3)array with  few dimension can be appended with '1 in it's shape\n",
    "#np.sqrt()method\n",
    "import numpy as np\n",
    "arr1=np.sqrt([1,2,3,4,54,4,44,4])\n",
    "arr2=np.sqrt([5,6.7,34,65,23,90,42])\n",
    "print(\"squareroot of arr1: \",arr1)\n",
    "print(\"squareroot of array2: \", arr2)\n"
   ]
  },
  {
   "cell_type": "code",
   "execution_count": 15,
   "id": "4acb2232",
   "metadata": {},
   "outputs": [
    {
     "name": "stdout",
     "output_type": "stream",
     "text": [
      "sum of the arr 720\n",
      "sum of the arr(float32): 720.0\n",
      "/n sum of arr(axis=0) 720\n"
     ]
    }
   ],
   "source": [
    "#nupy sum() method : axis =0(up, down), axis=1(left, right)\n",
    "import numpy as np\n",
    "ar=[20,53,233,367,12,35]\n",
    "print(\"sum of the arr\",np.sum(ar,dtype=int))\n",
    "print('sum of the arr(float32):',np.sum(ar,dtype=float))\n",
    "print('/n sum of arr(axis=0)', np.sum(ar, axis=0))\n"
   ]
  },
  {
   "cell_type": "code",
   "execution_count": 155,
   "id": "3107ed49",
   "metadata": {},
   "outputs": [
    {
     "name": "stdout",
     "output_type": "stream",
     "text": [
      "<module 'numpy' from 'c:\\\\users\\\\pc\\\\appdata\\\\local\\\\programs\\\\python\\\\python38\\\\lib\\\\site-packages\\\\numpy\\\\__init__.py'>\n"
     ]
    }
   ],
   "source": [
    "import numpy as np\n",
    "y=np.arange(10).reshape(2,5)\n",
    "print(k)\n"
   ]
  },
  {
   "cell_type": "code",
   "execution_count": 69,
   "id": "2a3f89dc",
   "metadata": {},
   "outputs": [
    {
     "name": "stdout",
     "output_type": "stream",
     "text": [
      "the original array is  [[ 3]\n",
      " [ 7]\n",
      " [11]\n",
      " [15]\n",
      " [19]]\n",
      "/n\n",
      "the modified array is: \n",
      "3\n",
      "7\n",
      "11\n",
      "15\n",
      "19\n"
     ]
    }
   ],
   "source": [
    "#interator:providse an iterator object 'numpy.nditer'\n",
    "import numpy as np\n",
    "d=np.arange(3,20,4)\n",
    "d=d.reshape(5,1)\n",
    "print('the original array is ', d)\n",
    "print('/n')\n",
    "print('the modified array is: ')\n",
    "for i in np.nditer(d):\n",
    "    print(i)\n"
   ]
  },
  {
   "cell_type": "code",
   "execution_count": 96,
   "id": "79bce0f3",
   "metadata": {},
   "outputs": [
    {
     "name": "stdout",
     "output_type": "stream",
     "text": [
      "original array is  [[3 4 5 7]\n",
      " [6 5 9 3]\n",
      " [1 5 6 7]]\n",
      "/n\n",
      "Transpose array is : [[3 6 1]\n",
      " [4 5 5]\n",
      " [5 9 6]\n",
      " [7 3 7]]\n",
      "Modified array is :\n",
      "3\n",
      "6\n",
      "1\n"
     ]
    }
   ],
   "source": [
    "import numpy as np\n",
    "d=np.array([[3,4,5],[7,6,5],[9,3,1],[5,6,7]])\n",
    "d=d.reshape(3,4)\n",
    "print('original array is ',d)\n",
    "print('/n')\n",
    "print('Transpose array is :',d.T)\n",
    "print('Modified array is :')\n",
    "for x in np.nditer(d[...,:1]):\n",
    "    print(x)"
   ]
  },
  {
   "cell_type": "code",
   "execution_count": 107,
   "id": "3ba046e8",
   "metadata": {},
   "outputs": [
    {
     "name": "stdout",
     "output_type": "stream",
     "text": [
      "the original array is \n",
      "[[10 18 26 34]\n",
      " [42 50 58 66]\n",
      " [74 82 90 98]]\n",
      "/n\n",
      "the modified array is \n",
      "[[10 42 74]\n",
      " [18 50 82]\n",
      " [26 58 90]\n",
      " [34 66 98]]\n",
      "/n\n",
      "sorted in C-style order:\n",
      "[[10 18 26 34]\n",
      " [42 50 58 66]\n",
      " [74 82 90 98]]\n",
      "x\n",
      "\n",
      "\n",
      "x\n",
      "\n",
      "\n",
      "x\n",
      "\n",
      "\n",
      "x\n",
      "\n",
      "\n",
      "x\n",
      "\n",
      "\n",
      "x\n",
      "\n",
      "\n",
      "x\n",
      "\n",
      "\n",
      "x\n",
      "\n",
      "\n",
      "x\n",
      "\n",
      "\n",
      "x\n",
      "\n",
      "\n",
      "x\n",
      "\n",
      "\n",
      "x\n",
      "\n",
      "\n",
      "Sorted in F-style\n",
      "[[10 18 26 34]\n",
      " [42 50 58 66]\n",
      " [74 82 90 98]]\n",
      "10\n",
      "42\n",
      "74\n",
      "18\n",
      "50\n",
      "82\n",
      "26\n",
      "58\n",
      "90\n",
      "34\n",
      "66\n",
      "98\n"
     ]
    }
   ],
   "source": [
    "# 2ways of storing the values in array\n",
    "#1.f-style order\n",
    "#2.c-style order\n",
    "import numpy as np\n",
    "l=np.arange(10,100,8)\n",
    "l=l.reshape(3,4)\n",
    "print('the original array is ')\n",
    "print(l)\n",
    "print('/n')\n",
    "print('the modified array is ')\n",
    "b=l.T\n",
    "print(b)\n",
    "print('/n')\n",
    "print('sorted in C-style order:')\n",
    "d=l.copy(order ='C')\n",
    "print(d)\n",
    "for x in np.nditer(d):\n",
    "    print('x')\n",
    "    print('\\n')\n",
    "print('Sorted in F-style')\n",
    "g=l.copy(order='F')\n",
    "print(g)\n",
    "for n in np.nditer(g):\n",
    "    print(n)"
   ]
  },
  {
   "cell_type": "code",
   "execution_count": 136,
   "id": "843dcbc1",
   "metadata": {},
   "outputs": [
    {
     "name": "stdout",
     "output_type": "stream",
     "text": [
      "the first array is :\n",
      "[[10 18 26 34]\n",
      " [42 50 58 66]\n",
      " [74 82 90 98]]\n",
      "/n\n",
      "the secound array is:\n",
      "[3 5 7 8]\n",
      "/n\n",
      "Modified array is: \n",
      "310\n",
      "518\n",
      "726\n",
      "834\n",
      "342\n",
      "550\n",
      "758\n",
      "866\n",
      "374\n",
      "582\n",
      "790\n",
      "898\n"
     ]
    }
   ],
   "source": [
    "#Broadcasting iteration\n",
    "import numpy as np\n",
    "h=np.arange(10,100,8)\n",
    "h=h.reshape(3,4)\n",
    "print('the first array is :')\n",
    "print(h)\n",
    "print('/n')\n",
    "print('the secound array is:')\n",
    "g=np.array([3,5,7,8],dtype = int)\n",
    "print(g)\n",
    "print('/n')\n",
    "print('Modified array is: ')\n",
    "for j,k in np.nditer([g,h]):\n",
    "    print(\"%d%d\"%(j,k))"
   ]
  },
  {
   "cell_type": "code",
   "execution_count": 143,
   "id": "04e072fc",
   "metadata": {},
   "outputs": [
    {
     "name": "stdout",
     "output_type": "stream",
     "text": [
      "binary representation of a 0b100010\n",
      "binary representation of b 0b1000001\n",
      "binary representation of a and b 0\n",
      "/n\n",
      "Binary operation: 000011110\n",
      "[235]\n",
      "Binary operation: 100000000\n",
      "left shift of 40 by 8 bits 7680\n",
      "binary operator 160 by 8 110010\n",
      "right shift of 60 by 5 1\n"
     ]
    },
    {
     "name": "stderr",
     "output_type": "stream",
     "text": [
      "C:\\Users\\pc\\AppData\\Local\\Temp/ipykernel_4772/4142093977.py:12: DeprecationWarning: Insufficient bit width provided. This behavior will raise an error in the future.\n",
      "  print(\"Binary operation:\",np.binary_repr(256,7))\n",
      "C:\\Users\\pc\\AppData\\Local\\Temp/ipykernel_4772/4142093977.py:14: DeprecationWarning: Insufficient bit width provided. This behavior will raise an error in the future.\n",
      "  print('binary operator 160 by 8',np.binary_repr(50,4))\n"
     ]
    }
   ],
   "source": [
    "#bitwise operator\n",
    "j=34\n",
    "i=65\n",
    "print('binary representation of a',bin(j))\n",
    "print('binary representation of b',bin(i))\n",
    "print('binary representation of a and b', np.bitwise_and(j,i))\n",
    "#invert operator: used to caluculate the bitwise  not the operation of the given operand\n",
    "print('/n')\n",
    "arr=(np.array([20], dtype=np.uint8))\n",
    "print(\"Binary operation:\",np.binary_repr(30,9))\n",
    "print(np.invert(arr))\n",
    "print(\"Binary operation:\",np.binary_repr(256,7))\n",
    "print('left shift of 40 by 8 bits',np.left_shift(30,8))\n",
    "print('binary operator 160 by 8',np.binary_repr(50,4))\n",
    "print('right shift of 60 by 5',np.right_shift(60,5))"
   ]
  },
  {
   "cell_type": "code",
   "execution_count": 155,
   "id": "ef44bb37",
   "metadata": {},
   "outputs": [
    {
     "name": "stdout",
     "output_type": "stream",
     "text": [
      "Concatenating of two strings:\n",
      "['hi how are you' 'guys are u fine?']\n",
      "['howhowhow' 'dododo' 'you doingyou doingyou doing'\n",
      " 'are you feeling fine?are you feeling fine?are you feeling fine?']\n"
     ]
    }
   ],
   "source": [
    "#String Functions\n",
    "'''add()\n",
    "multiply()\n",
    "capitalize()\n",
    "title()\n",
    "lower()\n",
    "upper()\n",
    "split()\n",
    "splitlines()\n",
    "strip()\n",
    "strip()\n",
    "join()\n",
    "replace()\n",
    "decode()\n",
    "encode()'''\n",
    "#numpy.char.add()\n",
    "import numpy as np\n",
    "print('Concatenating of two strings:')\n",
    "print(np.char.add(['hi','guys'], [' how are you',' are u fine?']))\n",
    "print(np.char.multiply(['how','do' ,'you doing','are you feeling fine?'],3))"
   ]
  },
  {
   "cell_type": "code",
   "execution_count": 37,
   "id": "4382ae63",
   "metadata": {},
   "outputs": [
    {
     "ename": "SyntaxError",
     "evalue": "invalid syntax (Temp/ipykernel_7020/4074661096.py, line 8)",
     "output_type": "error",
     "traceback": [
      "\u001b[1;36m  File \u001b[1;32m\"C:\\Users\\pc\\AppData\\Local\\Temp/ipykernel_7020/4074661096.py\"\u001b[1;36m, line \u001b[1;32m8\u001b[0m\n\u001b[1;33m    print(np.char.splitlines(\"Welcome/nTo/nBruder\"))\u001b[0m\n\u001b[1;37m    ^\u001b[0m\n\u001b[1;31mSyntaxError\u001b[0m\u001b[1;31m:\u001b[0m invalid syntax\n"
     ]
    }
   ],
   "source": [
    "import numpy as np\n",
    "print(np.char.center('python',10,'*'))\n",
    "print(np.char.capitalize('python'))\n",
    "print(np.char.title('welcome to python numpy'))\n",
    "print(np.char.upper('welcome to warangal'))\n",
    "print(np.char.lower('THE INCREDIBLES'))\n",
    "print(np.char.split(('the singing legend'),sep='  ')\n",
    "print(np.char.splitlines(\"Welcome/nTo/nBruder\"))\n",
    "\n"
   ]
  },
  {
   "cell_type": "code",
   "execution_count": 185,
   "id": "75b797d0",
   "metadata": {},
   "outputs": [
    {
     "name": "stdout",
     "output_type": "stream",
     "text": [
      "original string: welcometowarangal\n",
      "Removing the whitesapces\n",
      "welcometowarangal\n",
      "A:B:C:D\n"
     ]
    }
   ],
   "source": [
    "import numpy as np\n",
    "str ='welcometowarangal'\n",
    "print('original string:',str)\n",
    "print('Removing the whitesapces')\n",
    "print(np.char.strip(str))\n",
    "print(np.char.join(':',\"ABCD\"))\n"
   ]
  },
  {
   "cell_type": "code",
   "execution_count": 30,
   "id": "49f18429",
   "metadata": {},
   "outputs": [
    {
     "name": "stdout",
     "output_type": "stream",
     "text": [
      "the original string are : here we came to ocean park\n",
      "Here is the Modified string : we came to ocean park\n"
     ]
    }
   ],
   "source": [
    "import numpy as np\n",
    "str='here we came to ocean park'\n",
    "print('the original string are :',str)\n",
    "print(\"Here is the Modified string :\", end =\" \")\n",
    "print(np.char.replace(str,'here ',''))"
   ]
  },
  {
   "cell_type": "code",
   "execution_count": 42,
   "id": "2f9a2b24",
   "metadata": {},
   "outputs": [
    {
     "data": {
      "text/plain": [
       "array('james bond is near by you', dtype='<U25')"
      ]
     },
     "execution_count": 42,
     "metadata": {},
     "output_type": "execute_result"
    }
   ],
   "source": [
    "import numpy as np\n",
    "d=np.char.encode('james bond is near by you', 'cp500')\n",
    "f=np.char.decode(d,'cp500')\n",
    "d\n",
    "f"
   ]
  },
  {
   "cell_type": "markdown",
   "id": "2ee790c3",
   "metadata": {},
   "source": [
    "# Mathematical operations in numpy\n"
   ]
  },
  {
   "cell_type": "code",
   "execution_count": 53,
   "id": "05d0d7c3",
   "metadata": {},
   "outputs": [
    {
     "name": "stdout",
     "output_type": "stream",
     "text": [
      "the original array is :\n",
      "applying sin [0.5591929  0.82903757 0.93358043 0.39073113 0.70710678 0.39073113]\n",
      "\n",
      "\n",
      "now applying sine inverse [0.63529122 1.35771709        nan 0.41307297 0.90333911 0.41307297]\n",
      "\n",
      "\n"
     ]
    },
    {
     "name": "stderr",
     "output_type": "stream",
     "text": [
      "C:\\Users\\pc\\AppData\\Local\\Temp/ipykernel_7020/2120675553.py:7: RuntimeWarning: invalid value encountered in arcsin\n",
      "  print('now applying sine inverse', np.arcsin(d * np.pi/180))\n"
     ]
    }
   ],
   "source": [
    "#Trignometric functions\n",
    "import numpy as np\n",
    "d=np.array([34,56,789,23,45,23])\n",
    "print('the original array is :')\n",
    "print('applying sin', np.sin(d*np.pi/180))\n",
    "print('\\n')\n",
    "print('now applying sine inverse', np.arcsin(d * np.pi/180))\n",
    "print('\\n')\n"
   ]
  },
  {
   "cell_type": "code",
   "execution_count": 57,
   "id": "d74bc26c",
   "metadata": {},
   "outputs": [
    {
     "name": "stdout",
     "output_type": "stream",
     "text": [
      "the cos function in above array : is [0.82903757 0.5591929  0.35836795 0.92050485 0.70710678 0.92050485]\n",
      "the inverse cos function in above array : is [0.9355051  0.21307924        nan 1.15772335 0.66745722 1.15772335]\n"
     ]
    },
    {
     "name": "stderr",
     "output_type": "stream",
     "text": [
      "C:\\Users\\pc\\AppData\\Local\\Temp/ipykernel_7020/3889487513.py:2: RuntimeWarning: invalid value encountered in arccos\n",
      "  print('the inverse cos function in above array : is',np.arccos(d *np.pi/180))\n"
     ]
    }
   ],
   "source": [
    "print('the cos function in above array : is',np.cos(d *np.pi/180))\n",
    "print('the inverse cos function in above array : is',np.arccos(d *np.pi/180))"
   ]
  },
  {
   "cell_type": "code",
   "execution_count": 60,
   "id": "115932a5",
   "metadata": {},
   "outputs": [
    {
     "name": "stdout",
     "output_type": "stream",
     "text": [
      "the tan function in above array : is [0.67450852 1.48256097 2.60508906 0.42447482 1.         0.42447482]\n",
      "Now applying  inversetan function in above array : is\n",
      "thetaninverse function in above array : is [0.53556126 0.77396152 1.49830535 0.38173485 0.66577375 0.38173485]\n"
     ]
    }
   ],
   "source": [
    "print('the tan function in above array : is',np.tan(d *np.pi/180))\n",
    "print('Now applying  inversetan function in above array : is')\n",
    "m=np.arctan(d* np.pi/180)\n",
    "print('thetaninverse function in above array : is',m)\n"
   ]
  },
  {
   "cell_type": "code",
   "execution_count": 68,
   "id": "9834cbce",
   "metadata": {},
   "outputs": [
    {
     "name": "stdout",
     "output_type": "stream",
     "text": [
      "array valueed to two decimal points:  [52.35 35.68 46.   98.94 50.  ]\n",
      "array valueed to two decimal points:  [ 50.  40.  50. 100.  50.]\n",
      "array valueed to two decimal points:  [52. 36. 46. 99. 50.]\n"
     ]
    }
   ],
   "source": [
    "#aRounding function : numpy.around(num,decimals)\n",
    "#value that returns decimal flaot point in to precision user value\n",
    "import numpy as np\n",
    "e=[52.3456,35.6789,45.9976,98.9431,49.999567]\n",
    "print('array valueed to two decimal points: ',np.around(e,2))\n",
    "print('array valueed to two decimal points: ',np.around(e,-1))\n",
    "print('array valueed to two decimal points: ',np.around(e,0))"
   ]
  },
  {
   "cell_type": "code",
   "execution_count": 71,
   "id": "6e63e0c7",
   "metadata": {},
   "outputs": [
    {
     "name": "stdout",
     "output_type": "stream",
     "text": [
      "the original array is:\n",
      "\n",
      "\n",
      "the modified array where  floor and ceil function is applied  :\n",
      "[ 12.  45. 345. 678.  67.]\n",
      "[ 13.  46. 346. 679.  68.]\n"
     ]
    }
   ],
   "source": [
    "#floor:returns the floor data which is largest integer number not greater than input value\n",
    "#ceil:eturns the floor data which is smallest integer number not smaller than input value\n",
    "q=np.array([12.32453,45.678,345.976,678.34,67.98732])\n",
    "print('the original array is:')\n",
    "print('\\n')\n",
    "print('the modified array where  floor and ceil function is applied  :')\n",
    "print(np.floor(q))\n",
    "print(np.ceil(q))\n"
   ]
  },
  {
   "cell_type": "markdown",
   "id": "b98fc417",
   "metadata": {},
   "source": [
    "# Statistical Functions"
   ]
  },
  {
   "cell_type": "code",
   "execution_count": 13,
   "id": "8427cf80",
   "metadata": {},
   "outputs": [
    {
     "name": "stdout",
     "output_type": "stream",
     "text": [
      "the highest number in the given matrix or  array is : 9\n",
      "the highest number in the given matrix or  array is : [4 9 8 7]\n",
      "the highest number in the given matrix or  array is : [5 6 7 9]\n",
      "the smallest number in the given matrix or  array is : 1\n",
      "the highest number in the given matrix or  array is : [5 6 7 9]\n"
     ]
    }
   ],
   "source": [
    "#min(),max()\n",
    "import numpy as np\n",
    "d=np.array([[1,2,3,4],[5,6,7,9],[5,6,7,8,],[4,6,7,5]])\n",
    "print('the highest number in the given matrix or  array is :',np.max(d))\n",
    "print('the highest number in the given matrix or  array is :',np.amax(d,1))\n",
    "print('the highest number in the given matrix or  array is :',np.amax(d,0))\n",
    "print('the smallest number in the given matrix or  array is :',np.min(d))\n",
    "print('the highest number in the given matrix or  array is :',np.amax(d,0))"
   ]
  },
  {
   "cell_type": "code",
   "execution_count": 19,
   "id": "f5d2fffa",
   "metadata": {},
   "outputs": [
    {
     "name": "stdout",
     "output_type": "stream",
     "text": [
      "the original array is: [[1 2 3 4]\n",
      " [5 6 7 9]\n",
      " [5 6 7 8]\n",
      " [4 6 7 5]]\n",
      "the modified array is : 8\n",
      "the modified array along with axis=0: [4 4 4 5]\n",
      "the modified array along with axis=1: [3 4 3 3]\n"
     ]
    }
   ],
   "source": [
    "#numpy.ptp(): used to return range of values along the axis\n",
    "t=np.array([[1,2,3,4],[5,6,7,9],[5,6,7,8,],[4,6,7,5]])\n",
    "print('the original array is:',t)\n",
    "print('the modified array is :',np.ptp(t))\n",
    "print('the modified array along with axis=0:',np.ptp(t,axis=0))\n",
    "print('the modified array along with axis=1:',np.ptp(t,axis=1))"
   ]
  },
  {
   "cell_type": "code",
   "execution_count": 27,
   "id": "37441bb2",
   "metadata": {},
   "outputs": [
    {
     "name": "stdout",
     "output_type": "stream",
     "text": [
      "the original array is : [[1 2 3 4]\n",
      " [5 6 7 9]\n",
      " [5 6 7 8]\n",
      " [4 6 7 5]]\n",
      "\n",
      "\n",
      "the modified array after applying percentile: [1.6 5.6 5.6 4.6]\n",
      "the resultant array after applying percentile /: [4.5 6.  7.  6.5]\n"
     ]
    }
   ],
   "source": [
    "#percentile(): percentages of observations in group of observation fall -np.percentile(input, q, axis):q is the percentile (1-100)\n",
    "a=np.array([[1,2,3,4],[5,6,7,9],[5,6,7,8,],[4,6,7,5]])\n",
    "print('the original array is :',a)\n",
    "print('\\n')\n",
    "print('the modified array after applying percentile:',np.percentile(a,20, axis =1))\n",
    "print('the resultant array after applying percentile /:',np.percentile(a,50, axis=0))\n"
   ]
  },
  {
   "cell_type": "code",
   "execution_count": 32,
   "id": "ce8b4a81",
   "metadata": {},
   "outputs": [
    {
     "name": "stdout",
     "output_type": "stream",
     "text": [
      "the original array is: [[1 2 3 4]\n",
      " [5 6 7 9]\n",
      " [5 6 7 8]\n",
      " [4 6 7 5]]\n",
      "the resultant after applying median is : 5.5\n",
      "the resultant after applying median at axis=0: [4.5 6.  7.  6.5]\n",
      "the resultant after applying median at axis=1 : [2.5 6.5 6.5 5.5]\n"
     ]
    }
   ],
   "source": [
    "#numpy.median(): seprating of higher data value\n",
    "c=np.array([[1,2,3,4],[5,6,7,9],[5,6,7,8,],[4,6,7,5]])\n",
    "print('the original array is:',c)\n",
    "print('the resultant after applying median is :',np.median(c))\n",
    "print('the resultant after applying median at axis=0:',np.median(c,axis=0))\n",
    "print('the resultant after applying median at axis=1 :',np.median(c,axis=1))"
   ]
  },
  {
   "cell_type": "code",
   "execution_count": 33,
   "id": "409d65e3",
   "metadata": {},
   "outputs": [
    {
     "name": "stdout",
     "output_type": "stream",
     "text": [
      "the ariginal arrya is : [[1 2 3 4]\n",
      " [5 6 7 9]\n",
      " [5 6 7 8]\n",
      " [4 6 7 5]]\n",
      "the resultant mean of this rray is: 5.3125\n",
      "the resultant maean of the array at axis=0: [3.75 5.   6.   6.5 ]\n",
      "the resultant mean of this array at axis=1: [2.5  6.75 6.5  5.5 ]\n"
     ]
    }
   ],
   "source": [
    "#numpy.mean():returns the arthmetic mean in given array, If the axis is given then it would calculate.\n",
    "z=np.array([[1,2,3,4],[5,6,7,9],[5,6,7,8,],[4,6,7,5]])\n",
    "print('the ariginal arrya is :',z)\n",
    "print('the resultant mean of this rray is:',np.mean(z))\n",
    "print('the resultant maean of the array at axis=0:',np.mean(z,axis=0))\n",
    "print('the resultant mean of this array at axis=1:',np.mean(z,axis=1))"
   ]
  },
  {
   "cell_type": "code",
   "execution_count": 36,
   "id": "e4abff3d",
   "metadata": {},
   "outputs": [
    {
     "name": "stdout",
     "output_type": "stream",
     "text": [
      "this is the original array : [[ 1.  20.  34.  99. ]\n",
      " [45.  67.8 98.  45. ]]\n",
      "the average of the given array is: 51.225\n",
      "the average of the given array is: [23.  43.9 66.  72. ]\n"
     ]
    }
   ],
   "source": [
    "#numpy.average\n",
    "d=np.array([[1,20,34,99],[45,67.8,98,45]])\n",
    "print('this is the original array :', d)\n",
    "print('the average of the given array is:',np.average(d))\n",
    "print('the average of the given array is:',np.average(d,axis=0))"
   ]
  },
  {
   "cell_type": "code",
   "execution_count": 39,
   "id": "0454a522",
   "metadata": {},
   "outputs": [
    {
     "name": "stdout",
     "output_type": "stream",
     "text": [
      "the original array is : [[ 1.  20.  34.  99. ]\n",
      " [45.  67.8 98.  45. ]]\n",
      "the resultant array after applying std is: 32.81926834955343\n",
      "the resultant array after applying std is: [22.  23.9 32.  27. ]\n",
      "the resultant array after applying std is: [36.84087404 21.75103446]\n"
     ]
    }
   ],
   "source": [
    "#numpy.std(arrayinput): std=sqrt(mean(abs(x-x.mean())**2))\n",
    "\n",
    "s=np.array([[1,20,34,99],[45,67.8,98,45]])\n",
    "print('the original array is :',s)\n",
    "print('the resultant array after applying std is:',np.std(s))\n",
    "print('the resultant array after applying std is:',np.std(s,axis=0))\n",
    "print('the resultant array after applying std is:',np.std(s,axis=1))\n",
    "\n",
    "\n"
   ]
  },
  {
   "cell_type": "code",
   "execution_count": 43,
   "id": "01c4c22b",
   "metadata": {},
   "outputs": [
    {
     "name": "stdout",
     "output_type": "stream",
     "text": [
      "The original array before applying variance: [[ 1.  20.  34.  99. ]\n",
      " [45.  67.8 98.  45. ]]\n",
      "the resultant array after applying variance: 1077.104375\n",
      "the resultant array after applying variance at axis=0: [ 484.    571.21 1024.    729.  ]\n",
      "the resultant array after applying variance at axis=1: [1357.25    473.1075]\n"
     ]
    }
   ],
   "source": [
    "#variance: numpy.var(arayinput)--- formula:- mean(abs(x-x.mean())**2)\n",
    "a=np.array([[1,20,34,99],[45,67.8,98,45]])\n",
    "print('The original array before applying variance:',a)\n",
    "print('the resultant array after applying variance:',np.var(a))\n",
    "print('the resultant array after applying variance at axis=0:',np.var(a,axis=0))\n",
    "print('the resultant array after applying variance at axis=1:',np.var(a,axis=1))\n"
   ]
  },
  {
   "cell_type": "markdown",
   "id": "f71bc7e6",
   "metadata": {},
   "source": [
    "# Sorting,searching and counting functions"
   ]
  },
  {
   "cell_type": "code",
   "execution_count": 64,
   "id": "8bac8c36",
   "metadata": {},
   "outputs": [
    {
     "name": "stdout",
     "output_type": "stream",
     "text": [
      "the original arrya is:  [[5 6 2 1]\n",
      " [4 9 7 3]]\n",
      "After applying sorting : [[1 2 5 6]\n",
      " [3 4 7 9]]\n",
      "After applying sort function uisng axis: [[4 6 2 1]\n",
      " [5 9 7 3]]\n",
      "the oriignal array: [(b'Vishwanth', 26) (b'Sai', 29) (b'Furious',  9)]\n",
      "After applying sorting: [(b'Furious',  9) (b'Sai', 29) (b'Vishwanth', 26)]\n"
     ]
    }
   ],
   "source": [
    "#Sorting specifies the method to arrange data in particular order.Most of them are lexograpghical or numerical\n",
    "#syntax:- numpy.sort(a, axis, kind, order)\n",
    "'''a-array to be sorted\n",
    "axis- th axis which the array needs to be sorted\n",
    "kind:- default is quicksort\n",
    "order:- if the array consists of feilds, then fields need to be sorted.\n",
    "'''\n",
    "import numpy as np\n",
    "r=np.array([[5,6,2,1],[4,9,7,3]])\n",
    "print('the original arrya is: ',r)\n",
    "print('After applying sorting :',np.sort(r))\n",
    "print('After applying sort function uisng axis:',np.sort(r,axis=0))\n",
    "f=np.dtype([('name','S10'), ('age', int)])\n",
    "g=np.array([('Vishwanth',26),('Sai',29),('Furious',9)],dtype= f)\n",
    "print('the oriignal array:',g)\n",
    "print('After applying sorting:',np.sort(g, order='name'))"
   ]
  },
  {
   "cell_type": "code",
   "execution_count": 76,
   "id": "b95aa52c",
   "metadata": {},
   "outputs": [
    {
     "name": "stdout",
     "output_type": "stream",
     "text": [
      "the original array: [[12.  34.5 98.7 34. ]\n",
      " [34.  56.8 43.1 92.1]]\n",
      "\n",
      "\n",
      "the resultant array is: [[0 3 1 2]\n",
      " [0 2 1 3]]\n",
      "the resultant array is: [[0 3 1 2]\n",
      " [0 2 1 3]]\n"
     ]
    }
   ],
   "source": [
    "#numpy.argsort():- returns that would sort an array, used to construct sorted array\n",
    "import numpy as np\n",
    "s=np.array([[12,34.5,98.7,34],[34,56.8,43.1,92.1]])\n",
    "print('the original array:',s)\n",
    "print('\\n')\n",
    "print('the resultant array is:',np.argsort(s))\n",
    "print('the resultant array is:',np.argsort(s))\n",
    "f=np.argsort(s)"
   ]
  },
  {
   "cell_type": "code",
   "execution_count": 82,
   "id": "8dd32691",
   "metadata": {},
   "outputs": [
    {
     "name": "stdout",
     "output_type": "stream",
     "text": [
      "[0 2 1 3]\n",
      "['rohit seven.t', 'rohit seven.t', 'rohit seven.t', 'rohit seven.t']\n",
      "['rahul seven.t', 'rahul seven.t', 'rahul seven.t', 'rahul seven.t']\n"
     ]
    }
   ],
   "source": [
    "#numpy.lexsort():- it performs indirect sort using sequence of the keys.the keys cans be used as a coulmns. the function returns an index of an array, which data can be sorted\n",
    "import numpy as np\n",
    "s=('name','rohit','rahul','wohinsie')\n",
    "d=('six.t','seven.t','seven.t', 'sis.t')\n",
    "g=np.lexsort((d,s))\n",
    "print(g)\n",
    "print([s[1]+' '+d[2] for i in g])\n",
    "print([s[2]+' '+d[1] for  m in g])"
   ]
  },
  {
   "cell_type": "code",
   "execution_count": 84,
   "id": "1bc7998a",
   "metadata": {},
   "outputs": [
    {
     "name": "stdout",
     "output_type": "stream",
     "text": [
      "the original array is : [[ 1 20  0]\n",
      " [45  0 50]\n",
      " [45 67 80]]\n",
      "\n",
      "\n",
      "after applying nonzero function (array([0, 0, 1, 1, 2, 2, 2], dtype=int64), array([0, 1, 0, 2, 0, 1, 2], dtype=int64))\n"
     ]
    }
   ],
   "source": [
    "#numpy.nonzero():- returns the indices of non-zero elements in input array.\n",
    "import numpy as np\n",
    "r=np.array([[1,20,0],[45,0,50],[45,67,80]])\n",
    "print('the original array is :',r)\n",
    "print('\\n')\n",
    "print('after applying nonzero function',np.nonzero(r))"
   ]
  },
  {
   "cell_type": "code",
   "execution_count": 97,
   "id": "06782c26",
   "metadata": {},
   "outputs": [
    {
     "name": "stdout",
     "output_type": "stream",
     "text": [
      "after applying argmin function 2\n",
      "after applying argwhere function [[0 0]\n",
      " [0 1]\n",
      " [1 0]\n",
      " [1 2]\n",
      " [2 0]\n",
      " [2 1]\n",
      " [2 2]]\n",
      "after applying flatnonzero function [0 1 3 5 6 7 8]\n",
      "after applying where function (array([0, 0, 1, 1, 2, 2, 2], dtype=int64), array([0, 1, 0, 2, 0, 1, 2], dtype=int64))\n",
      "Number of non-zero values: 6\n",
      "Number of non-zero values: 6\n"
     ]
    }
   ],
   "source": [
    "#numpy.argmin()\n",
    "#numpy.argwhere()\n",
    "#numpy.flatnonzero()\n",
    "#numpy.where()\n",
    "#numpy.searchsorted()\n",
    "#numpy.extract()\n",
    "print('after applying argmin function',np.argmin(r))\n",
    "print('after applying argwhere function',np.argwhere(r))\n",
    "print('after applying flatnonzero function',np.flatnonzero(r))\n",
    "print('after applying where function',np.where(r))\n",
    "a=np.count_nonzero(([20,0,40,50],[30,40,0,32]))\n",
    "u=np.count_nonzero(([30,49,56,0],[59,0,34,2]))\n",
    "print('Number of non-zero values:',a)\n",
    "print('Number of non-zero values:',u)"
   ]
  },
  {
   "cell_type": "code",
   "execution_count": 6,
   "id": "af2b4700",
   "metadata": {},
   "outputs": [
    {
     "name": "stdout",
     "output_type": "stream",
     "text": [
      "the original aray is : [0 1 2 3 4 5 6 7]\n",
      "the id of a,id: 1932483448704\n",
      "the id of p, : 1932483448704\n",
      "change the shape of p\n",
      "[[0 1]\n",
      " [2 3]\n",
      " [4 5]\n",
      " [6 7]]\n",
      "change of shape for s (4, 2)\n"
     ]
    }
   ],
   "source": [
    "import numpy as np\n",
    "s=np.arange(8)\n",
    "print('the original aray is :',s)\n",
    "print('the id of a,id:',id(s))\n",
    "p=s\n",
    "print('the id of p, :',id(p))\n",
    "print('change the shape of p')\n",
    "p.shape=4,2\n",
    "print(p)\n",
    "print('change of shape for s',np.shape(s))"
   ]
  },
  {
   "cell_type": "code",
   "execution_count": 18,
   "id": "6ce998d4",
   "metadata": {},
   "outputs": [
    {
     "name": "stdout",
     "output_type": "stream",
     "text": [
      "Array is: [[ 0  1  2  3]\n",
      " [ 4  5  6  7]\n",
      " [ 8  9 10 11]\n",
      " [12 13 14 15]]\n",
      "create the view of array\n",
      "[[ 0  1  2  3]\n",
      " [ 4  5  6  7]\n",
      " [ 8  9 10 11]\n",
      " [12 13 14 15]]\n",
      "id() for both array are different:\n",
      "id() of a is: 1932483405504\n",
      "id() of a is: 1932483512960\n"
     ]
    }
   ],
   "source": [
    "#ndarray.view in numpy is a very new object look at same data of riginal array and view doesnot own the data\n",
    "import numpy as np\n",
    "e=np.arange(16).reshape(4,4)\n",
    "print('Array is:',e)\n",
    "print('create the view of array')\n",
    "y=e.view()\n",
    "print(y)\n",
    "print('id() for both array are different:')\n",
    "print('id() of a is:',id(y))\n",
    "print('id() of a is:',id(e))\n",
    "#changinfg the shape of the array\n"
   ]
  },
  {
   "cell_type": "code",
   "execution_count": 24,
   "id": "be2be889",
   "metadata": {},
   "outputs": [
    {
     "name": "stdout",
     "output_type": "stream",
     "text": [
      "original array is: [[12 12]\n",
      " [34 56]\n",
      " [78 98]\n",
      " [56 43]\n",
      " [56 21]]\n",
      "\n",
      "\n",
      "the mo dified and copied aray is : [[12 12]\n",
      " [34 56]\n",
      " [78 98]\n",
      " [56 43]\n",
      " [56 21]]\n",
      " o is equa;l to s  False\n",
      "chnage of contents of o\n",
      "the modified array  of o: [[100  12]\n",
      " [ 34  56]\n",
      " [ 78  98]\n",
      " [ 56  43]\n",
      " [ 56  21]]\n",
      "[[12 12]\n",
      " [34 56]\n",
      " [78 98]\n",
      " [56 43]\n",
      " [56 21]]\n"
     ]
    }
   ],
   "source": [
    "#DEEP COPY()\n",
    "#ndarray.copy():- copies new array and  copy it's own data and doesn't share with the original array\n",
    "import numpy as np\n",
    "s=np.array([[12,12],[34,56],[78,98],[56,43],[56,21]])\n",
    "print('original array is:',s)\n",
    "print('\\n')\n",
    "o=s.copy()\n",
    "print('the mo dified and copied aray is :', np.copy(s))\n",
    "print(' o is equa;l to s ', o is s)\n",
    "print('chnage of contents of o')\n",
    "o[0,0]=100\n",
    "print('the modified array  of o:',o)\n",
    "print(s)"
   ]
  },
  {
   "cell_type": "code",
   "execution_count": 48,
   "id": "6d816afc",
   "metadata": {},
   "outputs": [
    {
     "name": "stdout",
     "output_type": "stream",
     "text": [
      "using random function: [[0.18282244 0.34217936 0.02603144 0.21007885]\n",
      " [0.65992855 0.91691933 0.60384063 0.84446423]\n",
      " [0.19702197 0.22418051 0.77549192 0.94008564]\n",
      " [0.87790163 0.8349056  0.61613973 0.24483177]]\n",
      "\n",
      "\n",
      "using empty function:\n",
      "[[0.18282244 0.34217936 0.02603144 0.21007885]\n",
      " [0.65992855 0.91691933 0.60384063 0.84446423]\n",
      " [0.19702197 0.22418051 0.77549192 0.94008564]\n",
      " [0.87790163 0.8349056  0.61613973 0.24483177]]\n",
      "\n",
      "\n",
      "the zero function is:,  [[0. 0. 0.]\n",
      " [0. 0. 0.]\n",
      " [0. 0. 0.]]\n",
      "\n",
      "\n",
      "the ones function: [[1. 1.]\n",
      " [1. 1.]]\n",
      "\n",
      "\n",
      "here using this eyes method we can form or create the identity matrix: [[1. 0. 0. 0.]\n",
      " [0. 1. 0. 0.]\n",
      " [0. 0. 1. 0.]\n",
      " [0. 0. 0. 1.]]\n"
     ]
    }
   ],
   "source": [
    "#Numpy.matlib.empty() function:- the function is used to retunrs a matrix instead of ndarray objects.\n",
    "#numpy.matlib.empty(shape, dtype, order) :- shape- int or tuple of int defining the shape of the matrix.Object:- insertion order of the matrix Cor F\n",
    "import numpy.matlib\n",
    "import numpy as np\n",
    "#fill empty array with some random data\n",
    "print('using random function:',np.matlib.rand(4,4))\n",
    "print('\\n')\n",
    "#empty()\n",
    "print('using empty function:')\n",
    "print(np.matlib.empty((4,4)))\n",
    "print('\\n')\n",
    "#zeros()\n",
    "print('the zero function is:, ',np.matlib.zeros((3,3)))\n",
    "#numpy.matlib.ones()\n",
    "print('\\n')\n",
    "import numpy as np\n",
    "import numpy.matlib\n",
    "print('the ones function:',numpy.matlib.ones((2,2)))\n",
    "#numpy.matlib.eye(n,M,k,dtype)(n-rows,M(capital)-coulmns,k-index of the diagonal, dtype)\n",
    "print('\\n')\n",
    "print('here using this eyes method we can form or create the identity matrix:',np.matlib.eye(n=4,M=4,k=0, dtype=float))"
   ]
  },
  {
   "cell_type": "markdown",
   "id": "82af5cdf",
   "metadata": {},
   "source": [
    "# Linear algebra"
   ]
  },
  {
   "cell_type": "code",
   "execution_count": 71,
   "id": "57617359",
   "metadata": {},
   "outputs": [
    {
     "name": "stdout",
     "output_type": "stream",
     "text": [
      "this is the matrix d [[23 45]\n",
      " [90 12]]\n",
      "this is the matrix e [[45 67]\n",
      " [12 32]]\n",
      "the resultant: [[1575 2981]\n",
      " [4194 6414]]\n",
      "\n",
      "\n",
      "calling the original matrices: [[23 45]\n",
      " [90 12]] [[45 67]\n",
      " [12 32]]\n",
      "After applying vdot function: 5514\n",
      "\n",
      "\n",
      "before aplying the inner(): [[23 45]\n",
      " [90 12]] [[45 67]\n",
      " [12 32]]\n",
      "After aplying the inner() which is sum of product of INNER elements in one dimension: [[4050 1716]\n",
      " [4854 1464]]\n",
      "\n",
      "\n",
      "before applying two matrices: [[23 45]\n",
      " [90 12]] [[45 67]\n",
      " [12 32]]\n",
      "after multiplying of two matrices: [[1575 2981]\n",
      " [4194 6414]]\n",
      "\n",
      "\n",
      "before applying determinant in both matrices: [[23 45]\n",
      " [90 12]] [[45 67]\n",
      " [12 32]]\n",
      "after applying determinant in matrices: -3774.0\n",
      "\n",
      "\n",
      "the original array is : [[23 45]\n",
      " [90 12]] [[45 67]\n",
      " [12 32]]\n",
      "after applying : [[0.         0.16852146]\n",
      " [1.         1.4027557 ]]\n",
      "\n",
      "\n",
      "the original array is: [[23 45]\n",
      " [90 12]] [[45 67]\n",
      " [12 32]]\n",
      "after applying the inverse function [[-0.00317965  0.01192369]\n",
      " [ 0.02384738 -0.00609433]]\n",
      "after applying the inverse function [[ 0.05031447 -0.10534591]\n",
      " [-0.01886792  0.07075472]]\n"
     ]
    }
   ],
   "source": [
    "#numpy.linalg()\n",
    "#numpy.dot():- applying dot between two matrices.\n",
    "d=np.array([[23,45],[90,12]])\n",
    "e=np.array([[45,67],[12,32]])\n",
    "print('this is the matrix d',d)\n",
    "print('this is the matrix e',e)\n",
    "dot=np.dot(d,e)\n",
    "print('the resultant:',dot)\n",
    "print('\\n')\n",
    "#numpy.vdot()\n",
    "print('calling the original matrices:', d,e)\n",
    "print('After applying vdot function:', np.vdot(d,e))\n",
    "#numpy.inner():-'After aplying the inner() which is sum of product of INNER elements in one dimension.It returns the sum of product of elements over the last axis\n",
    "print('\\n')\n",
    "print('before aplying the inner():',d,e)\n",
    "print('After aplying the inner() which is sum of product of INNER elements in one dimension:',np.inner(d,e))\n",
    "#nump.matmul(): multiplying two matrices. the order must mtach orelse it will give an error\n",
    "print('\\n')\n",
    "print('before applying two matrices:',d,e)\n",
    "print('after multiplying of two matrices:',np.matmul(d,e))\n",
    "#numpy.determinant function():- it will calculate the difference of product diagonal elements, ad-bc\n",
    "print('\\n')\n",
    "print('before applying determinant in both matrices:',d,e)\n",
    "print('after applying determinant in matrices:', np.linalg.det(d))\n",
    "#numpy.linalg.solve():-this fuction is used solvethe qudratic function where the values are given in matrix form\n",
    "print('\\n')\n",
    "print('the original array is :',d,e)\n",
    "print('after applying :',np.linalg.solve(d,e))\n",
    "#numpy.linalg.inv():-multiplicative of inverse matrices\n",
    "print('\\n')\n",
    "print('the original array is:',d,e)\n",
    "print('after applying the inverse function',np.linalg.inv(d))\n",
    "print('after applying the inverse function',np.linalg.inv(e))"
   ]
  },
  {
   "cell_type": "code",
   "execution_count": null,
   "id": "9fe39c74",
   "metadata": {},
   "outputs": [],
   "source": []
  }
 ],
 "metadata": {
  "kernelspec": {
   "display_name": "Python 3 (ipykernel)",
   "language": "python",
   "name": "python3"
  },
  "language_info": {
   "codemirror_mode": {
    "name": "ipython",
    "version": 3
   },
   "file_extension": ".py",
   "mimetype": "text/x-python",
   "name": "python",
   "nbconvert_exporter": "python",
   "pygments_lexer": "ipython3",
   "version": "3.8.5"
  }
 },
 "nbformat": 4,
 "nbformat_minor": 5
}
