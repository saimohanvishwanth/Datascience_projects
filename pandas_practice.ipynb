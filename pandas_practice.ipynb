{
 "cells": [
  {
   "cell_type": "code",
   "execution_count": 2,
   "id": "6c6e19e5",
   "metadata": {},
   "outputs": [
    {
     "data": {
      "text/plain": [
       "0     9\n",
       "1     8\n",
       "2     7\n",
       "3    34\n",
       "4    65\n",
       "5    78\n",
       "6    23\n",
       "dtype: int64"
      ]
     },
     "execution_count": 2,
     "metadata": {},
     "output_type": "execute_result"
    }
   ],
   "source": [
    "#pandas:used for working with data sets.it functions for analyzing , cleaning , exploring and manipulating data\n",
    "#Pandas allows us to analze big data & make conclusions based on statistical theories\n",
    "#easy handilng of missing data(NaN) floating and non-floating points\n",
    "#automatic and explicit data\n",
    "#Series=series(data=None,index=None,dtype=None,name=None,copy=False,Fastpath=False)\n",
    "#data- accepts like ndarray, list,dictionaries and scalar\n",
    "#index-labels index axis\n",
    "#name-\n",
    "#copy-copy data\n",
    "#Fastpath-\n",
    "#series\n",
    "import pandas as pd\n",
    "f1=pd.Series([9,8,7,34,65,78,23])\n",
    "f1"
   ]
  },
  {
   "cell_type": "code",
   "execution_count": 7,
   "id": "6c49cc85",
   "metadata": {},
   "outputs": [
    {
     "data": {
      "application/javascript": [
       "\n",
       "        if (window._pyforest_update_imports_cell) { window._pyforest_update_imports_cell('import pandas as pd\\nimport numpy as np'); }\n",
       "    "
      ],
      "text/plain": [
       "<IPython.core.display.Javascript object>"
      ]
     },
     "metadata": {},
     "output_type": "display_data"
    },
    {
     "data": {
      "application/javascript": [
       "\n",
       "        if (window._pyforest_update_imports_cell) { window._pyforest_update_imports_cell('import pandas as pd\\nimport numpy as np'); }\n",
       "    "
      ],
      "text/plain": [
       "<IPython.core.display.Javascript object>"
      ]
     },
     "metadata": {},
     "output_type": "display_data"
    },
    {
     "name": "stdout",
     "output_type": "stream",
     "text": [
      "a     4.0\n",
      "b    34.0\n",
      "c    20.0\n",
      "d    40.0\n",
      "e     2.0\n",
      "f    37.0\n",
      "Name: series from ndarray, dtype: float64\n"
     ]
    }
   ],
   "source": [
    "#one of the quickest way to  generate series using Numpy random.radint() which produces ndarray with random variables\n",
    "data=np.random.randint(0,50,6)\n",
    "series=pd.Series(data=data,dtype=float,name='series from ndarray',index=['a','b','c','d','e','f'])\n",
    "print(series)\n"
   ]
  },
  {
   "cell_type": "code",
   "execution_count": 7,
   "id": "350ea1e8",
   "metadata": {},
   "outputs": [
    {
     "data": {
      "text/plain": [
       "1    23.0\n",
       "d    45.0\n",
       "e    67.0\n",
       "f    89.0\n",
       "j    64.0\n",
       "c    23.0\n",
       "dtype: float64"
      ]
     },
     "execution_count": 7,
     "metadata": {},
     "output_type": "execute_result"
    }
   ],
   "source": [
    "#index change and datatype\n",
    "f2=pd.Series([23,45,67,89,64,23], index=['1','d','e','f','j','c'], dtype='float')\n",
    "f2"
   ]
  },
  {
   "cell_type": "code",
   "execution_count": 9,
   "id": "c9980e71",
   "metadata": {},
   "outputs": [
    {
     "data": {
      "application/javascript": [
       "\n",
       "        if (window._pyforest_update_imports_cell) { window._pyforest_update_imports_cell('import pandas as pd\\nimport numpy as np'); }\n",
       "    "
      ],
      "text/plain": [
       "<IPython.core.display.Javascript object>"
      ]
     },
     "metadata": {},
     "output_type": "display_data"
    },
    {
     "name": "stdout",
     "output_type": "stream",
     "text": [
      "a1    3\n",
      "a2    3\n",
      "a3    3\n",
      "a4    3\n",
      "a5    3\n",
      "Name: series from scalar, dtype: int32\n"
     ]
    }
   ],
   "source": [
    "#creating series from scalar\n",
    "series=pd.Series(data=3.,dtype= int,name='series from scalar',index=['a1','a2','a3','a4','a5'])\n",
    "print(series)"
   ]
  },
  {
   "cell_type": "code",
   "execution_count": 3,
   "id": "26be3eb6",
   "metadata": {},
   "outputs": [
    {
     "data": {
      "application/javascript": [
       "\n",
       "        if (window._pyforest_update_imports_cell) { window._pyforest_update_imports_cell('import pandas as pd'); }\n",
       "    "
      ],
      "text/plain": [
       "<IPython.core.display.Javascript object>"
      ]
     },
     "metadata": {},
     "output_type": "display_data"
    },
    {
     "data": {
      "application/javascript": [
       "\n",
       "        if (window._pyforest_update_imports_cell) { window._pyforest_update_imports_cell('import pandas as pd'); }\n",
       "    "
      ],
      "text/plain": [
       "<IPython.core.display.Javascript object>"
      ]
     },
     "metadata": {},
     "output_type": "display_data"
    },
    {
     "name": "stdout",
     "output_type": "stream",
     "text": [
      "a    43\n",
      "g    67\n",
      "Name: series from dictionaries, dtype: int64\n"
     ]
    }
   ],
   "source": [
    "#creation of Series using dictionaries\n",
    "g1=pd.Series({'a': 43, 'g':67})\n",
    "g1\n",
    "series=pd.Series(data=g1,name='series from dictionaries')\n",
    "print(series)"
   ]
  },
  {
   "cell_type": "markdown",
   "id": "6a91dbf0",
   "metadata": {},
   "source": [
    "# dataframe:- it is the 2d datastructure composed rows and columns\n",
    "#it is similar to series which can accept range of datatypes such as series , dicitionary of series, strucutre arrays and numpy arrays\n",
    "#dataframe constructor can accept coulmns\n",
    "#index labels to order\n"
   ]
  },
  {
   "cell_type": "code",
   "execution_count": 13,
   "id": "a4ca85d9",
   "metadata": {},
   "outputs": [
    {
     "data": {
      "application/javascript": [
       "\n",
       "        if (window._pyforest_update_imports_cell) { window._pyforest_update_imports_cell('import pandas as pd\\nimport numpy as np'); }\n",
       "    "
      ],
      "text/plain": [
       "<IPython.core.display.Javascript object>"
      ]
     },
     "metadata": {},
     "output_type": "display_data"
    },
    {
     "data": {
      "application/javascript": [
       "\n",
       "        if (window._pyforest_update_imports_cell) { window._pyforest_update_imports_cell('import pandas as pd\\nimport numpy as np'); }\n",
       "    "
      ],
      "text/plain": [
       "<IPython.core.display.Javascript object>"
      ]
     },
     "metadata": {},
     "output_type": "display_data"
    },
    {
     "data": {
      "application/javascript": [
       "\n",
       "        if (window._pyforest_update_imports_cell) { window._pyforest_update_imports_cell('import pandas as pd\\nimport numpy as np'); }\n",
       "    "
      ],
      "text/plain": [
       "<IPython.core.display.Javascript object>"
      ]
     },
     "metadata": {},
     "output_type": "display_data"
    },
    {
     "data": {
      "application/javascript": [
       "\n",
       "        if (window._pyforest_update_imports_cell) { window._pyforest_update_imports_cell('import pandas as pd\\nimport numpy as np'); }\n",
       "    "
      ],
      "text/plain": [
       "<IPython.core.display.Javascript object>"
      ]
     },
     "metadata": {},
     "output_type": "display_data"
    },
    {
     "data": {
      "application/javascript": [
       "\n",
       "        if (window._pyforest_update_imports_cell) { window._pyforest_update_imports_cell('import pandas as pd\\nimport numpy as np'); }\n",
       "    "
      ],
      "text/plain": [
       "<IPython.core.display.Javascript object>"
      ]
     },
     "metadata": {},
     "output_type": "display_data"
    },
    {
     "data": {
      "application/javascript": [
       "\n",
       "        if (window._pyforest_update_imports_cell) { window._pyforest_update_imports_cell('import pandas as pd\\nimport numpy as np'); }\n",
       "    "
      ],
      "text/plain": [
       "<IPython.core.display.Javascript object>"
      ]
     },
     "metadata": {},
     "output_type": "display_data"
    },
    {
     "data": {
      "application/javascript": [
       "\n",
       "        if (window._pyforest_update_imports_cell) { window._pyforest_update_imports_cell('import pandas as pd\\nimport numpy as np'); }\n",
       "    "
      ],
      "text/plain": [
       "<IPython.core.display.Javascript object>"
      ]
     },
     "metadata": {},
     "output_type": "display_data"
    },
    {
     "name": "stdout",
     "output_type": "stream",
     "text": [
      "   Column_a1  column_a2  Column_a3\n",
      "a         96         17         31\n",
      "b         38         73         52\n",
      "c         63         61         51\n",
      "d         85         99         91\n",
      "e         93         11         81\n",
      "f         46         44         43\n",
      "g         21         82         52\n",
      "h         98         38         58\n"
     ]
    }
   ],
   "source": [
    "#creating a dataframe from dictionaries of series.One of the eaisest way of creating dataframe from dictionaries of series\n",
    "data={'Column_a1': pd.Series(data=np.random.randint(10,100,8), name='series from dictionaries', index=['a','b','c','d','e','f','g','h'] ),\n",
    "      'column_a2': pd.Series(data=np.random.randint(10,100, 8),name='series from dictionaries',index=['a','b','c','d','e','f','g','h'] ),\n",
    "      'Column_a3': pd.Series(data=np.random.randint(10,100,8),name='series from dictionaries', index=['a','b','c','d','e','f','g','h'])}\n",
    "df=pd.DataFrame(data=data)\n",
    "print(df)"
   ]
  },
  {
   "cell_type": "code",
   "execution_count": 21,
   "id": "ce8b56d8",
   "metadata": {},
   "outputs": [
    {
     "data": {
      "application/javascript": [
       "\n",
       "        if (window._pyforest_update_imports_cell) { window._pyforest_update_imports_cell('import pandas as pd\\nimport numpy as np'); }\n",
       "    "
      ],
      "text/plain": [
       "<IPython.core.display.Javascript object>"
      ]
     },
     "metadata": {},
     "output_type": "display_data"
    },
    {
     "name": "stdout",
     "output_type": "stream",
     "text": [
      "       Coulmn_1  Coulmn_2  Coulmn_3\n",
      "row_1       1.0       9.0       3.0\n",
      "row_2       2.0       8.0       7.0\n",
      "row_3       3.0       7.0       1.0\n"
     ]
    }
   ],
   "source": [
    "#Creating dataframe for a dicitonary of List: it can also recieve the dictionary of list\n",
    "#here we have inserting row values through index \n",
    "data = {'Coulmn_1':[1,2,3],\n",
    "       'Coulmn_2': [9,8,7],\n",
    "       'Coulmn_3':[3,7,1]}\n",
    "df= pd.DataFrame(data=data, dtype=float, index=['row_1','row_2','row_3'])\n",
    "print(df)\n"
   ]
  },
  {
   "cell_type": "code",
   "execution_count": 2,
   "id": "58262164",
   "metadata": {},
   "outputs": [
    {
     "data": {
      "application/javascript": [
       "\n",
       "        if (window._pyforest_update_imports_cell) { window._pyforest_update_imports_cell('import pandas as pd'); }\n",
       "    "
      ],
      "text/plain": [
       "<IPython.core.display.Javascript object>"
      ]
     },
     "metadata": {},
     "output_type": "display_data"
    },
    {
     "data": {
      "text/html": [
       "<div>\n",
       "<style scoped>\n",
       "    .dataframe tbody tr th:only-of-type {\n",
       "        vertical-align: middle;\n",
       "    }\n",
       "\n",
       "    .dataframe tbody tr th {\n",
       "        vertical-align: top;\n",
       "    }\n",
       "\n",
       "    .dataframe thead th {\n",
       "        text-align: right;\n",
       "    }\n",
       "</style>\n",
       "<table border=\"1\" class=\"dataframe\">\n",
       "  <thead>\n",
       "    <tr style=\"text-align: right;\">\n",
       "      <th></th>\n",
       "      <th>0</th>\n",
       "    </tr>\n",
       "  </thead>\n",
       "  <tbody>\n",
       "    <tr>\n",
       "      <th>0</th>\n",
       "      <td>34</td>\n",
       "    </tr>\n",
       "    <tr>\n",
       "      <th>1</th>\n",
       "      <td>56</td>\n",
       "    </tr>\n",
       "    <tr>\n",
       "      <th>2</th>\n",
       "      <td>78</td>\n",
       "    </tr>\n",
       "    <tr>\n",
       "      <th>3</th>\n",
       "      <td>90</td>\n",
       "    </tr>\n",
       "    <tr>\n",
       "      <th>4</th>\n",
       "      <td>23</td>\n",
       "    </tr>\n",
       "  </tbody>\n",
       "</table>\n",
       "</div>"
      ],
      "text/plain": [
       "    0\n",
       "0  34\n",
       "1  56\n",
       "2  78\n",
       "3  90\n",
       "4  23"
      ]
     },
     "execution_count": 2,
     "metadata": {},
     "output_type": "execute_result"
    }
   ],
   "source": [
    "d2=pd.DataFrame([34,56,78,90,23])\n",
    "d2"
   ]
  },
  {
   "cell_type": "code",
   "execution_count": 2,
   "id": "90dfaee6",
   "metadata": {},
   "outputs": [
    {
     "data": {
      "application/javascript": [
       "\n",
       "        if (window._pyforest_update_imports_cell) { window._pyforest_update_imports_cell('import pandas as pd'); }\n",
       "    "
      ],
      "text/plain": [
       "<IPython.core.display.Javascript object>"
      ]
     },
     "metadata": {},
     "output_type": "display_data"
    },
    {
     "data": {
      "text/html": [
       "<div>\n",
       "<style scoped>\n",
       "    .dataframe tbody tr th:only-of-type {\n",
       "        vertical-align: middle;\n",
       "    }\n",
       "\n",
       "    .dataframe tbody tr th {\n",
       "        vertical-align: top;\n",
       "    }\n",
       "\n",
       "    .dataframe thead th {\n",
       "        text-align: right;\n",
       "    }\n",
       "</style>\n",
       "<table border=\"1\" class=\"dataframe\">\n",
       "  <thead>\n",
       "    <tr style=\"text-align: right;\">\n",
       "      <th></th>\n",
       "      <th>0</th>\n",
       "      <th>1</th>\n",
       "      <th>2</th>\n",
       "    </tr>\n",
       "  </thead>\n",
       "  <tbody>\n",
       "    <tr>\n",
       "      <th>0</th>\n",
       "      <td>2</td>\n",
       "      <td>3</td>\n",
       "      <td>4</td>\n",
       "    </tr>\n",
       "    <tr>\n",
       "      <th>1</th>\n",
       "      <td>5</td>\n",
       "      <td>6</td>\n",
       "      <td>7</td>\n",
       "    </tr>\n",
       "    <tr>\n",
       "      <th>2</th>\n",
       "      <td>4</td>\n",
       "      <td>5</td>\n",
       "      <td>6</td>\n",
       "    </tr>\n",
       "  </tbody>\n",
       "</table>\n",
       "</div>"
      ],
      "text/plain": [
       "   0  1  2\n",
       "0  2  3  4\n",
       "1  5  6  7\n",
       "2  4  5  6"
      ]
     },
     "execution_count": 2,
     "metadata": {},
     "output_type": "execute_result"
    }
   ],
   "source": [
    "d3=pd.DataFrame([[2,3,4],[5,6,7],[4,5,6]])\n",
    "d3\n"
   ]
  },
  {
   "cell_type": "code",
   "execution_count": 23,
   "id": "3979e606",
   "metadata": {},
   "outputs": [
    {
     "data": {
      "application/javascript": [
       "\n",
       "        if (window._pyforest_update_imports_cell) { window._pyforest_update_imports_cell('import pandas as pd'); }\n",
       "    "
      ],
      "text/plain": [
       "<IPython.core.display.Javascript object>"
      ]
     },
     "metadata": {},
     "output_type": "display_data"
    },
    {
     "data": {
      "application/javascript": [
       "\n",
       "        if (window._pyforest_update_imports_cell) { window._pyforest_update_imports_cell('import pandas as pd'); }\n",
       "    "
      ],
      "text/plain": [
       "<IPython.core.display.Javascript object>"
      ]
     },
     "metadata": {},
     "output_type": "display_data"
    },
    {
     "data": {
      "text/html": [
       "<div>\n",
       "<style scoped>\n",
       "    .dataframe tbody tr th:only-of-type {\n",
       "        vertical-align: middle;\n",
       "    }\n",
       "\n",
       "    .dataframe tbody tr th {\n",
       "        vertical-align: top;\n",
       "    }\n",
       "\n",
       "    .dataframe thead th {\n",
       "        text-align: right;\n",
       "    }\n",
       "</style>\n",
       "<table border=\"1\" class=\"dataframe\">\n",
       "  <thead>\n",
       "    <tr style=\"text-align: right;\">\n",
       "      <th></th>\n",
       "      <th>a</th>\n",
       "      <th>b</th>\n",
       "      <th>c</th>\n",
       "    </tr>\n",
       "  </thead>\n",
       "  <tbody>\n",
       "    <tr>\n",
       "      <th>x</th>\n",
       "      <td>2</td>\n",
       "      <td>3</td>\n",
       "      <td>4</td>\n",
       "    </tr>\n",
       "    <tr>\n",
       "      <th>y</th>\n",
       "      <td>3</td>\n",
       "      <td>4</td>\n",
       "      <td>5</td>\n",
       "    </tr>\n",
       "    <tr>\n",
       "      <th>z</th>\n",
       "      <td>9</td>\n",
       "      <td>8</td>\n",
       "      <td>7</td>\n",
       "    </tr>\n",
       "  </tbody>\n",
       "</table>\n",
       "</div>"
      ],
      "text/plain": [
       "   a  b  c\n",
       "x  2  3  4\n",
       "y  3  4  5\n",
       "z  9  8  7"
      ]
     },
     "execution_count": 23,
     "metadata": {},
     "output_type": "execute_result"
    }
   ],
   "source": [
    "#dataframe: it is 2d datastructre . like a 2d array or a table with row and column\n",
    "d1=pd.DataFrame([43,56,87,98,23])\n",
    "d2=pd.DataFrame([[2,3,4],[3,4,5],[9,8,7]], columns=['a','b','c'],index=['x','y','z'])\n",
    "d2\n",
    "\n",
    "\n"
   ]
  },
  {
   "cell_type": "code",
   "execution_count": 24,
   "id": "41da9913",
   "metadata": {},
   "outputs": [
    {
     "name": "stdout",
     "output_type": "stream",
     "text": [
      "\n",
      "\n"
     ]
    },
    {
     "data": {
      "text/plain": [
       "x    2\n",
       "y    3\n",
       "z    9\n",
       "Name: a, dtype: int64"
      ]
     },
     "execution_count": 24,
     "metadata": {},
     "output_type": "execute_result"
    }
   ],
   "source": [
    "print('\\n')\n",
    "d2['a']"
   ]
  },
  {
   "cell_type": "code",
   "execution_count": 28,
   "id": "d2aa3e68",
   "metadata": {},
   "outputs": [
    {
     "name": "stdout",
     "output_type": "stream",
     "text": [
      "\n",
      "\n"
     ]
    },
    {
     "data": {
      "text/html": [
       "<div>\n",
       "<style scoped>\n",
       "    .dataframe tbody tr th:only-of-type {\n",
       "        vertical-align: middle;\n",
       "    }\n",
       "\n",
       "    .dataframe tbody tr th {\n",
       "        vertical-align: top;\n",
       "    }\n",
       "\n",
       "    .dataframe thead th {\n",
       "        text-align: right;\n",
       "    }\n",
       "</style>\n",
       "<table border=\"1\" class=\"dataframe\">\n",
       "  <thead>\n",
       "    <tr style=\"text-align: right;\">\n",
       "      <th></th>\n",
       "      <th>a</th>\n",
       "      <th>b</th>\n",
       "      <th>c</th>\n",
       "      <th>d</th>\n",
       "    </tr>\n",
       "  </thead>\n",
       "  <tbody>\n",
       "    <tr>\n",
       "      <th>x</th>\n",
       "      <td>2</td>\n",
       "      <td>3</td>\n",
       "      <td>4</td>\n",
       "      <td>7</td>\n",
       "    </tr>\n",
       "    <tr>\n",
       "      <th>y</th>\n",
       "      <td>3</td>\n",
       "      <td>4</td>\n",
       "      <td>5</td>\n",
       "      <td>9</td>\n",
       "    </tr>\n",
       "    <tr>\n",
       "      <th>z</th>\n",
       "      <td>9</td>\n",
       "      <td>8</td>\n",
       "      <td>7</td>\n",
       "      <td>15</td>\n",
       "    </tr>\n",
       "  </tbody>\n",
       "</table>\n",
       "</div>"
      ],
      "text/plain": [
       "   a  b  c   d\n",
       "x  2  3  4   7\n",
       "y  3  4  5   9\n",
       "z  9  8  7  15"
      ]
     },
     "execution_count": 28,
     "metadata": {},
     "output_type": "execute_result"
    }
   ],
   "source": [
    "print('\\n')\n",
    "d2['d']=d2['b']+d2['c']\n",
    "d2\n"
   ]
  },
  {
   "cell_type": "code",
   "execution_count": 6,
   "id": "3fc60f2f",
   "metadata": {},
   "outputs": [
    {
     "ename": "NameError",
     "evalue": "name 'd2' is not defined",
     "output_type": "error",
     "traceback": [
      "\u001b[1;31m---------------------------------------------------------------------------\u001b[0m",
      "\u001b[1;31mNameError\u001b[0m                                 Traceback (most recent call last)",
      "\u001b[1;32m~\\AppData\\Local\\Temp/ipykernel_18688/1417089494.py\u001b[0m in \u001b[0;36m<module>\u001b[1;34m\u001b[0m\n\u001b[1;32m----> 1\u001b[1;33m \u001b[0md2\u001b[0m\u001b[1;33m[\u001b[0m\u001b[1;34m'e'\u001b[0m\u001b[1;33m]\u001b[0m\u001b[1;33m=\u001b[0m\u001b[0md2\u001b[0m\u001b[1;33m[\u001b[0m\u001b[1;34m'a'\u001b[0m\u001b[1;33m]\u001b[0m\u001b[1;33m*\u001b[0m\u001b[0md2\u001b[0m\u001b[1;33m[\u001b[0m\u001b[1;34m'b'\u001b[0m\u001b[1;33m]\u001b[0m\u001b[1;33m*\u001b[0m\u001b[0md2\u001b[0m\u001b[1;33m[\u001b[0m\u001b[1;34m'c'\u001b[0m\u001b[1;33m]\u001b[0m\u001b[1;33m*\u001b[0m\u001b[0md2\u001b[0m\u001b[1;33m[\u001b[0m\u001b[1;34m'd'\u001b[0m\u001b[1;33m]\u001b[0m\u001b[1;33m\u001b[0m\u001b[1;33m\u001b[0m\u001b[0m\n\u001b[0m\u001b[0;32m      2\u001b[0m \u001b[0md2\u001b[0m\u001b[1;33m\u001b[0m\u001b[1;33m\u001b[0m\u001b[0m\n",
      "\u001b[1;31mNameError\u001b[0m: name 'd2' is not defined"
     ]
    }
   ],
   "source": [
    "d2['e']=d2['a']*d2['b']*d2['c']*d2['d']\n",
    "d2"
   ]
  },
  {
   "cell_type": "code",
   "execution_count": 7,
   "id": "bb576bd5",
   "metadata": {},
   "outputs": [
    {
     "ename": "NameError",
     "evalue": "name 'd2' is not defined",
     "output_type": "error",
     "traceback": [
      "\u001b[1;31m---------------------------------------------------------------------------\u001b[0m",
      "\u001b[1;31mNameError\u001b[0m                                 Traceback (most recent call last)",
      "\u001b[1;32m~\\AppData\\Local\\Temp/ipykernel_18688/246859710.py\u001b[0m in \u001b[0;36m<module>\u001b[1;34m\u001b[0m\n\u001b[1;32m----> 1\u001b[1;33m \u001b[0md2\u001b[0m\u001b[1;33m\u001b[0m\u001b[1;33m\u001b[0m\u001b[0m\n\u001b[0m\u001b[0;32m      2\u001b[0m \u001b[1;33m\u001b[0m\u001b[0m\n\u001b[0;32m      3\u001b[0m \u001b[1;33m\u001b[0m\u001b[0m\n",
      "\u001b[1;31mNameError\u001b[0m: name 'd2' is not defined"
     ]
    }
   ],
   "source": [
    "d2.insert(1,'egois',d2['a'])\n",
    "d2\n"
   ]
  },
  {
   "cell_type": "code",
   "execution_count": 45,
   "id": "e8852b33",
   "metadata": {},
   "outputs": [
    {
     "ename": "KeyError",
     "evalue": "'c'",
     "output_type": "error",
     "traceback": [
      "\u001b[1;31m---------------------------------------------------------------------------\u001b[0m",
      "\u001b[1;31mKeyError\u001b[0m                                  Traceback (most recent call last)",
      "\u001b[1;32mc:\\users\\pc\\appdata\\local\\programs\\python\\python38\\lib\\site-packages\\pandas\\core\\indexes\\base.py\u001b[0m in \u001b[0;36mget_loc\u001b[1;34m(self, key, method, tolerance)\u001b[0m\n\u001b[0;32m   3360\u001b[0m             \u001b[1;32mtry\u001b[0m\u001b[1;33m:\u001b[0m\u001b[1;33m\u001b[0m\u001b[1;33m\u001b[0m\u001b[0m\n\u001b[1;32m-> 3361\u001b[1;33m                 \u001b[1;32mreturn\u001b[0m \u001b[0mself\u001b[0m\u001b[1;33m.\u001b[0m\u001b[0m_engine\u001b[0m\u001b[1;33m.\u001b[0m\u001b[0mget_loc\u001b[0m\u001b[1;33m(\u001b[0m\u001b[0mcasted_key\u001b[0m\u001b[1;33m)\u001b[0m\u001b[1;33m\u001b[0m\u001b[1;33m\u001b[0m\u001b[0m\n\u001b[0m\u001b[0;32m   3362\u001b[0m             \u001b[1;32mexcept\u001b[0m \u001b[0mKeyError\u001b[0m \u001b[1;32mas\u001b[0m \u001b[0merr\u001b[0m\u001b[1;33m:\u001b[0m\u001b[1;33m\u001b[0m\u001b[1;33m\u001b[0m\u001b[0m\n",
      "\u001b[1;32mc:\\users\\pc\\appdata\\local\\programs\\python\\python38\\lib\\site-packages\\pandas\\_libs\\index.pyx\u001b[0m in \u001b[0;36mpandas._libs.index.IndexEngine.get_loc\u001b[1;34m()\u001b[0m\n",
      "\u001b[1;32mc:\\users\\pc\\appdata\\local\\programs\\python\\python38\\lib\\site-packages\\pandas\\_libs\\index.pyx\u001b[0m in \u001b[0;36mpandas._libs.index.IndexEngine.get_loc\u001b[1;34m()\u001b[0m\n",
      "\u001b[1;32mpandas\\_libs\\hashtable_class_helper.pxi\u001b[0m in \u001b[0;36mpandas._libs.hashtable.PyObjectHashTable.get_item\u001b[1;34m()\u001b[0m\n",
      "\u001b[1;32mpandas\\_libs\\hashtable_class_helper.pxi\u001b[0m in \u001b[0;36mpandas._libs.hashtable.PyObjectHashTable.get_item\u001b[1;34m()\u001b[0m\n",
      "\u001b[1;31mKeyError\u001b[0m: 'c'",
      "\nThe above exception was the direct cause of the following exception:\n",
      "\u001b[1;31mKeyError\u001b[0m                                  Traceback (most recent call last)",
      "\u001b[1;32m~\\AppData\\Local\\Temp/ipykernel_14856/4283245154.py\u001b[0m in \u001b[0;36m<module>\u001b[1;34m\u001b[0m\n\u001b[0;32m      2\u001b[0m \u001b[0md2\u001b[0m\u001b[1;33m\u001b[0m\u001b[1;33m\u001b[0m\u001b[0m\n\u001b[0;32m      3\u001b[0m \u001b[1;33m\u001b[0m\u001b[0m\n\u001b[1;32m----> 4\u001b[1;33m \u001b[1;32mdel\u001b[0m \u001b[0md2\u001b[0m\u001b[1;33m[\u001b[0m\u001b[1;34m'c'\u001b[0m\u001b[1;33m]\u001b[0m\u001b[1;33m\u001b[0m\u001b[1;33m\u001b[0m\u001b[0m\n\u001b[0m",
      "\u001b[1;32mc:\\users\\pc\\appdata\\local\\programs\\python\\python38\\lib\\site-packages\\pandas\\core\\generic.py\u001b[0m in \u001b[0;36m__delitem__\u001b[1;34m(self, key)\u001b[0m\n\u001b[0;32m   3958\u001b[0m             \u001b[1;31m# there was no match, this call should raise the appropriate\u001b[0m\u001b[1;33m\u001b[0m\u001b[1;33m\u001b[0m\u001b[1;33m\u001b[0m\u001b[0m\n\u001b[0;32m   3959\u001b[0m             \u001b[1;31m# exception:\u001b[0m\u001b[1;33m\u001b[0m\u001b[1;33m\u001b[0m\u001b[1;33m\u001b[0m\u001b[0m\n\u001b[1;32m-> 3960\u001b[1;33m             \u001b[0mloc\u001b[0m \u001b[1;33m=\u001b[0m \u001b[0mself\u001b[0m\u001b[1;33m.\u001b[0m\u001b[0maxes\u001b[0m\u001b[1;33m[\u001b[0m\u001b[1;33m-\u001b[0m\u001b[1;36m1\u001b[0m\u001b[1;33m]\u001b[0m\u001b[1;33m.\u001b[0m\u001b[0mget_loc\u001b[0m\u001b[1;33m(\u001b[0m\u001b[0mkey\u001b[0m\u001b[1;33m)\u001b[0m\u001b[1;33m\u001b[0m\u001b[1;33m\u001b[0m\u001b[0m\n\u001b[0m\u001b[0;32m   3961\u001b[0m             \u001b[0mself\u001b[0m\u001b[1;33m.\u001b[0m\u001b[0m_mgr\u001b[0m \u001b[1;33m=\u001b[0m \u001b[0mself\u001b[0m\u001b[1;33m.\u001b[0m\u001b[0m_mgr\u001b[0m\u001b[1;33m.\u001b[0m\u001b[0midelete\u001b[0m\u001b[1;33m(\u001b[0m\u001b[0mloc\u001b[0m\u001b[1;33m)\u001b[0m\u001b[1;33m\u001b[0m\u001b[1;33m\u001b[0m\u001b[0m\n\u001b[0;32m   3962\u001b[0m \u001b[1;33m\u001b[0m\u001b[0m\n",
      "\u001b[1;32mc:\\users\\pc\\appdata\\local\\programs\\python\\python38\\lib\\site-packages\\pandas\\core\\indexes\\base.py\u001b[0m in \u001b[0;36mget_loc\u001b[1;34m(self, key, method, tolerance)\u001b[0m\n\u001b[0;32m   3361\u001b[0m                 \u001b[1;32mreturn\u001b[0m \u001b[0mself\u001b[0m\u001b[1;33m.\u001b[0m\u001b[0m_engine\u001b[0m\u001b[1;33m.\u001b[0m\u001b[0mget_loc\u001b[0m\u001b[1;33m(\u001b[0m\u001b[0mcasted_key\u001b[0m\u001b[1;33m)\u001b[0m\u001b[1;33m\u001b[0m\u001b[1;33m\u001b[0m\u001b[0m\n\u001b[0;32m   3362\u001b[0m             \u001b[1;32mexcept\u001b[0m \u001b[0mKeyError\u001b[0m \u001b[1;32mas\u001b[0m \u001b[0merr\u001b[0m\u001b[1;33m:\u001b[0m\u001b[1;33m\u001b[0m\u001b[1;33m\u001b[0m\u001b[0m\n\u001b[1;32m-> 3363\u001b[1;33m                 \u001b[1;32mraise\u001b[0m \u001b[0mKeyError\u001b[0m\u001b[1;33m(\u001b[0m\u001b[0mkey\u001b[0m\u001b[1;33m)\u001b[0m \u001b[1;32mfrom\u001b[0m \u001b[0merr\u001b[0m\u001b[1;33m\u001b[0m\u001b[1;33m\u001b[0m\u001b[0m\n\u001b[0m\u001b[0;32m   3364\u001b[0m \u001b[1;33m\u001b[0m\u001b[0m\n\u001b[0;32m   3365\u001b[0m         \u001b[1;32mif\u001b[0m \u001b[0mis_scalar\u001b[0m\u001b[1;33m(\u001b[0m\u001b[0mkey\u001b[0m\u001b[1;33m)\u001b[0m \u001b[1;32mand\u001b[0m \u001b[0misna\u001b[0m\u001b[1;33m(\u001b[0m\u001b[0mkey\u001b[0m\u001b[1;33m)\u001b[0m \u001b[1;32mand\u001b[0m \u001b[1;32mnot\u001b[0m \u001b[0mself\u001b[0m\u001b[1;33m.\u001b[0m\u001b[0mhasnans\u001b[0m\u001b[1;33m:\u001b[0m\u001b[1;33m\u001b[0m\u001b[1;33m\u001b[0m\u001b[0m\n",
      "\u001b[1;31mKeyError\u001b[0m: 'c'"
     ]
    }
   ],
   "source": [
    "#pop()\n",
    "d2\n",
    "\n",
    "del d2['c']"
   ]
  },
  {
   "cell_type": "code",
   "execution_count": 55,
   "id": "91cd5f5d",
   "metadata": {},
   "outputs": [
    {
     "name": "stdout",
     "output_type": "stream",
     "text": [
      "Requirement already satisfied: pandas in c:\\users\\pc\\appdata\\local\\programs\\python\\python38\\lib\\site-packages (1.3.0)\n",
      "Requirement already satisfied: pytz>=2017.3 in c:\\users\\pc\\appdata\\local\\programs\\python\\python38\\lib\\site-packages (from pandas) (2021.1)\n",
      "Requirement already satisfied: numpy>=1.17.3 in c:\\users\\pc\\appdata\\local\\programs\\python\\python38\\lib\\site-packages (from pandas) (1.19.2)\n",
      "Requirement already satisfied: python-dateutil>=2.7.3 in c:\\users\\pc\\appdata\\local\\programs\\python\\python38\\lib\\site-packages (from pandas) (2.8.2)\n",
      "Requirement already satisfied: six>=1.5 in c:\\users\\pc\\appdata\\local\\programs\\python\\python38\\lib\\site-packages (from python-dateutil>=2.7.3->pandas) (1.16.0)\n"
     ]
    },
    {
     "name": "stderr",
     "output_type": "stream",
     "text": [
      "WARNING: You are using pip version 20.1.1; however, version 22.0.2 is available.\n",
      "You should consider upgrading via the 'c:\\users\\pc\\appdata\\local\\programs\\python\\python38\\python.exe -m pip install --upgrade pip' command.\n"
     ]
    }
   ],
   "source": [
    "!pip install pandas"
   ]
  },
  {
   "cell_type": "code",
   "execution_count": 4,
   "id": "4773abfd",
   "metadata": {},
   "outputs": [
    {
     "data": {
      "application/javascript": [
       "\n",
       "        if (window._pyforest_update_imports_cell) { window._pyforest_update_imports_cell('import pandas as pd'); }\n",
       "    "
      ],
      "text/plain": [
       "<IPython.core.display.Javascript object>"
      ]
     },
     "metadata": {},
     "output_type": "display_data"
    },
    {
     "data": {
      "text/html": [
       "<div>\n",
       "<style scoped>\n",
       "    .dataframe tbody tr th:only-of-type {\n",
       "        vertical-align: middle;\n",
       "    }\n",
       "\n",
       "    .dataframe tbody tr th {\n",
       "        vertical-align: top;\n",
       "    }\n",
       "\n",
       "    .dataframe thead th {\n",
       "        text-align: right;\n",
       "    }\n",
       "</style>\n",
       "<table border=\"1\" class=\"dataframe\">\n",
       "  <thead>\n",
       "    <tr style=\"text-align: right;\">\n",
       "      <th></th>\n",
       "      <th>awe</th>\n",
       "      <th>qwe</th>\n",
       "      <th>rohit</th>\n",
       "      <th>weight</th>\n",
       "      <th>ghani</th>\n",
       "    </tr>\n",
       "  </thead>\n",
       "  <tbody>\n",
       "    <tr>\n",
       "      <th>a</th>\n",
       "      <td>23.0</td>\n",
       "      <td>24.0</td>\n",
       "      <td>NaN</td>\n",
       "      <td>NaN</td>\n",
       "      <td>NaN</td>\n",
       "    </tr>\n",
       "    <tr>\n",
       "      <th>b</th>\n",
       "      <td>NaN</td>\n",
       "      <td>NaN</td>\n",
       "      <td>23.0</td>\n",
       "      <td>56.0</td>\n",
       "      <td>78.0</td>\n",
       "    </tr>\n",
       "  </tbody>\n",
       "</table>\n",
       "</div>"
      ],
      "text/plain": [
       "    awe   qwe  rohit  weight  ghani\n",
       "a  23.0  24.0    NaN     NaN    NaN\n",
       "b   NaN   NaN   23.0    56.0   78.0"
      ]
     },
     "execution_count": 4,
     "metadata": {},
     "output_type": "execute_result"
    }
   ],
   "source": [
    "dic=[{'awe':23,'qwe':24},{'rohit':23,'weight':56,'ghani': 78}]\n",
    "pd.DataFrame(dic,index=['a','b'])"
   ]
  },
  {
   "cell_type": "code",
   "execution_count": null,
   "id": "7115f8ae",
   "metadata": {},
   "outputs": [],
   "source": [
    "#pandas is 3D constructor\n",
    "#pandas.panel(data, item,major_axis,minor_axis, dtype, copy)\n",
    "#data can be nd.array,list , dict\n",
    "#major_axis= axis1\n",
    "#minor_Axis= axis2\n",
    "#copy takes th boolean value to specify whether not to copy the data.The default value is False.\n"
   ]
  },
  {
   "cell_type": "code",
   "execution_count": 37,
   "id": "07ae6491",
   "metadata": {},
   "outputs": [
    {
     "data": {
      "application/javascript": [
       "\n",
       "        if (window._pyforest_update_imports_cell) { window._pyforest_update_imports_cell('import pandas as pd\\nimport numpy as np'); }\n",
       "    "
      ],
      "text/plain": [
       "<IPython.core.display.Javascript object>"
      ]
     },
     "metadata": {},
     "output_type": "display_data"
    },
    {
     "data": {
      "text/plain": [
       "array([2, 2, 2, 2])"
      ]
     },
     "execution_count": 37,
     "metadata": {},
     "output_type": "execute_result"
    }
   ],
   "source": [
    "#Using 3d nd.array to create apanel\n",
    "#we are using random method to create an ndarray,then we wil pass ndarray to pd.Panel method\n",
    "\n",
    "info=np.random.randint(2,3,4)\n",
    "info"
   ]
  },
  {
   "cell_type": "code",
   "execution_count": 38,
   "id": "d8bb1b18",
   "metadata": {},
   "outputs": [
    {
     "data": {
      "application/javascript": [
       "\n",
       "        if (window._pyforest_update_imports_cell) { window._pyforest_update_imports_cell('import pandas as pd\\nimport numpy as np'); }\n",
       "    "
      ],
      "text/plain": [
       "<IPython.core.display.Javascript object>"
      ]
     },
     "metadata": {},
     "output_type": "display_data"
    },
    {
     "data": {
      "application/javascript": [
       "\n",
       "        if (window._pyforest_update_imports_cell) { window._pyforest_update_imports_cell('import pandas as pd\\nimport numpy as np'); }\n",
       "    "
      ],
      "text/plain": [
       "<IPython.core.display.Javascript object>"
      ]
     },
     "metadata": {},
     "output_type": "display_data"
    },
    {
     "data": {
      "application/javascript": [
       "\n",
       "        if (window._pyforest_update_imports_cell) { window._pyforest_update_imports_cell('import pandas as pd\\nimport numpy as np'); }\n",
       "    "
      ],
      "text/plain": [
       "<IPython.core.display.Javascript object>"
      ]
     },
     "metadata": {},
     "output_type": "display_data"
    },
    {
     "data": {
      "application/javascript": [
       "\n",
       "        if (window._pyforest_update_imports_cell) { window._pyforest_update_imports_cell('import pandas as pd\\nimport numpy as np'); }\n",
       "    "
      ],
      "text/plain": [
       "<IPython.core.display.Javascript object>"
      ]
     },
     "metadata": {},
     "output_type": "display_data"
    },
    {
     "data": {
      "application/javascript": [
       "\n",
       "        if (window._pyforest_update_imports_cell) { window._pyforest_update_imports_cell('import pandas as pd\\nimport numpy as np'); }\n",
       "    "
      ],
      "text/plain": [
       "<IPython.core.display.Javascript object>"
      ]
     },
     "metadata": {},
     "output_type": "display_data"
    },
    {
     "data": {
      "application/javascript": [
       "\n",
       "        if (window._pyforest_update_imports_cell) { window._pyforest_update_imports_cell('import pandas as pd\\nimport numpy as np'); }\n",
       "    "
      ],
      "text/plain": [
       "<IPython.core.display.Javascript object>"
      ]
     },
     "metadata": {},
     "output_type": "display_data"
    },
    {
     "name": "stdout",
     "output_type": "stream",
     "text": [
      "{'row_1':           0         1         2         3\n",
      "0  0.653099  0.640008  0.408225  0.997793, 'row2':           0         1         2         3\n",
      "0  0.647227  0.890512  0.082369  0.734788, 'row3':           0         1         2         3\n",
      "0  0.106072  0.539511  0.957631  0.370809}\n"
     ]
    }
   ],
   "source": [
    "#Using dicitonary to  Dataframe to create a panel:-we can also use dataframes to create panels\n",
    "info={'row_1':pd.DataFrame(np.random.rand(1,4)),'row2':pd.DataFrame(np.random.rand(1,4)),'row3':pd.DataFrame(np.random.rand(1,4))}\n",
    "panels=info\n",
    "print(panels)"
   ]
  },
  {
   "cell_type": "code",
   "execution_count": 39,
   "id": "28e30a38",
   "metadata": {},
   "outputs": [
    {
     "data": {
      "application/javascript": [
       "\n",
       "        if (window._pyforest_update_imports_cell) { window._pyforest_update_imports_cell('import pandas as pd\\nimport numpy as np'); }\n",
       "    "
      ],
      "text/plain": [
       "<IPython.core.display.Javascript object>"
      ]
     },
     "metadata": {},
     "output_type": "display_data"
    },
    {
     "data": {
      "text/html": [
       "<div>\n",
       "<style scoped>\n",
       "    .dataframe tbody tr th:only-of-type {\n",
       "        vertical-align: middle;\n",
       "    }\n",
       "\n",
       "    .dataframe tbody tr th {\n",
       "        vertical-align: top;\n",
       "    }\n",
       "\n",
       "    .dataframe thead th {\n",
       "        text-align: right;\n",
       "    }\n",
       "</style>\n",
       "<table border=\"1\" class=\"dataframe\">\n",
       "  <thead>\n",
       "    <tr style=\"text-align: right;\">\n",
       "      <th></th>\n",
       "      <th>alex</th>\n",
       "      <th>joe</th>\n",
       "      <th>ema</th>\n",
       "      <th>dora</th>\n",
       "    </tr>\n",
       "  </thead>\n",
       "  <tbody>\n",
       "    <tr>\n",
       "      <th>s</th>\n",
       "      <td>3.0</td>\n",
       "      <td>4.0</td>\n",
       "      <td>NaN</td>\n",
       "      <td>NaN</td>\n",
       "    </tr>\n",
       "    <tr>\n",
       "      <th>f</th>\n",
       "      <td>NaN</td>\n",
       "      <td>NaN</td>\n",
       "      <td>5.0</td>\n",
       "      <td>20.0</td>\n",
       "    </tr>\n",
       "  </tbody>\n",
       "</table>\n",
       "</div>"
      ],
      "text/plain": [
       "   alex  joe  ema  dora\n",
       "s   3.0  4.0  NaN   NaN\n",
       "f   NaN  NaN  5.0  20.0"
      ]
     },
     "execution_count": 39,
     "metadata": {},
     "output_type": "execute_result"
    }
   ],
   "source": [
    "#creating DataFrames from the list of dictionaries\n",
    "d3=[{'alex':3,\"joe\":4},{'ema':5,'dora':20}]\n",
    "pd.DataFrame(d3,index=['s','f'])"
   ]
  },
  {
   "cell_type": "code",
   "execution_count": 56,
   "id": "24ecca14",
   "metadata": {},
   "outputs": [
    {
     "data": {
      "application/javascript": [
       "\n",
       "        if (window._pyforest_update_imports_cell) { window._pyforest_update_imports_cell('import pandas as pd\\nimport numpy as np'); }\n",
       "    "
      ],
      "text/plain": [
       "<IPython.core.display.Javascript object>"
      ]
     },
     "metadata": {},
     "output_type": "display_data"
    },
    {
     "data": {
      "text/html": [
       "<div>\n",
       "<style scoped>\n",
       "    .dataframe tbody tr th:only-of-type {\n",
       "        vertical-align: middle;\n",
       "    }\n",
       "\n",
       "    .dataframe tbody tr th {\n",
       "        vertical-align: top;\n",
       "    }\n",
       "\n",
       "    .dataframe thead th {\n",
       "        text-align: right;\n",
       "    }\n",
       "</style>\n",
       "<table border=\"1\" class=\"dataframe\">\n",
       "  <thead>\n",
       "    <tr style=\"text-align: right;\">\n",
       "      <th></th>\n",
       "      <th>abc</th>\n",
       "      <th>bcd</th>\n",
       "      <th>cde</th>\n",
       "    </tr>\n",
       "  </thead>\n",
       "  <tbody>\n",
       "    <tr>\n",
       "      <th>0</th>\n",
       "      <td>4</td>\n",
       "      <td>4</td>\n",
       "      <td>4</td>\n",
       "    </tr>\n",
       "    <tr>\n",
       "      <th>1</th>\n",
       "      <td>3</td>\n",
       "      <td>4</td>\n",
       "      <td>3</td>\n",
       "    </tr>\n",
       "    <tr>\n",
       "      <th>2</th>\n",
       "      <td>2</td>\n",
       "      <td>9</td>\n",
       "      <td>9</td>\n",
       "    </tr>\n",
       "    <tr>\n",
       "      <th>3</th>\n",
       "      <td>5</td>\n",
       "      <td>6</td>\n",
       "      <td>7</td>\n",
       "    </tr>\n",
       "    <tr>\n",
       "      <th>4</th>\n",
       "      <td>2</td>\n",
       "      <td>8</td>\n",
       "      <td>8</td>\n",
       "    </tr>\n",
       "    <tr>\n",
       "      <th>5</th>\n",
       "      <td>5</td>\n",
       "      <td>6</td>\n",
       "      <td>3</td>\n",
       "    </tr>\n",
       "    <tr>\n",
       "      <th>6</th>\n",
       "      <td>4</td>\n",
       "      <td>5</td>\n",
       "      <td>4</td>\n",
       "    </tr>\n",
       "    <tr>\n",
       "      <th>7</th>\n",
       "      <td>5</td>\n",
       "      <td>8</td>\n",
       "      <td>9</td>\n",
       "    </tr>\n",
       "    <tr>\n",
       "      <th>8</th>\n",
       "      <td>5</td>\n",
       "      <td>4</td>\n",
       "      <td>7</td>\n",
       "    </tr>\n",
       "    <tr>\n",
       "      <th>9</th>\n",
       "      <td>4</td>\n",
       "      <td>6</td>\n",
       "      <td>6</td>\n",
       "    </tr>\n",
       "  </tbody>\n",
       "</table>\n",
       "</div>"
      ],
      "text/plain": [
       "   abc  bcd  cde\n",
       "0    4    4    4\n",
       "1    3    4    3\n",
       "2    2    9    9\n",
       "3    5    6    7\n",
       "4    2    8    8\n",
       "5    5    6    3\n",
       "6    4    5    4\n",
       "7    5    8    9\n",
       "8    5    4    7\n",
       "9    4    6    6"
      ]
     },
     "execution_count": 56,
     "metadata": {},
     "output_type": "execute_result"
    }
   ],
   "source": [
    "#Basic functionality\n",
    "import numpy as np\n",
    "d4 = pd.DataFrame({'abc':np.random.randint(2,6,size = (10)),'bcd':np.random.randint(4,10,size = (10)),'cde':np.random.randint(3,10,size = (10))})\n",
    "d4"
   ]
  },
  {
   "cell_type": "code",
   "execution_count": 59,
   "id": "c6df2da5",
   "metadata": {},
   "outputs": [
    {
     "data": {
      "application/javascript": [
       "\n",
       "        if (window._pyforest_update_imports_cell) { window._pyforest_update_imports_cell('import pandas as pd\\nimport numpy as np'); }\n",
       "    "
      ],
      "text/plain": [
       "<IPython.core.display.Javascript object>"
      ]
     },
     "metadata": {},
     "output_type": "display_data"
    },
    {
     "data": {
      "text/html": [
       "<div>\n",
       "<style scoped>\n",
       "    .dataframe tbody tr th:only-of-type {\n",
       "        vertical-align: middle;\n",
       "    }\n",
       "\n",
       "    .dataframe tbody tr th {\n",
       "        vertical-align: top;\n",
       "    }\n",
       "\n",
       "    .dataframe thead th {\n",
       "        text-align: right;\n",
       "    }\n",
       "</style>\n",
       "<table border=\"1\" class=\"dataframe\">\n",
       "  <thead>\n",
       "    <tr style=\"text-align: right;\">\n",
       "      <th></th>\n",
       "      <th>age</th>\n",
       "      <th>weight</th>\n",
       "      <th>height</th>\n",
       "    </tr>\n",
       "  </thead>\n",
       "  <tbody>\n",
       "    <tr>\n",
       "      <th>0</th>\n",
       "      <td>3</td>\n",
       "      <td>7</td>\n",
       "      <td>3</td>\n",
       "    </tr>\n",
       "    <tr>\n",
       "      <th>1</th>\n",
       "      <td>2</td>\n",
       "      <td>4</td>\n",
       "      <td>5</td>\n",
       "    </tr>\n",
       "    <tr>\n",
       "      <th>2</th>\n",
       "      <td>2</td>\n",
       "      <td>3</td>\n",
       "      <td>2</td>\n",
       "    </tr>\n",
       "    <tr>\n",
       "      <th>3</th>\n",
       "      <td>3</td>\n",
       "      <td>4</td>\n",
       "      <td>7</td>\n",
       "    </tr>\n",
       "    <tr>\n",
       "      <th>4</th>\n",
       "      <td>4</td>\n",
       "      <td>6</td>\n",
       "      <td>5</td>\n",
       "    </tr>\n",
       "    <tr>\n",
       "      <th>5</th>\n",
       "      <td>2</td>\n",
       "      <td>7</td>\n",
       "      <td>7</td>\n",
       "    </tr>\n",
       "    <tr>\n",
       "      <th>6</th>\n",
       "      <td>3</td>\n",
       "      <td>2</td>\n",
       "      <td>7</td>\n",
       "    </tr>\n",
       "    <tr>\n",
       "      <th>7</th>\n",
       "      <td>4</td>\n",
       "      <td>4</td>\n",
       "      <td>4</td>\n",
       "    </tr>\n",
       "    <tr>\n",
       "      <th>8</th>\n",
       "      <td>3</td>\n",
       "      <td>4</td>\n",
       "      <td>7</td>\n",
       "    </tr>\n",
       "    <tr>\n",
       "      <th>9</th>\n",
       "      <td>3</td>\n",
       "      <td>4</td>\n",
       "      <td>4</td>\n",
       "    </tr>\n",
       "    <tr>\n",
       "      <th>10</th>\n",
       "      <td>5</td>\n",
       "      <td>4</td>\n",
       "      <td>2</td>\n",
       "    </tr>\n",
       "    <tr>\n",
       "      <th>11</th>\n",
       "      <td>3</td>\n",
       "      <td>3</td>\n",
       "      <td>5</td>\n",
       "    </tr>\n",
       "  </tbody>\n",
       "</table>\n",
       "</div>"
      ],
      "text/plain": [
       "    age  weight  height\n",
       "0     3       7       3\n",
       "1     2       4       5\n",
       "2     2       3       2\n",
       "3     3       4       7\n",
       "4     4       6       5\n",
       "5     2       7       7\n",
       "6     3       2       7\n",
       "7     4       4       4\n",
       "8     3       4       7\n",
       "9     3       4       4\n",
       "10    5       4       2\n",
       "11    3       3       5"
      ]
     },
     "execution_count": 59,
     "metadata": {},
     "output_type": "execute_result"
    }
   ],
   "source": [
    "import numpy as np\n",
    "d5=pd.DataFrame({'age':np.random.randint(2,6,size=(12)),'weight':np.random.randint(2,8,size=(12)),'height':np.random.randint(2,8,size=(12))})\n",
    "d5"
   ]
  },
  {
   "cell_type": "code",
   "execution_count": 60,
   "id": "0c1f9ae0",
   "metadata": {},
   "outputs": [
    {
     "data": {
      "text/html": [
       "<div>\n",
       "<style scoped>\n",
       "    .dataframe tbody tr th:only-of-type {\n",
       "        vertical-align: middle;\n",
       "    }\n",
       "\n",
       "    .dataframe tbody tr th {\n",
       "        vertical-align: top;\n",
       "    }\n",
       "\n",
       "    .dataframe thead th {\n",
       "        text-align: right;\n",
       "    }\n",
       "</style>\n",
       "<table border=\"1\" class=\"dataframe\">\n",
       "  <thead>\n",
       "    <tr style=\"text-align: right;\">\n",
       "      <th></th>\n",
       "      <th>age</th>\n",
       "      <th>weight</th>\n",
       "      <th>height</th>\n",
       "    </tr>\n",
       "  </thead>\n",
       "  <tbody>\n",
       "    <tr>\n",
       "      <th>0</th>\n",
       "      <td>3</td>\n",
       "      <td>7</td>\n",
       "      <td>3</td>\n",
       "    </tr>\n",
       "    <tr>\n",
       "      <th>1</th>\n",
       "      <td>2</td>\n",
       "      <td>4</td>\n",
       "      <td>5</td>\n",
       "    </tr>\n",
       "    <tr>\n",
       "      <th>2</th>\n",
       "      <td>2</td>\n",
       "      <td>3</td>\n",
       "      <td>2</td>\n",
       "    </tr>\n",
       "    <tr>\n",
       "      <th>3</th>\n",
       "      <td>3</td>\n",
       "      <td>4</td>\n",
       "      <td>7</td>\n",
       "    </tr>\n",
       "    <tr>\n",
       "      <th>4</th>\n",
       "      <td>4</td>\n",
       "      <td>6</td>\n",
       "      <td>5</td>\n",
       "    </tr>\n",
       "  </tbody>\n",
       "</table>\n",
       "</div>"
      ],
      "text/plain": [
       "   age  weight  height\n",
       "0    3       7       3\n",
       "1    2       4       5\n",
       "2    2       3       2\n",
       "3    3       4       7\n",
       "4    4       6       5"
      ]
     },
     "execution_count": 60,
     "metadata": {},
     "output_type": "execute_result"
    }
   ],
   "source": [
    "d5.head()"
   ]
  },
  {
   "cell_type": "code",
   "execution_count": 61,
   "id": "cd2965d4",
   "metadata": {},
   "outputs": [
    {
     "data": {
      "text/html": [
       "<div>\n",
       "<style scoped>\n",
       "    .dataframe tbody tr th:only-of-type {\n",
       "        vertical-align: middle;\n",
       "    }\n",
       "\n",
       "    .dataframe tbody tr th {\n",
       "        vertical-align: top;\n",
       "    }\n",
       "\n",
       "    .dataframe thead th {\n",
       "        text-align: right;\n",
       "    }\n",
       "</style>\n",
       "<table border=\"1\" class=\"dataframe\">\n",
       "  <thead>\n",
       "    <tr style=\"text-align: right;\">\n",
       "      <th></th>\n",
       "      <th>age</th>\n",
       "      <th>weight</th>\n",
       "      <th>height</th>\n",
       "    </tr>\n",
       "  </thead>\n",
       "  <tbody>\n",
       "    <tr>\n",
       "      <th>7</th>\n",
       "      <td>4</td>\n",
       "      <td>4</td>\n",
       "      <td>4</td>\n",
       "    </tr>\n",
       "    <tr>\n",
       "      <th>8</th>\n",
       "      <td>3</td>\n",
       "      <td>4</td>\n",
       "      <td>7</td>\n",
       "    </tr>\n",
       "    <tr>\n",
       "      <th>9</th>\n",
       "      <td>3</td>\n",
       "      <td>4</td>\n",
       "      <td>4</td>\n",
       "    </tr>\n",
       "    <tr>\n",
       "      <th>10</th>\n",
       "      <td>5</td>\n",
       "      <td>4</td>\n",
       "      <td>2</td>\n",
       "    </tr>\n",
       "    <tr>\n",
       "      <th>11</th>\n",
       "      <td>3</td>\n",
       "      <td>3</td>\n",
       "      <td>5</td>\n",
       "    </tr>\n",
       "  </tbody>\n",
       "</table>\n",
       "</div>"
      ],
      "text/plain": [
       "    age  weight  height\n",
       "7     4       4       4\n",
       "8     3       4       7\n",
       "9     3       4       4\n",
       "10    5       4       2\n",
       "11    3       3       5"
      ]
     },
     "execution_count": 61,
     "metadata": {},
     "output_type": "execute_result"
    }
   ],
   "source": [
    "d5.tail()"
   ]
  },
  {
   "cell_type": "code",
   "execution_count": 62,
   "id": "a7eca7f8",
   "metadata": {},
   "outputs": [
    {
     "name": "stdout",
     "output_type": "stream",
     "text": [
      "<class 'pandas.core.frame.DataFrame'>\n",
      "RangeIndex: 12 entries, 0 to 11\n",
      "Data columns (total 3 columns):\n",
      " #   Column  Non-Null Count  Dtype\n",
      "---  ------  --------------  -----\n",
      " 0   age     12 non-null     int32\n",
      " 1   weight  12 non-null     int32\n",
      " 2   height  12 non-null     int32\n",
      "dtypes: int32(3)\n",
      "memory usage: 272.0 bytes\n"
     ]
    }
   ],
   "source": [
    "#a database object has a method called info() which gives information about the data\n",
    "d5.info()"
   ]
  },
  {
   "cell_type": "code",
   "execution_count": 63,
   "id": "4b6ce775",
   "metadata": {},
   "outputs": [
    {
     "data": {
      "text/html": [
       "<div>\n",
       "<style scoped>\n",
       "    .dataframe tbody tr th:only-of-type {\n",
       "        vertical-align: middle;\n",
       "    }\n",
       "\n",
       "    .dataframe tbody tr th {\n",
       "        vertical-align: top;\n",
       "    }\n",
       "\n",
       "    .dataframe thead th {\n",
       "        text-align: right;\n",
       "    }\n",
       "</style>\n",
       "<table border=\"1\" class=\"dataframe\">\n",
       "  <thead>\n",
       "    <tr style=\"text-align: right;\">\n",
       "      <th></th>\n",
       "      <th>age</th>\n",
       "      <th>weight</th>\n",
       "      <th>height</th>\n",
       "    </tr>\n",
       "  </thead>\n",
       "  <tbody>\n",
       "    <tr>\n",
       "      <th>0</th>\n",
       "      <td>3</td>\n",
       "      <td>7</td>\n",
       "      <td>3</td>\n",
       "    </tr>\n",
       "    <tr>\n",
       "      <th>1</th>\n",
       "      <td>2</td>\n",
       "      <td>4</td>\n",
       "      <td>5</td>\n",
       "    </tr>\n",
       "    <tr>\n",
       "      <th>2</th>\n",
       "      <td>2</td>\n",
       "      <td>3</td>\n",
       "      <td>2</td>\n",
       "    </tr>\n",
       "    <tr>\n",
       "      <th>3</th>\n",
       "      <td>3</td>\n",
       "      <td>4</td>\n",
       "      <td>7</td>\n",
       "    </tr>\n",
       "    <tr>\n",
       "      <th>4</th>\n",
       "      <td>4</td>\n",
       "      <td>6</td>\n",
       "      <td>5</td>\n",
       "    </tr>\n",
       "    <tr>\n",
       "      <th>5</th>\n",
       "      <td>2</td>\n",
       "      <td>7</td>\n",
       "      <td>7</td>\n",
       "    </tr>\n",
       "    <tr>\n",
       "      <th>6</th>\n",
       "      <td>3</td>\n",
       "      <td>2</td>\n",
       "      <td>7</td>\n",
       "    </tr>\n",
       "    <tr>\n",
       "      <th>7</th>\n",
       "      <td>4</td>\n",
       "      <td>4</td>\n",
       "      <td>4</td>\n",
       "    </tr>\n",
       "    <tr>\n",
       "      <th>8</th>\n",
       "      <td>3</td>\n",
       "      <td>4</td>\n",
       "      <td>7</td>\n",
       "    </tr>\n",
       "    <tr>\n",
       "      <th>9</th>\n",
       "      <td>3</td>\n",
       "      <td>4</td>\n",
       "      <td>4</td>\n",
       "    </tr>\n",
       "    <tr>\n",
       "      <th>10</th>\n",
       "      <td>5</td>\n",
       "      <td>4</td>\n",
       "      <td>2</td>\n",
       "    </tr>\n",
       "    <tr>\n",
       "      <th>11</th>\n",
       "      <td>3</td>\n",
       "      <td>3</td>\n",
       "      <td>5</td>\n",
       "    </tr>\n",
       "  </tbody>\n",
       "</table>\n",
       "</div>"
      ],
      "text/plain": [
       "    age  weight  height\n",
       "0     3       7       3\n",
       "1     2       4       5\n",
       "2     2       3       2\n",
       "3     3       4       7\n",
       "4     4       6       5\n",
       "5     2       7       7\n",
       "6     3       2       7\n",
       "7     4       4       4\n",
       "8     3       4       7\n",
       "9     3       4       4\n",
       "10    5       4       2\n",
       "11    3       3       5"
      ]
     },
     "execution_count": 63,
     "metadata": {},
     "output_type": "execute_result"
    }
   ],
   "source": [
    "d5"
   ]
  },
  {
   "cell_type": "code",
   "execution_count": 66,
   "id": "fdec643e",
   "metadata": {},
   "outputs": [
    {
     "data": {
      "text/plain": [
       "4"
      ]
     },
     "execution_count": 66,
     "metadata": {},
     "output_type": "execute_result"
    }
   ],
   "source": [
    "#loc()\n",
    "d5.loc[8,'weight']\n"
   ]
  },
  {
   "cell_type": "code",
   "execution_count": 67,
   "id": "71ec0bfa",
   "metadata": {},
   "outputs": [
    {
     "data": {
      "text/plain": [
       "4    5\n",
       "5    7\n",
       "Name: height, dtype: int32"
      ]
     },
     "execution_count": 67,
     "metadata": {},
     "output_type": "execute_result"
    }
   ],
   "source": [
    "d5.loc[4:5,'height']"
   ]
  },
  {
   "cell_type": "code",
   "execution_count": 70,
   "id": "4174e228",
   "metadata": {},
   "outputs": [
    {
     "data": {
      "text/html": [
       "<div>\n",
       "<style scoped>\n",
       "    .dataframe tbody tr th:only-of-type {\n",
       "        vertical-align: middle;\n",
       "    }\n",
       "\n",
       "    .dataframe tbody tr th {\n",
       "        vertical-align: top;\n",
       "    }\n",
       "\n",
       "    .dataframe thead th {\n",
       "        text-align: right;\n",
       "    }\n",
       "</style>\n",
       "<table border=\"1\" class=\"dataframe\">\n",
       "  <thead>\n",
       "    <tr style=\"text-align: right;\">\n",
       "      <th></th>\n",
       "      <th>height</th>\n",
       "      <th>weight</th>\n",
       "    </tr>\n",
       "  </thead>\n",
       "  <tbody>\n",
       "    <tr>\n",
       "      <th>3</th>\n",
       "      <td>7</td>\n",
       "      <td>4</td>\n",
       "    </tr>\n",
       "    <tr>\n",
       "      <th>4</th>\n",
       "      <td>5</td>\n",
       "      <td>6</td>\n",
       "    </tr>\n",
       "    <tr>\n",
       "      <th>5</th>\n",
       "      <td>7</td>\n",
       "      <td>7</td>\n",
       "    </tr>\n",
       "    <tr>\n",
       "      <th>6</th>\n",
       "      <td>7</td>\n",
       "      <td>2</td>\n",
       "    </tr>\n",
       "  </tbody>\n",
       "</table>\n",
       "</div>"
      ],
      "text/plain": [
       "   height  weight\n",
       "3       7       4\n",
       "4       5       6\n",
       "5       7       7\n",
       "6       7       2"
      ]
     },
     "execution_count": 70,
     "metadata": {},
     "output_type": "execute_result"
    }
   ],
   "source": [
    "d5.loc[3:6,['height','weight']]"
   ]
  },
  {
   "cell_type": "code",
   "execution_count": 73,
   "id": "981d2fc5",
   "metadata": {},
   "outputs": [
    {
     "data": {
      "text/html": [
       "<div>\n",
       "<style scoped>\n",
       "    .dataframe tbody tr th:only-of-type {\n",
       "        vertical-align: middle;\n",
       "    }\n",
       "\n",
       "    .dataframe tbody tr th {\n",
       "        vertical-align: top;\n",
       "    }\n",
       "\n",
       "    .dataframe thead th {\n",
       "        text-align: right;\n",
       "    }\n",
       "</style>\n",
       "<table border=\"1\" class=\"dataframe\">\n",
       "  <thead>\n",
       "    <tr style=\"text-align: right;\">\n",
       "      <th></th>\n",
       "      <th>age</th>\n",
       "      <th>weight</th>\n",
       "    </tr>\n",
       "  </thead>\n",
       "  <tbody>\n",
       "    <tr>\n",
       "      <th>3</th>\n",
       "      <td>3</td>\n",
       "      <td>4</td>\n",
       "    </tr>\n",
       "    <tr>\n",
       "      <th>4</th>\n",
       "      <td>4</td>\n",
       "      <td>6</td>\n",
       "    </tr>\n",
       "    <tr>\n",
       "      <th>8</th>\n",
       "      <td>3</td>\n",
       "      <td>4</td>\n",
       "    </tr>\n",
       "  </tbody>\n",
       "</table>\n",
       "</div>"
      ],
      "text/plain": [
       "   age  weight\n",
       "3    3       4\n",
       "4    4       6\n",
       "8    3       4"
      ]
     },
     "execution_count": 73,
     "metadata": {},
     "output_type": "execute_result"
    }
   ],
   "source": [
    "d5.loc[[3,4,8],['age', 'weight']]"
   ]
  },
  {
   "cell_type": "code",
   "execution_count": 74,
   "id": "27423cb3",
   "metadata": {},
   "outputs": [
    {
     "data": {
      "text/html": [
       "<div>\n",
       "<style scoped>\n",
       "    .dataframe tbody tr th:only-of-type {\n",
       "        vertical-align: middle;\n",
       "    }\n",
       "\n",
       "    .dataframe tbody tr th {\n",
       "        vertical-align: top;\n",
       "    }\n",
       "\n",
       "    .dataframe thead th {\n",
       "        text-align: right;\n",
       "    }\n",
       "</style>\n",
       "<table border=\"1\" class=\"dataframe\">\n",
       "  <thead>\n",
       "    <tr style=\"text-align: right;\">\n",
       "      <th></th>\n",
       "      <th>age</th>\n",
       "      <th>weight</th>\n",
       "      <th>height</th>\n",
       "    </tr>\n",
       "  </thead>\n",
       "  <tbody>\n",
       "    <tr>\n",
       "      <th>0</th>\n",
       "      <td>3</td>\n",
       "      <td>7</td>\n",
       "      <td>3</td>\n",
       "    </tr>\n",
       "    <tr>\n",
       "      <th>1</th>\n",
       "      <td>2</td>\n",
       "      <td>4</td>\n",
       "      <td>5</td>\n",
       "    </tr>\n",
       "    <tr>\n",
       "      <th>2</th>\n",
       "      <td>2</td>\n",
       "      <td>3</td>\n",
       "      <td>2</td>\n",
       "    </tr>\n",
       "    <tr>\n",
       "      <th>3</th>\n",
       "      <td>3</td>\n",
       "      <td>4</td>\n",
       "      <td>7</td>\n",
       "    </tr>\n",
       "    <tr>\n",
       "      <th>4</th>\n",
       "      <td>4</td>\n",
       "      <td>6</td>\n",
       "      <td>5</td>\n",
       "    </tr>\n",
       "    <tr>\n",
       "      <th>5</th>\n",
       "      <td>2</td>\n",
       "      <td>7</td>\n",
       "      <td>7</td>\n",
       "    </tr>\n",
       "    <tr>\n",
       "      <th>6</th>\n",
       "      <td>3</td>\n",
       "      <td>2</td>\n",
       "      <td>7</td>\n",
       "    </tr>\n",
       "    <tr>\n",
       "      <th>7</th>\n",
       "      <td>4</td>\n",
       "      <td>4</td>\n",
       "      <td>4</td>\n",
       "    </tr>\n",
       "    <tr>\n",
       "      <th>8</th>\n",
       "      <td>3</td>\n",
       "      <td>4</td>\n",
       "      <td>7</td>\n",
       "    </tr>\n",
       "    <tr>\n",
       "      <th>9</th>\n",
       "      <td>3</td>\n",
       "      <td>4</td>\n",
       "      <td>4</td>\n",
       "    </tr>\n",
       "    <tr>\n",
       "      <th>10</th>\n",
       "      <td>5</td>\n",
       "      <td>4</td>\n",
       "      <td>2</td>\n",
       "    </tr>\n",
       "    <tr>\n",
       "      <th>11</th>\n",
       "      <td>3</td>\n",
       "      <td>3</td>\n",
       "      <td>5</td>\n",
       "    </tr>\n",
       "  </tbody>\n",
       "</table>\n",
       "</div>"
      ],
      "text/plain": [
       "    age  weight  height\n",
       "0     3       7       3\n",
       "1     2       4       5\n",
       "2     2       3       2\n",
       "3     3       4       7\n",
       "4     4       6       5\n",
       "5     2       7       7\n",
       "6     3       2       7\n",
       "7     4       4       4\n",
       "8     3       4       7\n",
       "9     3       4       4\n",
       "10    5       4       2\n",
       "11    3       3       5"
      ]
     },
     "execution_count": 74,
     "metadata": {},
     "output_type": "execute_result"
    }
   ],
   "source": [
    "d5"
   ]
  },
  {
   "cell_type": "code",
   "execution_count": 75,
   "id": "8efb9640",
   "metadata": {},
   "outputs": [
    {
     "data": {
      "text/html": [
       "<div>\n",
       "<style scoped>\n",
       "    .dataframe tbody tr th:only-of-type {\n",
       "        vertical-align: middle;\n",
       "    }\n",
       "\n",
       "    .dataframe tbody tr th {\n",
       "        vertical-align: top;\n",
       "    }\n",
       "\n",
       "    .dataframe thead th {\n",
       "        text-align: right;\n",
       "    }\n",
       "</style>\n",
       "<table border=\"1\" class=\"dataframe\">\n",
       "  <thead>\n",
       "    <tr style=\"text-align: right;\">\n",
       "      <th></th>\n",
       "      <th>age</th>\n",
       "      <th>weight</th>\n",
       "      <th>height</th>\n",
       "    </tr>\n",
       "  </thead>\n",
       "  <tbody>\n",
       "    <tr>\n",
       "      <th>4</th>\n",
       "      <td>4</td>\n",
       "      <td>6</td>\n",
       "      <td>5</td>\n",
       "    </tr>\n",
       "    <tr>\n",
       "      <th>5</th>\n",
       "      <td>2</td>\n",
       "      <td>7</td>\n",
       "      <td>7</td>\n",
       "    </tr>\n",
       "    <tr>\n",
       "      <th>6</th>\n",
       "      <td>3</td>\n",
       "      <td>2</td>\n",
       "      <td>7</td>\n",
       "    </tr>\n",
       "    <tr>\n",
       "      <th>7</th>\n",
       "      <td>4</td>\n",
       "      <td>4</td>\n",
       "      <td>4</td>\n",
       "    </tr>\n",
       "    <tr>\n",
       "      <th>8</th>\n",
       "      <td>3</td>\n",
       "      <td>4</td>\n",
       "      <td>7</td>\n",
       "    </tr>\n",
       "  </tbody>\n",
       "</table>\n",
       "</div>"
      ],
      "text/plain": [
       "   age  weight  height\n",
       "4    4       6       5\n",
       "5    2       7       7\n",
       "6    3       2       7\n",
       "7    4       4       4\n",
       "8    3       4       7"
      ]
     },
     "execution_count": 75,
     "metadata": {},
     "output_type": "execute_result"
    }
   ],
   "source": [
    "d5.loc[4:8]"
   ]
  },
  {
   "cell_type": "code",
   "execution_count": 78,
   "id": "eb8c6415",
   "metadata": {},
   "outputs": [
    {
     "data": {
      "text/html": [
       "<div>\n",
       "<style scoped>\n",
       "    .dataframe tbody tr th:only-of-type {\n",
       "        vertical-align: middle;\n",
       "    }\n",
       "\n",
       "    .dataframe tbody tr th {\n",
       "        vertical-align: top;\n",
       "    }\n",
       "\n",
       "    .dataframe thead th {\n",
       "        text-align: right;\n",
       "    }\n",
       "</style>\n",
       "<table border=\"1\" class=\"dataframe\">\n",
       "  <thead>\n",
       "    <tr style=\"text-align: right;\">\n",
       "      <th></th>\n",
       "      <th>weight</th>\n",
       "    </tr>\n",
       "  </thead>\n",
       "  <tbody>\n",
       "    <tr>\n",
       "      <th>4</th>\n",
       "      <td>6</td>\n",
       "    </tr>\n",
       "    <tr>\n",
       "      <th>8</th>\n",
       "      <td>4</td>\n",
       "    </tr>\n",
       "  </tbody>\n",
       "</table>\n",
       "</div>"
      ],
      "text/plain": [
       "   weight\n",
       "4       6\n",
       "8       4"
      ]
     },
     "execution_count": 78,
     "metadata": {},
     "output_type": "execute_result"
    }
   ],
   "source": [
    "d5.loc[[4,8],['weight']]"
   ]
  },
  {
   "cell_type": "code",
   "execution_count": 80,
   "id": "68c86276",
   "metadata": {},
   "outputs": [
    {
     "data": {
      "text/html": [
       "<div>\n",
       "<style scoped>\n",
       "    .dataframe tbody tr th:only-of-type {\n",
       "        vertical-align: middle;\n",
       "    }\n",
       "\n",
       "    .dataframe tbody tr th {\n",
       "        vertical-align: top;\n",
       "    }\n",
       "\n",
       "    .dataframe thead th {\n",
       "        text-align: right;\n",
       "    }\n",
       "</style>\n",
       "<table border=\"1\" class=\"dataframe\">\n",
       "  <thead>\n",
       "    <tr style=\"text-align: right;\">\n",
       "      <th></th>\n",
       "      <th>abc</th>\n",
       "      <th>cde</th>\n",
       "    </tr>\n",
       "  </thead>\n",
       "  <tbody>\n",
       "    <tr>\n",
       "      <th>1</th>\n",
       "      <td>3</td>\n",
       "      <td>3</td>\n",
       "    </tr>\n",
       "    <tr>\n",
       "      <th>2</th>\n",
       "      <td>2</td>\n",
       "      <td>9</td>\n",
       "    </tr>\n",
       "    <tr>\n",
       "      <th>3</th>\n",
       "      <td>5</td>\n",
       "      <td>7</td>\n",
       "    </tr>\n",
       "    <tr>\n",
       "      <th>4</th>\n",
       "      <td>2</td>\n",
       "      <td>8</td>\n",
       "    </tr>\n",
       "    <tr>\n",
       "      <th>5</th>\n",
       "      <td>5</td>\n",
       "      <td>3</td>\n",
       "    </tr>\n",
       "    <tr>\n",
       "      <th>6</th>\n",
       "      <td>4</td>\n",
       "      <td>4</td>\n",
       "    </tr>\n",
       "    <tr>\n",
       "      <th>7</th>\n",
       "      <td>5</td>\n",
       "      <td>9</td>\n",
       "    </tr>\n",
       "  </tbody>\n",
       "</table>\n",
       "</div>"
      ],
      "text/plain": [
       "   abc  cde\n",
       "1    3    3\n",
       "2    2    9\n",
       "3    5    7\n",
       "4    2    8\n",
       "5    5    3\n",
       "6    4    4\n",
       "7    5    9"
      ]
     },
     "execution_count": 80,
     "metadata": {},
     "output_type": "execute_result"
    }
   ],
   "source": [
    "#iloc()\n",
    "d4.iloc[1:8,[0,2]]"
   ]
  },
  {
   "cell_type": "code",
   "execution_count": 83,
   "id": "334fc915",
   "metadata": {},
   "outputs": [
    {
     "data": {
      "text/html": [
       "<div>\n",
       "<style scoped>\n",
       "    .dataframe tbody tr th:only-of-type {\n",
       "        vertical-align: middle;\n",
       "    }\n",
       "\n",
       "    .dataframe tbody tr th {\n",
       "        vertical-align: top;\n",
       "    }\n",
       "\n",
       "    .dataframe thead th {\n",
       "        text-align: right;\n",
       "    }\n",
       "</style>\n",
       "<table border=\"1\" class=\"dataframe\">\n",
       "  <thead>\n",
       "    <tr style=\"text-align: right;\">\n",
       "      <th></th>\n",
       "      <th>age</th>\n",
       "      <th>height</th>\n",
       "    </tr>\n",
       "  </thead>\n",
       "  <tbody>\n",
       "    <tr>\n",
       "      <th>1</th>\n",
       "      <td>2</td>\n",
       "      <td>5</td>\n",
       "    </tr>\n",
       "    <tr>\n",
       "      <th>2</th>\n",
       "      <td>2</td>\n",
       "      <td>2</td>\n",
       "    </tr>\n",
       "    <tr>\n",
       "      <th>3</th>\n",
       "      <td>3</td>\n",
       "      <td>7</td>\n",
       "    </tr>\n",
       "    <tr>\n",
       "      <th>4</th>\n",
       "      <td>4</td>\n",
       "      <td>5</td>\n",
       "    </tr>\n",
       "    <tr>\n",
       "      <th>5</th>\n",
       "      <td>2</td>\n",
       "      <td>7</td>\n",
       "    </tr>\n",
       "    <tr>\n",
       "      <th>6</th>\n",
       "      <td>3</td>\n",
       "      <td>7</td>\n",
       "    </tr>\n",
       "    <tr>\n",
       "      <th>7</th>\n",
       "      <td>4</td>\n",
       "      <td>4</td>\n",
       "    </tr>\n",
       "  </tbody>\n",
       "</table>\n",
       "</div>"
      ],
      "text/plain": [
       "   age  height\n",
       "1    2       5\n",
       "2    2       2\n",
       "3    3       7\n",
       "4    4       5\n",
       "5    2       7\n",
       "6    3       7\n",
       "7    4       4"
      ]
     },
     "execution_count": 83,
     "metadata": {},
     "output_type": "execute_result"
    }
   ],
   "source": [
    "#iloc()\n",
    "d5.iloc[1:8,[0,2]]"
   ]
  },
  {
   "cell_type": "code",
   "execution_count": 84,
   "id": "9b1d2dfa",
   "metadata": {},
   "outputs": [
    {
     "data": {
      "text/plain": [
       "0     3\n",
       "1     2\n",
       "2     2\n",
       "3     3\n",
       "4     4\n",
       "5     2\n",
       "6     3\n",
       "7     4\n",
       "8     3\n",
       "9     3\n",
       "10    5\n",
       "11    3\n",
       "Name: age, dtype: int32"
      ]
     },
     "execution_count": 84,
     "metadata": {},
     "output_type": "execute_result"
    }
   ],
   "source": [
    "d5.age"
   ]
  },
  {
   "cell_type": "code",
   "execution_count": 85,
   "id": "ab3a3cef",
   "metadata": {},
   "outputs": [
    {
     "data": {
      "text/plain": [
       "0     7\n",
       "1     4\n",
       "2     3\n",
       "3     4\n",
       "4     6\n",
       "5     7\n",
       "6     2\n",
       "7     4\n",
       "8     4\n",
       "9     4\n",
       "10    4\n",
       "11    3\n",
       "Name: weight, dtype: int32"
      ]
     },
     "execution_count": 85,
     "metadata": {},
     "output_type": "execute_result"
    }
   ],
   "source": [
    "d5.weight"
   ]
  },
  {
   "cell_type": "code",
   "execution_count": 86,
   "id": "302f3122",
   "metadata": {},
   "outputs": [
    {
     "data": {
      "text/plain": [
       "array([7, 4, 3, 4, 6, 7, 2, 4, 4, 4, 4, 3])"
      ]
     },
     "execution_count": 86,
     "metadata": {},
     "output_type": "execute_result"
    }
   ],
   "source": [
    "d5.weight.values"
   ]
  },
  {
   "cell_type": "code",
   "execution_count": 88,
   "id": "340f39c8",
   "metadata": {},
   "outputs": [
    {
     "data": {
      "text/plain": [
       "0     13\n",
       "1     11\n",
       "2      7\n",
       "3     14\n",
       "4     15\n",
       "5     16\n",
       "6     12\n",
       "7     12\n",
       "8     14\n",
       "9     11\n",
       "10    11\n",
       "11    11\n",
       "Name: sum, dtype: int32"
      ]
     },
     "execution_count": 88,
     "metadata": {},
     "output_type": "execute_result"
    }
   ],
   "source": [
    "d5['sum']=d5.age.values+d5.weight.values+d5.height.values\n",
    "d5['sum']"
   ]
  },
  {
   "cell_type": "code",
   "execution_count": 91,
   "id": "371565cb",
   "metadata": {},
   "outputs": [
    {
     "data": {
      "application/javascript": [
       "\n",
       "        if (window._pyforest_update_imports_cell) { window._pyforest_update_imports_cell('import pandas as pd\\nimport numpy as np'); }\n",
       "    "
      ],
      "text/plain": [
       "<IPython.core.display.Javascript object>"
      ]
     },
     "metadata": {},
     "output_type": "display_data"
    },
    {
     "name": "stdout",
     "output_type": "stream",
     "text": [
      "    name  age  salary\n",
      "0   ramu   30   30000\n",
      "1  rohit   35   35000\n",
      "2   amma   29   40000\n"
     ]
    }
   ],
   "source": [
    "a=[['ramu',30, 30000],['rohit',35,35000],['amma',29,40000]]\n",
    "f=pd.DataFrame(a,columns=['name','age','salary'])\n",
    "print(f)"
   ]
  },
  {
   "cell_type": "code",
   "execution_count": 93,
   "id": "f536aefb",
   "metadata": {},
   "outputs": [
    {
     "data": {
      "text/html": [
       "<div>\n",
       "<style scoped>\n",
       "    .dataframe tbody tr th:only-of-type {\n",
       "        vertical-align: middle;\n",
       "    }\n",
       "\n",
       "    .dataframe tbody tr th {\n",
       "        vertical-align: top;\n",
       "    }\n",
       "\n",
       "    .dataframe thead th {\n",
       "        text-align: right;\n",
       "    }\n",
       "</style>\n",
       "<table border=\"1\" class=\"dataframe\">\n",
       "  <thead>\n",
       "    <tr style=\"text-align: right;\">\n",
       "      <th></th>\n",
       "      <th>name</th>\n",
       "      <th>salary</th>\n",
       "    </tr>\n",
       "  </thead>\n",
       "  <tbody>\n",
       "    <tr>\n",
       "      <th>0</th>\n",
       "      <td>ramu</td>\n",
       "      <td>30000</td>\n",
       "    </tr>\n",
       "    <tr>\n",
       "      <th>1</th>\n",
       "      <td>rohit</td>\n",
       "      <td>35000</td>\n",
       "    </tr>\n",
       "    <tr>\n",
       "      <th>2</th>\n",
       "      <td>amma</td>\n",
       "      <td>40000</td>\n",
       "    </tr>\n",
       "  </tbody>\n",
       "</table>\n",
       "</div>"
      ],
      "text/plain": [
       "    name  salary\n",
       "0   ramu   30000\n",
       "1  rohit   35000\n",
       "2   amma   40000"
      ]
     },
     "execution_count": 93,
     "metadata": {},
     "output_type": "execute_result"
    }
   ],
   "source": [
    "c=f[f.salary>=30000]\n",
    "c\n",
    "\n",
    "c[['name','salary']]"
   ]
  },
  {
   "cell_type": "code",
   "execution_count": 94,
   "id": "442da95d",
   "metadata": {},
   "outputs": [
    {
     "data": {
      "text/html": [
       "<div>\n",
       "<style scoped>\n",
       "    .dataframe tbody tr th:only-of-type {\n",
       "        vertical-align: middle;\n",
       "    }\n",
       "\n",
       "    .dataframe tbody tr th {\n",
       "        vertical-align: top;\n",
       "    }\n",
       "\n",
       "    .dataframe thead th {\n",
       "        text-align: right;\n",
       "    }\n",
       "</style>\n",
       "<table border=\"1\" class=\"dataframe\">\n",
       "  <thead>\n",
       "    <tr style=\"text-align: right;\">\n",
       "      <th></th>\n",
       "      <th>name</th>\n",
       "      <th>age</th>\n",
       "      <th>salary</th>\n",
       "    </tr>\n",
       "  </thead>\n",
       "  <tbody>\n",
       "    <tr>\n",
       "      <th>0</th>\n",
       "      <td>ramu</td>\n",
       "      <td>30</td>\n",
       "      <td>30000</td>\n",
       "    </tr>\n",
       "    <tr>\n",
       "      <th>1</th>\n",
       "      <td>rohit</td>\n",
       "      <td>35</td>\n",
       "      <td>35000</td>\n",
       "    </tr>\n",
       "    <tr>\n",
       "      <th>2</th>\n",
       "      <td>amma</td>\n",
       "      <td>29</td>\n",
       "      <td>40000</td>\n",
       "    </tr>\n",
       "  </tbody>\n",
       "</table>\n",
       "</div>"
      ],
      "text/plain": [
       "    name  age  salary\n",
       "0   ramu   30   30000\n",
       "1  rohit   35   35000\n",
       "2   amma   29   40000"
      ]
     },
     "execution_count": 94,
     "metadata": {},
     "output_type": "execute_result"
    }
   ],
   "source": [
    "c.append({'name':np.nan,'age':30,'salary':60000},ignore_index=True)\n",
    "c"
   ]
  },
  {
   "cell_type": "code",
   "execution_count": 97,
   "id": "c3396e42",
   "metadata": {},
   "outputs": [
    {
     "data": {
      "text/html": [
       "<div>\n",
       "<style scoped>\n",
       "    .dataframe tbody tr th:only-of-type {\n",
       "        vertical-align: middle;\n",
       "    }\n",
       "\n",
       "    .dataframe tbody tr th {\n",
       "        vertical-align: top;\n",
       "    }\n",
       "\n",
       "    .dataframe thead th {\n",
       "        text-align: right;\n",
       "    }\n",
       "</style>\n",
       "<table border=\"1\" class=\"dataframe\">\n",
       "  <thead>\n",
       "    <tr style=\"text-align: right;\">\n",
       "      <th></th>\n",
       "      <th>name</th>\n",
       "      <th>age</th>\n",
       "      <th>salary</th>\n",
       "    </tr>\n",
       "  </thead>\n",
       "  <tbody>\n",
       "    <tr>\n",
       "      <th>0</th>\n",
       "      <td>ramu</td>\n",
       "      <td>30</td>\n",
       "      <td>30000</td>\n",
       "    </tr>\n",
       "    <tr>\n",
       "      <th>1</th>\n",
       "      <td>rohit</td>\n",
       "      <td>35</td>\n",
       "      <td>35000</td>\n",
       "    </tr>\n",
       "    <tr>\n",
       "      <th>2</th>\n",
       "      <td>amma</td>\n",
       "      <td>29</td>\n",
       "      <td>40000</td>\n",
       "    </tr>\n",
       "  </tbody>\n",
       "</table>\n",
       "</div>"
      ],
      "text/plain": [
       "    name  age  salary\n",
       "0   ramu   30   30000\n",
       "1  rohit   35   35000\n",
       "2   amma   29   40000"
      ]
     },
     "execution_count": 97,
     "metadata": {},
     "output_type": "execute_result"
    }
   ],
   "source": [
    "c.append({'name':'sai','age': 23,'salary':70000},ignore_index=True)\n",
    "c"
   ]
  },
  {
   "cell_type": "code",
   "execution_count": 98,
   "id": "529bb1f9",
   "metadata": {},
   "outputs": [
    {
     "data": {
      "text/html": [
       "<div>\n",
       "<style scoped>\n",
       "    .dataframe tbody tr th:only-of-type {\n",
       "        vertical-align: middle;\n",
       "    }\n",
       "\n",
       "    .dataframe tbody tr th {\n",
       "        vertical-align: top;\n",
       "    }\n",
       "\n",
       "    .dataframe thead th {\n",
       "        text-align: right;\n",
       "    }\n",
       "</style>\n",
       "<table border=\"1\" class=\"dataframe\">\n",
       "  <thead>\n",
       "    <tr style=\"text-align: right;\">\n",
       "      <th></th>\n",
       "      <th>name</th>\n",
       "      <th>age</th>\n",
       "      <th>salary</th>\n",
       "    </tr>\n",
       "  </thead>\n",
       "  <tbody>\n",
       "    <tr>\n",
       "      <th>0</th>\n",
       "      <td>False</td>\n",
       "      <td>False</td>\n",
       "      <td>False</td>\n",
       "    </tr>\n",
       "    <tr>\n",
       "      <th>1</th>\n",
       "      <td>False</td>\n",
       "      <td>False</td>\n",
       "      <td>False</td>\n",
       "    </tr>\n",
       "    <tr>\n",
       "      <th>2</th>\n",
       "      <td>False</td>\n",
       "      <td>False</td>\n",
       "      <td>False</td>\n",
       "    </tr>\n",
       "  </tbody>\n",
       "</table>\n",
       "</div>"
      ],
      "text/plain": [
       "    name    age  salary\n",
       "0  False  False   False\n",
       "1  False  False   False\n",
       "2  False  False   False"
      ]
     },
     "execution_count": 98,
     "metadata": {},
     "output_type": "execute_result"
    }
   ],
   "source": [
    "c.isnull()"
   ]
  },
  {
   "cell_type": "code",
   "execution_count": 99,
   "id": "4c25ab47",
   "metadata": {},
   "outputs": [
    {
     "data": {
      "text/plain": [
       "name      0\n",
       "age       0\n",
       "salary    0\n",
       "dtype: int64"
      ]
     },
     "execution_count": 99,
     "metadata": {},
     "output_type": "execute_result"
    }
   ],
   "source": [
    "c.isnull().sum()"
   ]
  },
  {
   "cell_type": "code",
   "execution_count": 100,
   "id": "24ce8676",
   "metadata": {},
   "outputs": [],
   "source": [
    "c=c.dropna()"
   ]
  },
  {
   "cell_type": "code",
   "execution_count": 101,
   "id": "1f2e7746",
   "metadata": {},
   "outputs": [
    {
     "data": {
      "text/html": [
       "<div>\n",
       "<style scoped>\n",
       "    .dataframe tbody tr th:only-of-type {\n",
       "        vertical-align: middle;\n",
       "    }\n",
       "\n",
       "    .dataframe tbody tr th {\n",
       "        vertical-align: top;\n",
       "    }\n",
       "\n",
       "    .dataframe thead th {\n",
       "        text-align: right;\n",
       "    }\n",
       "</style>\n",
       "<table border=\"1\" class=\"dataframe\">\n",
       "  <thead>\n",
       "    <tr style=\"text-align: right;\">\n",
       "      <th></th>\n",
       "      <th>name</th>\n",
       "      <th>age</th>\n",
       "      <th>salary</th>\n",
       "    </tr>\n",
       "  </thead>\n",
       "  <tbody>\n",
       "    <tr>\n",
       "      <th>0</th>\n",
       "      <td>ramu</td>\n",
       "      <td>30</td>\n",
       "      <td>30000</td>\n",
       "    </tr>\n",
       "    <tr>\n",
       "      <th>1</th>\n",
       "      <td>rohit</td>\n",
       "      <td>35</td>\n",
       "      <td>35000</td>\n",
       "    </tr>\n",
       "    <tr>\n",
       "      <th>2</th>\n",
       "      <td>amma</td>\n",
       "      <td>29</td>\n",
       "      <td>40000</td>\n",
       "    </tr>\n",
       "  </tbody>\n",
       "</table>\n",
       "</div>"
      ],
      "text/plain": [
       "    name  age  salary\n",
       "0   ramu   30   30000\n",
       "1  rohit   35   35000\n",
       "2   amma   29   40000"
      ]
     },
     "execution_count": 101,
     "metadata": {},
     "output_type": "execute_result"
    }
   ],
   "source": [
    "c"
   ]
  },
  {
   "cell_type": "code",
   "execution_count": 102,
   "id": "d3b32eea",
   "metadata": {},
   "outputs": [
    {
     "data": {
      "text/html": [
       "<div>\n",
       "<style scoped>\n",
       "    .dataframe tbody tr th:only-of-type {\n",
       "        vertical-align: middle;\n",
       "    }\n",
       "\n",
       "    .dataframe tbody tr th {\n",
       "        vertical-align: top;\n",
       "    }\n",
       "\n",
       "    .dataframe thead th {\n",
       "        text-align: right;\n",
       "    }\n",
       "</style>\n",
       "<table border=\"1\" class=\"dataframe\">\n",
       "  <thead>\n",
       "    <tr style=\"text-align: right;\">\n",
       "      <th></th>\n",
       "      <th>name</th>\n",
       "      <th>age</th>\n",
       "      <th>salary</th>\n",
       "    </tr>\n",
       "  </thead>\n",
       "  <tbody>\n",
       "    <tr>\n",
       "      <th>0</th>\n",
       "      <td>ramu</td>\n",
       "      <td>30</td>\n",
       "      <td>30000</td>\n",
       "    </tr>\n",
       "    <tr>\n",
       "      <th>1</th>\n",
       "      <td>rohit</td>\n",
       "      <td>35</td>\n",
       "      <td>35000</td>\n",
       "    </tr>\n",
       "    <tr>\n",
       "      <th>2</th>\n",
       "      <td>amma</td>\n",
       "      <td>29</td>\n",
       "      <td>40000</td>\n",
       "    </tr>\n",
       "  </tbody>\n",
       "</table>\n",
       "</div>"
      ],
      "text/plain": [
       "    name  age  salary\n",
       "0   ramu   30   30000\n",
       "1  rohit   35   35000\n",
       "2   amma   29   40000"
      ]
     },
     "execution_count": 102,
     "metadata": {},
     "output_type": "execute_result"
    }
   ],
   "source": [
    "c.fillna(value='name')"
   ]
  },
  {
   "cell_type": "code",
   "execution_count": 103,
   "id": "1ce3f637",
   "metadata": {},
   "outputs": [
    {
     "data": {
      "application/javascript": [
       "\n",
       "        if (window._pyforest_update_imports_cell) { window._pyforest_update_imports_cell('import pandas as pd\\nimport numpy as np'); }\n",
       "    "
      ],
      "text/plain": [
       "<IPython.core.display.Javascript object>"
      ]
     },
     "metadata": {},
     "output_type": "display_data"
    },
    {
     "data": {
      "text/html": [
       "<div>\n",
       "<style scoped>\n",
       "    .dataframe tbody tr th:only-of-type {\n",
       "        vertical-align: middle;\n",
       "    }\n",
       "\n",
       "    .dataframe tbody tr th {\n",
       "        vertical-align: top;\n",
       "    }\n",
       "\n",
       "    .dataframe thead th {\n",
       "        text-align: right;\n",
       "    }\n",
       "</style>\n",
       "<table border=\"1\" class=\"dataframe\">\n",
       "  <thead>\n",
       "    <tr style=\"text-align: right;\">\n",
       "      <th></th>\n",
       "      <th>Birds</th>\n",
       "      <th>Max speed in kmph</th>\n",
       "    </tr>\n",
       "  </thead>\n",
       "  <tbody>\n",
       "    <tr>\n",
       "      <th>0</th>\n",
       "      <td>Eagle</td>\n",
       "      <td>280</td>\n",
       "    </tr>\n",
       "    <tr>\n",
       "      <th>1</th>\n",
       "      <td>Parrot</td>\n",
       "      <td>180</td>\n",
       "    </tr>\n",
       "    <tr>\n",
       "      <th>2</th>\n",
       "      <td>Peacock</td>\n",
       "      <td>40</td>\n",
       "    </tr>\n",
       "    <tr>\n",
       "      <th>3</th>\n",
       "      <td>pigeon</td>\n",
       "      <td>50</td>\n",
       "    </tr>\n",
       "  </tbody>\n",
       "</table>\n",
       "</div>"
      ],
      "text/plain": [
       "     Birds  Max speed in kmph\n",
       "0    Eagle                280\n",
       "1   Parrot                180\n",
       "2  Peacock                 40\n",
       "3   pigeon                 50"
      ]
     },
     "execution_count": 103,
     "metadata": {},
     "output_type": "execute_result"
    }
   ],
   "source": [
    "#group by\n",
    "d=pd.DataFrame({'Birds':['Eagle','Parrot','Peacock','pigeon'],'Max speed in kmph':[280,180,40,50]})\n",
    "d"
   ]
  },
  {
   "cell_type": "code",
   "execution_count": 107,
   "id": "5aa7aa25",
   "metadata": {},
   "outputs": [
    {
     "data": {
      "application/javascript": [
       "\n",
       "        if (window._pyforest_update_imports_cell) { window._pyforest_update_imports_cell('import pandas as pd\\nimport numpy as np'); }\n",
       "    "
      ],
      "text/plain": [
       "<IPython.core.display.Javascript object>"
      ]
     },
     "metadata": {},
     "output_type": "display_data"
    },
    {
     "data": {
      "text/html": [
       "<div>\n",
       "<style scoped>\n",
       "    .dataframe tbody tr th:only-of-type {\n",
       "        vertical-align: middle;\n",
       "    }\n",
       "\n",
       "    .dataframe tbody tr th {\n",
       "        vertical-align: top;\n",
       "    }\n",
       "\n",
       "    .dataframe thead th {\n",
       "        text-align: right;\n",
       "    }\n",
       "</style>\n",
       "<table border=\"1\" class=\"dataframe\">\n",
       "  <thead>\n",
       "    <tr style=\"text-align: right;\">\n",
       "      <th></th>\n",
       "      <th>Ocupations</th>\n",
       "      <th>Salary per month in thousands</th>\n",
       "    </tr>\n",
       "  </thead>\n",
       "  <tbody>\n",
       "    <tr>\n",
       "      <th>0</th>\n",
       "      <td>Doctor</td>\n",
       "      <td>90</td>\n",
       "    </tr>\n",
       "    <tr>\n",
       "      <th>1</th>\n",
       "      <td>Engineer</td>\n",
       "      <td>65</td>\n",
       "    </tr>\n",
       "    <tr>\n",
       "      <th>2</th>\n",
       "      <td>Animator</td>\n",
       "      <td>80</td>\n",
       "    </tr>\n",
       "    <tr>\n",
       "      <th>3</th>\n",
       "      <td>Architect</td>\n",
       "      <td>100</td>\n",
       "    </tr>\n",
       "    <tr>\n",
       "      <th>4</th>\n",
       "      <td>Musician</td>\n",
       "      <td>200</td>\n",
       "    </tr>\n",
       "    <tr>\n",
       "      <th>5</th>\n",
       "      <td>Teacher</td>\n",
       "      <td>70</td>\n",
       "    </tr>\n",
       "  </tbody>\n",
       "</table>\n",
       "</div>"
      ],
      "text/plain": [
       "  Ocupations  Salary per month in thousands\n",
       "0     Doctor                             90\n",
       "1   Engineer                             65\n",
       "2   Animator                             80\n",
       "3  Architect                            100\n",
       "4   Musician                            200\n",
       "5    Teacher                             70"
      ]
     },
     "execution_count": 107,
     "metadata": {},
     "output_type": "execute_result"
    }
   ],
   "source": [
    "#group by-2\n",
    "f=pd.DataFrame({'Ocupations':['Doctor','Engineer','Animator','Architect','Musician','Teacher'],'Salary per month in thousands':[90,65,80,100,200,70]})\n",
    "f"
   ]
  },
  {
   "cell_type": "code",
   "execution_count": 108,
   "id": "9b269376",
   "metadata": {},
   "outputs": [
    {
     "data": {
      "text/html": [
       "<div>\n",
       "<style scoped>\n",
       "    .dataframe tbody tr th:only-of-type {\n",
       "        vertical-align: middle;\n",
       "    }\n",
       "\n",
       "    .dataframe tbody tr th {\n",
       "        vertical-align: top;\n",
       "    }\n",
       "\n",
       "    .dataframe thead th {\n",
       "        text-align: right;\n",
       "    }\n",
       "</style>\n",
       "<table border=\"1\" class=\"dataframe\">\n",
       "  <thead>\n",
       "    <tr style=\"text-align: right;\">\n",
       "      <th></th>\n",
       "      <th>Salary per month in thousands</th>\n",
       "    </tr>\n",
       "    <tr>\n",
       "      <th>Ocupations</th>\n",
       "      <th></th>\n",
       "    </tr>\n",
       "  </thead>\n",
       "  <tbody>\n",
       "    <tr>\n",
       "      <th>Animator</th>\n",
       "      <td>80.0</td>\n",
       "    </tr>\n",
       "    <tr>\n",
       "      <th>Architect</th>\n",
       "      <td>100.0</td>\n",
       "    </tr>\n",
       "    <tr>\n",
       "      <th>Doctor</th>\n",
       "      <td>90.0</td>\n",
       "    </tr>\n",
       "    <tr>\n",
       "      <th>Engineer</th>\n",
       "      <td>65.0</td>\n",
       "    </tr>\n",
       "    <tr>\n",
       "      <th>Musician</th>\n",
       "      <td>200.0</td>\n",
       "    </tr>\n",
       "    <tr>\n",
       "      <th>Teacher</th>\n",
       "      <td>70.0</td>\n",
       "    </tr>\n",
       "  </tbody>\n",
       "</table>\n",
       "</div>"
      ],
      "text/plain": [
       "            Salary per month in thousands\n",
       "Ocupations                               \n",
       "Animator                             80.0\n",
       "Architect                           100.0\n",
       "Doctor                               90.0\n",
       "Engineer                             65.0\n",
       "Musician                            200.0\n",
       "Teacher                              70.0"
      ]
     },
     "execution_count": 108,
     "metadata": {},
     "output_type": "execute_result"
    }
   ],
   "source": [
    "f.groupby(['Ocupations']).mean()"
   ]
  },
  {
   "cell_type": "code",
   "execution_count": 116,
   "id": "508fcd5a",
   "metadata": {},
   "outputs": [
    {
     "data": {
      "application/javascript": [
       "\n",
       "        if (window._pyforest_update_imports_cell) { window._pyforest_update_imports_cell('import pandas as pd\\nimport numpy as np'); }\n",
       "    "
      ],
      "text/plain": [
       "<IPython.core.display.Javascript object>"
      ]
     },
     "metadata": {},
     "output_type": "display_data"
    },
    {
     "data": {
      "text/html": [
       "<div>\n",
       "<style scoped>\n",
       "    .dataframe tbody tr th:only-of-type {\n",
       "        vertical-align: middle;\n",
       "    }\n",
       "\n",
       "    .dataframe tbody tr th {\n",
       "        vertical-align: top;\n",
       "    }\n",
       "\n",
       "    .dataframe thead th {\n",
       "        text-align: right;\n",
       "    }\n",
       "</style>\n",
       "<table border=\"1\" class=\"dataframe\">\n",
       "  <thead>\n",
       "    <tr style=\"text-align: right;\">\n",
       "      <th></th>\n",
       "      <th>longitude</th>\n",
       "      <th>latitude</th>\n",
       "      <th>housing_median_age</th>\n",
       "      <th>total_rooms</th>\n",
       "      <th>total_bedrooms</th>\n",
       "      <th>population</th>\n",
       "      <th>households</th>\n",
       "      <th>median_income</th>\n",
       "      <th>ocean_proximity</th>\n",
       "      <th>median_house_value</th>\n",
       "    </tr>\n",
       "  </thead>\n",
       "  <tbody>\n",
       "    <tr>\n",
       "      <th>0</th>\n",
       "      <td>-122.23</td>\n",
       "      <td>37.88</td>\n",
       "      <td>41</td>\n",
       "      <td>880</td>\n",
       "      <td>129.0</td>\n",
       "      <td>322</td>\n",
       "      <td>126</td>\n",
       "      <td>8.3252</td>\n",
       "      <td>NEAR BAY</td>\n",
       "      <td>452600</td>\n",
       "    </tr>\n",
       "    <tr>\n",
       "      <th>1</th>\n",
       "      <td>-122.22</td>\n",
       "      <td>37.86</td>\n",
       "      <td>21</td>\n",
       "      <td>7099</td>\n",
       "      <td>1106.0</td>\n",
       "      <td>2401</td>\n",
       "      <td>1138</td>\n",
       "      <td>8.3014</td>\n",
       "      <td>NEAR BAY</td>\n",
       "      <td>358500</td>\n",
       "    </tr>\n",
       "    <tr>\n",
       "      <th>2</th>\n",
       "      <td>-122.24</td>\n",
       "      <td>37.85</td>\n",
       "      <td>52</td>\n",
       "      <td>1467</td>\n",
       "      <td>190.0</td>\n",
       "      <td>496</td>\n",
       "      <td>177</td>\n",
       "      <td>7.2574</td>\n",
       "      <td>NEAR BAY</td>\n",
       "      <td>352100</td>\n",
       "    </tr>\n",
       "    <tr>\n",
       "      <th>3</th>\n",
       "      <td>-122.25</td>\n",
       "      <td>37.85</td>\n",
       "      <td>52</td>\n",
       "      <td>1274</td>\n",
       "      <td>235.0</td>\n",
       "      <td>558</td>\n",
       "      <td>219</td>\n",
       "      <td>5.6431</td>\n",
       "      <td>NEAR BAY</td>\n",
       "      <td>341300</td>\n",
       "    </tr>\n",
       "    <tr>\n",
       "      <th>4</th>\n",
       "      <td>-122.25</td>\n",
       "      <td>37.85</td>\n",
       "      <td>52</td>\n",
       "      <td>1627</td>\n",
       "      <td>280.0</td>\n",
       "      <td>565</td>\n",
       "      <td>259</td>\n",
       "      <td>3.8462</td>\n",
       "      <td>NEAR BAY</td>\n",
       "      <td>342200</td>\n",
       "    </tr>\n",
       "    <tr>\n",
       "      <th>...</th>\n",
       "      <td>...</td>\n",
       "      <td>...</td>\n",
       "      <td>...</td>\n",
       "      <td>...</td>\n",
       "      <td>...</td>\n",
       "      <td>...</td>\n",
       "      <td>...</td>\n",
       "      <td>...</td>\n",
       "      <td>...</td>\n",
       "      <td>...</td>\n",
       "    </tr>\n",
       "    <tr>\n",
       "      <th>20635</th>\n",
       "      <td>-121.09</td>\n",
       "      <td>39.48</td>\n",
       "      <td>25</td>\n",
       "      <td>1665</td>\n",
       "      <td>374.0</td>\n",
       "      <td>845</td>\n",
       "      <td>330</td>\n",
       "      <td>1.5603</td>\n",
       "      <td>INLAND</td>\n",
       "      <td>78100</td>\n",
       "    </tr>\n",
       "    <tr>\n",
       "      <th>20636</th>\n",
       "      <td>-121.21</td>\n",
       "      <td>39.49</td>\n",
       "      <td>18</td>\n",
       "      <td>697</td>\n",
       "      <td>150.0</td>\n",
       "      <td>356</td>\n",
       "      <td>114</td>\n",
       "      <td>2.5568</td>\n",
       "      <td>INLAND</td>\n",
       "      <td>77100</td>\n",
       "    </tr>\n",
       "    <tr>\n",
       "      <th>20637</th>\n",
       "      <td>-121.22</td>\n",
       "      <td>39.43</td>\n",
       "      <td>17</td>\n",
       "      <td>2254</td>\n",
       "      <td>485.0</td>\n",
       "      <td>1007</td>\n",
       "      <td>433</td>\n",
       "      <td>1.7000</td>\n",
       "      <td>INLAND</td>\n",
       "      <td>92300</td>\n",
       "    </tr>\n",
       "    <tr>\n",
       "      <th>20638</th>\n",
       "      <td>-121.32</td>\n",
       "      <td>39.43</td>\n",
       "      <td>18</td>\n",
       "      <td>1860</td>\n",
       "      <td>409.0</td>\n",
       "      <td>741</td>\n",
       "      <td>349</td>\n",
       "      <td>1.8672</td>\n",
       "      <td>INLAND</td>\n",
       "      <td>84700</td>\n",
       "    </tr>\n",
       "    <tr>\n",
       "      <th>20639</th>\n",
       "      <td>-121.24</td>\n",
       "      <td>39.37</td>\n",
       "      <td>16</td>\n",
       "      <td>2785</td>\n",
       "      <td>616.0</td>\n",
       "      <td>1387</td>\n",
       "      <td>530</td>\n",
       "      <td>2.3886</td>\n",
       "      <td>INLAND</td>\n",
       "      <td>89400</td>\n",
       "    </tr>\n",
       "  </tbody>\n",
       "</table>\n",
       "<p>20640 rows × 10 columns</p>\n",
       "</div>"
      ],
      "text/plain": [
       "       longitude  latitude  housing_median_age  total_rooms  total_bedrooms  \\\n",
       "0        -122.23     37.88                  41          880           129.0   \n",
       "1        -122.22     37.86                  21         7099          1106.0   \n",
       "2        -122.24     37.85                  52         1467           190.0   \n",
       "3        -122.25     37.85                  52         1274           235.0   \n",
       "4        -122.25     37.85                  52         1627           280.0   \n",
       "...          ...       ...                 ...          ...             ...   \n",
       "20635    -121.09     39.48                  25         1665           374.0   \n",
       "20636    -121.21     39.49                  18          697           150.0   \n",
       "20637    -121.22     39.43                  17         2254           485.0   \n",
       "20638    -121.32     39.43                  18         1860           409.0   \n",
       "20639    -121.24     39.37                  16         2785           616.0   \n",
       "\n",
       "       population  households  median_income ocean_proximity  \\\n",
       "0             322         126         8.3252        NEAR BAY   \n",
       "1            2401        1138         8.3014        NEAR BAY   \n",
       "2             496         177         7.2574        NEAR BAY   \n",
       "3             558         219         5.6431        NEAR BAY   \n",
       "4             565         259         3.8462        NEAR BAY   \n",
       "...           ...         ...            ...             ...   \n",
       "20635         845         330         1.5603          INLAND   \n",
       "20636         356         114         2.5568          INLAND   \n",
       "20637        1007         433         1.7000          INLAND   \n",
       "20638         741         349         1.8672          INLAND   \n",
       "20639        1387         530         2.3886          INLAND   \n",
       "\n",
       "       median_house_value  \n",
       "0                  452600  \n",
       "1                  358500  \n",
       "2                  352100  \n",
       "3                  341300  \n",
       "4                  342200  \n",
       "...                   ...  \n",
       "20635               78100  \n",
       "20636               77100  \n",
       "20637               92300  \n",
       "20638               84700  \n",
       "20639               89400  \n",
       "\n",
       "[20640 rows x 10 columns]"
      ]
     },
     "execution_count": 116,
     "metadata": {},
     "output_type": "execute_result"
    }
   ],
   "source": [
    "v=pd.read_csv('housing_dataset.csv')\n",
    "v"
   ]
  },
  {
   "cell_type": "code",
   "execution_count": 118,
   "id": "42983e08",
   "metadata": {},
   "outputs": [
    {
     "data": {
      "text/plain": [
       "Index(['longitude', 'latitude', 'housing_median_age', 'total_rooms',\n",
       "       'total_bedrooms', 'population', 'households', 'median_income',\n",
       "       'ocean_proximity', 'median_house_value'],\n",
       "      dtype='object')"
      ]
     },
     "execution_count": 118,
     "metadata": {},
     "output_type": "execute_result"
    }
   ],
   "source": [
    "v.columns"
   ]
  },
  {
   "cell_type": "code",
   "execution_count": 120,
   "id": "4208d45c",
   "metadata": {},
   "outputs": [
    {
     "data": {
      "text/plain": [
       "array([-122.23, -122.22, -122.24, ..., -121.22, -121.32, -121.24])"
      ]
     },
     "execution_count": 120,
     "metadata": {},
     "output_type": "execute_result"
    }
   ],
   "source": [
    "v['longitude'].values"
   ]
  },
  {
   "cell_type": "code",
   "execution_count": 121,
   "id": "9530459f",
   "metadata": {},
   "outputs": [
    {
     "data": {
      "text/plain": [
       "array([37.88, 37.86, 37.85, ..., 39.43, 39.43, 39.37])"
      ]
     },
     "execution_count": 121,
     "metadata": {},
     "output_type": "execute_result"
    }
   ],
   "source": [
    "v['latitude'].values"
   ]
  },
  {
   "cell_type": "code",
   "execution_count": 124,
   "id": "12e5c5c5",
   "metadata": {},
   "outputs": [
    {
     "data": {
      "text/plain": [
       "0"
      ]
     },
     "execution_count": 124,
     "metadata": {},
     "output_type": "execute_result"
    }
   ],
   "source": [
    "v['longitude'].isnull().sum()"
   ]
  },
  {
   "cell_type": "code",
   "execution_count": 125,
   "id": "b5ef980a",
   "metadata": {},
   "outputs": [
    {
     "data": {
      "text/plain": [
       "0"
      ]
     },
     "execution_count": 125,
     "metadata": {},
     "output_type": "execute_result"
    }
   ],
   "source": [
    "v['latitude'].isnull().sum()"
   ]
  },
  {
   "cell_type": "code",
   "execution_count": 132,
   "id": "04fbbb97",
   "metadata": {},
   "outputs": [
    {
     "name": "stdout",
     "output_type": "stream",
     "text": [
      "      clo_1     col_2     col_3\n",
      "0 -0.571058 -0.771713  1.303411\n",
      "1 -1.465557  0.348744 -0.407104\n",
      "2 -1.681063  1.686302 -0.658201\n",
      "\n",
      "\n",
      "clo_1 0   -0.571058\n",
      "1   -1.465557\n",
      "2   -1.681063\n",
      "Name: clo_1, dtype: float64\n",
      "col_2 0   -0.771713\n",
      "1    0.348744\n",
      "2    1.686302\n",
      "Name: col_2, dtype: float64\n",
      "col_3 0    1.303411\n",
      "1   -0.407104\n",
      "2   -0.658201\n",
      "Name: col_3, dtype: float64\n"
     ]
    }
   ],
   "source": [
    "import pandas as pd\n",
    "import numpy as np\n",
    "we=pd.DataFrame(np.random.randn(3,3),columns=['col_1','col_2','col_3'])\n",
    "print(we)\n",
    "print('\\n')\n",
    "for key , value in we.iteritems():\n",
    "    print(key,value)"
   ]
  },
  {
   "cell_type": "code",
   "execution_count": 136,
   "id": "e79c6fde",
   "metadata": {},
   "outputs": [
    {
     "name": "stdout",
     "output_type": "stream",
     "text": [
      "      col_1     col_2     col_3\n",
      "0  1.094860 -0.741411 -0.047302\n",
      "1  0.455302 -1.533639 -2.462730\n",
      "2  0.569885 -0.182706 -0.062588\n",
      "\n",
      "\n",
      "(0, col_1    1.094860\n",
      "col_2   -0.741411\n",
      "col_3   -0.047302\n",
      "Name: 0, dtype: float64)\n",
      "(1, col_1    0.455302\n",
      "col_2   -1.533639\n",
      "col_3   -2.462730\n",
      "Name: 1, dtype: float64)\n",
      "(2, col_1    0.569885\n",
      "col_2   -0.182706\n",
      "col_3   -0.062588\n",
      "Name: 2, dtype: float64)\n"
     ]
    }
   ],
   "source": [
    "import pandas as pd\n",
    "import numpy as np\n",
    "re=pd.DataFrame(np.random.randn(3,3),columns=['col_1','col_2','col_3'])\n",
    "print(re)\n",
    "print('\\n')\n",
    "for row in re.iterrows():\n",
    "    print(row)"
   ]
  },
  {
   "cell_type": "code",
   "execution_count": 137,
   "id": "59300873",
   "metadata": {},
   "outputs": [
    {
     "data": {
      "text/html": [
       "<div>\n",
       "<style scoped>\n",
       "    .dataframe tbody tr th:only-of-type {\n",
       "        vertical-align: middle;\n",
       "    }\n",
       "\n",
       "    .dataframe tbody tr th {\n",
       "        vertical-align: top;\n",
       "    }\n",
       "\n",
       "    .dataframe thead th {\n",
       "        text-align: right;\n",
       "    }\n",
       "</style>\n",
       "<table border=\"1\" class=\"dataframe\">\n",
       "  <thead>\n",
       "    <tr style=\"text-align: right;\">\n",
       "      <th></th>\n",
       "      <th>col_1</th>\n",
       "      <th>col_2</th>\n",
       "      <th>col_3</th>\n",
       "    </tr>\n",
       "  </thead>\n",
       "  <tbody>\n",
       "    <tr>\n",
       "      <th>col_1</th>\n",
       "      <td>1.000000</td>\n",
       "      <td>0.265067</td>\n",
       "      <td>0.642608</td>\n",
       "    </tr>\n",
       "    <tr>\n",
       "      <th>col_2</th>\n",
       "      <td>0.265067</td>\n",
       "      <td>1.000000</td>\n",
       "      <td>0.909122</td>\n",
       "    </tr>\n",
       "    <tr>\n",
       "      <th>col_3</th>\n",
       "      <td>0.642608</td>\n",
       "      <td>0.909122</td>\n",
       "      <td>1.000000</td>\n",
       "    </tr>\n",
       "  </tbody>\n",
       "</table>\n",
       "</div>"
      ],
      "text/plain": [
       "          col_1     col_2     col_3\n",
       "col_1  1.000000  0.265067  0.642608\n",
       "col_2  0.265067  1.000000  0.909122\n",
       "col_3  0.642608  0.909122  1.000000"
      ]
     },
     "execution_count": 137,
     "metadata": {},
     "output_type": "execute_result"
    }
   ],
   "source": [
    "#The corr() method calculates the relationship between each column in your data set.\n",
    "re.corr()"
   ]
  },
  {
   "cell_type": "code",
   "execution_count": 138,
   "id": "75c6c7fb",
   "metadata": {},
   "outputs": [
    {
     "name": "stdout",
     "output_type": "stream",
     "text": [
      "       longitude  latitude  housing_median_age  total_rooms  total_bedrooms  \\\n",
      "0        -122.23     37.88                  41          880           129.0   \n",
      "1        -122.22     37.86                  21         7099          1106.0   \n",
      "2        -122.24     37.85                  52         1467           190.0   \n",
      "3        -122.25     37.85                  52         1274           235.0   \n",
      "4        -122.25     37.85                  52         1627           280.0   \n",
      "...          ...       ...                 ...          ...             ...   \n",
      "20635    -121.09     39.48                  25         1665           374.0   \n",
      "20636    -121.21     39.49                  18          697           150.0   \n",
      "20637    -121.22     39.43                  17         2254           485.0   \n",
      "20638    -121.32     39.43                  18         1860           409.0   \n",
      "20639    -121.24     39.37                  16         2785           616.0   \n",
      "\n",
      "       population  households  median_income ocean_proximity  \\\n",
      "0             322         126         8.3252        NEAR BAY   \n",
      "1            2401        1138         8.3014        NEAR BAY   \n",
      "2             496         177         7.2574        NEAR BAY   \n",
      "3             558         219         5.6431        NEAR BAY   \n",
      "4             565         259         3.8462        NEAR BAY   \n",
      "...           ...         ...            ...             ...   \n",
      "20635         845         330         1.5603          INLAND   \n",
      "20636         356         114         2.5568          INLAND   \n",
      "20637        1007         433         1.7000          INLAND   \n",
      "20638         741         349         1.8672          INLAND   \n",
      "20639        1387         530         2.3886          INLAND   \n",
      "\n",
      "       median_house_value  \n",
      "0                  452600  \n",
      "1                  358500  \n",
      "2                  352100  \n",
      "3                  341300  \n",
      "4                  342200  \n",
      "...                   ...  \n",
      "20635               78100  \n",
      "20636               77100  \n",
      "20637               92300  \n",
      "20638               84700  \n",
      "20639               89400  \n",
      "\n",
      "[20640 rows x 10 columns]\n"
     ]
    }
   ],
   "source": [
    "#Basic Functionality\n",
    "w=pd.read_csv('housing_dataset.csv')\n",
    "print(w)"
   ]
  },
  {
   "cell_type": "code",
   "execution_count": 139,
   "id": "c037b431",
   "metadata": {},
   "outputs": [
    {
     "data": {
      "text/html": [
       "<div>\n",
       "<style scoped>\n",
       "    .dataframe tbody tr th:only-of-type {\n",
       "        vertical-align: middle;\n",
       "    }\n",
       "\n",
       "    .dataframe tbody tr th {\n",
       "        vertical-align: top;\n",
       "    }\n",
       "\n",
       "    .dataframe thead th {\n",
       "        text-align: right;\n",
       "    }\n",
       "</style>\n",
       "<table border=\"1\" class=\"dataframe\">\n",
       "  <thead>\n",
       "    <tr style=\"text-align: right;\">\n",
       "      <th></th>\n",
       "      <th>longitude</th>\n",
       "      <th>latitude</th>\n",
       "      <th>housing_median_age</th>\n",
       "      <th>total_rooms</th>\n",
       "      <th>total_bedrooms</th>\n",
       "      <th>population</th>\n",
       "      <th>households</th>\n",
       "      <th>median_income</th>\n",
       "      <th>ocean_proximity</th>\n",
       "      <th>median_house_value</th>\n",
       "    </tr>\n",
       "  </thead>\n",
       "  <tbody>\n",
       "    <tr>\n",
       "      <th>0</th>\n",
       "      <td>-122.23</td>\n",
       "      <td>37.88</td>\n",
       "      <td>41</td>\n",
       "      <td>880</td>\n",
       "      <td>129.0</td>\n",
       "      <td>322</td>\n",
       "      <td>126</td>\n",
       "      <td>8.3252</td>\n",
       "      <td>NEAR BAY</td>\n",
       "      <td>452600</td>\n",
       "    </tr>\n",
       "    <tr>\n",
       "      <th>1</th>\n",
       "      <td>-122.22</td>\n",
       "      <td>37.86</td>\n",
       "      <td>21</td>\n",
       "      <td>7099</td>\n",
       "      <td>1106.0</td>\n",
       "      <td>2401</td>\n",
       "      <td>1138</td>\n",
       "      <td>8.3014</td>\n",
       "      <td>NEAR BAY</td>\n",
       "      <td>358500</td>\n",
       "    </tr>\n",
       "    <tr>\n",
       "      <th>2</th>\n",
       "      <td>-122.24</td>\n",
       "      <td>37.85</td>\n",
       "      <td>52</td>\n",
       "      <td>1467</td>\n",
       "      <td>190.0</td>\n",
       "      <td>496</td>\n",
       "      <td>177</td>\n",
       "      <td>7.2574</td>\n",
       "      <td>NEAR BAY</td>\n",
       "      <td>352100</td>\n",
       "    </tr>\n",
       "    <tr>\n",
       "      <th>3</th>\n",
       "      <td>-122.25</td>\n",
       "      <td>37.85</td>\n",
       "      <td>52</td>\n",
       "      <td>1274</td>\n",
       "      <td>235.0</td>\n",
       "      <td>558</td>\n",
       "      <td>219</td>\n",
       "      <td>5.6431</td>\n",
       "      <td>NEAR BAY</td>\n",
       "      <td>341300</td>\n",
       "    </tr>\n",
       "    <tr>\n",
       "      <th>4</th>\n",
       "      <td>-122.25</td>\n",
       "      <td>37.85</td>\n",
       "      <td>52</td>\n",
       "      <td>1627</td>\n",
       "      <td>280.0</td>\n",
       "      <td>565</td>\n",
       "      <td>259</td>\n",
       "      <td>3.8462</td>\n",
       "      <td>NEAR BAY</td>\n",
       "      <td>342200</td>\n",
       "    </tr>\n",
       "  </tbody>\n",
       "</table>\n",
       "</div>"
      ],
      "text/plain": [
       "   longitude  latitude  housing_median_age  total_rooms  total_bedrooms  \\\n",
       "0    -122.23     37.88                  41          880           129.0   \n",
       "1    -122.22     37.86                  21         7099          1106.0   \n",
       "2    -122.24     37.85                  52         1467           190.0   \n",
       "3    -122.25     37.85                  52         1274           235.0   \n",
       "4    -122.25     37.85                  52         1627           280.0   \n",
       "\n",
       "   population  households  median_income ocean_proximity  median_house_value  \n",
       "0         322         126         8.3252        NEAR BAY              452600  \n",
       "1        2401        1138         8.3014        NEAR BAY              358500  \n",
       "2         496         177         7.2574        NEAR BAY              352100  \n",
       "3         558         219         5.6431        NEAR BAY              341300  \n",
       "4         565         259         3.8462        NEAR BAY              342200  "
      ]
     },
     "execution_count": 139,
     "metadata": {},
     "output_type": "execute_result"
    }
   ],
   "source": [
    "w.head()"
   ]
  },
  {
   "cell_type": "code",
   "execution_count": 140,
   "id": "e5e38a48",
   "metadata": {},
   "outputs": [
    {
     "data": {
      "text/html": [
       "<div>\n",
       "<style scoped>\n",
       "    .dataframe tbody tr th:only-of-type {\n",
       "        vertical-align: middle;\n",
       "    }\n",
       "\n",
       "    .dataframe tbody tr th {\n",
       "        vertical-align: top;\n",
       "    }\n",
       "\n",
       "    .dataframe thead th {\n",
       "        text-align: right;\n",
       "    }\n",
       "</style>\n",
       "<table border=\"1\" class=\"dataframe\">\n",
       "  <thead>\n",
       "    <tr style=\"text-align: right;\">\n",
       "      <th></th>\n",
       "      <th>longitude</th>\n",
       "      <th>latitude</th>\n",
       "      <th>housing_median_age</th>\n",
       "      <th>total_rooms</th>\n",
       "      <th>total_bedrooms</th>\n",
       "      <th>population</th>\n",
       "      <th>households</th>\n",
       "      <th>median_income</th>\n",
       "      <th>ocean_proximity</th>\n",
       "      <th>median_house_value</th>\n",
       "    </tr>\n",
       "  </thead>\n",
       "  <tbody>\n",
       "    <tr>\n",
       "      <th>20635</th>\n",
       "      <td>-121.09</td>\n",
       "      <td>39.48</td>\n",
       "      <td>25</td>\n",
       "      <td>1665</td>\n",
       "      <td>374.0</td>\n",
       "      <td>845</td>\n",
       "      <td>330</td>\n",
       "      <td>1.5603</td>\n",
       "      <td>INLAND</td>\n",
       "      <td>78100</td>\n",
       "    </tr>\n",
       "    <tr>\n",
       "      <th>20636</th>\n",
       "      <td>-121.21</td>\n",
       "      <td>39.49</td>\n",
       "      <td>18</td>\n",
       "      <td>697</td>\n",
       "      <td>150.0</td>\n",
       "      <td>356</td>\n",
       "      <td>114</td>\n",
       "      <td>2.5568</td>\n",
       "      <td>INLAND</td>\n",
       "      <td>77100</td>\n",
       "    </tr>\n",
       "    <tr>\n",
       "      <th>20637</th>\n",
       "      <td>-121.22</td>\n",
       "      <td>39.43</td>\n",
       "      <td>17</td>\n",
       "      <td>2254</td>\n",
       "      <td>485.0</td>\n",
       "      <td>1007</td>\n",
       "      <td>433</td>\n",
       "      <td>1.7000</td>\n",
       "      <td>INLAND</td>\n",
       "      <td>92300</td>\n",
       "    </tr>\n",
       "    <tr>\n",
       "      <th>20638</th>\n",
       "      <td>-121.32</td>\n",
       "      <td>39.43</td>\n",
       "      <td>18</td>\n",
       "      <td>1860</td>\n",
       "      <td>409.0</td>\n",
       "      <td>741</td>\n",
       "      <td>349</td>\n",
       "      <td>1.8672</td>\n",
       "      <td>INLAND</td>\n",
       "      <td>84700</td>\n",
       "    </tr>\n",
       "    <tr>\n",
       "      <th>20639</th>\n",
       "      <td>-121.24</td>\n",
       "      <td>39.37</td>\n",
       "      <td>16</td>\n",
       "      <td>2785</td>\n",
       "      <td>616.0</td>\n",
       "      <td>1387</td>\n",
       "      <td>530</td>\n",
       "      <td>2.3886</td>\n",
       "      <td>INLAND</td>\n",
       "      <td>89400</td>\n",
       "    </tr>\n",
       "  </tbody>\n",
       "</table>\n",
       "</div>"
      ],
      "text/plain": [
       "       longitude  latitude  housing_median_age  total_rooms  total_bedrooms  \\\n",
       "20635    -121.09     39.48                  25         1665           374.0   \n",
       "20636    -121.21     39.49                  18          697           150.0   \n",
       "20637    -121.22     39.43                  17         2254           485.0   \n",
       "20638    -121.32     39.43                  18         1860           409.0   \n",
       "20639    -121.24     39.37                  16         2785           616.0   \n",
       "\n",
       "       population  households  median_income ocean_proximity  \\\n",
       "20635         845         330         1.5603          INLAND   \n",
       "20636         356         114         2.5568          INLAND   \n",
       "20637        1007         433         1.7000          INLAND   \n",
       "20638         741         349         1.8672          INLAND   \n",
       "20639        1387         530         2.3886          INLAND   \n",
       "\n",
       "       median_house_value  \n",
       "20635               78100  \n",
       "20636               77100  \n",
       "20637               92300  \n",
       "20638               84700  \n",
       "20639               89400  "
      ]
     },
     "execution_count": 140,
     "metadata": {},
     "output_type": "execute_result"
    }
   ],
   "source": [
    "w.tail()"
   ]
  },
  {
   "cell_type": "code",
   "execution_count": 141,
   "id": "33f224dc",
   "metadata": {},
   "outputs": [
    {
     "name": "stdout",
     "output_type": "stream",
     "text": [
      "<class 'pandas.core.frame.DataFrame'>\n",
      "RangeIndex: 20640 entries, 0 to 20639\n",
      "Data columns (total 10 columns):\n",
      " #   Column              Non-Null Count  Dtype  \n",
      "---  ------              --------------  -----  \n",
      " 0   longitude           20640 non-null  float64\n",
      " 1   latitude            20640 non-null  float64\n",
      " 2   housing_median_age  20640 non-null  int64  \n",
      " 3   total_rooms         20640 non-null  int64  \n",
      " 4   total_bedrooms      20433 non-null  float64\n",
      " 5   population          20640 non-null  int64  \n",
      " 6   households          20640 non-null  int64  \n",
      " 7   median_income       20640 non-null  float64\n",
      " 8   ocean_proximity     20640 non-null  object \n",
      " 9   median_house_value  20640 non-null  int64  \n",
      "dtypes: float64(4), int64(5), object(1)\n",
      "memory usage: 1.6+ MB\n"
     ]
    }
   ],
   "source": [
    "#DataFrame.info():- it is used to ocncide the summary if the dataframe\n",
    "w.info()"
   ]
  },
  {
   "cell_type": "code",
   "execution_count": 149,
   "id": "e449730e",
   "metadata": {},
   "outputs": [
    {
     "data": {
      "text/plain": [
       "(20640, 10)"
      ]
     },
     "execution_count": 149,
     "metadata": {},
     "output_type": "execute_result"
    }
   ],
   "source": [
    "#Shape and Size: it shows nu mber of dimensions and the size of the dimension, used in numpy, pandas, dataframes\n",
    "#it returns no of rows and columns \n",
    "w.shape\n",
    "\n",
    "\n"
   ]
  },
  {
   "cell_type": "code",
   "execution_count": 150,
   "id": "141e2509",
   "metadata": {},
   "outputs": [
    {
     "data": {
      "text/plain": [
       "206400"
      ]
     },
     "execution_count": 150,
     "metadata": {},
     "output_type": "execute_result"
    }
   ],
   "source": [
    "w.size"
   ]
  },
  {
   "cell_type": "code",
   "execution_count": 151,
   "id": "b7bf8ed9",
   "metadata": {},
   "outputs": [
    {
     "data": {
      "text/html": [
       "<div>\n",
       "<style scoped>\n",
       "    .dataframe tbody tr th:only-of-type {\n",
       "        vertical-align: middle;\n",
       "    }\n",
       "\n",
       "    .dataframe tbody tr th {\n",
       "        vertical-align: top;\n",
       "    }\n",
       "\n",
       "    .dataframe thead th {\n",
       "        text-align: right;\n",
       "    }\n",
       "</style>\n",
       "<table border=\"1\" class=\"dataframe\">\n",
       "  <thead>\n",
       "    <tr style=\"text-align: right;\">\n",
       "      <th></th>\n",
       "      <th>longitude</th>\n",
       "      <th>latitude</th>\n",
       "      <th>housing_median_age</th>\n",
       "      <th>total_rooms</th>\n",
       "      <th>total_bedrooms</th>\n",
       "      <th>population</th>\n",
       "      <th>households</th>\n",
       "      <th>median_income</th>\n",
       "      <th>median_house_value</th>\n",
       "    </tr>\n",
       "  </thead>\n",
       "  <tbody>\n",
       "    <tr>\n",
       "      <th>count</th>\n",
       "      <td>20640.000000</td>\n",
       "      <td>20640.000000</td>\n",
       "      <td>20640.000000</td>\n",
       "      <td>20640.000000</td>\n",
       "      <td>20433.000000</td>\n",
       "      <td>20640.000000</td>\n",
       "      <td>20640.000000</td>\n",
       "      <td>20640.000000</td>\n",
       "      <td>20640.000000</td>\n",
       "    </tr>\n",
       "    <tr>\n",
       "      <th>mean</th>\n",
       "      <td>-119.569704</td>\n",
       "      <td>35.631861</td>\n",
       "      <td>28.639486</td>\n",
       "      <td>2635.763081</td>\n",
       "      <td>537.870553</td>\n",
       "      <td>1425.476744</td>\n",
       "      <td>499.539680</td>\n",
       "      <td>3.870671</td>\n",
       "      <td>206855.816909</td>\n",
       "    </tr>\n",
       "    <tr>\n",
       "      <th>std</th>\n",
       "      <td>2.003532</td>\n",
       "      <td>2.135952</td>\n",
       "      <td>12.585558</td>\n",
       "      <td>2181.615252</td>\n",
       "      <td>421.385070</td>\n",
       "      <td>1132.462122</td>\n",
       "      <td>382.329753</td>\n",
       "      <td>1.899822</td>\n",
       "      <td>115395.615874</td>\n",
       "    </tr>\n",
       "    <tr>\n",
       "      <th>min</th>\n",
       "      <td>-124.350000</td>\n",
       "      <td>32.540000</td>\n",
       "      <td>1.000000</td>\n",
       "      <td>2.000000</td>\n",
       "      <td>1.000000</td>\n",
       "      <td>3.000000</td>\n",
       "      <td>1.000000</td>\n",
       "      <td>0.499900</td>\n",
       "      <td>14999.000000</td>\n",
       "    </tr>\n",
       "    <tr>\n",
       "      <th>25%</th>\n",
       "      <td>-121.800000</td>\n",
       "      <td>33.930000</td>\n",
       "      <td>18.000000</td>\n",
       "      <td>1447.750000</td>\n",
       "      <td>296.000000</td>\n",
       "      <td>787.000000</td>\n",
       "      <td>280.000000</td>\n",
       "      <td>2.563400</td>\n",
       "      <td>119600.000000</td>\n",
       "    </tr>\n",
       "    <tr>\n",
       "      <th>50%</th>\n",
       "      <td>-118.490000</td>\n",
       "      <td>34.260000</td>\n",
       "      <td>29.000000</td>\n",
       "      <td>2127.000000</td>\n",
       "      <td>435.000000</td>\n",
       "      <td>1166.000000</td>\n",
       "      <td>409.000000</td>\n",
       "      <td>3.534800</td>\n",
       "      <td>179700.000000</td>\n",
       "    </tr>\n",
       "    <tr>\n",
       "      <th>75%</th>\n",
       "      <td>-118.010000</td>\n",
       "      <td>37.710000</td>\n",
       "      <td>37.000000</td>\n",
       "      <td>3148.000000</td>\n",
       "      <td>647.000000</td>\n",
       "      <td>1725.000000</td>\n",
       "      <td>605.000000</td>\n",
       "      <td>4.743250</td>\n",
       "      <td>264725.000000</td>\n",
       "    </tr>\n",
       "    <tr>\n",
       "      <th>max</th>\n",
       "      <td>-114.310000</td>\n",
       "      <td>41.950000</td>\n",
       "      <td>52.000000</td>\n",
       "      <td>39320.000000</td>\n",
       "      <td>6445.000000</td>\n",
       "      <td>35682.000000</td>\n",
       "      <td>6082.000000</td>\n",
       "      <td>15.000100</td>\n",
       "      <td>500001.000000</td>\n",
       "    </tr>\n",
       "  </tbody>\n",
       "</table>\n",
       "</div>"
      ],
      "text/plain": [
       "          longitude      latitude  housing_median_age   total_rooms  \\\n",
       "count  20640.000000  20640.000000        20640.000000  20640.000000   \n",
       "mean    -119.569704     35.631861           28.639486   2635.763081   \n",
       "std        2.003532      2.135952           12.585558   2181.615252   \n",
       "min     -124.350000     32.540000            1.000000      2.000000   \n",
       "25%     -121.800000     33.930000           18.000000   1447.750000   \n",
       "50%     -118.490000     34.260000           29.000000   2127.000000   \n",
       "75%     -118.010000     37.710000           37.000000   3148.000000   \n",
       "max     -114.310000     41.950000           52.000000  39320.000000   \n",
       "\n",
       "       total_bedrooms    population    households  median_income  \\\n",
       "count    20433.000000  20640.000000  20640.000000   20640.000000   \n",
       "mean       537.870553   1425.476744    499.539680       3.870671   \n",
       "std        421.385070   1132.462122    382.329753       1.899822   \n",
       "min          1.000000      3.000000      1.000000       0.499900   \n",
       "25%        296.000000    787.000000    280.000000       2.563400   \n",
       "50%        435.000000   1166.000000    409.000000       3.534800   \n",
       "75%        647.000000   1725.000000    605.000000       4.743250   \n",
       "max       6445.000000  35682.000000   6082.000000      15.000100   \n",
       "\n",
       "       median_house_value  \n",
       "count        20640.000000  \n",
       "mean        206855.816909  \n",
       "std         115395.615874  \n",
       "min          14999.000000  \n",
       "25%         119600.000000  \n",
       "50%         179700.000000  \n",
       "75%         264725.000000  \n",
       "max         500001.000000  "
      ]
     },
     "execution_count": 151,
     "metadata": {},
     "output_type": "execute_result"
    }
   ],
   "source": [
    "#describe():-This method will do statistical memory\n",
    "w.describe()"
   ]
  },
  {
   "cell_type": "code",
   "execution_count": 157,
   "id": "b7203fea",
   "metadata": {},
   "outputs": [
    {
     "data": {
      "text/html": [
       "<div>\n",
       "<style scoped>\n",
       "    .dataframe tbody tr th:only-of-type {\n",
       "        vertical-align: middle;\n",
       "    }\n",
       "\n",
       "    .dataframe tbody tr th {\n",
       "        vertical-align: top;\n",
       "    }\n",
       "\n",
       "    .dataframe thead th {\n",
       "        text-align: right;\n",
       "    }\n",
       "</style>\n",
       "<table border=\"1\" class=\"dataframe\">\n",
       "  <thead>\n",
       "    <tr style=\"text-align: right;\">\n",
       "      <th></th>\n",
       "      <th>longitude</th>\n",
       "      <th>latitude</th>\n",
       "      <th>housing_median_age</th>\n",
       "      <th>total_rooms</th>\n",
       "      <th>total_bedrooms</th>\n",
       "      <th>population</th>\n",
       "      <th>households</th>\n",
       "      <th>median_income</th>\n",
       "      <th>ocean_proximity</th>\n",
       "      <th>median_house_value</th>\n",
       "    </tr>\n",
       "  </thead>\n",
       "  <tbody>\n",
       "    <tr>\n",
       "      <th>1163</th>\n",
       "      <td>-121.55</td>\n",
       "      <td>39.51</td>\n",
       "      <td>39</td>\n",
       "      <td>1551</td>\n",
       "      <td>353.0</td>\n",
       "      <td>684</td>\n",
       "      <td>310</td>\n",
       "      <td>2.0357</td>\n",
       "      <td>INLAND</td>\n",
       "      <td>57600</td>\n",
       "    </tr>\n",
       "    <tr>\n",
       "      <th>13028</th>\n",
       "      <td>-121.21</td>\n",
       "      <td>38.67</td>\n",
       "      <td>19</td>\n",
       "      <td>2987</td>\n",
       "      <td>626.0</td>\n",
       "      <td>1610</td>\n",
       "      <td>605</td>\n",
       "      <td>3.0533</td>\n",
       "      <td>INLAND</td>\n",
       "      <td>112100</td>\n",
       "    </tr>\n",
       "    <tr>\n",
       "      <th>15727</th>\n",
       "      <td>-122.45</td>\n",
       "      <td>37.78</td>\n",
       "      <td>48</td>\n",
       "      <td>1013</td>\n",
       "      <td>194.0</td>\n",
       "      <td>464</td>\n",
       "      <td>205</td>\n",
       "      <td>3.2011</td>\n",
       "      <td>NEAR BAY</td>\n",
       "      <td>428300</td>\n",
       "    </tr>\n",
       "    <tr>\n",
       "      <th>7284</th>\n",
       "      <td>-118.24</td>\n",
       "      <td>33.98</td>\n",
       "      <td>37</td>\n",
       "      <td>1196</td>\n",
       "      <td>364.0</td>\n",
       "      <td>1622</td>\n",
       "      <td>327</td>\n",
       "      <td>2.1250</td>\n",
       "      <td>&lt;1H OCEAN</td>\n",
       "      <td>108900</td>\n",
       "    </tr>\n",
       "    <tr>\n",
       "      <th>7342</th>\n",
       "      <td>-118.14</td>\n",
       "      <td>33.97</td>\n",
       "      <td>31</td>\n",
       "      <td>1161</td>\n",
       "      <td>267.0</td>\n",
       "      <td>1175</td>\n",
       "      <td>282</td>\n",
       "      <td>3.0114</td>\n",
       "      <td>&lt;1H OCEAN</td>\n",
       "      <td>177000</td>\n",
       "    </tr>\n",
       "    <tr>\n",
       "      <th>2952</th>\n",
       "      <td>-119.01</td>\n",
       "      <td>35.34</td>\n",
       "      <td>44</td>\n",
       "      <td>1730</td>\n",
       "      <td>343.0</td>\n",
       "      <td>782</td>\n",
       "      <td>278</td>\n",
       "      <td>3.0208</td>\n",
       "      <td>INLAND</td>\n",
       "      <td>63700</td>\n",
       "    </tr>\n",
       "  </tbody>\n",
       "</table>\n",
       "</div>"
      ],
      "text/plain": [
       "       longitude  latitude  housing_median_age  total_rooms  total_bedrooms  \\\n",
       "1163     -121.55     39.51                  39         1551           353.0   \n",
       "13028    -121.21     38.67                  19         2987           626.0   \n",
       "15727    -122.45     37.78                  48         1013           194.0   \n",
       "7284     -118.24     33.98                  37         1196           364.0   \n",
       "7342     -118.14     33.97                  31         1161           267.0   \n",
       "2952     -119.01     35.34                  44         1730           343.0   \n",
       "\n",
       "       population  households  median_income ocean_proximity  \\\n",
       "1163          684         310         2.0357          INLAND   \n",
       "13028        1610         605         3.0533          INLAND   \n",
       "15727         464         205         3.2011        NEAR BAY   \n",
       "7284         1622         327         2.1250       <1H OCEAN   \n",
       "7342         1175         282         3.0114       <1H OCEAN   \n",
       "2952          782         278         3.0208          INLAND   \n",
       "\n",
       "       median_house_value  \n",
       "1163                57600  \n",
       "13028              112100  \n",
       "15727              428300  \n",
       "7284               108900  \n",
       "7342               177000  \n",
       "2952                63700  "
      ]
     },
     "execution_count": 157,
     "metadata": {},
     "output_type": "execute_result"
    }
   ],
   "source": [
    "#Sample:- it allows u to select the values randomly using Series or Dataframe.It is useful in random distribution.\n",
    "w.sample(n=6)"
   ]
  },
  {
   "cell_type": "code",
   "execution_count": 158,
   "id": "3333dbea",
   "metadata": {},
   "outputs": [
    {
     "data": {
      "text/html": [
       "<div>\n",
       "<style scoped>\n",
       "    .dataframe tbody tr th:only-of-type {\n",
       "        vertical-align: middle;\n",
       "    }\n",
       "\n",
       "    .dataframe tbody tr th {\n",
       "        vertical-align: top;\n",
       "    }\n",
       "\n",
       "    .dataframe thead th {\n",
       "        text-align: right;\n",
       "    }\n",
       "</style>\n",
       "<table border=\"1\" class=\"dataframe\">\n",
       "  <thead>\n",
       "    <tr style=\"text-align: right;\">\n",
       "      <th></th>\n",
       "      <th>longitude</th>\n",
       "      <th>latitude</th>\n",
       "      <th>housing_median_age</th>\n",
       "      <th>total_rooms</th>\n",
       "      <th>total_bedrooms</th>\n",
       "      <th>population</th>\n",
       "      <th>households</th>\n",
       "      <th>median_income</th>\n",
       "      <th>ocean_proximity</th>\n",
       "      <th>median_house_value</th>\n",
       "    </tr>\n",
       "  </thead>\n",
       "  <tbody>\n",
       "    <tr>\n",
       "      <th>0</th>\n",
       "      <td>False</td>\n",
       "      <td>False</td>\n",
       "      <td>False</td>\n",
       "      <td>False</td>\n",
       "      <td>False</td>\n",
       "      <td>False</td>\n",
       "      <td>False</td>\n",
       "      <td>False</td>\n",
       "      <td>False</td>\n",
       "      <td>False</td>\n",
       "    </tr>\n",
       "    <tr>\n",
       "      <th>1</th>\n",
       "      <td>False</td>\n",
       "      <td>False</td>\n",
       "      <td>False</td>\n",
       "      <td>False</td>\n",
       "      <td>False</td>\n",
       "      <td>False</td>\n",
       "      <td>False</td>\n",
       "      <td>False</td>\n",
       "      <td>False</td>\n",
       "      <td>False</td>\n",
       "    </tr>\n",
       "    <tr>\n",
       "      <th>2</th>\n",
       "      <td>False</td>\n",
       "      <td>False</td>\n",
       "      <td>False</td>\n",
       "      <td>False</td>\n",
       "      <td>False</td>\n",
       "      <td>False</td>\n",
       "      <td>False</td>\n",
       "      <td>False</td>\n",
       "      <td>False</td>\n",
       "      <td>False</td>\n",
       "    </tr>\n",
       "    <tr>\n",
       "      <th>3</th>\n",
       "      <td>False</td>\n",
       "      <td>False</td>\n",
       "      <td>False</td>\n",
       "      <td>False</td>\n",
       "      <td>False</td>\n",
       "      <td>False</td>\n",
       "      <td>False</td>\n",
       "      <td>False</td>\n",
       "      <td>False</td>\n",
       "      <td>False</td>\n",
       "    </tr>\n",
       "    <tr>\n",
       "      <th>4</th>\n",
       "      <td>False</td>\n",
       "      <td>False</td>\n",
       "      <td>False</td>\n",
       "      <td>False</td>\n",
       "      <td>False</td>\n",
       "      <td>False</td>\n",
       "      <td>False</td>\n",
       "      <td>False</td>\n",
       "      <td>False</td>\n",
       "      <td>False</td>\n",
       "    </tr>\n",
       "    <tr>\n",
       "      <th>...</th>\n",
       "      <td>...</td>\n",
       "      <td>...</td>\n",
       "      <td>...</td>\n",
       "      <td>...</td>\n",
       "      <td>...</td>\n",
       "      <td>...</td>\n",
       "      <td>...</td>\n",
       "      <td>...</td>\n",
       "      <td>...</td>\n",
       "      <td>...</td>\n",
       "    </tr>\n",
       "    <tr>\n",
       "      <th>20635</th>\n",
       "      <td>False</td>\n",
       "      <td>False</td>\n",
       "      <td>False</td>\n",
       "      <td>False</td>\n",
       "      <td>False</td>\n",
       "      <td>False</td>\n",
       "      <td>False</td>\n",
       "      <td>False</td>\n",
       "      <td>False</td>\n",
       "      <td>False</td>\n",
       "    </tr>\n",
       "    <tr>\n",
       "      <th>20636</th>\n",
       "      <td>False</td>\n",
       "      <td>False</td>\n",
       "      <td>False</td>\n",
       "      <td>False</td>\n",
       "      <td>False</td>\n",
       "      <td>False</td>\n",
       "      <td>False</td>\n",
       "      <td>False</td>\n",
       "      <td>False</td>\n",
       "      <td>False</td>\n",
       "    </tr>\n",
       "    <tr>\n",
       "      <th>20637</th>\n",
       "      <td>False</td>\n",
       "      <td>False</td>\n",
       "      <td>False</td>\n",
       "      <td>False</td>\n",
       "      <td>False</td>\n",
       "      <td>False</td>\n",
       "      <td>False</td>\n",
       "      <td>False</td>\n",
       "      <td>False</td>\n",
       "      <td>False</td>\n",
       "    </tr>\n",
       "    <tr>\n",
       "      <th>20638</th>\n",
       "      <td>False</td>\n",
       "      <td>False</td>\n",
       "      <td>False</td>\n",
       "      <td>False</td>\n",
       "      <td>False</td>\n",
       "      <td>False</td>\n",
       "      <td>False</td>\n",
       "      <td>False</td>\n",
       "      <td>False</td>\n",
       "      <td>False</td>\n",
       "    </tr>\n",
       "    <tr>\n",
       "      <th>20639</th>\n",
       "      <td>False</td>\n",
       "      <td>False</td>\n",
       "      <td>False</td>\n",
       "      <td>False</td>\n",
       "      <td>False</td>\n",
       "      <td>False</td>\n",
       "      <td>False</td>\n",
       "      <td>False</td>\n",
       "      <td>False</td>\n",
       "      <td>False</td>\n",
       "    </tr>\n",
       "  </tbody>\n",
       "</table>\n",
       "<p>20640 rows × 10 columns</p>\n",
       "</div>"
      ],
      "text/plain": [
       "       longitude  latitude  housing_median_age  total_rooms  total_bedrooms  \\\n",
       "0          False     False               False        False           False   \n",
       "1          False     False               False        False           False   \n",
       "2          False     False               False        False           False   \n",
       "3          False     False               False        False           False   \n",
       "4          False     False               False        False           False   \n",
       "...          ...       ...                 ...          ...             ...   \n",
       "20635      False     False               False        False           False   \n",
       "20636      False     False               False        False           False   \n",
       "20637      False     False               False        False           False   \n",
       "20638      False     False               False        False           False   \n",
       "20639      False     False               False        False           False   \n",
       "\n",
       "       population  households  median_income  ocean_proximity  \\\n",
       "0           False       False          False            False   \n",
       "1           False       False          False            False   \n",
       "2           False       False          False            False   \n",
       "3           False       False          False            False   \n",
       "4           False       False          False            False   \n",
       "...           ...         ...            ...              ...   \n",
       "20635       False       False          False            False   \n",
       "20636       False       False          False            False   \n",
       "20637       False       False          False            False   \n",
       "20638       False       False          False            False   \n",
       "20639       False       False          False            False   \n",
       "\n",
       "       median_house_value  \n",
       "0                   False  \n",
       "1                   False  \n",
       "2                   False  \n",
       "3                   False  \n",
       "4                   False  \n",
       "...                   ...  \n",
       "20635               False  \n",
       "20636               False  \n",
       "20637               False  \n",
       "20638               False  \n",
       "20639               False  \n",
       "\n",
       "[20640 rows x 10 columns]"
      ]
     },
     "execution_count": 158,
     "metadata": {},
     "output_type": "execute_result"
    }
   ],
   "source": [
    "#Identify the Missing nullvalues Isnull\n",
    "#handling the mising values is a critical step to build arobost data analysis process.The missing values should be top priority\n",
    "w.isnull()"
   ]
  },
  {
   "cell_type": "code",
   "execution_count": 159,
   "id": "5140091a",
   "metadata": {},
   "outputs": [
    {
     "data": {
      "text/plain": [
       "longitude             False\n",
       "latitude              False\n",
       "housing_median_age    False\n",
       "total_rooms           False\n",
       "total_bedrooms         True\n",
       "population            False\n",
       "households            False\n",
       "median_income         False\n",
       "ocean_proximity       False\n",
       "median_house_value    False\n",
       "dtype: bool"
      ]
     },
     "execution_count": 159,
     "metadata": {},
     "output_type": "execute_result"
    }
   ],
   "source": [
    "#isna:\n",
    "#function returns a dataframe filled with boolean values with true indication missing values.\n",
    "w.isna().any()\n"
   ]
  },
  {
   "cell_type": "code",
   "execution_count": 160,
   "id": "3c683b17",
   "metadata": {},
   "outputs": [
    {
     "data": {
      "text/plain": [
       "longitude               0\n",
       "latitude                0\n",
       "housing_median_age      0\n",
       "total_rooms             0\n",
       "total_bedrooms        207\n",
       "population              0\n",
       "households              0\n",
       "median_income           0\n",
       "ocean_proximity         0\n",
       "median_house_value      0\n",
       "dtype: int64"
      ]
     },
     "execution_count": 160,
     "metadata": {},
     "output_type": "execute_result"
    }
   ],
   "source": [
    "#Identifying Missing Values Sum\n",
    "#computing total number of missing values in the dataframe.we can calculate missing values in columns.\n",
    "w.isnull().sum()"
   ]
  },
  {
   "cell_type": "code",
   "execution_count": 162,
   "id": "b08284e0",
   "metadata": {},
   "outputs": [
    {
     "data": {
      "text/plain": [
       "longitude               844\n",
       "latitude                862\n",
       "housing_median_age       52\n",
       "total_rooms            5926\n",
       "total_bedrooms         1923\n",
       "population             3888\n",
       "households             1815\n",
       "median_income         12928\n",
       "ocean_proximity           5\n",
       "median_house_value     3842\n",
       "dtype: int64"
      ]
     },
     "execution_count": 162,
     "metadata": {},
     "output_type": "execute_result"
    }
   ],
   "source": [
    "#Nunique():\n",
    "#it counts the total number of unique entries present in row or coulmns.\n",
    "# useful in categorizing features especially when we dont know the no fo categories.\n",
    "w.nunique()"
   ]
  },
  {
   "cell_type": "code",
   "execution_count": 164,
   "id": "179a5a80",
   "metadata": {},
   "outputs": [
    {
     "data": {
      "text/plain": [
       "RangeIndex(start=0, stop=20640, step=1)"
      ]
     },
     "execution_count": 164,
     "metadata": {},
     "output_type": "execute_result"
    }
   ],
   "source": [
    "#Index\n",
    "#It is built in function in python, where the searches for a given element from the start of the list and returns lowest index when element appears.\n",
    "w.index"
   ]
  },
  {
   "cell_type": "code",
   "execution_count": 166,
   "id": "f2089818",
   "metadata": {},
   "outputs": [
    {
     "data": {
      "text/plain": [
       "Index                    128\n",
       "longitude             165120\n",
       "latitude              165120\n",
       "housing_median_age    165120\n",
       "total_rooms           165120\n",
       "total_bedrooms        165120\n",
       "population            165120\n",
       "households            165120\n",
       "median_income         165120\n",
       "ocean_proximity       165120\n",
       "median_house_value    165120\n",
       "dtype: int64"
      ]
     },
     "execution_count": 166,
     "metadata": {},
     "output_type": "execute_result"
    }
   ],
   "source": [
    "#Memory usage()\n",
    "#it returns how much memory on each column uses in byte.it will helpful when we are working in large dataframes\n",
    "w.memory_usage()"
   ]
  },
  {
   "cell_type": "code",
   "execution_count": 167,
   "id": "33e251f7",
   "metadata": {},
   "outputs": [
    {
     "data": {
      "text/html": [
       "<div>\n",
       "<style scoped>\n",
       "    .dataframe tbody tr th:only-of-type {\n",
       "        vertical-align: middle;\n",
       "    }\n",
       "\n",
       "    .dataframe tbody tr th {\n",
       "        vertical-align: top;\n",
       "    }\n",
       "\n",
       "    .dataframe thead th {\n",
       "        text-align: right;\n",
       "    }\n",
       "</style>\n",
       "<table border=\"1\" class=\"dataframe\">\n",
       "  <thead>\n",
       "    <tr style=\"text-align: right;\">\n",
       "      <th></th>\n",
       "      <th>longitude</th>\n",
       "      <th>latitude</th>\n",
       "      <th>housing_median_age</th>\n",
       "      <th>total_rooms</th>\n",
       "      <th>total_bedrooms</th>\n",
       "      <th>population</th>\n",
       "      <th>households</th>\n",
       "      <th>median_income</th>\n",
       "      <th>ocean_proximity</th>\n",
       "      <th>median_house_value</th>\n",
       "    </tr>\n",
       "  </thead>\n",
       "  <tbody>\n",
       "    <tr>\n",
       "      <th>14762</th>\n",
       "      <td>-117.04</td>\n",
       "      <td>32.54</td>\n",
       "      <td>7</td>\n",
       "      <td>938</td>\n",
       "      <td>297.0</td>\n",
       "      <td>1187</td>\n",
       "      <td>282</td>\n",
       "      <td>1.2667</td>\n",
       "      <td>NEAR OCEAN</td>\n",
       "      <td>67500</td>\n",
       "    </tr>\n",
       "    <tr>\n",
       "      <th>14757</th>\n",
       "      <td>-117.04</td>\n",
       "      <td>32.55</td>\n",
       "      <td>15</td>\n",
       "      <td>2206</td>\n",
       "      <td>648.0</td>\n",
       "      <td>2511</td>\n",
       "      <td>648</td>\n",
       "      <td>1.6348</td>\n",
       "      <td>NEAR OCEAN</td>\n",
       "      <td>93200</td>\n",
       "    </tr>\n",
       "    <tr>\n",
       "      <th>14761</th>\n",
       "      <td>-117.06</td>\n",
       "      <td>32.55</td>\n",
       "      <td>5</td>\n",
       "      <td>3223</td>\n",
       "      <td>940.0</td>\n",
       "      <td>3284</td>\n",
       "      <td>854</td>\n",
       "      <td>1.4384</td>\n",
       "      <td>NEAR OCEAN</td>\n",
       "      <td>108800</td>\n",
       "    </tr>\n",
       "    <tr>\n",
       "      <th>14784</th>\n",
       "      <td>-117.09</td>\n",
       "      <td>32.55</td>\n",
       "      <td>8</td>\n",
       "      <td>6533</td>\n",
       "      <td>1217.0</td>\n",
       "      <td>4797</td>\n",
       "      <td>1177</td>\n",
       "      <td>3.9583</td>\n",
       "      <td>NEAR OCEAN</td>\n",
       "      <td>144400</td>\n",
       "    </tr>\n",
       "    <tr>\n",
       "      <th>14753</th>\n",
       "      <td>-117.05</td>\n",
       "      <td>32.56</td>\n",
       "      <td>18</td>\n",
       "      <td>1215</td>\n",
       "      <td>320.0</td>\n",
       "      <td>1195</td>\n",
       "      <td>349</td>\n",
       "      <td>1.9875</td>\n",
       "      <td>NEAR OCEAN</td>\n",
       "      <td>114900</td>\n",
       "    </tr>\n",
       "    <tr>\n",
       "      <th>14754</th>\n",
       "      <td>-117.05</td>\n",
       "      <td>32.56</td>\n",
       "      <td>17</td>\n",
       "      <td>985</td>\n",
       "      <td>233.0</td>\n",
       "      <td>811</td>\n",
       "      <td>223</td>\n",
       "      <td>2.8750</td>\n",
       "      <td>NEAR OCEAN</td>\n",
       "      <td>134500</td>\n",
       "    </tr>\n",
       "  </tbody>\n",
       "</table>\n",
       "</div>"
      ],
      "text/plain": [
       "       longitude  latitude  housing_median_age  total_rooms  total_bedrooms  \\\n",
       "14762    -117.04     32.54                   7          938           297.0   \n",
       "14757    -117.04     32.55                  15         2206           648.0   \n",
       "14761    -117.06     32.55                   5         3223           940.0   \n",
       "14784    -117.09     32.55                   8         6533          1217.0   \n",
       "14753    -117.05     32.56                  18         1215           320.0   \n",
       "14754    -117.05     32.56                  17          985           233.0   \n",
       "\n",
       "       population  households  median_income ocean_proximity  \\\n",
       "14762        1187         282         1.2667      NEAR OCEAN   \n",
       "14757        2511         648         1.6348      NEAR OCEAN   \n",
       "14761        3284         854         1.4384      NEAR OCEAN   \n",
       "14784        4797        1177         3.9583      NEAR OCEAN   \n",
       "14753        1195         349         1.9875      NEAR OCEAN   \n",
       "14754         811         223         2.8750      NEAR OCEAN   \n",
       "\n",
       "       median_house_value  \n",
       "14762               67500  \n",
       "14757               93200  \n",
       "14761              108800  \n",
       "14784              144400  \n",
       "14753              114900  \n",
       "14754              134500  "
      ]
     },
     "execution_count": 167,
     "metadata": {},
     "output_type": "execute_result"
    }
   ],
   "source": [
    "#data.nsmallest()&data.nlargest()\n",
    "w.nsmallest(6,'latitude')"
   ]
  },
  {
   "cell_type": "code",
   "execution_count": 174,
   "id": "66c822d1",
   "metadata": {},
   "outputs": [
    {
     "data": {
      "text/html": [
       "<div>\n",
       "<style scoped>\n",
       "    .dataframe tbody tr th:only-of-type {\n",
       "        vertical-align: middle;\n",
       "    }\n",
       "\n",
       "    .dataframe tbody tr th {\n",
       "        vertical-align: top;\n",
       "    }\n",
       "\n",
       "    .dataframe thead th {\n",
       "        text-align: right;\n",
       "    }\n",
       "</style>\n",
       "<table border=\"1\" class=\"dataframe\">\n",
       "  <thead>\n",
       "    <tr style=\"text-align: right;\">\n",
       "      <th></th>\n",
       "      <th>longitude</th>\n",
       "      <th>latitude</th>\n",
       "      <th>housing_median_age</th>\n",
       "      <th>total_rooms</th>\n",
       "      <th>total_bedrooms</th>\n",
       "      <th>population</th>\n",
       "      <th>households</th>\n",
       "      <th>median_income</th>\n",
       "      <th>ocean_proximity</th>\n",
       "      <th>median_house_value</th>\n",
       "    </tr>\n",
       "  </thead>\n",
       "  <tbody>\n",
       "    <tr>\n",
       "      <th>9880</th>\n",
       "      <td>-121.79</td>\n",
       "      <td>36.64</td>\n",
       "      <td>11</td>\n",
       "      <td>32627</td>\n",
       "      <td>6445.0</td>\n",
       "      <td>28566</td>\n",
       "      <td>6082</td>\n",
       "      <td>2.3087</td>\n",
       "      <td>&lt;1H OCEAN</td>\n",
       "      <td>118800</td>\n",
       "    </tr>\n",
       "    <tr>\n",
       "      <th>13139</th>\n",
       "      <td>-121.44</td>\n",
       "      <td>38.43</td>\n",
       "      <td>3</td>\n",
       "      <td>39320</td>\n",
       "      <td>6210.0</td>\n",
       "      <td>16305</td>\n",
       "      <td>5358</td>\n",
       "      <td>4.9516</td>\n",
       "      <td>INLAND</td>\n",
       "      <td>153700</td>\n",
       "    </tr>\n",
       "    <tr>\n",
       "      <th>10309</th>\n",
       "      <td>-117.74</td>\n",
       "      <td>33.89</td>\n",
       "      <td>4</td>\n",
       "      <td>37937</td>\n",
       "      <td>5471.0</td>\n",
       "      <td>16122</td>\n",
       "      <td>5189</td>\n",
       "      <td>7.4947</td>\n",
       "      <td>&lt;1H OCEAN</td>\n",
       "      <td>366300</td>\n",
       "    </tr>\n",
       "    <tr>\n",
       "      <th>6057</th>\n",
       "      <td>-117.78</td>\n",
       "      <td>34.03</td>\n",
       "      <td>8</td>\n",
       "      <td>32054</td>\n",
       "      <td>5290.0</td>\n",
       "      <td>15507</td>\n",
       "      <td>5050</td>\n",
       "      <td>6.0191</td>\n",
       "      <td>&lt;1H OCEAN</td>\n",
       "      <td>253900</td>\n",
       "    </tr>\n",
       "    <tr>\n",
       "      <th>8985</th>\n",
       "      <td>-118.44</td>\n",
       "      <td>33.98</td>\n",
       "      <td>21</td>\n",
       "      <td>18132</td>\n",
       "      <td>5419.0</td>\n",
       "      <td>7431</td>\n",
       "      <td>4930</td>\n",
       "      <td>5.3359</td>\n",
       "      <td>&lt;1H OCEAN</td>\n",
       "      <td>500001</td>\n",
       "    </tr>\n",
       "    <tr>\n",
       "      <th>12623</th>\n",
       "      <td>-121.53</td>\n",
       "      <td>38.48</td>\n",
       "      <td>5</td>\n",
       "      <td>27870</td>\n",
       "      <td>5027.0</td>\n",
       "      <td>11935</td>\n",
       "      <td>4855</td>\n",
       "      <td>4.8811</td>\n",
       "      <td>INLAND</td>\n",
       "      <td>212200</td>\n",
       "    </tr>\n",
       "    <tr>\n",
       "      <th>15360</th>\n",
       "      <td>-117.42</td>\n",
       "      <td>33.35</td>\n",
       "      <td>14</td>\n",
       "      <td>25135</td>\n",
       "      <td>4819.0</td>\n",
       "      <td>35682</td>\n",
       "      <td>4769</td>\n",
       "      <td>2.5729</td>\n",
       "      <td>&lt;1H OCEAN</td>\n",
       "      <td>134400</td>\n",
       "    </tr>\n",
       "  </tbody>\n",
       "</table>\n",
       "</div>"
      ],
      "text/plain": [
       "       longitude  latitude  housing_median_age  total_rooms  total_bedrooms  \\\n",
       "9880     -121.79     36.64                  11        32627          6445.0   \n",
       "13139    -121.44     38.43                   3        39320          6210.0   \n",
       "10309    -117.74     33.89                   4        37937          5471.0   \n",
       "6057     -117.78     34.03                   8        32054          5290.0   \n",
       "8985     -118.44     33.98                  21        18132          5419.0   \n",
       "12623    -121.53     38.48                   5        27870          5027.0   \n",
       "15360    -117.42     33.35                  14        25135          4819.0   \n",
       "\n",
       "       population  households  median_income ocean_proximity  \\\n",
       "9880        28566        6082         2.3087       <1H OCEAN   \n",
       "13139       16305        5358         4.9516          INLAND   \n",
       "10309       16122        5189         7.4947       <1H OCEAN   \n",
       "6057        15507        5050         6.0191       <1H OCEAN   \n",
       "8985         7431        4930         5.3359       <1H OCEAN   \n",
       "12623       11935        4855         4.8811          INLAND   \n",
       "15360       35682        4769         2.5729       <1H OCEAN   \n",
       "\n",
       "       median_house_value  \n",
       "9880               118800  \n",
       "13139              153700  \n",
       "10309              366300  \n",
       "6057               253900  \n",
       "8985               500001  \n",
       "12623              212200  \n",
       "15360              134400  "
      ]
     },
     "execution_count": 174,
     "metadata": {},
     "output_type": "execute_result"
    }
   ],
   "source": [
    "w.nlargest(7,'households')"
   ]
  },
  {
   "cell_type": "code",
   "execution_count": 175,
   "id": "8993890a",
   "metadata": {},
   "outputs": [
    {
     "data": {
      "text/html": [
       "<div>\n",
       "<style scoped>\n",
       "    .dataframe tbody tr th:only-of-type {\n",
       "        vertical-align: middle;\n",
       "    }\n",
       "\n",
       "    .dataframe tbody tr th {\n",
       "        vertical-align: top;\n",
       "    }\n",
       "\n",
       "    .dataframe thead th {\n",
       "        text-align: right;\n",
       "    }\n",
       "</style>\n",
       "<table border=\"1\" class=\"dataframe\">\n",
       "  <thead>\n",
       "    <tr style=\"text-align: right;\">\n",
       "      <th></th>\n",
       "      <th>total_bedrooms</th>\n",
       "      <th>population</th>\n",
       "    </tr>\n",
       "  </thead>\n",
       "  <tbody>\n",
       "    <tr>\n",
       "      <th>0</th>\n",
       "      <td>129.0</td>\n",
       "      <td>322</td>\n",
       "    </tr>\n",
       "    <tr>\n",
       "      <th>1</th>\n",
       "      <td>1106.0</td>\n",
       "      <td>2401</td>\n",
       "    </tr>\n",
       "    <tr>\n",
       "      <th>2</th>\n",
       "      <td>190.0</td>\n",
       "      <td>496</td>\n",
       "    </tr>\n",
       "    <tr>\n",
       "      <th>3</th>\n",
       "      <td>235.0</td>\n",
       "      <td>558</td>\n",
       "    </tr>\n",
       "    <tr>\n",
       "      <th>4</th>\n",
       "      <td>280.0</td>\n",
       "      <td>565</td>\n",
       "    </tr>\n",
       "    <tr>\n",
       "      <th>5</th>\n",
       "      <td>213.0</td>\n",
       "      <td>413</td>\n",
       "    </tr>\n",
       "    <tr>\n",
       "      <th>6</th>\n",
       "      <td>489.0</td>\n",
       "      <td>1094</td>\n",
       "    </tr>\n",
       "  </tbody>\n",
       "</table>\n",
       "</div>"
      ],
      "text/plain": [
       "   total_bedrooms  population\n",
       "0           129.0         322\n",
       "1          1106.0        2401\n",
       "2           190.0         496\n",
       "3           235.0         558\n",
       "4           280.0         565\n",
       "5           213.0         413\n",
       "6           489.0        1094"
      ]
     },
     "execution_count": 175,
     "metadata": {},
     "output_type": "execute_result"
    }
   ],
   "source": [
    "#loc and iloc:- these are used to selet the rows and columns\n",
    "#here loc:-select by labels, labels of columns or row is column values or row values\n",
    "#iloc:- select by positions\n",
    "w.loc[:6,['total_bedrooms','population']]\n"
   ]
  },
  {
   "cell_type": "code",
   "execution_count": 177,
   "id": "64020fa2",
   "metadata": {},
   "outputs": [
    {
     "data": {
      "text/html": [
       "<div>\n",
       "<style scoped>\n",
       "    .dataframe tbody tr th:only-of-type {\n",
       "        vertical-align: middle;\n",
       "    }\n",
       "\n",
       "    .dataframe tbody tr th {\n",
       "        vertical-align: top;\n",
       "    }\n",
       "\n",
       "    .dataframe thead th {\n",
       "        text-align: right;\n",
       "    }\n",
       "</style>\n",
       "<table border=\"1\" class=\"dataframe\">\n",
       "  <thead>\n",
       "    <tr style=\"text-align: right;\">\n",
       "      <th></th>\n",
       "      <th>households</th>\n",
       "      <th>median_income</th>\n",
       "    </tr>\n",
       "  </thead>\n",
       "  <tbody>\n",
       "    <tr>\n",
       "      <th>0</th>\n",
       "      <td>126</td>\n",
       "      <td>8.3252</td>\n",
       "    </tr>\n",
       "    <tr>\n",
       "      <th>1</th>\n",
       "      <td>1138</td>\n",
       "      <td>8.3014</td>\n",
       "    </tr>\n",
       "    <tr>\n",
       "      <th>2</th>\n",
       "      <td>177</td>\n",
       "      <td>7.2574</td>\n",
       "    </tr>\n",
       "    <tr>\n",
       "      <th>3</th>\n",
       "      <td>219</td>\n",
       "      <td>5.6431</td>\n",
       "    </tr>\n",
       "    <tr>\n",
       "      <th>4</th>\n",
       "      <td>259</td>\n",
       "      <td>3.8462</td>\n",
       "    </tr>\n",
       "  </tbody>\n",
       "</table>\n",
       "</div>"
      ],
      "text/plain": [
       "   households  median_income\n",
       "0         126         8.3252\n",
       "1        1138         8.3014\n",
       "2         177         7.2574\n",
       "3         219         5.6431\n",
       "4         259         3.8462"
      ]
     },
     "execution_count": 177,
     "metadata": {},
     "output_type": "execute_result"
    }
   ],
   "source": [
    "w.loc[:4,['households','median_income']]"
   ]
  },
  {
   "cell_type": "code",
   "execution_count": 178,
   "id": "46b29e20",
   "metadata": {},
   "outputs": [
    {
     "data": {
      "text/html": [
       "<div>\n",
       "<style scoped>\n",
       "    .dataframe tbody tr th:only-of-type {\n",
       "        vertical-align: middle;\n",
       "    }\n",
       "\n",
       "    .dataframe tbody tr th {\n",
       "        vertical-align: top;\n",
       "    }\n",
       "\n",
       "    .dataframe thead th {\n",
       "        text-align: right;\n",
       "    }\n",
       "</style>\n",
       "<table border=\"1\" class=\"dataframe\">\n",
       "  <thead>\n",
       "    <tr style=\"text-align: right;\">\n",
       "      <th></th>\n",
       "      <th>longitude</th>\n",
       "      <th>latitude</th>\n",
       "      <th>housing_median_age</th>\n",
       "      <th>total_rooms</th>\n",
       "      <th>total_bedrooms</th>\n",
       "    </tr>\n",
       "  </thead>\n",
       "  <tbody>\n",
       "    <tr>\n",
       "      <th>0</th>\n",
       "      <td>-122.23</td>\n",
       "      <td>37.88</td>\n",
       "      <td>41</td>\n",
       "      <td>880</td>\n",
       "      <td>129.0</td>\n",
       "    </tr>\n",
       "    <tr>\n",
       "      <th>1</th>\n",
       "      <td>-122.22</td>\n",
       "      <td>37.86</td>\n",
       "      <td>21</td>\n",
       "      <td>7099</td>\n",
       "      <td>1106.0</td>\n",
       "    </tr>\n",
       "    <tr>\n",
       "      <th>2</th>\n",
       "      <td>-122.24</td>\n",
       "      <td>37.85</td>\n",
       "      <td>52</td>\n",
       "      <td>1467</td>\n",
       "      <td>190.0</td>\n",
       "    </tr>\n",
       "    <tr>\n",
       "      <th>3</th>\n",
       "      <td>-122.25</td>\n",
       "      <td>37.85</td>\n",
       "      <td>52</td>\n",
       "      <td>1274</td>\n",
       "      <td>235.0</td>\n",
       "    </tr>\n",
       "  </tbody>\n",
       "</table>\n",
       "</div>"
      ],
      "text/plain": [
       "   longitude  latitude  housing_median_age  total_rooms  total_bedrooms\n",
       "0    -122.23     37.88                  41          880           129.0\n",
       "1    -122.22     37.86                  21         7099          1106.0\n",
       "2    -122.24     37.85                  52         1467           190.0\n",
       "3    -122.25     37.85                  52         1274           235.0"
      ]
     },
     "execution_count": 178,
     "metadata": {},
     "output_type": "execute_result"
    }
   ],
   "source": [
    "w.iloc[:4,:5]"
   ]
  },
  {
   "cell_type": "code",
   "execution_count": 179,
   "id": "ab53f11a",
   "metadata": {},
   "outputs": [
    {
     "data": {
      "text/html": [
       "<div>\n",
       "<style scoped>\n",
       "    .dataframe tbody tr th:only-of-type {\n",
       "        vertical-align: middle;\n",
       "    }\n",
       "\n",
       "    .dataframe tbody tr th {\n",
       "        vertical-align: top;\n",
       "    }\n",
       "\n",
       "    .dataframe thead th {\n",
       "        text-align: right;\n",
       "    }\n",
       "</style>\n",
       "<table border=\"1\" class=\"dataframe\">\n",
       "  <thead>\n",
       "    <tr style=\"text-align: right;\">\n",
       "      <th></th>\n",
       "      <th>longitude</th>\n",
       "      <th>latitude</th>\n",
       "      <th>housing_median_age</th>\n",
       "      <th>total_rooms</th>\n",
       "      <th>total_bedrooms</th>\n",
       "      <th>population</th>\n",
       "      <th>households</th>\n",
       "      <th>median_income</th>\n",
       "      <th>ocean_proximity</th>\n",
       "    </tr>\n",
       "  </thead>\n",
       "  <tbody>\n",
       "    <tr>\n",
       "      <th>0</th>\n",
       "      <td>-122.23</td>\n",
       "      <td>37.88</td>\n",
       "      <td>41</td>\n",
       "      <td>880</td>\n",
       "      <td>129.0</td>\n",
       "      <td>322</td>\n",
       "      <td>126</td>\n",
       "      <td>8.3252</td>\n",
       "      <td>NEAR BAY</td>\n",
       "    </tr>\n",
       "    <tr>\n",
       "      <th>1</th>\n",
       "      <td>-122.22</td>\n",
       "      <td>37.86</td>\n",
       "      <td>21</td>\n",
       "      <td>7099</td>\n",
       "      <td>1106.0</td>\n",
       "      <td>2401</td>\n",
       "      <td>1138</td>\n",
       "      <td>8.3014</td>\n",
       "      <td>NEAR BAY</td>\n",
       "    </tr>\n",
       "    <tr>\n",
       "      <th>2</th>\n",
       "      <td>-122.24</td>\n",
       "      <td>37.85</td>\n",
       "      <td>52</td>\n",
       "      <td>1467</td>\n",
       "      <td>190.0</td>\n",
       "      <td>496</td>\n",
       "      <td>177</td>\n",
       "      <td>7.2574</td>\n",
       "      <td>NEAR BAY</td>\n",
       "    </tr>\n",
       "    <tr>\n",
       "      <th>3</th>\n",
       "      <td>-122.25</td>\n",
       "      <td>37.85</td>\n",
       "      <td>52</td>\n",
       "      <td>1274</td>\n",
       "      <td>235.0</td>\n",
       "      <td>558</td>\n",
       "      <td>219</td>\n",
       "      <td>5.6431</td>\n",
       "      <td>NEAR BAY</td>\n",
       "    </tr>\n",
       "    <tr>\n",
       "      <th>4</th>\n",
       "      <td>-122.25</td>\n",
       "      <td>37.85</td>\n",
       "      <td>52</td>\n",
       "      <td>1627</td>\n",
       "      <td>280.0</td>\n",
       "      <td>565</td>\n",
       "      <td>259</td>\n",
       "      <td>3.8462</td>\n",
       "      <td>NEAR BAY</td>\n",
       "    </tr>\n",
       "    <tr>\n",
       "      <th>5</th>\n",
       "      <td>-122.25</td>\n",
       "      <td>37.85</td>\n",
       "      <td>52</td>\n",
       "      <td>919</td>\n",
       "      <td>213.0</td>\n",
       "      <td>413</td>\n",
       "      <td>193</td>\n",
       "      <td>4.0368</td>\n",
       "      <td>NEAR BAY</td>\n",
       "    </tr>\n",
       "  </tbody>\n",
       "</table>\n",
       "</div>"
      ],
      "text/plain": [
       "   longitude  latitude  housing_median_age  total_rooms  total_bedrooms  \\\n",
       "0    -122.23     37.88                  41          880           129.0   \n",
       "1    -122.22     37.86                  21         7099          1106.0   \n",
       "2    -122.24     37.85                  52         1467           190.0   \n",
       "3    -122.25     37.85                  52         1274           235.0   \n",
       "4    -122.25     37.85                  52         1627           280.0   \n",
       "5    -122.25     37.85                  52          919           213.0   \n",
       "\n",
       "   population  households  median_income ocean_proximity  \n",
       "0         322         126         8.3252        NEAR BAY  \n",
       "1        2401        1138         8.3014        NEAR BAY  \n",
       "2         496         177         7.2574        NEAR BAY  \n",
       "3         558         219         5.6431        NEAR BAY  \n",
       "4         565         259         3.8462        NEAR BAY  \n",
       "5         413         193         4.0368        NEAR BAY  "
      ]
     },
     "execution_count": 179,
     "metadata": {},
     "output_type": "execute_result"
    }
   ],
   "source": [
    "w.iloc[:6,:9]"
   ]
  },
  {
   "cell_type": "code",
   "execution_count": 181,
   "id": "7ba782f7",
   "metadata": {},
   "outputs": [
    {
     "data": {
      "text/html": [
       "<div>\n",
       "<style scoped>\n",
       "    .dataframe tbody tr th:only-of-type {\n",
       "        vertical-align: middle;\n",
       "    }\n",
       "\n",
       "    .dataframe tbody tr th {\n",
       "        vertical-align: top;\n",
       "    }\n",
       "\n",
       "    .dataframe thead th {\n",
       "        text-align: right;\n",
       "    }\n",
       "</style>\n",
       "<table border=\"1\" class=\"dataframe\">\n",
       "  <thead>\n",
       "    <tr style=\"text-align: right;\">\n",
       "      <th></th>\n",
       "      <th>longitude</th>\n",
       "      <th>latitude</th>\n",
       "      <th>housing_median_age</th>\n",
       "      <th>total_rooms</th>\n",
       "      <th>total_bedrooms</th>\n",
       "      <th>population</th>\n",
       "      <th>households</th>\n",
       "      <th>median_income</th>\n",
       "      <th>ocean_proximity</th>\n",
       "      <th>median_house_value</th>\n",
       "    </tr>\n",
       "  </thead>\n",
       "  <tbody>\n",
       "    <tr>\n",
       "      <th>0</th>\n",
       "      <td>-122.23</td>\n",
       "      <td>37.88</td>\n",
       "      <td>41</td>\n",
       "      <td>880</td>\n",
       "      <td>129.0</td>\n",
       "      <td>322</td>\n",
       "      <td>126</td>\n",
       "      <td>8.3252</td>\n",
       "      <td>NEAR BAY</td>\n",
       "      <td>452600</td>\n",
       "    </tr>\n",
       "    <tr>\n",
       "      <th>1</th>\n",
       "      <td>-122.22</td>\n",
       "      <td>37.86</td>\n",
       "      <td>21</td>\n",
       "      <td>7099</td>\n",
       "      <td>1106.0</td>\n",
       "      <td>2401</td>\n",
       "      <td>1138</td>\n",
       "      <td>8.3014</td>\n",
       "      <td>NEAR BAY</td>\n",
       "      <td>358500</td>\n",
       "    </tr>\n",
       "    <tr>\n",
       "      <th>2</th>\n",
       "      <td>-122.24</td>\n",
       "      <td>37.85</td>\n",
       "      <td>52</td>\n",
       "      <td>1467</td>\n",
       "      <td>190.0</td>\n",
       "      <td>496</td>\n",
       "      <td>177</td>\n",
       "      <td>7.2574</td>\n",
       "      <td>NEAR BAY</td>\n",
       "      <td>352100</td>\n",
       "    </tr>\n",
       "    <tr>\n",
       "      <th>3</th>\n",
       "      <td>-122.25</td>\n",
       "      <td>37.85</td>\n",
       "      <td>52</td>\n",
       "      <td>1274</td>\n",
       "      <td>235.0</td>\n",
       "      <td>558</td>\n",
       "      <td>219</td>\n",
       "      <td>5.6431</td>\n",
       "      <td>NEAR BAY</td>\n",
       "      <td>341300</td>\n",
       "    </tr>\n",
       "    <tr>\n",
       "      <th>4</th>\n",
       "      <td>-122.25</td>\n",
       "      <td>37.85</td>\n",
       "      <td>52</td>\n",
       "      <td>1627</td>\n",
       "      <td>280.0</td>\n",
       "      <td>565</td>\n",
       "      <td>259</td>\n",
       "      <td>3.8462</td>\n",
       "      <td>NEAR BAY</td>\n",
       "      <td>342200</td>\n",
       "    </tr>\n",
       "    <tr>\n",
       "      <th>5</th>\n",
       "      <td>-122.25</td>\n",
       "      <td>37.85</td>\n",
       "      <td>52</td>\n",
       "      <td>919</td>\n",
       "      <td>213.0</td>\n",
       "      <td>413</td>\n",
       "      <td>193</td>\n",
       "      <td>4.0368</td>\n",
       "      <td>NEAR BAY</td>\n",
       "      <td>269700</td>\n",
       "    </tr>\n",
       "    <tr>\n",
       "      <th>6</th>\n",
       "      <td>-122.25</td>\n",
       "      <td>37.84</td>\n",
       "      <td>52</td>\n",
       "      <td>2535</td>\n",
       "      <td>489.0</td>\n",
       "      <td>1094</td>\n",
       "      <td>514</td>\n",
       "      <td>3.6591</td>\n",
       "      <td>NEAR BAY</td>\n",
       "      <td>299200</td>\n",
       "    </tr>\n",
       "  </tbody>\n",
       "</table>\n",
       "</div>"
      ],
      "text/plain": [
       "   longitude  latitude  housing_median_age  total_rooms  total_bedrooms  \\\n",
       "0    -122.23     37.88                  41          880           129.0   \n",
       "1    -122.22     37.86                  21         7099          1106.0   \n",
       "2    -122.24     37.85                  52         1467           190.0   \n",
       "3    -122.25     37.85                  52         1274           235.0   \n",
       "4    -122.25     37.85                  52         1627           280.0   \n",
       "5    -122.25     37.85                  52          919           213.0   \n",
       "6    -122.25     37.84                  52         2535           489.0   \n",
       "\n",
       "   population  households  median_income ocean_proximity  median_house_value  \n",
       "0         322         126         8.3252        NEAR BAY              452600  \n",
       "1        2401        1138         8.3014        NEAR BAY              358500  \n",
       "2         496         177         7.2574        NEAR BAY              352100  \n",
       "3         558         219         5.6431        NEAR BAY              341300  \n",
       "4         565         259         3.8462        NEAR BAY              342200  \n",
       "5         413         193         4.0368        NEAR BAY              269700  \n",
       "6        1094         514         3.6591        NEAR BAY              299200  "
      ]
     },
     "execution_count": 181,
     "metadata": {},
     "output_type": "execute_result"
    }
   ],
   "source": [
    "w[0:7]"
   ]
  },
  {
   "cell_type": "code",
   "execution_count": 182,
   "id": "98995e5f",
   "metadata": {},
   "outputs": [
    {
     "data": {
      "text/html": [
       "<div>\n",
       "<style scoped>\n",
       "    .dataframe tbody tr th:only-of-type {\n",
       "        vertical-align: middle;\n",
       "    }\n",
       "\n",
       "    .dataframe tbody tr th {\n",
       "        vertical-align: top;\n",
       "    }\n",
       "\n",
       "    .dataframe thead th {\n",
       "        text-align: right;\n",
       "    }\n",
       "</style>\n",
       "<table border=\"1\" class=\"dataframe\">\n",
       "  <thead>\n",
       "    <tr style=\"text-align: right;\">\n",
       "      <th></th>\n",
       "      <th>longitude</th>\n",
       "      <th>latitude</th>\n",
       "      <th>housing_median_age</th>\n",
       "      <th>total_rooms</th>\n",
       "      <th>total_bedrooms</th>\n",
       "      <th>population</th>\n",
       "      <th>households</th>\n",
       "      <th>median_income</th>\n",
       "      <th>ocean_proximity</th>\n",
       "      <th>median_house_value</th>\n",
       "    </tr>\n",
       "  </thead>\n",
       "  <tbody>\n",
       "    <tr>\n",
       "      <th>0</th>\n",
       "      <td>-122.23</td>\n",
       "      <td>37.88</td>\n",
       "      <td>41</td>\n",
       "      <td>880</td>\n",
       "      <td>129.0</td>\n",
       "      <td>322</td>\n",
       "      <td>126</td>\n",
       "      <td>8.3252</td>\n",
       "      <td>NEAR BAY</td>\n",
       "      <td>452600</td>\n",
       "    </tr>\n",
       "    <tr>\n",
       "      <th>1</th>\n",
       "      <td>-122.22</td>\n",
       "      <td>37.86</td>\n",
       "      <td>21</td>\n",
       "      <td>7099</td>\n",
       "      <td>1106.0</td>\n",
       "      <td>2401</td>\n",
       "      <td>1138</td>\n",
       "      <td>8.3014</td>\n",
       "      <td>NEAR BAY</td>\n",
       "      <td>358500</td>\n",
       "    </tr>\n",
       "    <tr>\n",
       "      <th>2</th>\n",
       "      <td>-122.24</td>\n",
       "      <td>37.85</td>\n",
       "      <td>52</td>\n",
       "      <td>1467</td>\n",
       "      <td>190.0</td>\n",
       "      <td>496</td>\n",
       "      <td>177</td>\n",
       "      <td>7.2574</td>\n",
       "      <td>NEAR BAY</td>\n",
       "      <td>352100</td>\n",
       "    </tr>\n",
       "    <tr>\n",
       "      <th>3</th>\n",
       "      <td>-122.25</td>\n",
       "      <td>37.85</td>\n",
       "      <td>52</td>\n",
       "      <td>1274</td>\n",
       "      <td>235.0</td>\n",
       "      <td>558</td>\n",
       "      <td>219</td>\n",
       "      <td>5.6431</td>\n",
       "      <td>NEAR BAY</td>\n",
       "      <td>341300</td>\n",
       "    </tr>\n",
       "    <tr>\n",
       "      <th>4</th>\n",
       "      <td>-122.25</td>\n",
       "      <td>37.85</td>\n",
       "      <td>52</td>\n",
       "      <td>1627</td>\n",
       "      <td>280.0</td>\n",
       "      <td>565</td>\n",
       "      <td>259</td>\n",
       "      <td>3.8462</td>\n",
       "      <td>NEAR BAY</td>\n",
       "      <td>342200</td>\n",
       "    </tr>\n",
       "    <tr>\n",
       "      <th>5</th>\n",
       "      <td>-122.25</td>\n",
       "      <td>37.85</td>\n",
       "      <td>52</td>\n",
       "      <td>919</td>\n",
       "      <td>213.0</td>\n",
       "      <td>413</td>\n",
       "      <td>193</td>\n",
       "      <td>4.0368</td>\n",
       "      <td>NEAR BAY</td>\n",
       "      <td>269700</td>\n",
       "    </tr>\n",
       "    <tr>\n",
       "      <th>6</th>\n",
       "      <td>-122.25</td>\n",
       "      <td>37.84</td>\n",
       "      <td>52</td>\n",
       "      <td>2535</td>\n",
       "      <td>489.0</td>\n",
       "      <td>1094</td>\n",
       "      <td>514</td>\n",
       "      <td>3.6591</td>\n",
       "      <td>NEAR BAY</td>\n",
       "      <td>299200</td>\n",
       "    </tr>\n",
       "    <tr>\n",
       "      <th>7</th>\n",
       "      <td>-122.25</td>\n",
       "      <td>37.84</td>\n",
       "      <td>52</td>\n",
       "      <td>3104</td>\n",
       "      <td>687.0</td>\n",
       "      <td>1157</td>\n",
       "      <td>647</td>\n",
       "      <td>3.1200</td>\n",
       "      <td>NEAR BAY</td>\n",
       "      <td>241400</td>\n",
       "    </tr>\n",
       "    <tr>\n",
       "      <th>8</th>\n",
       "      <td>-122.26</td>\n",
       "      <td>37.84</td>\n",
       "      <td>42</td>\n",
       "      <td>2555</td>\n",
       "      <td>665.0</td>\n",
       "      <td>1206</td>\n",
       "      <td>595</td>\n",
       "      <td>2.0804</td>\n",
       "      <td>NEAR BAY</td>\n",
       "      <td>226700</td>\n",
       "    </tr>\n",
       "    <tr>\n",
       "      <th>9</th>\n",
       "      <td>-122.25</td>\n",
       "      <td>37.84</td>\n",
       "      <td>52</td>\n",
       "      <td>3549</td>\n",
       "      <td>707.0</td>\n",
       "      <td>1551</td>\n",
       "      <td>714</td>\n",
       "      <td>3.6912</td>\n",
       "      <td>NEAR BAY</td>\n",
       "      <td>261100</td>\n",
       "    </tr>\n",
       "  </tbody>\n",
       "</table>\n",
       "</div>"
      ],
      "text/plain": [
       "   longitude  latitude  housing_median_age  total_rooms  total_bedrooms  \\\n",
       "0    -122.23     37.88                  41          880           129.0   \n",
       "1    -122.22     37.86                  21         7099          1106.0   \n",
       "2    -122.24     37.85                  52         1467           190.0   \n",
       "3    -122.25     37.85                  52         1274           235.0   \n",
       "4    -122.25     37.85                  52         1627           280.0   \n",
       "5    -122.25     37.85                  52          919           213.0   \n",
       "6    -122.25     37.84                  52         2535           489.0   \n",
       "7    -122.25     37.84                  52         3104           687.0   \n",
       "8    -122.26     37.84                  42         2555           665.0   \n",
       "9    -122.25     37.84                  52         3549           707.0   \n",
       "\n",
       "   population  households  median_income ocean_proximity  median_house_value  \n",
       "0         322         126         8.3252        NEAR BAY              452600  \n",
       "1        2401        1138         8.3014        NEAR BAY              358500  \n",
       "2         496         177         7.2574        NEAR BAY              352100  \n",
       "3         558         219         5.6431        NEAR BAY              341300  \n",
       "4         565         259         3.8462        NEAR BAY              342200  \n",
       "5         413         193         4.0368        NEAR BAY              269700  \n",
       "6        1094         514         3.6591        NEAR BAY              299200  \n",
       "7        1157         647         3.1200        NEAR BAY              241400  \n",
       "8        1206         595         2.0804        NEAR BAY              226700  \n",
       "9        1551         714         3.6912        NEAR BAY              261100  "
      ]
     },
     "execution_count": 182,
     "metadata": {},
     "output_type": "execute_result"
    }
   ],
   "source": [
    "w[0:10]"
   ]
  },
  {
   "cell_type": "code",
   "execution_count": 195,
   "id": "48e275ef",
   "metadata": {},
   "outputs": [
    {
     "data": {
      "text/html": [
       "<div>\n",
       "<style scoped>\n",
       "    .dataframe tbody tr th:only-of-type {\n",
       "        vertical-align: middle;\n",
       "    }\n",
       "\n",
       "    .dataframe tbody tr th {\n",
       "        vertical-align: top;\n",
       "    }\n",
       "\n",
       "    .dataframe thead th {\n",
       "        text-align: right;\n",
       "    }\n",
       "</style>\n",
       "<table border=\"1\" class=\"dataframe\">\n",
       "  <thead>\n",
       "    <tr style=\"text-align: right;\">\n",
       "      <th></th>\n",
       "      <th></th>\n",
       "      <th>total_rooms</th>\n",
       "    </tr>\n",
       "    <tr>\n",
       "      <th>housing_median_age</th>\n",
       "      <th>median_house_value</th>\n",
       "      <th></th>\n",
       "    </tr>\n",
       "  </thead>\n",
       "  <tbody>\n",
       "    <tr>\n",
       "      <th rowspan=\"4\" valign=\"top\">1</th>\n",
       "      <th>55000</th>\n",
       "      <td>6.000000</td>\n",
       "    </tr>\n",
       "    <tr>\n",
       "      <th>141700</th>\n",
       "      <td>83.000000</td>\n",
       "    </tr>\n",
       "    <tr>\n",
       "      <th>189200</th>\n",
       "      <td>2254.000000</td>\n",
       "    </tr>\n",
       "    <tr>\n",
       "      <th>191300</th>\n",
       "      <td>2062.000000</td>\n",
       "    </tr>\n",
       "    <tr>\n",
       "      <th>2</th>\n",
       "      <th>47500</th>\n",
       "      <td>96.000000</td>\n",
       "    </tr>\n",
       "    <tr>\n",
       "      <th>...</th>\n",
       "      <th>...</th>\n",
       "      <td>...</td>\n",
       "    </tr>\n",
       "    <tr>\n",
       "      <th rowspan=\"5\" valign=\"top\">52</th>\n",
       "      <th>494400</th>\n",
       "      <td>1345.000000</td>\n",
       "    </tr>\n",
       "    <tr>\n",
       "      <th>494700</th>\n",
       "      <td>2425.000000</td>\n",
       "    </tr>\n",
       "    <tr>\n",
       "      <th>498400</th>\n",
       "      <td>3034.000000</td>\n",
       "    </tr>\n",
       "    <tr>\n",
       "      <th>500000</th>\n",
       "      <td>2058.300000</td>\n",
       "    </tr>\n",
       "    <tr>\n",
       "      <th>500001</th>\n",
       "      <td>2281.964706</td>\n",
       "    </tr>\n",
       "  </tbody>\n",
       "</table>\n",
       "<p>17532 rows × 1 columns</p>\n",
       "</div>"
      ],
      "text/plain": [
       "                                       total_rooms\n",
       "housing_median_age median_house_value             \n",
       "1                  55000                  6.000000\n",
       "                   141700                83.000000\n",
       "                   189200              2254.000000\n",
       "                   191300              2062.000000\n",
       "2                  47500                 96.000000\n",
       "...                                            ...\n",
       "52                 494400              1345.000000\n",
       "                   494700              2425.000000\n",
       "                   498400              3034.000000\n",
       "                   500000              2058.300000\n",
       "                   500001              2281.964706\n",
       "\n",
       "[17532 rows x 1 columns]"
      ]
     },
     "execution_count": 195,
     "metadata": {},
     "output_type": "execute_result"
    }
   ],
   "source": [
    "#Groupby:\n",
    "#function makes easier to unveil the underlaying realtionship with variables\n",
    "w[['housing_median_age','median_house_value','total_rooms']].groupby(['housing_median_age','median_house_value']).mean()"
   ]
  },
  {
   "cell_type": "code",
   "execution_count": 189,
   "id": "eb80f7c1",
   "metadata": {},
   "outputs": [
    {
     "data": {
      "text/html": [
       "<div>\n",
       "<style scoped>\n",
       "    .dataframe tbody tr th:only-of-type {\n",
       "        vertical-align: middle;\n",
       "    }\n",
       "\n",
       "    .dataframe tbody tr th {\n",
       "        vertical-align: top;\n",
       "    }\n",
       "\n",
       "    .dataframe thead th {\n",
       "        text-align: right;\n",
       "    }\n",
       "</style>\n",
       "<table border=\"1\" class=\"dataframe\">\n",
       "  <thead>\n",
       "    <tr style=\"text-align: right;\">\n",
       "      <th></th>\n",
       "      <th>households</th>\n",
       "      <th>housing_median_age</th>\n",
       "      <th>latitude</th>\n",
       "      <th>longitude</th>\n",
       "      <th>median_house_value</th>\n",
       "      <th>median_income</th>\n",
       "      <th>ocean_proximity</th>\n",
       "      <th>population</th>\n",
       "      <th>total_bedrooms</th>\n",
       "      <th>total_rooms</th>\n",
       "    </tr>\n",
       "  </thead>\n",
       "  <tbody>\n",
       "    <tr>\n",
       "      <th>0</th>\n",
       "      <td>126</td>\n",
       "      <td>41</td>\n",
       "      <td>37.88</td>\n",
       "      <td>-122.23</td>\n",
       "      <td>452600</td>\n",
       "      <td>8.3252</td>\n",
       "      <td>NEAR BAY</td>\n",
       "      <td>322</td>\n",
       "      <td>129.0</td>\n",
       "      <td>880</td>\n",
       "    </tr>\n",
       "    <tr>\n",
       "      <th>1</th>\n",
       "      <td>1138</td>\n",
       "      <td>21</td>\n",
       "      <td>37.86</td>\n",
       "      <td>-122.22</td>\n",
       "      <td>358500</td>\n",
       "      <td>8.3014</td>\n",
       "      <td>NEAR BAY</td>\n",
       "      <td>2401</td>\n",
       "      <td>1106.0</td>\n",
       "      <td>7099</td>\n",
       "    </tr>\n",
       "    <tr>\n",
       "      <th>2</th>\n",
       "      <td>177</td>\n",
       "      <td>52</td>\n",
       "      <td>37.85</td>\n",
       "      <td>-122.24</td>\n",
       "      <td>352100</td>\n",
       "      <td>7.2574</td>\n",
       "      <td>NEAR BAY</td>\n",
       "      <td>496</td>\n",
       "      <td>190.0</td>\n",
       "      <td>1467</td>\n",
       "    </tr>\n",
       "    <tr>\n",
       "      <th>3</th>\n",
       "      <td>219</td>\n",
       "      <td>52</td>\n",
       "      <td>37.85</td>\n",
       "      <td>-122.25</td>\n",
       "      <td>341300</td>\n",
       "      <td>5.6431</td>\n",
       "      <td>NEAR BAY</td>\n",
       "      <td>558</td>\n",
       "      <td>235.0</td>\n",
       "      <td>1274</td>\n",
       "    </tr>\n",
       "    <tr>\n",
       "      <th>4</th>\n",
       "      <td>259</td>\n",
       "      <td>52</td>\n",
       "      <td>37.85</td>\n",
       "      <td>-122.25</td>\n",
       "      <td>342200</td>\n",
       "      <td>3.8462</td>\n",
       "      <td>NEAR BAY</td>\n",
       "      <td>565</td>\n",
       "      <td>280.0</td>\n",
       "      <td>1627</td>\n",
       "    </tr>\n",
       "    <tr>\n",
       "      <th>...</th>\n",
       "      <td>...</td>\n",
       "      <td>...</td>\n",
       "      <td>...</td>\n",
       "      <td>...</td>\n",
       "      <td>...</td>\n",
       "      <td>...</td>\n",
       "      <td>...</td>\n",
       "      <td>...</td>\n",
       "      <td>...</td>\n",
       "      <td>...</td>\n",
       "    </tr>\n",
       "    <tr>\n",
       "      <th>20635</th>\n",
       "      <td>330</td>\n",
       "      <td>25</td>\n",
       "      <td>39.48</td>\n",
       "      <td>-121.09</td>\n",
       "      <td>78100</td>\n",
       "      <td>1.5603</td>\n",
       "      <td>INLAND</td>\n",
       "      <td>845</td>\n",
       "      <td>374.0</td>\n",
       "      <td>1665</td>\n",
       "    </tr>\n",
       "    <tr>\n",
       "      <th>20636</th>\n",
       "      <td>114</td>\n",
       "      <td>18</td>\n",
       "      <td>39.49</td>\n",
       "      <td>-121.21</td>\n",
       "      <td>77100</td>\n",
       "      <td>2.5568</td>\n",
       "      <td>INLAND</td>\n",
       "      <td>356</td>\n",
       "      <td>150.0</td>\n",
       "      <td>697</td>\n",
       "    </tr>\n",
       "    <tr>\n",
       "      <th>20637</th>\n",
       "      <td>433</td>\n",
       "      <td>17</td>\n",
       "      <td>39.43</td>\n",
       "      <td>-121.22</td>\n",
       "      <td>92300</td>\n",
       "      <td>1.7000</td>\n",
       "      <td>INLAND</td>\n",
       "      <td>1007</td>\n",
       "      <td>485.0</td>\n",
       "      <td>2254</td>\n",
       "    </tr>\n",
       "    <tr>\n",
       "      <th>20638</th>\n",
       "      <td>349</td>\n",
       "      <td>18</td>\n",
       "      <td>39.43</td>\n",
       "      <td>-121.32</td>\n",
       "      <td>84700</td>\n",
       "      <td>1.8672</td>\n",
       "      <td>INLAND</td>\n",
       "      <td>741</td>\n",
       "      <td>409.0</td>\n",
       "      <td>1860</td>\n",
       "    </tr>\n",
       "    <tr>\n",
       "      <th>20639</th>\n",
       "      <td>530</td>\n",
       "      <td>16</td>\n",
       "      <td>39.37</td>\n",
       "      <td>-121.24</td>\n",
       "      <td>89400</td>\n",
       "      <td>2.3886</td>\n",
       "      <td>INLAND</td>\n",
       "      <td>1387</td>\n",
       "      <td>616.0</td>\n",
       "      <td>2785</td>\n",
       "    </tr>\n",
       "  </tbody>\n",
       "</table>\n",
       "<p>20640 rows × 10 columns</p>\n",
       "</div>"
      ],
      "text/plain": [
       "       households  housing_median_age  latitude  longitude  \\\n",
       "0             126                  41     37.88    -122.23   \n",
       "1            1138                  21     37.86    -122.22   \n",
       "2             177                  52     37.85    -122.24   \n",
       "3             219                  52     37.85    -122.25   \n",
       "4             259                  52     37.85    -122.25   \n",
       "...           ...                 ...       ...        ...   \n",
       "20635         330                  25     39.48    -121.09   \n",
       "20636         114                  18     39.49    -121.21   \n",
       "20637         433                  17     39.43    -121.22   \n",
       "20638         349                  18     39.43    -121.32   \n",
       "20639         530                  16     39.37    -121.24   \n",
       "\n",
       "       median_house_value  median_income ocean_proximity  population  \\\n",
       "0                  452600         8.3252        NEAR BAY         322   \n",
       "1                  358500         8.3014        NEAR BAY        2401   \n",
       "2                  352100         7.2574        NEAR BAY         496   \n",
       "3                  341300         5.6431        NEAR BAY         558   \n",
       "4                  342200         3.8462        NEAR BAY         565   \n",
       "...                   ...            ...             ...         ...   \n",
       "20635               78100         1.5603          INLAND         845   \n",
       "20636               77100         2.5568          INLAND         356   \n",
       "20637               92300         1.7000          INLAND        1007   \n",
       "20638               84700         1.8672          INLAND         741   \n",
       "20639               89400         2.3886          INLAND        1387   \n",
       "\n",
       "       total_bedrooms  total_rooms  \n",
       "0               129.0          880  \n",
       "1              1106.0         7099  \n",
       "2               190.0         1467  \n",
       "3               235.0         1274  \n",
       "4               280.0         1627  \n",
       "...               ...          ...  \n",
       "20635           374.0         1665  \n",
       "20636           150.0          697  \n",
       "20637           485.0         2254  \n",
       "20638           409.0         1860  \n",
       "20639           616.0         2785  \n",
       "\n",
       "[20640 rows x 10 columns]"
      ]
     },
     "execution_count": 189,
     "metadata": {},
     "output_type": "execute_result"
    }
   ],
   "source": [
    "#Sorting:using sort_index() method, by pasing the   axis argument and order of sorting.DataFrame ccan be sorted.\n",
    "#by default sorting is done on row labels in ascending order.\n",
    "w.sort_index(axis=1,ascending = True)"
   ]
  },
  {
   "cell_type": "code",
   "execution_count": 199,
   "id": "8fbd573c",
   "metadata": {},
   "outputs": [
    {
     "name": "stdout",
     "output_type": "stream",
     "text": [
      "       longitude  latitude  housing_median_age  total_rooms  total_bedrooms  \\\n",
      "0        -122.23     37.88                  41          880           129.0   \n",
      "1        -122.22     37.86                  21         7099          1106.0   \n",
      "2        -122.24     37.85                  52         1467           190.0   \n",
      "3        -122.25     37.85                  52         1274           235.0   \n",
      "4        -122.25     37.85                  52         1627           280.0   \n",
      "...          ...       ...                 ...          ...             ...   \n",
      "20635    -121.09     39.48                  25         1665           374.0   \n",
      "20636    -121.21     39.49                  18          697           150.0   \n",
      "20637    -121.22     39.43                  17         2254           485.0   \n",
      "20638    -121.32     39.43                  18         1860           409.0   \n",
      "20639    -121.24     39.37                  16         2785           616.0   \n",
      "\n",
      "       population  households  median_income  \n",
      "0             322         126         8.3252  \n",
      "1            2401        1138         8.3014  \n",
      "2             496         177         7.2574  \n",
      "3             558         219         5.6431  \n",
      "4             565         259         3.8462  \n",
      "...           ...         ...            ...  \n",
      "20635         845         330         1.5603  \n",
      "20636         356         114         2.5568  \n",
      "20637        1007         433         1.7000  \n",
      "20638         741         349         1.8672  \n",
      "20639        1387         530         2.3886  \n",
      "\n",
      "[20640 rows x 8 columns]\n"
     ]
    }
   ],
   "source": [
    "#dropna(): used to reomve the row or column from database which has NaN or no values in data.\n",
    "drop_cols=['ocean_proximity']\n",
    "w.drop(drop_cols,axis=1, inplace=True)\n",
    "print(w)\n"
   ]
  },
  {
   "cell_type": "code",
   "execution_count": 204,
   "id": "c34c89cf",
   "metadata": {},
   "outputs": [
    {
     "data": {
      "text/plain": [
       "Movie_name         Tom&JerryBen10Courage_the_doglunyTunespokemond...\n",
       "No_of_years                                                      107\n",
       "Rating                                                          51.9\n",
       "year_of_release                                                11964\n",
       "dtype: object"
      ]
     },
     "execution_count": 204,
     "metadata": {},
     "output_type": "execute_result"
    }
   ],
   "source": [
    "#Descriptive Stastical analysis\n",
    "#sum();\n",
    "import pandas as pd\n",
    "import numpy as np\n",
    "#create dicitionary of sets\n",
    "data={'Movie_name':pd.Series(['Tom&Jerry','Ben10','Courage_the_dog','lunyTunes','pokemon','dragonball_z']),\n",
    "                            'No_of_years':pd.Series([50,10,20,10,9,8]),\n",
    "                            'Rating':pd.Series([9.5,8.5,8,8.25,8.55,9.1]),\n",
    "                            'year_of_release':pd.Series([1970,1998,2000,1995,2003,1998])}\n",
    "#Creating the dataframe\n",
    "sf=pd.DataFrame(data)\n",
    "sf.sum()"
   ]
  },
  {
   "cell_type": "code",
   "execution_count": 209,
   "id": "24c77769",
   "metadata": {},
   "outputs": [
    {
     "name": "stderr",
     "output_type": "stream",
     "text": [
      "C:\\Users\\pc\\AppData\\Local\\Temp/ipykernel_14856/1490777769.py:4: FutureWarning: Dropping of nuisance columns in DataFrame reductions (with 'numeric_only=None') is deprecated; in a future version this will raise TypeError.  Select only valid columns before calling the reduction.\n",
      "  sf.mean()\n"
     ]
    },
    {
     "data": {
      "text/plain": [
       "No_of_years          17.833333\n",
       "Rating                8.650000\n",
       "year_of_release    1994.000000\n",
       "dtype: float64"
      ]
     },
     "execution_count": 209,
     "metadata": {},
     "output_type": "execute_result"
    }
   ],
   "source": [
    "#mean()\n",
    "sf=pd.DataFrame(data)\n",
    "sf\n",
    "sf.mean()"
   ]
  },
  {
   "cell_type": "code",
   "execution_count": 207,
   "id": "bef5926f",
   "metadata": {},
   "outputs": [
    {
     "name": "stdout",
     "output_type": "stream",
     "text": [
      "No_of_years        16.351351\n",
      "Rating              0.554977\n",
      "year_of_release    12.049896\n",
      "dtype: float64\n"
     ]
    },
    {
     "name": "stderr",
     "output_type": "stream",
     "text": [
      "C:\\Users\\pc\\AppData\\Local\\Temp/ipykernel_14856/671552162.py:1: FutureWarning: Dropping of nuisance columns in DataFrame reductions (with 'numeric_only=None') is deprecated; in a future version this will raise TypeError.  Select only valid columns before calling the reduction.\n",
      "  print(sf.std())\n"
     ]
    }
   ],
   "source": [
    "#sstd()\n",
    "print(sf.std())"
   ]
  },
  {
   "cell_type": "code",
   "execution_count": 211,
   "id": "143da9e6",
   "metadata": {},
   "outputs": [
    {
     "data": {
      "text/plain": [
       "Movie_name         Ben10\n",
       "No_of_years            8\n",
       "Rating               8.0\n",
       "year_of_release     1970\n",
       "dtype: object"
      ]
     },
     "execution_count": 211,
     "metadata": {},
     "output_type": "execute_result"
    }
   ],
   "source": [
    "#Functions and Description\n",
    "\n",
    "'''count()\n",
    "sum()\n",
    "mean()\n",
    "median()\n",
    "mode()\n",
    "std()\n",
    "min()\n",
    "max()\n",
    "abs()\n",
    "cumsum()\n",
    "cumprod()\n",
    "abs() and cumprod() will throw exceptional errors'''\n",
    "sf.min()\n"
   ]
  },
  {
   "cell_type": "code",
   "execution_count": 212,
   "id": "1b4173a3",
   "metadata": {},
   "outputs": [
    {
     "data": {
      "text/plain": [
       "Movie_name         pokemon\n",
       "No_of_years             50\n",
       "Rating                 9.5\n",
       "year_of_release       2003\n",
       "dtype: object"
      ]
     },
     "execution_count": 212,
     "metadata": {},
     "output_type": "execute_result"
    }
   ],
   "source": [
    "sf.max()"
   ]
  },
  {
   "cell_type": "code",
   "execution_count": 214,
   "id": "08da1f53",
   "metadata": {},
   "outputs": [
    {
     "data": {
      "text/html": [
       "<div>\n",
       "<style scoped>\n",
       "    .dataframe tbody tr th:only-of-type {\n",
       "        vertical-align: middle;\n",
       "    }\n",
       "\n",
       "    .dataframe tbody tr th {\n",
       "        vertical-align: top;\n",
       "    }\n",
       "\n",
       "    .dataframe thead th {\n",
       "        text-align: right;\n",
       "    }\n",
       "</style>\n",
       "<table border=\"1\" class=\"dataframe\">\n",
       "  <thead>\n",
       "    <tr style=\"text-align: right;\">\n",
       "      <th></th>\n",
       "      <th>Movie_name</th>\n",
       "      <th>No_of_years</th>\n",
       "      <th>Rating</th>\n",
       "      <th>year_of_release</th>\n",
       "    </tr>\n",
       "  </thead>\n",
       "  <tbody>\n",
       "    <tr>\n",
       "      <th>0</th>\n",
       "      <td>Tom&amp;Jerry</td>\n",
       "      <td>50</td>\n",
       "      <td>9.50</td>\n",
       "      <td>1970</td>\n",
       "    </tr>\n",
       "    <tr>\n",
       "      <th>1</th>\n",
       "      <td>Tom&amp;JerryBen10</td>\n",
       "      <td>60</td>\n",
       "      <td>18.00</td>\n",
       "      <td>3968</td>\n",
       "    </tr>\n",
       "    <tr>\n",
       "      <th>2</th>\n",
       "      <td>Tom&amp;JerryBen10Courage_the_dog</td>\n",
       "      <td>80</td>\n",
       "      <td>26.00</td>\n",
       "      <td>5968</td>\n",
       "    </tr>\n",
       "    <tr>\n",
       "      <th>3</th>\n",
       "      <td>Tom&amp;JerryBen10Courage_the_doglunyTunes</td>\n",
       "      <td>90</td>\n",
       "      <td>34.25</td>\n",
       "      <td>7963</td>\n",
       "    </tr>\n",
       "    <tr>\n",
       "      <th>4</th>\n",
       "      <td>Tom&amp;JerryBen10Courage_the_doglunyTunespokemon</td>\n",
       "      <td>99</td>\n",
       "      <td>42.80</td>\n",
       "      <td>9966</td>\n",
       "    </tr>\n",
       "    <tr>\n",
       "      <th>5</th>\n",
       "      <td>Tom&amp;JerryBen10Courage_the_doglunyTunespokemond...</td>\n",
       "      <td>107</td>\n",
       "      <td>51.90</td>\n",
       "      <td>11964</td>\n",
       "    </tr>\n",
       "  </tbody>\n",
       "</table>\n",
       "</div>"
      ],
      "text/plain": [
       "                                          Movie_name  No_of_years  Rating  \\\n",
       "0                                          Tom&Jerry           50    9.50   \n",
       "1                                     Tom&JerryBen10           60   18.00   \n",
       "2                      Tom&JerryBen10Courage_the_dog           80   26.00   \n",
       "3             Tom&JerryBen10Courage_the_doglunyTunes           90   34.25   \n",
       "4      Tom&JerryBen10Courage_the_doglunyTunespokemon           99   42.80   \n",
       "5  Tom&JerryBen10Courage_the_doglunyTunespokemond...          107   51.90   \n",
       "\n",
       "   year_of_release  \n",
       "0             1970  \n",
       "1             3968  \n",
       "2             5968  \n",
       "3             7963  \n",
       "4             9966  \n",
       "5            11964  "
      ]
     },
     "execution_count": 214,
     "metadata": {},
     "output_type": "execute_result"
    }
   ],
   "source": [
    "sf.cumsum()"
   ]
  },
  {
   "cell_type": "code",
   "execution_count": 220,
   "id": "c448642d",
   "metadata": {},
   "outputs": [
    {
     "data": {
      "text/plain": [
       "Movie_name         6\n",
       "No_of_years        6\n",
       "Rating             6\n",
       "year_of_release    6\n",
       "dtype: int64"
      ]
     },
     "execution_count": 220,
     "metadata": {},
     "output_type": "execute_result"
    }
   ],
   "source": [
    "sf.count()"
   ]
  },
  {
   "cell_type": "code",
   "execution_count": 221,
   "id": "190c0fde",
   "metadata": {},
   "outputs": [
    {
     "data": {
      "text/html": [
       "<div>\n",
       "<style scoped>\n",
       "    .dataframe tbody tr th:only-of-type {\n",
       "        vertical-align: middle;\n",
       "    }\n",
       "\n",
       "    .dataframe tbody tr th {\n",
       "        vertical-align: top;\n",
       "    }\n",
       "\n",
       "    .dataframe thead th {\n",
       "        text-align: right;\n",
       "    }\n",
       "</style>\n",
       "<table border=\"1\" class=\"dataframe\">\n",
       "  <thead>\n",
       "    <tr style=\"text-align: right;\">\n",
       "      <th></th>\n",
       "      <th>No_of_years</th>\n",
       "      <th>Rating</th>\n",
       "      <th>year_of_release</th>\n",
       "    </tr>\n",
       "  </thead>\n",
       "  <tbody>\n",
       "    <tr>\n",
       "      <th>count</th>\n",
       "      <td>6.000000</td>\n",
       "      <td>6.000000</td>\n",
       "      <td>6.000000</td>\n",
       "    </tr>\n",
       "    <tr>\n",
       "      <th>mean</th>\n",
       "      <td>17.833333</td>\n",
       "      <td>8.650000</td>\n",
       "      <td>1994.000000</td>\n",
       "    </tr>\n",
       "    <tr>\n",
       "      <th>std</th>\n",
       "      <td>16.351351</td>\n",
       "      <td>0.554977</td>\n",
       "      <td>12.049896</td>\n",
       "    </tr>\n",
       "    <tr>\n",
       "      <th>min</th>\n",
       "      <td>8.000000</td>\n",
       "      <td>8.000000</td>\n",
       "      <td>1970.000000</td>\n",
       "    </tr>\n",
       "    <tr>\n",
       "      <th>25%</th>\n",
       "      <td>9.250000</td>\n",
       "      <td>8.312500</td>\n",
       "      <td>1995.750000</td>\n",
       "    </tr>\n",
       "    <tr>\n",
       "      <th>50%</th>\n",
       "      <td>10.000000</td>\n",
       "      <td>8.525000</td>\n",
       "      <td>1998.000000</td>\n",
       "    </tr>\n",
       "    <tr>\n",
       "      <th>75%</th>\n",
       "      <td>17.500000</td>\n",
       "      <td>8.962500</td>\n",
       "      <td>1999.500000</td>\n",
       "    </tr>\n",
       "    <tr>\n",
       "      <th>max</th>\n",
       "      <td>50.000000</td>\n",
       "      <td>9.500000</td>\n",
       "      <td>2003.000000</td>\n",
       "    </tr>\n",
       "  </tbody>\n",
       "</table>\n",
       "</div>"
      ],
      "text/plain": [
       "       No_of_years    Rating  year_of_release\n",
       "count     6.000000  6.000000         6.000000\n",
       "mean     17.833333  8.650000      1994.000000\n",
       "std      16.351351  0.554977        12.049896\n",
       "min       8.000000  8.000000      1970.000000\n",
       "25%       9.250000  8.312500      1995.750000\n",
       "50%      10.000000  8.525000      1998.000000\n",
       "75%      17.500000  8.962500      1999.500000\n",
       "max      50.000000  9.500000      2003.000000"
      ]
     },
     "execution_count": 221,
     "metadata": {},
     "output_type": "execute_result"
    }
   ],
   "source": [
    "sf.describe()"
   ]
  },
  {
   "cell_type": "markdown",
   "id": "58cb856b",
   "metadata": {},
   "source": [
    "# Function Application:- pipe(), apply(),applymap()"
   ]
  },
  {
   "cell_type": "code",
   "execution_count": 10,
   "id": "45dec4a0",
   "metadata": {},
   "outputs": [
    {
     "data": {
      "application/javascript": [
       "\n",
       "        if (window._pyforest_update_imports_cell) { window._pyforest_update_imports_cell('import pandas as pd'); }\n",
       "    "
      ],
      "text/plain": [
       "<IPython.core.display.Javascript object>"
      ]
     },
     "metadata": {},
     "output_type": "display_data"
    },
    {
     "data": {
      "text/plain": [
       "0    28\n",
       "1    50\n",
       "2    81\n",
       "3    41\n",
       "4    83\n",
       "5    24\n",
       "6    88\n",
       "7    81\n",
       "dtype: int64"
      ]
     },
     "execution_count": 10,
     "metadata": {},
     "output_type": "execute_result"
    }
   ],
   "source": [
    "#pipe()-tablwise function applications in pandas\n",
    "#apply()- row/coulmn wise function operation\n",
    "#applymap()- element wise fuction \n",
    "def adder(el1, el2):\n",
    "    return el1+el2\n",
    "s1=pd.Series([23,45,76,36,78,19,83,76])\n",
    "s1.pipe(adder,5)"
   ]
  },
  {
   "cell_type": "code",
   "execution_count": 11,
   "id": "6a4b3f0a",
   "metadata": {},
   "outputs": [
    {
     "data": {
      "application/javascript": [
       "\n",
       "        if (window._pyforest_update_imports_cell) { window._pyforest_update_imports_cell('import pandas as pd'); }\n",
       "    "
      ],
      "text/plain": [
       "<IPython.core.display.Javascript object>"
      ]
     },
     "metadata": {},
     "output_type": "display_data"
    },
    {
     "data": {
      "text/plain": [
       "0    35\n",
       "1    57\n",
       "2    27\n",
       "3    76\n",
       "4    83\n",
       "5    13\n",
       "6    46\n",
       "7    68\n",
       "8    80\n",
       "dtype: int64"
      ]
     },
     "execution_count": 11,
     "metadata": {},
     "output_type": "execute_result"
    }
   ],
   "source": [
    "def sub(el1,el2):\n",
    "    return el1-el2\n",
    "s2=pd.Series([45,67,37,86,93,23,56,78,90])\n",
    "s2.pipe(sub,10)"
   ]
  },
  {
   "cell_type": "code",
   "execution_count": 13,
   "id": "258cc382",
   "metadata": {},
   "outputs": [
    {
     "data": {
      "application/javascript": [
       "\n",
       "        if (window._pyforest_update_imports_cell) { window._pyforest_update_imports_cell('import pandas as pd'); }\n",
       "    "
      ],
      "text/plain": [
       "<IPython.core.display.Javascript object>"
      ]
     },
     "metadata": {},
     "output_type": "display_data"
    },
    {
     "data": {
      "text/plain": [
       "0     306\n",
       "1     504\n",
       "2     702\n",
       "3     810\n",
       "4     288\n",
       "5     405\n",
       "6     603\n",
       "7     801\n",
       "8     288\n",
       "9     405\n",
       "10    603\n",
       "dtype: int64"
      ]
     },
     "execution_count": 13,
     "metadata": {},
     "output_type": "execute_result"
    }
   ],
   "source": [
    "def mul(el1,el2,el3):\n",
    "    return el1*el2*el3\n",
    "s3=pd.Series([34,56,78,90,32,45,67,89,32,45,67])\n",
    "s3.pipe(mul,3,3)"
   ]
  },
  {
   "cell_type": "code",
   "execution_count": 17,
   "id": "4279d34a",
   "metadata": {},
   "outputs": [
    {
     "data": {
      "application/javascript": [
       "\n",
       "        if (window._pyforest_update_imports_cell) { window._pyforest_update_imports_cell('import pandas as pd'); }\n",
       "    "
      ],
      "text/plain": [
       "<IPython.core.display.Javascript object>"
      ]
     },
     "metadata": {},
     "output_type": "display_data"
    },
    {
     "data": {
      "text/plain": [
       "0      6.8\n",
       "1     11.2\n",
       "2     15.6\n",
       "3     18.0\n",
       "4      6.4\n",
       "5      9.0\n",
       "6     13.4\n",
       "7     17.8\n",
       "8      6.4\n",
       "9      9.0\n",
       "10    13.4\n",
       "dtype: float64"
      ]
     },
     "execution_count": 17,
     "metadata": {},
     "output_type": "execute_result"
    }
   ],
   "source": [
    "def div(el1,el2):\n",
    "    return el1/el2\n",
    "s4=pd.Series([45,60,90,20,30,40,50,60,70])\n",
    "s3.pipe(div,5)"
   ]
  },
  {
   "cell_type": "code",
   "execution_count": 21,
   "id": "d5f3578d",
   "metadata": {},
   "outputs": [
    {
     "data": {
      "application/javascript": [
       "\n",
       "        if (window._pyforest_update_imports_cell) { window._pyforest_update_imports_cell('import pandas as pd'); }\n",
       "    "
      ],
      "text/plain": [
       "<IPython.core.display.Javascript object>"
      ]
     },
     "metadata": {},
     "output_type": "display_data"
    },
    {
     "data": {
      "text/plain": [
       "0      25\n",
       "1    2916\n",
       "2    1156\n",
       "3    4489\n",
       "4    7225\n",
       "5    4096\n",
       "6    1156\n",
       "dtype: int64"
      ]
     },
     "execution_count": 21,
     "metadata": {},
     "output_type": "execute_result"
    }
   ],
   "source": [
    "#apply():row or column wise operation\n",
    "def sq(el1):\n",
    "    return el1*el1\n",
    "s5=pd.Series([5,54,34,67,85,64,34])\n",
    "s5.apply(sq)"
   ]
  },
  {
   "cell_type": "code",
   "execution_count": 25,
   "id": "bc421303",
   "metadata": {},
   "outputs": [
    {
     "data": {
      "application/javascript": [
       "\n",
       "        if (window._pyforest_update_imports_cell) { window._pyforest_update_imports_cell('import pandas as pd'); }\n",
       "    "
      ],
      "text/plain": [
       "<IPython.core.display.Javascript object>"
      ]
     },
     "metadata": {},
     "output_type": "display_data"
    },
    {
     "data": {
      "text/html": [
       "<div>\n",
       "<style scoped>\n",
       "    .dataframe tbody tr th:only-of-type {\n",
       "        vertical-align: middle;\n",
       "    }\n",
       "\n",
       "    .dataframe tbody tr th {\n",
       "        vertical-align: top;\n",
       "    }\n",
       "\n",
       "    .dataframe thead th {\n",
       "        text-align: right;\n",
       "    }\n",
       "</style>\n",
       "<table border=\"1\" class=\"dataframe\">\n",
       "  <thead>\n",
       "    <tr style=\"text-align: right;\">\n",
       "      <th></th>\n",
       "      <th>longitude</th>\n",
       "      <th>latitude</th>\n",
       "      <th>housing_median_age</th>\n",
       "      <th>total_rooms</th>\n",
       "      <th>total_bedrooms</th>\n",
       "      <th>population</th>\n",
       "      <th>households</th>\n",
       "      <th>median_income</th>\n",
       "      <th>ocean_proximity</th>\n",
       "      <th>median_house_value</th>\n",
       "    </tr>\n",
       "  </thead>\n",
       "  <tbody>\n",
       "    <tr>\n",
       "      <th>0</th>\n",
       "      <td>-122.23</td>\n",
       "      <td>37.88</td>\n",
       "      <td>41</td>\n",
       "      <td>880</td>\n",
       "      <td>129.0</td>\n",
       "      <td>322</td>\n",
       "      <td>126</td>\n",
       "      <td>8.3252</td>\n",
       "      <td>NEAR BAY</td>\n",
       "      <td>452600</td>\n",
       "    </tr>\n",
       "    <tr>\n",
       "      <th>1</th>\n",
       "      <td>-122.22</td>\n",
       "      <td>37.86</td>\n",
       "      <td>21</td>\n",
       "      <td>7099</td>\n",
       "      <td>1106.0</td>\n",
       "      <td>2401</td>\n",
       "      <td>1138</td>\n",
       "      <td>8.3014</td>\n",
       "      <td>NEAR BAY</td>\n",
       "      <td>358500</td>\n",
       "    </tr>\n",
       "    <tr>\n",
       "      <th>2</th>\n",
       "      <td>-122.24</td>\n",
       "      <td>37.85</td>\n",
       "      <td>52</td>\n",
       "      <td>1467</td>\n",
       "      <td>190.0</td>\n",
       "      <td>496</td>\n",
       "      <td>177</td>\n",
       "      <td>7.2574</td>\n",
       "      <td>NEAR BAY</td>\n",
       "      <td>352100</td>\n",
       "    </tr>\n",
       "    <tr>\n",
       "      <th>3</th>\n",
       "      <td>-122.25</td>\n",
       "      <td>37.85</td>\n",
       "      <td>52</td>\n",
       "      <td>1274</td>\n",
       "      <td>235.0</td>\n",
       "      <td>558</td>\n",
       "      <td>219</td>\n",
       "      <td>5.6431</td>\n",
       "      <td>NEAR BAY</td>\n",
       "      <td>341300</td>\n",
       "    </tr>\n",
       "    <tr>\n",
       "      <th>4</th>\n",
       "      <td>-122.25</td>\n",
       "      <td>37.85</td>\n",
       "      <td>52</td>\n",
       "      <td>1627</td>\n",
       "      <td>280.0</td>\n",
       "      <td>565</td>\n",
       "      <td>259</td>\n",
       "      <td>3.8462</td>\n",
       "      <td>NEAR BAY</td>\n",
       "      <td>342200</td>\n",
       "    </tr>\n",
       "    <tr>\n",
       "      <th>...</th>\n",
       "      <td>...</td>\n",
       "      <td>...</td>\n",
       "      <td>...</td>\n",
       "      <td>...</td>\n",
       "      <td>...</td>\n",
       "      <td>...</td>\n",
       "      <td>...</td>\n",
       "      <td>...</td>\n",
       "      <td>...</td>\n",
       "      <td>...</td>\n",
       "    </tr>\n",
       "    <tr>\n",
       "      <th>20635</th>\n",
       "      <td>-121.09</td>\n",
       "      <td>39.48</td>\n",
       "      <td>25</td>\n",
       "      <td>1665</td>\n",
       "      <td>374.0</td>\n",
       "      <td>845</td>\n",
       "      <td>330</td>\n",
       "      <td>1.5603</td>\n",
       "      <td>INLAND</td>\n",
       "      <td>78100</td>\n",
       "    </tr>\n",
       "    <tr>\n",
       "      <th>20636</th>\n",
       "      <td>-121.21</td>\n",
       "      <td>39.49</td>\n",
       "      <td>18</td>\n",
       "      <td>697</td>\n",
       "      <td>150.0</td>\n",
       "      <td>356</td>\n",
       "      <td>114</td>\n",
       "      <td>2.5568</td>\n",
       "      <td>INLAND</td>\n",
       "      <td>77100</td>\n",
       "    </tr>\n",
       "    <tr>\n",
       "      <th>20637</th>\n",
       "      <td>-121.22</td>\n",
       "      <td>39.43</td>\n",
       "      <td>17</td>\n",
       "      <td>2254</td>\n",
       "      <td>485.0</td>\n",
       "      <td>1007</td>\n",
       "      <td>433</td>\n",
       "      <td>1.7000</td>\n",
       "      <td>INLAND</td>\n",
       "      <td>92300</td>\n",
       "    </tr>\n",
       "    <tr>\n",
       "      <th>20638</th>\n",
       "      <td>-121.32</td>\n",
       "      <td>39.43</td>\n",
       "      <td>18</td>\n",
       "      <td>1860</td>\n",
       "      <td>409.0</td>\n",
       "      <td>741</td>\n",
       "      <td>349</td>\n",
       "      <td>1.8672</td>\n",
       "      <td>INLAND</td>\n",
       "      <td>84700</td>\n",
       "    </tr>\n",
       "    <tr>\n",
       "      <th>20639</th>\n",
       "      <td>-121.24</td>\n",
       "      <td>39.37</td>\n",
       "      <td>16</td>\n",
       "      <td>2785</td>\n",
       "      <td>616.0</td>\n",
       "      <td>1387</td>\n",
       "      <td>530</td>\n",
       "      <td>2.3886</td>\n",
       "      <td>INLAND</td>\n",
       "      <td>89400</td>\n",
       "    </tr>\n",
       "  </tbody>\n",
       "</table>\n",
       "<p>20640 rows × 10 columns</p>\n",
       "</div>"
      ],
      "text/plain": [
       "       longitude  latitude  housing_median_age  total_rooms  total_bedrooms  \\\n",
       "0        -122.23     37.88                  41          880           129.0   \n",
       "1        -122.22     37.86                  21         7099          1106.0   \n",
       "2        -122.24     37.85                  52         1467           190.0   \n",
       "3        -122.25     37.85                  52         1274           235.0   \n",
       "4        -122.25     37.85                  52         1627           280.0   \n",
       "...          ...       ...                 ...          ...             ...   \n",
       "20635    -121.09     39.48                  25         1665           374.0   \n",
       "20636    -121.21     39.49                  18          697           150.0   \n",
       "20637    -121.22     39.43                  17         2254           485.0   \n",
       "20638    -121.32     39.43                  18         1860           409.0   \n",
       "20639    -121.24     39.37                  16         2785           616.0   \n",
       "\n",
       "       population  households  median_income ocean_proximity  \\\n",
       "0             322         126         8.3252        NEAR BAY   \n",
       "1            2401        1138         8.3014        NEAR BAY   \n",
       "2             496         177         7.2574        NEAR BAY   \n",
       "3             558         219         5.6431        NEAR BAY   \n",
       "4             565         259         3.8462        NEAR BAY   \n",
       "...           ...         ...            ...             ...   \n",
       "20635         845         330         1.5603          INLAND   \n",
       "20636         356         114         2.5568          INLAND   \n",
       "20637        1007         433         1.7000          INLAND   \n",
       "20638         741         349         1.8672          INLAND   \n",
       "20639        1387         530         2.3886          INLAND   \n",
       "\n",
       "       median_house_value  \n",
       "0                  452600  \n",
       "1                  358500  \n",
       "2                  352100  \n",
       "3                  341300  \n",
       "4                  342200  \n",
       "...                   ...  \n",
       "20635               78100  \n",
       "20636               77100  \n",
       "20637               92300  \n",
       "20638               84700  \n",
       "20639               89400  \n",
       "\n",
       "[20640 rows x 10 columns]"
      ]
     },
     "execution_count": 25,
     "metadata": {},
     "output_type": "execute_result"
    }
   ],
   "source": [
    "p=pd.read_csv('housing_dataset.csv')\n",
    "p"
   ]
  },
  {
   "cell_type": "code",
   "execution_count": 49,
   "id": "871f1817",
   "metadata": {},
   "outputs": [
    {
     "ename": "TypeError",
     "evalue": "<lambda>() missing 1 required positional argument: 'el2'",
     "output_type": "error",
     "traceback": [
      "\u001b[1;31m---------------------------------------------------------------------------\u001b[0m",
      "\u001b[1;31mTypeError\u001b[0m                                 Traceback (most recent call last)",
      "\u001b[1;32m~\\AppData\\Local\\Temp/ipykernel_18688/2334403976.py\u001b[0m in \u001b[0;36m<module>\u001b[1;34m\u001b[0m\n\u001b[0;32m      3\u001b[0m     \u001b[1;32mreturn\u001b[0m \u001b[0mel1\u001b[0m\u001b[1;33m,\u001b[0m\u001b[0mel2\u001b[0m\u001b[1;33m\u001b[0m\u001b[1;33m\u001b[0m\u001b[0m\n\u001b[0;32m      4\u001b[0m \u001b[1;33m\u001b[0m\u001b[0m\n\u001b[1;32m----> 5\u001b[1;33m \u001b[0ms6\u001b[0m\u001b[1;33m=\u001b[0m\u001b[0mp\u001b[0m\u001b[1;33m.\u001b[0m\u001b[0mapplymap\u001b[0m\u001b[1;33m(\u001b[0m\u001b[1;32mlambda\u001b[0m \u001b[0mel1\u001b[0m\u001b[1;33m,\u001b[0m\u001b[0mel2\u001b[0m \u001b[1;33m:\u001b[0m\u001b[0mel\u001b[0m\u001b[1;33m*\u001b[0m\u001b[0mel2\u001b[0m\u001b[1;33m)\u001b[0m\u001b[1;33m\u001b[0m\u001b[1;33m\u001b[0m\u001b[0m\n\u001b[0m",
      "\u001b[1;32mc:\\users\\pc\\appdata\\local\\programs\\python\\python38\\lib\\site-packages\\pandas\\core\\frame.py\u001b[0m in \u001b[0;36mapplymap\u001b[1;34m(self, func, na_action, **kwargs)\u001b[0m\n\u001b[0;32m   8819\u001b[0m             \u001b[1;32mreturn\u001b[0m \u001b[0mlib\u001b[0m\u001b[1;33m.\u001b[0m\u001b[0mmap_infer\u001b[0m\u001b[1;33m(\u001b[0m\u001b[0mx\u001b[0m\u001b[1;33m.\u001b[0m\u001b[0mastype\u001b[0m\u001b[1;33m(\u001b[0m\u001b[0mobject\u001b[0m\u001b[1;33m)\u001b[0m\u001b[1;33m.\u001b[0m\u001b[0m_values\u001b[0m\u001b[1;33m,\u001b[0m \u001b[0mfunc\u001b[0m\u001b[1;33m,\u001b[0m \u001b[0mignore_na\u001b[0m\u001b[1;33m=\u001b[0m\u001b[0mignore_na\u001b[0m\u001b[1;33m)\u001b[0m\u001b[1;33m\u001b[0m\u001b[1;33m\u001b[0m\u001b[0m\n\u001b[0;32m   8820\u001b[0m \u001b[1;33m\u001b[0m\u001b[0m\n\u001b[1;32m-> 8821\u001b[1;33m         \u001b[1;32mreturn\u001b[0m \u001b[0mself\u001b[0m\u001b[1;33m.\u001b[0m\u001b[0mapply\u001b[0m\u001b[1;33m(\u001b[0m\u001b[0minfer\u001b[0m\u001b[1;33m)\u001b[0m\u001b[1;33m.\u001b[0m\u001b[0m__finalize__\u001b[0m\u001b[1;33m(\u001b[0m\u001b[0mself\u001b[0m\u001b[1;33m,\u001b[0m \u001b[1;34m\"applymap\"\u001b[0m\u001b[1;33m)\u001b[0m\u001b[1;33m\u001b[0m\u001b[1;33m\u001b[0m\u001b[0m\n\u001b[0m\u001b[0;32m   8822\u001b[0m \u001b[1;33m\u001b[0m\u001b[0m\n\u001b[0;32m   8823\u001b[0m     \u001b[1;31m# ----------------------------------------------------------------------\u001b[0m\u001b[1;33m\u001b[0m\u001b[1;33m\u001b[0m\u001b[1;33m\u001b[0m\u001b[0m\n",
      "\u001b[1;32mc:\\users\\pc\\appdata\\local\\programs\\python\\python38\\lib\\site-packages\\pandas\\core\\frame.py\u001b[0m in \u001b[0;36mapply\u001b[1;34m(self, func, axis, raw, result_type, args, **kwargs)\u001b[0m\n\u001b[0;32m   8734\u001b[0m             \u001b[0mkwargs\u001b[0m\u001b[1;33m=\u001b[0m\u001b[0mkwargs\u001b[0m\u001b[1;33m,\u001b[0m\u001b[1;33m\u001b[0m\u001b[1;33m\u001b[0m\u001b[0m\n\u001b[0;32m   8735\u001b[0m         )\n\u001b[1;32m-> 8736\u001b[1;33m         \u001b[1;32mreturn\u001b[0m \u001b[0mop\u001b[0m\u001b[1;33m.\u001b[0m\u001b[0mapply\u001b[0m\u001b[1;33m(\u001b[0m\u001b[1;33m)\u001b[0m\u001b[1;33m\u001b[0m\u001b[1;33m\u001b[0m\u001b[0m\n\u001b[0m\u001b[0;32m   8737\u001b[0m \u001b[1;33m\u001b[0m\u001b[0m\n\u001b[0;32m   8738\u001b[0m     def applymap(\n",
      "\u001b[1;32mc:\\users\\pc\\appdata\\local\\programs\\python\\python38\\lib\\site-packages\\pandas\\core\\apply.py\u001b[0m in \u001b[0;36mapply\u001b[1;34m(self)\u001b[0m\n\u001b[0;32m    686\u001b[0m             \u001b[1;32mreturn\u001b[0m \u001b[0mself\u001b[0m\u001b[1;33m.\u001b[0m\u001b[0mapply_raw\u001b[0m\u001b[1;33m(\u001b[0m\u001b[1;33m)\u001b[0m\u001b[1;33m\u001b[0m\u001b[1;33m\u001b[0m\u001b[0m\n\u001b[0;32m    687\u001b[0m \u001b[1;33m\u001b[0m\u001b[0m\n\u001b[1;32m--> 688\u001b[1;33m         \u001b[1;32mreturn\u001b[0m \u001b[0mself\u001b[0m\u001b[1;33m.\u001b[0m\u001b[0mapply_standard\u001b[0m\u001b[1;33m(\u001b[0m\u001b[1;33m)\u001b[0m\u001b[1;33m\u001b[0m\u001b[1;33m\u001b[0m\u001b[0m\n\u001b[0m\u001b[0;32m    689\u001b[0m \u001b[1;33m\u001b[0m\u001b[0m\n\u001b[0;32m    690\u001b[0m     \u001b[1;32mdef\u001b[0m \u001b[0magg\u001b[0m\u001b[1;33m(\u001b[0m\u001b[0mself\u001b[0m\u001b[1;33m)\u001b[0m\u001b[1;33m:\u001b[0m\u001b[1;33m\u001b[0m\u001b[1;33m\u001b[0m\u001b[0m\n",
      "\u001b[1;32mc:\\users\\pc\\appdata\\local\\programs\\python\\python38\\lib\\site-packages\\pandas\\core\\apply.py\u001b[0m in \u001b[0;36mapply_standard\u001b[1;34m(self)\u001b[0m\n\u001b[0;32m    803\u001b[0m \u001b[1;33m\u001b[0m\u001b[0m\n\u001b[0;32m    804\u001b[0m     \u001b[1;32mdef\u001b[0m \u001b[0mapply_standard\u001b[0m\u001b[1;33m(\u001b[0m\u001b[0mself\u001b[0m\u001b[1;33m)\u001b[0m\u001b[1;33m:\u001b[0m\u001b[1;33m\u001b[0m\u001b[1;33m\u001b[0m\u001b[0m\n\u001b[1;32m--> 805\u001b[1;33m         \u001b[0mresults\u001b[0m\u001b[1;33m,\u001b[0m \u001b[0mres_index\u001b[0m \u001b[1;33m=\u001b[0m \u001b[0mself\u001b[0m\u001b[1;33m.\u001b[0m\u001b[0mapply_series_generator\u001b[0m\u001b[1;33m(\u001b[0m\u001b[1;33m)\u001b[0m\u001b[1;33m\u001b[0m\u001b[1;33m\u001b[0m\u001b[0m\n\u001b[0m\u001b[0;32m    806\u001b[0m \u001b[1;33m\u001b[0m\u001b[0m\n\u001b[0;32m    807\u001b[0m         \u001b[1;31m# wrap results\u001b[0m\u001b[1;33m\u001b[0m\u001b[1;33m\u001b[0m\u001b[1;33m\u001b[0m\u001b[0m\n",
      "\u001b[1;32mc:\\users\\pc\\appdata\\local\\programs\\python\\python38\\lib\\site-packages\\pandas\\core\\apply.py\u001b[0m in \u001b[0;36mapply_series_generator\u001b[1;34m(self)\u001b[0m\n\u001b[0;32m    819\u001b[0m             \u001b[1;32mfor\u001b[0m \u001b[0mi\u001b[0m\u001b[1;33m,\u001b[0m \u001b[0mv\u001b[0m \u001b[1;32min\u001b[0m \u001b[0menumerate\u001b[0m\u001b[1;33m(\u001b[0m\u001b[0mseries_gen\u001b[0m\u001b[1;33m)\u001b[0m\u001b[1;33m:\u001b[0m\u001b[1;33m\u001b[0m\u001b[1;33m\u001b[0m\u001b[0m\n\u001b[0;32m    820\u001b[0m                 \u001b[1;31m# ignore SettingWithCopy here in case the user mutates\u001b[0m\u001b[1;33m\u001b[0m\u001b[1;33m\u001b[0m\u001b[1;33m\u001b[0m\u001b[0m\n\u001b[1;32m--> 821\u001b[1;33m                 \u001b[0mresults\u001b[0m\u001b[1;33m[\u001b[0m\u001b[0mi\u001b[0m\u001b[1;33m]\u001b[0m \u001b[1;33m=\u001b[0m \u001b[0mself\u001b[0m\u001b[1;33m.\u001b[0m\u001b[0mf\u001b[0m\u001b[1;33m(\u001b[0m\u001b[0mv\u001b[0m\u001b[1;33m)\u001b[0m\u001b[1;33m\u001b[0m\u001b[1;33m\u001b[0m\u001b[0m\n\u001b[0m\u001b[0;32m    822\u001b[0m                 \u001b[1;32mif\u001b[0m \u001b[0misinstance\u001b[0m\u001b[1;33m(\u001b[0m\u001b[0mresults\u001b[0m\u001b[1;33m[\u001b[0m\u001b[0mi\u001b[0m\u001b[1;33m]\u001b[0m\u001b[1;33m,\u001b[0m \u001b[0mABCSeries\u001b[0m\u001b[1;33m)\u001b[0m\u001b[1;33m:\u001b[0m\u001b[1;33m\u001b[0m\u001b[1;33m\u001b[0m\u001b[0m\n\u001b[0;32m    823\u001b[0m                     \u001b[1;31m# If we have a view on v, we need to make a copy because\u001b[0m\u001b[1;33m\u001b[0m\u001b[1;33m\u001b[0m\u001b[1;33m\u001b[0m\u001b[0m\n",
      "\u001b[1;32mc:\\users\\pc\\appdata\\local\\programs\\python\\python38\\lib\\site-packages\\pandas\\core\\frame.py\u001b[0m in \u001b[0;36minfer\u001b[1;34m(x)\u001b[0m\n\u001b[0;32m   8817\u001b[0m             \u001b[1;32mif\u001b[0m \u001b[0mx\u001b[0m\u001b[1;33m.\u001b[0m\u001b[0mempty\u001b[0m\u001b[1;33m:\u001b[0m\u001b[1;33m\u001b[0m\u001b[1;33m\u001b[0m\u001b[0m\n\u001b[0;32m   8818\u001b[0m                 \u001b[1;32mreturn\u001b[0m \u001b[0mlib\u001b[0m\u001b[1;33m.\u001b[0m\u001b[0mmap_infer\u001b[0m\u001b[1;33m(\u001b[0m\u001b[0mx\u001b[0m\u001b[1;33m,\u001b[0m \u001b[0mfunc\u001b[0m\u001b[1;33m,\u001b[0m \u001b[0mignore_na\u001b[0m\u001b[1;33m=\u001b[0m\u001b[0mignore_na\u001b[0m\u001b[1;33m)\u001b[0m\u001b[1;33m\u001b[0m\u001b[1;33m\u001b[0m\u001b[0m\n\u001b[1;32m-> 8819\u001b[1;33m             \u001b[1;32mreturn\u001b[0m \u001b[0mlib\u001b[0m\u001b[1;33m.\u001b[0m\u001b[0mmap_infer\u001b[0m\u001b[1;33m(\u001b[0m\u001b[0mx\u001b[0m\u001b[1;33m.\u001b[0m\u001b[0mastype\u001b[0m\u001b[1;33m(\u001b[0m\u001b[0mobject\u001b[0m\u001b[1;33m)\u001b[0m\u001b[1;33m.\u001b[0m\u001b[0m_values\u001b[0m\u001b[1;33m,\u001b[0m \u001b[0mfunc\u001b[0m\u001b[1;33m,\u001b[0m \u001b[0mignore_na\u001b[0m\u001b[1;33m=\u001b[0m\u001b[0mignore_na\u001b[0m\u001b[1;33m)\u001b[0m\u001b[1;33m\u001b[0m\u001b[1;33m\u001b[0m\u001b[0m\n\u001b[0m\u001b[0;32m   8820\u001b[0m \u001b[1;33m\u001b[0m\u001b[0m\n\u001b[0;32m   8821\u001b[0m         \u001b[1;32mreturn\u001b[0m \u001b[0mself\u001b[0m\u001b[1;33m.\u001b[0m\u001b[0mapply\u001b[0m\u001b[1;33m(\u001b[0m\u001b[0minfer\u001b[0m\u001b[1;33m)\u001b[0m\u001b[1;33m.\u001b[0m\u001b[0m__finalize__\u001b[0m\u001b[1;33m(\u001b[0m\u001b[0mself\u001b[0m\u001b[1;33m,\u001b[0m \u001b[1;34m\"applymap\"\u001b[0m\u001b[1;33m)\u001b[0m\u001b[1;33m\u001b[0m\u001b[1;33m\u001b[0m\u001b[0m\n",
      "\u001b[1;32mc:\\users\\pc\\appdata\\local\\programs\\python\\python38\\lib\\site-packages\\pandas\\_libs\\lib.pyx\u001b[0m in \u001b[0;36mpandas._libs.lib.map_infer\u001b[1;34m()\u001b[0m\n",
      "\u001b[1;31mTypeError\u001b[0m: <lambda>() missing 1 required positional argument: 'el2'"
     ]
    }
   ],
   "source": [
    "\n",
    "#applymap():- element wise operation\n",
    "def apply(el1,el2):\n",
    "    return el1,el2\n",
    "\n",
    "s6=p.applymap(lambda el1,el2 :el*el2)"
   ]
  },
  {
   "cell_type": "markdown",
   "id": "8e00c0c0",
   "metadata": {},
   "source": [
    "# Pandas Reindexing\n"
   ]
  },
  {
   "cell_type": "code",
   "execution_count": 51,
   "id": "d8dfd3ba",
   "metadata": {},
   "outputs": [
    {
     "ename": "SyntaxError",
     "evalue": "invalid syntax (Temp/ipykernel_18688/2531583120.py, line 5)",
     "output_type": "error",
     "traceback": [
      "\u001b[1;36m  File \u001b[1;32m\"C:\\Users\\pc\\AppData\\Local\\Temp/ipykernel_18688/2531583120.py\"\u001b[1;36m, line \u001b[1;32m5\u001b[0m\n\u001b[1;33m    import pandas pd\u001b[0m\n\u001b[1;37m                  ^\u001b[0m\n\u001b[1;31mSyntaxError\u001b[0m\u001b[1;31m:\u001b[0m invalid syntax\n"
     ]
    }
   ],
   "source": [
    "'''changes the rows and columns of DataFrame\n",
    "to re-index means to conform the data to match a given set of labels along a particular axis\n",
    "1.Reorder the exisiting data to match a new set of labels.\n",
    "2.Insert missing values(NA) markers in a label locations where no data for label existed.'''\n",
    "import pandas pd \n",
    "import numpy as np\n",
    "N=25\n",
    "\n",
    "gf=pd.DataFrame({'A':pd.date_range(start='2022-01-02',periods=N,freq='D'),\n",
    "                'd':np.linspace(0,stop=N-1,num=N),\n",
    "                'h':np.random.rand(N),\n",
    "                'd':np.random.choice(['LOW','MEDIUM','HIGH'],N).tolist(),\n",
    "                'e':np.random.normal(100,10,size=(N)).tolist()})\n",
    "#reindexing the dataframe:\n",
    "reindexing=df.reindex(index=[0,2,5],columns=['A','c','B'])\n",
    "print(reindexing)"
   ]
  },
  {
   "cell_type": "code",
   "execution_count": 7,
   "id": "f1d19fae",
   "metadata": {},
   "outputs": [
    {
     "data": {
      "text/html": [
       "<div>\n",
       "<style scoped>\n",
       "    .dataframe tbody tr th:only-of-type {\n",
       "        vertical-align: middle;\n",
       "    }\n",
       "\n",
       "    .dataframe tbody tr th {\n",
       "        vertical-align: top;\n",
       "    }\n",
       "\n",
       "    .dataframe thead th {\n",
       "        text-align: right;\n",
       "    }\n",
       "</style>\n",
       "<table border=\"1\" class=\"dataframe\">\n",
       "  <thead>\n",
       "    <tr style=\"text-align: right;\">\n",
       "      <th></th>\n",
       "      <th>a</th>\n",
       "      <th>b</th>\n",
       "      <th>c</th>\n",
       "      <th>d</th>\n",
       "      <th>e</th>\n",
       "      <th>f</th>\n",
       "      <th>g</th>\n",
       "      <th>h</th>\n",
       "    </tr>\n",
       "  </thead>\n",
       "  <tbody>\n",
       "    <tr>\n",
       "      <th>A</th>\n",
       "      <td>0.537788</td>\n",
       "      <td>0.511599</td>\n",
       "      <td>0.649006</td>\n",
       "      <td>0.301078</td>\n",
       "      <td>0.039898</td>\n",
       "      <td>0.843924</td>\n",
       "      <td>0.115725</td>\n",
       "      <td>0.484699</td>\n",
       "    </tr>\n",
       "    <tr>\n",
       "      <th>B</th>\n",
       "      <td>0.856352</td>\n",
       "      <td>0.084263</td>\n",
       "      <td>0.280924</td>\n",
       "      <td>0.124850</td>\n",
       "      <td>0.524319</td>\n",
       "      <td>0.279966</td>\n",
       "      <td>0.826635</td>\n",
       "      <td>0.797516</td>\n",
       "    </tr>\n",
       "    <tr>\n",
       "      <th>C</th>\n",
       "      <td>0.586422</td>\n",
       "      <td>0.496560</td>\n",
       "      <td>0.822271</td>\n",
       "      <td>0.006435</td>\n",
       "      <td>0.315356</td>\n",
       "      <td>0.421567</td>\n",
       "      <td>0.934520</td>\n",
       "      <td>0.153470</td>\n",
       "    </tr>\n",
       "    <tr>\n",
       "      <th>D</th>\n",
       "      <td>0.830449</td>\n",
       "      <td>0.297292</td>\n",
       "      <td>0.011874</td>\n",
       "      <td>0.965130</td>\n",
       "      <td>0.109355</td>\n",
       "      <td>0.375693</td>\n",
       "      <td>0.924413</td>\n",
       "      <td>0.061801</td>\n",
       "    </tr>\n",
       "    <tr>\n",
       "      <th>E</th>\n",
       "      <td>0.779842</td>\n",
       "      <td>0.548387</td>\n",
       "      <td>0.092385</td>\n",
       "      <td>0.438632</td>\n",
       "      <td>0.786386</td>\n",
       "      <td>0.919404</td>\n",
       "      <td>0.969512</td>\n",
       "      <td>0.261241</td>\n",
       "    </tr>\n",
       "    <tr>\n",
       "      <th>F</th>\n",
       "      <td>0.189462</td>\n",
       "      <td>0.734324</td>\n",
       "      <td>0.006318</td>\n",
       "      <td>0.603693</td>\n",
       "      <td>0.500917</td>\n",
       "      <td>0.520185</td>\n",
       "      <td>0.805581</td>\n",
       "      <td>0.223561</td>\n",
       "    </tr>\n",
       "    <tr>\n",
       "      <th>G</th>\n",
       "      <td>0.957964</td>\n",
       "      <td>0.676206</td>\n",
       "      <td>0.416866</td>\n",
       "      <td>0.918802</td>\n",
       "      <td>0.569163</td>\n",
       "      <td>0.025908</td>\n",
       "      <td>0.631193</td>\n",
       "      <td>0.550589</td>\n",
       "    </tr>\n",
       "    <tr>\n",
       "      <th>H</th>\n",
       "      <td>0.547073</td>\n",
       "      <td>0.897266</td>\n",
       "      <td>0.561211</td>\n",
       "      <td>0.433875</td>\n",
       "      <td>0.530035</td>\n",
       "      <td>0.762719</td>\n",
       "      <td>0.324452</td>\n",
       "      <td>0.007397</td>\n",
       "    </tr>\n",
       "  </tbody>\n",
       "</table>\n",
       "</div>"
      ],
      "text/plain": [
       "          a         b         c         d         e         f         g  \\\n",
       "A  0.537788  0.511599  0.649006  0.301078  0.039898  0.843924  0.115725   \n",
       "B  0.856352  0.084263  0.280924  0.124850  0.524319  0.279966  0.826635   \n",
       "C  0.586422  0.496560  0.822271  0.006435  0.315356  0.421567  0.934520   \n",
       "D  0.830449  0.297292  0.011874  0.965130  0.109355  0.375693  0.924413   \n",
       "E  0.779842  0.548387  0.092385  0.438632  0.786386  0.919404  0.969512   \n",
       "F  0.189462  0.734324  0.006318  0.603693  0.500917  0.520185  0.805581   \n",
       "G  0.957964  0.676206  0.416866  0.918802  0.569163  0.025908  0.631193   \n",
       "H  0.547073  0.897266  0.561211  0.433875  0.530035  0.762719  0.324452   \n",
       "\n",
       "          h  \n",
       "A  0.484699  \n",
       "B  0.797516  \n",
       "C  0.153470  \n",
       "D  0.061801  \n",
       "E  0.261241  \n",
       "F  0.223561  \n",
       "G  0.550589  \n",
       "H  0.007397  "
      ]
     },
     "execution_count": 7,
     "metadata": {},
     "output_type": "execute_result"
    }
   ],
   "source": [
    "#Reindexing the columns using axis keyword\n",
    "'''one can reindex asingle cloumn or multiple column by using reindex() method and by specifying the axis and reindexing axis.\n",
    "Default values in the index that are not present in the dataframe are assigned NaN'''\n",
    "import pandas as pd\n",
    "import numpy as np\n",
    "column=['a','b','c','d','e','f','g','h']\n",
    "index=['A','B','C','D','E','F','G','H']\n",
    "\n",
    "#CREATE THE DATAFRAME OF RANDOM VAL;UES OF AN ARRAY\n",
    "f=pd.DataFrame(np.random.rand(8,8), columns=column, index=index,)\n",
    "f    "
   ]
  },
  {
   "cell_type": "code",
   "execution_count": 8,
   "id": "c0e93a6e",
   "metadata": {},
   "outputs": [
    {
     "name": "stdout",
     "output_type": "stream",
     "text": [
      "    k   l   m   n   o   p   q   r\n",
      "A NaN NaN NaN NaN NaN NaN NaN NaN\n",
      "B NaN NaN NaN NaN NaN NaN NaN NaN\n",
      "C NaN NaN NaN NaN NaN NaN NaN NaN\n",
      "D NaN NaN NaN NaN NaN NaN NaN NaN\n",
      "E NaN NaN NaN NaN NaN NaN NaN NaN\n",
      "F NaN NaN NaN NaN NaN NaN NaN NaN\n",
      "G NaN NaN NaN NaN NaN NaN NaN NaN\n",
      "H NaN NaN NaN NaN NaN NaN NaN NaN\n"
     ]
    }
   ],
   "source": [
    "column=['k','l','m','n','o','p','q','r']\n",
    "print(f.reindex(column, axis='columns'))"
   ]
  },
  {
   "cell_type": "code",
   "execution_count": 9,
   "id": "cacfd9dd",
   "metadata": {},
   "outputs": [
    {
     "name": "stdout",
     "output_type": "stream",
     "text": [
      "     k    l    m    n    o    p    q    r\n",
      "A  1.5  1.5  1.5  1.5  1.5  1.5  1.5  1.5\n",
      "B  1.5  1.5  1.5  1.5  1.5  1.5  1.5  1.5\n",
      "C  1.5  1.5  1.5  1.5  1.5  1.5  1.5  1.5\n",
      "D  1.5  1.5  1.5  1.5  1.5  1.5  1.5  1.5\n",
      "E  1.5  1.5  1.5  1.5  1.5  1.5  1.5  1.5\n",
      "F  1.5  1.5  1.5  1.5  1.5  1.5  1.5  1.5\n",
      "G  1.5  1.5  1.5  1.5  1.5  1.5  1.5  1.5\n",
      "H  1.5  1.5  1.5  1.5  1.5  1.5  1.5  1.5\n"
     ]
    }
   ],
   "source": [
    "#replacing missing values:\n",
    "print(f.reindex(column,axis='columns',fill_value=1.5))"
   ]
  },
  {
   "cell_type": "markdown",
   "id": "35d38d8f",
   "metadata": {},
   "source": [
    "# pandas iteration"
   ]
  },
  {
   "cell_type": "code",
   "execution_count": 30,
   "id": "c94eb8b6",
   "metadata": {},
   "outputs": [
    {
     "name": "stdout",
     "output_type": "stream",
     "text": [
      "      name           Stream  percentage  rank\n",
      "0  thrisha       Mechanical          75     1\n",
      "1    rahul          Biology          60     3\n",
      "2  krishna  ComputerScience          80     5\n",
      "3    rohit            Maths          90     7\n",
      "4   hitler         Commerce          65     2\n",
      "\n",
      "\n",
      "iterating rows over iter rows function:\n",
      "thrisha 75\n",
      "rahul 60\n",
      "krishna 80\n",
      "rohit 90\n",
      "hitler 65\n"
     ]
    }
   ],
   "source": [
    "#iter rows()\n",
    "#here performance is slow beacuse it is iterating each and very row of the data\n",
    "import pandas as pd\n",
    "info = {'name':['thrisha','rahul','krishna','rohit','hitler'],\n",
    "     'Age':['23,24,23,26,29'],\n",
    "     'Stream':['Mechanical','Biology','ComputerScience','Maths','Commerce'],\n",
    "     'percentage':[75,60,80,90,65],\n",
    "     'rank':[1,3,5,7,2]}\n",
    "\n",
    "#converting dictionary ro dataframe\n",
    "\n",
    "d=pd.DataFrame(info,columns=['name','Stream','percentage','rank'])\n",
    "               \n",
    "print(d)\n",
    "print('\\n')\n",
    "print('iterating rows over iter rows function:')\n",
    "\n",
    "#selecting each row with name and age\n",
    "for index , row in d.iterrows():\n",
    "    print(row['name'],row['percentage'])\n",
    "                "
   ]
  },
  {
   "cell_type": "code",
   "execution_count": 34,
   "id": "22efbbf4",
   "metadata": {},
   "outputs": [
    {
     "name": "stdout",
     "output_type": "stream",
     "text": [
      "iterating over rows in tuples()\n",
      "thrisha 75\n",
      "rahul 60\n",
      "krishna 80\n",
      "rohit 90\n",
      "hitler 65\n"
     ]
    }
   ],
   "source": [
    "#itertuples()\n",
    "print('iterating over rows in tuples()')\n",
    "for row in d.itertuples(index=True,name='pandas'):\n",
    "    print(getattr(row,'name'),getattr(row,'percentage'))"
   ]
  },
  {
   "cell_type": "code",
   "execution_count": 36,
   "id": "08b79bc3",
   "metadata": {},
   "outputs": [
    {
     "name": "stdout",
     "output_type": "stream",
     "text": [
      "original array: [[ 0  1  2  3]\n",
      " [ 4  5  6  7]\n",
      " [ 8  9 10 11]]\n",
      "\n",
      "\n",
      "Modified array is:\n",
      "[[ 0  1  2  3]\n",
      " [ 4  5  6  7]\n",
      " [ 8  9 10 11]]\n",
      "[[ 0  1  2  3]\n",
      " [ 4  5  6  7]\n",
      " [ 8  9 10 11]]\n",
      "[[ 0  1  2  3]\n",
      " [ 4  5  6  7]\n",
      " [ 8  9 10 11]]\n",
      "[[ 0  1  2  3]\n",
      " [ 4  5  6  7]\n",
      " [ 8  9 10 11]]\n",
      "[[ 0  1  2  3]\n",
      " [ 4  5  6  7]\n",
      " [ 8  9 10 11]]\n",
      "[[ 0  1  2  3]\n",
      " [ 4  5  6  7]\n",
      " [ 8  9 10 11]]\n",
      "[[ 0  1  2  3]\n",
      " [ 4  5  6  7]\n",
      " [ 8  9 10 11]]\n",
      "[[ 0  1  2  3]\n",
      " [ 4  5  6  7]\n",
      " [ 8  9 10 11]]\n",
      "[[ 0  1  2  3]\n",
      " [ 4  5  6  7]\n",
      " [ 8  9 10 11]]\n",
      "[[ 0  1  2  3]\n",
      " [ 4  5  6  7]\n",
      " [ 8  9 10 11]]\n",
      "[[ 0  1  2  3]\n",
      " [ 4  5  6  7]\n",
      " [ 8  9 10 11]]\n",
      "[[ 0  1  2  3]\n",
      " [ 4  5  6  7]\n",
      " [ 8  9 10 11]]\n"
     ]
    }
   ],
   "source": [
    "#numpy iterations()\n",
    "import numpy as np\n",
    "#creating array using arange method\n",
    "f=np.arange(12)\n",
    "#shaping arrays with 3 rows and 4 columns\n",
    "f=f.reshape(3,4)\n",
    "print('original array:',f)\n",
    "print('\\n')\n",
    "print('Modified array is:')\n",
    "for r in np.nditer(f):\n",
    "    print(f)"
   ]
  },
  {
   "cell_type": "code",
   "execution_count": 37,
   "id": "e28edaf0",
   "metadata": {},
   "outputs": [
    {
     "name": "stdout",
     "output_type": "stream",
     "text": [
      "list of given capitals:/n\n",
      "Telangana\n",
      "Andhrapradesh\n",
      "Tamilnadu\n",
      "Sikkim\n"
     ]
    }
   ],
   "source": [
    "#Dicitionary iterations\n",
    "'''there are multiple ways to iterate over dictionary in python\n",
    "1.iterate through all keys\n",
    "2.iterate through all values\n",
    "3.iterate through all key, value pairs'''\n",
    "#iteraing through all keys: here the dictionary doen't store in particular order\n",
    "S={'Telangana':'Hyderabad','Andhrapradesh':'Amaravathi','Tamilnadu':'Chennai','Sikkim':'Gangtok'}\n",
    "print('list of given capitals:/n')\n",
    "for capital in S:\n",
    "    print(capital)"
   ]
  },
  {
   "cell_type": "code",
   "execution_count": 42,
   "id": "9bf00c16",
   "metadata": {},
   "outputs": [
    {
     "name": "stdout",
     "output_type": "stream",
     "text": [
      "list of given cities\n",
      "Hyderabad\n",
      "Amaravathi\n",
      "Chennai\n",
      "Gangtok\n"
     ]
    }
   ],
   "source": [
    "#iterating through all values\n",
    "print('list of given cities')\n",
    "for capital in S.values():\n",
    "    print(capital)\n"
   ]
  },
  {
   "cell_type": "code",
   "execution_count": 41,
   "id": "b94de03d",
   "metadata": {},
   "outputs": [
    {
     "name": "stdout",
     "output_type": "stream",
     "text": [
      "list of  given states and capitals\n",
      "Telangana :  Hyderabad\n",
      "Andhrapradesh :  Amaravathi\n",
      "Tamilnadu :  Chennai\n",
      "Sikkim :  Gangtok\n"
     ]
    }
   ],
   "source": [
    "#iterating key and value pairs\n",
    "print('list of  given states and capitals')\n",
    "for state, capital in S.items():\n",
    "    print(state,': ',capital)"
   ]
  },
  {
   "cell_type": "markdown",
   "id": "58f97223",
   "metadata": {},
   "source": [
    "# Pandas Sorting"
   ]
  },
  {
   "cell_type": "code",
   "execution_count": 43,
   "id": "1dd922c8",
   "metadata": {},
   "outputs": [
    {
     "data": {
      "text/html": [
       "<div>\n",
       "<style scoped>\n",
       "    .dataframe tbody tr th:only-of-type {\n",
       "        vertical-align: middle;\n",
       "    }\n",
       "\n",
       "    .dataframe tbody tr th {\n",
       "        vertical-align: top;\n",
       "    }\n",
       "\n",
       "    .dataframe thead th {\n",
       "        text-align: right;\n",
       "    }\n",
       "</style>\n",
       "<table border=\"1\" class=\"dataframe\">\n",
       "  <thead>\n",
       "    <tr style=\"text-align: right;\">\n",
       "      <th></th>\n",
       "      <th>rank</th>\n",
       "      <th>item</th>\n",
       "      <th>repo_name</th>\n",
       "      <th>stars</th>\n",
       "      <th>forks</th>\n",
       "      <th>language</th>\n",
       "      <th>repo_url</th>\n",
       "      <th>username</th>\n",
       "      <th>issues</th>\n",
       "      <th>last_commit</th>\n",
       "      <th>description</th>\n",
       "    </tr>\n",
       "  </thead>\n",
       "  <tbody>\n",
       "    <tr>\n",
       "      <th>0</th>\n",
       "      <td>1</td>\n",
       "      <td>top-100-stars</td>\n",
       "      <td>freeCodeCamp</td>\n",
       "      <td>326065</td>\n",
       "      <td>26086</td>\n",
       "      <td>JavaScript</td>\n",
       "      <td>https://github.com/freeCodeCamp/freeCodeCamp</td>\n",
       "      <td>freeCodeCamp</td>\n",
       "      <td>244</td>\n",
       "      <td>2021-07-14T01:24:39Z</td>\n",
       "      <td>freeCodeCamp.org's open-source codebase and cu...</td>\n",
       "    </tr>\n",
       "    <tr>\n",
       "      <th>1</th>\n",
       "      <td>2</td>\n",
       "      <td>top-100-stars</td>\n",
       "      <td>996.ICU</td>\n",
       "      <td>257895</td>\n",
       "      <td>21342</td>\n",
       "      <td>Rust</td>\n",
       "      <td>https://github.com/996icu/996.ICU</td>\n",
       "      <td>996icu</td>\n",
       "      <td>16814</td>\n",
       "      <td>2021-06-24T11:16:12Z</td>\n",
       "      <td>Repo for counting stars and contributing. Pres...</td>\n",
       "    </tr>\n",
       "    <tr>\n",
       "      <th>2</th>\n",
       "      <td>3</td>\n",
       "      <td>top-100-stars</td>\n",
       "      <td>free-programming-books</td>\n",
       "      <td>196494</td>\n",
       "      <td>43254</td>\n",
       "      <td>NaN</td>\n",
       "      <td>https://github.com/EbookFoundation/free-progra...</td>\n",
       "      <td>EbookFoundation</td>\n",
       "      <td>33</td>\n",
       "      <td>2021-07-13T20:36:02Z</td>\n",
       "      <td>:books: Freely available programming books</td>\n",
       "    </tr>\n",
       "    <tr>\n",
       "      <th>3</th>\n",
       "      <td>4</td>\n",
       "      <td>top-100-stars</td>\n",
       "      <td>vue</td>\n",
       "      <td>185599</td>\n",
       "      <td>29607</td>\n",
       "      <td>JavaScript</td>\n",
       "      <td>https://github.com/vuejs/vue</td>\n",
       "      <td>vuejs</td>\n",
       "      <td>532</td>\n",
       "      <td>2021-07-12T06:50:51Z</td>\n",
       "      <td>🖖 Vue.js is a progressive, incrementally-adopt...</td>\n",
       "    </tr>\n",
       "    <tr>\n",
       "      <th>4</th>\n",
       "      <td>5</td>\n",
       "      <td>top-100-stars</td>\n",
       "      <td>coding-interview-university</td>\n",
       "      <td>184072</td>\n",
       "      <td>50104</td>\n",
       "      <td>NaN</td>\n",
       "      <td>https://github.com/jwasham/coding-interview-un...</td>\n",
       "      <td>jwasham</td>\n",
       "      <td>46</td>\n",
       "      <td>2021-07-13T01:07:39Z</td>\n",
       "      <td>A complete computer science study plan to beco...</td>\n",
       "    </tr>\n",
       "    <tr>\n",
       "      <th>...</th>\n",
       "      <td>...</td>\n",
       "      <td>...</td>\n",
       "      <td>...</td>\n",
       "      <td>...</td>\n",
       "      <td>...</td>\n",
       "      <td>...</td>\n",
       "      <td>...</td>\n",
       "      <td>...</td>\n",
       "      <td>...</td>\n",
       "      <td>...</td>\n",
       "      <td>...</td>\n",
       "    </tr>\n",
       "    <tr>\n",
       "      <th>2795</th>\n",
       "      <td>96</td>\n",
       "      <td>Vim-script</td>\n",
       "      <td>nerdtree-git-plugin</td>\n",
       "      <td>1863</td>\n",
       "      <td>144</td>\n",
       "      <td>Vim script</td>\n",
       "      <td>https://github.com/Xuyuanp/nerdtree-git-plugin</td>\n",
       "      <td>Xuyuanp</td>\n",
       "      <td>1</td>\n",
       "      <td>2021-06-04T05:27:31Z</td>\n",
       "      <td>A plugin of NERDTree showing git status</td>\n",
       "    </tr>\n",
       "    <tr>\n",
       "      <th>2796</th>\n",
       "      <td>97</td>\n",
       "      <td>Vim-script</td>\n",
       "      <td>vim-ruby</td>\n",
       "      <td>1856</td>\n",
       "      <td>292</td>\n",
       "      <td>Vim script</td>\n",
       "      <td>https://github.com/vim-ruby/vim-ruby</td>\n",
       "      <td>vim-ruby</td>\n",
       "      <td>63</td>\n",
       "      <td>2021-07-12T18:27:44Z</td>\n",
       "      <td>Vim/Ruby Configuration Files</td>\n",
       "    </tr>\n",
       "    <tr>\n",
       "      <th>2797</th>\n",
       "      <td>98</td>\n",
       "      <td>Vim-script</td>\n",
       "      <td>undotree</td>\n",
       "      <td>1830</td>\n",
       "      <td>71</td>\n",
       "      <td>Vim script</td>\n",
       "      <td>https://github.com/mbbill/undotree</td>\n",
       "      <td>mbbill</td>\n",
       "      <td>16</td>\n",
       "      <td>2021-05-28T21:52:01Z</td>\n",
       "      <td>The undo history visualizer for VIM</td>\n",
       "    </tr>\n",
       "    <tr>\n",
       "      <th>2798</th>\n",
       "      <td>99</td>\n",
       "      <td>Vim-script</td>\n",
       "      <td>delimitMate</td>\n",
       "      <td>1824</td>\n",
       "      <td>116</td>\n",
       "      <td>Vim script</td>\n",
       "      <td>https://github.com/Raimondi/delimitMate</td>\n",
       "      <td>Raimondi</td>\n",
       "      <td>44</td>\n",
       "      <td>2020-12-14T04:12:49Z</td>\n",
       "      <td>Vim plugin, provides insert mode auto-completi...</td>\n",
       "    </tr>\n",
       "    <tr>\n",
       "      <th>2799</th>\n",
       "      <td>100</td>\n",
       "      <td>Vim-script</td>\n",
       "      <td>dotfiles</td>\n",
       "      <td>1818</td>\n",
       "      <td>414</td>\n",
       "      <td>Vim script</td>\n",
       "      <td>https://github.com/garybernhardt/dotfiles</td>\n",
       "      <td>garybernhardt</td>\n",
       "      <td>0</td>\n",
       "      <td>2021-05-14T00:19:36Z</td>\n",
       "      <td>~grb. Things in here are often interdependent....</td>\n",
       "    </tr>\n",
       "  </tbody>\n",
       "</table>\n",
       "<p>2800 rows × 11 columns</p>\n",
       "</div>"
      ],
      "text/plain": [
       "      rank           item                    repo_name   stars  forks  \\\n",
       "0        1  top-100-stars                 freeCodeCamp  326065  26086   \n",
       "1        2  top-100-stars                      996.ICU  257895  21342   \n",
       "2        3  top-100-stars       free-programming-books  196494  43254   \n",
       "3        4  top-100-stars                          vue  185599  29607   \n",
       "4        5  top-100-stars  coding-interview-university  184072  50104   \n",
       "...    ...            ...                          ...     ...    ...   \n",
       "2795    96     Vim-script          nerdtree-git-plugin    1863    144   \n",
       "2796    97     Vim-script                     vim-ruby    1856    292   \n",
       "2797    98     Vim-script                     undotree    1830     71   \n",
       "2798    99     Vim-script                  delimitMate    1824    116   \n",
       "2799   100     Vim-script                     dotfiles    1818    414   \n",
       "\n",
       "        language                                           repo_url  \\\n",
       "0     JavaScript       https://github.com/freeCodeCamp/freeCodeCamp   \n",
       "1           Rust                  https://github.com/996icu/996.ICU   \n",
       "2            NaN  https://github.com/EbookFoundation/free-progra...   \n",
       "3     JavaScript                       https://github.com/vuejs/vue   \n",
       "4            NaN  https://github.com/jwasham/coding-interview-un...   \n",
       "...          ...                                                ...   \n",
       "2795  Vim script     https://github.com/Xuyuanp/nerdtree-git-plugin   \n",
       "2796  Vim script               https://github.com/vim-ruby/vim-ruby   \n",
       "2797  Vim script                 https://github.com/mbbill/undotree   \n",
       "2798  Vim script            https://github.com/Raimondi/delimitMate   \n",
       "2799  Vim script          https://github.com/garybernhardt/dotfiles   \n",
       "\n",
       "             username  issues           last_commit  \\\n",
       "0        freeCodeCamp     244  2021-07-14T01:24:39Z   \n",
       "1              996icu   16814  2021-06-24T11:16:12Z   \n",
       "2     EbookFoundation      33  2021-07-13T20:36:02Z   \n",
       "3               vuejs     532  2021-07-12T06:50:51Z   \n",
       "4             jwasham      46  2021-07-13T01:07:39Z   \n",
       "...               ...     ...                   ...   \n",
       "2795          Xuyuanp       1  2021-06-04T05:27:31Z   \n",
       "2796         vim-ruby      63  2021-07-12T18:27:44Z   \n",
       "2797           mbbill      16  2021-05-28T21:52:01Z   \n",
       "2798         Raimondi      44  2020-12-14T04:12:49Z   \n",
       "2799    garybernhardt       0  2021-05-14T00:19:36Z   \n",
       "\n",
       "                                            description  \n",
       "0     freeCodeCamp.org's open-source codebase and cu...  \n",
       "1     Repo for counting stars and contributing. Pres...  \n",
       "2            :books: Freely available programming books  \n",
       "3     🖖 Vue.js is a progressive, incrementally-adopt...  \n",
       "4     A complete computer science study plan to beco...  \n",
       "...                                                 ...  \n",
       "2795            A plugin of NERDTree showing git status  \n",
       "2796                       Vim/Ruby Configuration Files  \n",
       "2797                The undo history visualizer for VIM  \n",
       "2798  Vim plugin, provides insert mode auto-completi...  \n",
       "2799  ~grb. Things in here are often interdependent....  \n",
       "\n",
       "[2800 rows x 11 columns]"
      ]
     },
     "execution_count": 43,
     "metadata": {},
     "output_type": "execute_result"
    }
   ],
   "source": [
    "#It is a way of ordering the elements in ordered based on the rank\n",
    "sf=pd.read_csv('Most starred Github Repositories.csv')\n",
    "sf"
   ]
  },
  {
   "cell_type": "code",
   "execution_count": 44,
   "id": "ba63020f",
   "metadata": {},
   "outputs": [
    {
     "data": {
      "text/html": [
       "<div>\n",
       "<style scoped>\n",
       "    .dataframe tbody tr th:only-of-type {\n",
       "        vertical-align: middle;\n",
       "    }\n",
       "\n",
       "    .dataframe tbody tr th {\n",
       "        vertical-align: top;\n",
       "    }\n",
       "\n",
       "    .dataframe thead th {\n",
       "        text-align: right;\n",
       "    }\n",
       "</style>\n",
       "<table border=\"1\" class=\"dataframe\">\n",
       "  <thead>\n",
       "    <tr style=\"text-align: right;\">\n",
       "      <th></th>\n",
       "      <th>rank</th>\n",
       "      <th>item</th>\n",
       "      <th>repo_name</th>\n",
       "      <th>stars</th>\n",
       "      <th>forks</th>\n",
       "      <th>language</th>\n",
       "      <th>repo_url</th>\n",
       "      <th>username</th>\n",
       "      <th>issues</th>\n",
       "      <th>last_commit</th>\n",
       "      <th>description</th>\n",
       "    </tr>\n",
       "  </thead>\n",
       "  <tbody>\n",
       "    <tr>\n",
       "      <th>0</th>\n",
       "      <td>1</td>\n",
       "      <td>top-100-stars</td>\n",
       "      <td>freeCodeCamp</td>\n",
       "      <td>326065</td>\n",
       "      <td>26086</td>\n",
       "      <td>JavaScript</td>\n",
       "      <td>https://github.com/freeCodeCamp/freeCodeCamp</td>\n",
       "      <td>freeCodeCamp</td>\n",
       "      <td>244</td>\n",
       "      <td>2021-07-14T01:24:39Z</td>\n",
       "      <td>freeCodeCamp.org's open-source codebase and cu...</td>\n",
       "    </tr>\n",
       "    <tr>\n",
       "      <th>1</th>\n",
       "      <td>2</td>\n",
       "      <td>top-100-stars</td>\n",
       "      <td>996.ICU</td>\n",
       "      <td>257895</td>\n",
       "      <td>21342</td>\n",
       "      <td>Rust</td>\n",
       "      <td>https://github.com/996icu/996.ICU</td>\n",
       "      <td>996icu</td>\n",
       "      <td>16814</td>\n",
       "      <td>2021-06-24T11:16:12Z</td>\n",
       "      <td>Repo for counting stars and contributing. Pres...</td>\n",
       "    </tr>\n",
       "    <tr>\n",
       "      <th>2</th>\n",
       "      <td>3</td>\n",
       "      <td>top-100-stars</td>\n",
       "      <td>free-programming-books</td>\n",
       "      <td>196494</td>\n",
       "      <td>43254</td>\n",
       "      <td>NaN</td>\n",
       "      <td>https://github.com/EbookFoundation/free-progra...</td>\n",
       "      <td>EbookFoundation</td>\n",
       "      <td>33</td>\n",
       "      <td>2021-07-13T20:36:02Z</td>\n",
       "      <td>:books: Freely available programming books</td>\n",
       "    </tr>\n",
       "    <tr>\n",
       "      <th>3</th>\n",
       "      <td>4</td>\n",
       "      <td>top-100-stars</td>\n",
       "      <td>vue</td>\n",
       "      <td>185599</td>\n",
       "      <td>29607</td>\n",
       "      <td>JavaScript</td>\n",
       "      <td>https://github.com/vuejs/vue</td>\n",
       "      <td>vuejs</td>\n",
       "      <td>532</td>\n",
       "      <td>2021-07-12T06:50:51Z</td>\n",
       "      <td>🖖 Vue.js is a progressive, incrementally-adopt...</td>\n",
       "    </tr>\n",
       "    <tr>\n",
       "      <th>4</th>\n",
       "      <td>5</td>\n",
       "      <td>top-100-stars</td>\n",
       "      <td>coding-interview-university</td>\n",
       "      <td>184072</td>\n",
       "      <td>50104</td>\n",
       "      <td>NaN</td>\n",
       "      <td>https://github.com/jwasham/coding-interview-un...</td>\n",
       "      <td>jwasham</td>\n",
       "      <td>46</td>\n",
       "      <td>2021-07-13T01:07:39Z</td>\n",
       "      <td>A complete computer science study plan to beco...</td>\n",
       "    </tr>\n",
       "  </tbody>\n",
       "</table>\n",
       "</div>"
      ],
      "text/plain": [
       "   rank           item                    repo_name   stars  forks  \\\n",
       "0     1  top-100-stars                 freeCodeCamp  326065  26086   \n",
       "1     2  top-100-stars                      996.ICU  257895  21342   \n",
       "2     3  top-100-stars       free-programming-books  196494  43254   \n",
       "3     4  top-100-stars                          vue  185599  29607   \n",
       "4     5  top-100-stars  coding-interview-university  184072  50104   \n",
       "\n",
       "     language                                           repo_url  \\\n",
       "0  JavaScript       https://github.com/freeCodeCamp/freeCodeCamp   \n",
       "1        Rust                  https://github.com/996icu/996.ICU   \n",
       "2         NaN  https://github.com/EbookFoundation/free-progra...   \n",
       "3  JavaScript                       https://github.com/vuejs/vue   \n",
       "4         NaN  https://github.com/jwasham/coding-interview-un...   \n",
       "\n",
       "          username  issues           last_commit  \\\n",
       "0     freeCodeCamp     244  2021-07-14T01:24:39Z   \n",
       "1           996icu   16814  2021-06-24T11:16:12Z   \n",
       "2  EbookFoundation      33  2021-07-13T20:36:02Z   \n",
       "3            vuejs     532  2021-07-12T06:50:51Z   \n",
       "4          jwasham      46  2021-07-13T01:07:39Z   \n",
       "\n",
       "                                         description  \n",
       "0  freeCodeCamp.org's open-source codebase and cu...  \n",
       "1  Repo for counting stars and contributing. Pres...  \n",
       "2         :books: Freely available programming books  \n",
       "3  🖖 Vue.js is a progressive, incrementally-adopt...  \n",
       "4  A complete computer science study plan to beco...  "
      ]
     },
     "execution_count": 44,
     "metadata": {},
     "output_type": "execute_result"
    }
   ],
   "source": [
    "sf.head()\n"
   ]
  },
  {
   "cell_type": "code",
   "execution_count": 54,
   "id": "f5cc43d2",
   "metadata": {},
   "outputs": [
    {
     "name": "stdout",
     "output_type": "stream",
     "text": [
      "      rank           item               repo_name   stars   forks    language  \\\n",
      "100      1  top-100-forks             datasharing    5837  237362         NaN   \n",
      "101      2  top-100-forks  ProgrammingAssignment2     698  138589           R   \n",
      "2181    82              R  ProgrammingAssignment2     698  138589           R   \n",
      "1133    34           HTML             Spoon-Knife   10516  118676        HTML   \n",
      "102      3  top-100-forks             Spoon-Knife   10516  118676        HTML   \n",
      "103      4  top-100-forks              tensorflow  157365   85108         C++   \n",
      "500      1            CPP              tensorflow  157365   85108         C++   \n",
      "8        9  top-100-stars              tensorflow  157365   85108         C++   \n",
      "104      5  top-100-forks       SmartThingsPublic    2080   83827      Groovy   \n",
      "105      6  top-100-forks               bootstrap  151775   73981  JavaScript   \n",
      "\n",
      "                                               repo_url              username  \\\n",
      "100               https://github.com/jtleek/datasharing                jtleek   \n",
      "101    https://github.com/rdpeng/ProgrammingAssignment2                rdpeng   \n",
      "2181   https://github.com/rdpeng/ProgrammingAssignment2                rdpeng   \n",
      "1133             https://github.com/octocat/Spoon-Knife               octocat   \n",
      "102              https://github.com/octocat/Spoon-Knife               octocat   \n",
      "103            https://github.com/tensorflow/tensorflow            tensorflow   \n",
      "500            https://github.com/tensorflow/tensorflow            tensorflow   \n",
      "8              https://github.com/tensorflow/tensorflow            tensorflow   \n",
      "104   https://github.com/SmartThingsCommunity/SmartT...  SmartThingsCommunity   \n",
      "105                   https://github.com/twbs/bootstrap                  twbs   \n",
      "\n",
      "      issues           last_commit  \\\n",
      "100      825  2021-07-07T04:55:25Z   \n",
      "101     3964  2021-07-12T04:19:47Z   \n",
      "2181    3964  2021-07-12T04:19:47Z   \n",
      "1133   12112  2021-07-14T02:15:48Z   \n",
      "102    12112  2021-07-14T02:15:48Z   \n",
      "103     3599  2021-07-14T02:30:00Z   \n",
      "500     3599  2021-07-14T02:30:00Z   \n",
      "8       3599  2021-07-14T02:30:00Z   \n",
      "104     1687  2021-07-14T02:11:48Z   \n",
      "105      409  2021-07-13T22:15:53Z   \n",
      "\n",
      "                                            description  \n",
      "100               The Leek group guide to data sharing   \n",
      "101   Repository for Programming Assignment 2 for R ...  \n",
      "2181  Repository for Programming Assignment 2 for R ...  \n",
      "1133      This repo is for demonstration purposes only.  \n",
      "102       This repo is for demonstration purposes only.  \n",
      "103   An Open Source Machine Learning Framework for ...  \n",
      "500   An Open Source Machine Learning Framework for ...  \n",
      "8     An Open Source Machine Learning Framework for ...  \n",
      "104   SmartThings open-source DeviceTypeHandlers and...  \n",
      "105   The most popular HTML, CSS, and JavaScript fra...  \n"
     ]
    }
   ],
   "source": [
    "fogs=sf.sort_values(by='forks',ascending = False)\n",
    "print(fogs.head(10))"
   ]
  },
  {
   "cell_type": "code",
   "execution_count": 55,
   "id": "ce118a09",
   "metadata": {},
   "outputs": [
    {
     "name": "stdout",
     "output_type": "stream",
     "text": [
      "      rank          item         repo_name  stars  forks      language  \\\n",
      "1565    66           Lua          KikiAuth   1354      1           Lua   \n",
      "2128    29             R           tofsims   1353      4             R   \n",
      "1096    97       Haskell              neut    783      7       Haskell   \n",
      "1590    91           Lua             neorg    993      7           Lua   \n",
      "289     90  ActionScript         red-rogue    149     13  ActionScript   \n",
      "1970    71           PHP  ReflectionCommon   8415     17           PHP   \n",
      "245     46  ActionScript    glassesfactory    277     25  ActionScript   \n",
      "284     85  ActionScript     standingwave3    163     25  ActionScript   \n",
      "272     73  ActionScript      hamcrest-as3    180     25  ActionScript   \n",
      "1088    89       Haskell            unused    877     26       Haskell   \n",
      "\n",
      "                                               repo_url        username  \\\n",
      "1565               https://github.com/fossasia/KikiAuth        fossasia   \n",
      "2128                https://github.com/fossasia/tofsims        fossasia   \n",
      "1096                     https://github.com/veka41/neut          veka41   \n",
      "1590                    https://github.com/vhyrro/neorg          vhyrro   \n",
      "289                  https://github.com/st33d/red-rogue           st33d   \n",
      "1970  https://github.com/phpDocumentor/ReflectionCommon   phpDocumentor   \n",
      "245    https://github.com/glassesfactory/glassesfactory  glassesfactory   \n",
      "284            https://github.com/maxl0rd/standingwave3         maxl0rd   \n",
      "272          https://github.com/drewbourne/hamcrest-as3      drewbourne   \n",
      "1088            https://github.com/joshuaclayton/unused   joshuaclayton   \n",
      "\n",
      "      issues           last_commit  \\\n",
      "1565       0  2018-11-23T17:17:23Z   \n",
      "2128       0  2017-11-29T19:16:12Z   \n",
      "1096       3  2021-06-22T12:53:13Z   \n",
      "1590       3  2021-07-13T19:03:09Z   \n",
      "289        3  2019-01-15T21:13:13Z   \n",
      "1970       1  2021-06-25T13:48:53Z   \n",
      "245        0  2016-08-07T10:39:48Z   \n",
      "284       17  2012-12-20T15:40:40Z   \n",
      "272       22  2012-03-21T11:48:40Z   \n",
      "1088       1  2020-05-28T02:48:16Z   \n",
      "\n",
      "                                            description  \n",
      "1565                    CommonsNet KikiAuth for OpenWrt  \n",
      "2128                                                NaN  \n",
      "1096  A dependently-typed programming language with ...  \n",
      "1590  Modernity meets insane extensibility. The futu...  \n",
      "289                                      flex roguelike  \n",
      "1970                                                NaN  \n",
      "245                                             俺々ライブラリ  \n",
      "284           Flash ActionScript3 dynamic audio library  \n",
      "272   Port of hamcrest to ActionScript 3,  a library...  \n",
      "1088  Deprecated; see https://github.com/unused-code...  \n"
     ]
    }
   ],
   "source": [
    "fogs=sf.sort_values(by='forks',ascending = True)\n",
    "print(fogs.head(10))"
   ]
  },
  {
   "cell_type": "code",
   "execution_count": 56,
   "id": "28af3e0e",
   "metadata": {
    "scrolled": true
   },
   "outputs": [
    {
     "data": {
      "text/html": [
       "<div>\n",
       "<style scoped>\n",
       "    .dataframe tbody tr th:only-of-type {\n",
       "        vertical-align: middle;\n",
       "    }\n",
       "\n",
       "    .dataframe tbody tr th {\n",
       "        vertical-align: top;\n",
       "    }\n",
       "\n",
       "    .dataframe thead th {\n",
       "        text-align: right;\n",
       "    }\n",
       "</style>\n",
       "<table border=\"1\" class=\"dataframe\">\n",
       "  <thead>\n",
       "    <tr style=\"text-align: right;\">\n",
       "      <th></th>\n",
       "      <th>rank</th>\n",
       "      <th>item</th>\n",
       "      <th>repo_name</th>\n",
       "      <th>stars</th>\n",
       "      <th>forks</th>\n",
       "      <th>language</th>\n",
       "      <th>repo_url</th>\n",
       "      <th>username</th>\n",
       "      <th>issues</th>\n",
       "      <th>last_commit</th>\n",
       "      <th>description</th>\n",
       "    </tr>\n",
       "  </thead>\n",
       "  <tbody>\n",
       "    <tr>\n",
       "      <th>2500</th>\n",
       "      <td>1</td>\n",
       "      <td>Swift</td>\n",
       "      <td>awesome-ios</td>\n",
       "      <td>37923</td>\n",
       "      <td>6316</td>\n",
       "      <td>Swift</td>\n",
       "      <td>https://github.com/vsouza/awesome-ios</td>\n",
       "      <td>vsouza</td>\n",
       "      <td>2</td>\n",
       "      <td>2021-07-13T14:38:35Z</td>\n",
       "      <td>A curated list of awesome iOS ecosystem, inclu...</td>\n",
       "    </tr>\n",
       "    <tr>\n",
       "      <th>1800</th>\n",
       "      <td>1</td>\n",
       "      <td>Perl</td>\n",
       "      <td>diff-so-fancy</td>\n",
       "      <td>14502</td>\n",
       "      <td>319</td>\n",
       "      <td>Perl</td>\n",
       "      <td>https://github.com/so-fancy/diff-so-fancy</td>\n",
       "      <td>so-fancy</td>\n",
       "      <td>14</td>\n",
       "      <td>2021-06-26T15:37:33Z</td>\n",
       "      <td>Good-lookin' diffs. Actually… nah… The best-lo...</td>\n",
       "    </tr>\n",
       "    <tr>\n",
       "      <th>1100</th>\n",
       "      <td>1</td>\n",
       "      <td>HTML</td>\n",
       "      <td>free-for-dev</td>\n",
       "      <td>48100</td>\n",
       "      <td>5157</td>\n",
       "      <td>HTML</td>\n",
       "      <td>https://github.com/ripienaar/free-for-dev</td>\n",
       "      <td>ripienaar</td>\n",
       "      <td>17</td>\n",
       "      <td>2021-07-13T13:40:59Z</td>\n",
       "      <td>A list of SaaS, PaaS and IaaS offerings that h...</td>\n",
       "    </tr>\n",
       "    <tr>\n",
       "      <th>800</th>\n",
       "      <td>1</td>\n",
       "      <td>CSS</td>\n",
       "      <td>animate.css</td>\n",
       "      <td>71513</td>\n",
       "      <td>15718</td>\n",
       "      <td>CSS</td>\n",
       "      <td>https://github.com/animate-css/animate.css</td>\n",
       "      <td>animate-css</td>\n",
       "      <td>19</td>\n",
       "      <td>2021-07-13T19:02:20Z</td>\n",
       "      <td>🍿 A cross-browser library of CSS animations. A...</td>\n",
       "    </tr>\n",
       "    <tr>\n",
       "      <th>1600</th>\n",
       "      <td>1</td>\n",
       "      <td>MATLAB</td>\n",
       "      <td>deep-photo-styletransfer</td>\n",
       "      <td>9804</td>\n",
       "      <td>1431</td>\n",
       "      <td>Matlab</td>\n",
       "      <td>https://github.com/luanfujun/deep-photo-stylet...</td>\n",
       "      <td>luanfujun</td>\n",
       "      <td>30</td>\n",
       "      <td>2017-08-12T08:07:42Z</td>\n",
       "      <td>Code and data for paper \"Deep Photo Style Tran...</td>\n",
       "    </tr>\n",
       "    <tr>\n",
       "      <th>1900</th>\n",
       "      <td>1</td>\n",
       "      <td>PHP</td>\n",
       "      <td>laravel</td>\n",
       "      <td>65893</td>\n",
       "      <td>21142</td>\n",
       "      <td>PHP</td>\n",
       "      <td>https://github.com/laravel/laravel</td>\n",
       "      <td>laravel</td>\n",
       "      <td>30</td>\n",
       "      <td>2021-07-13T14:13:11Z</td>\n",
       "      <td>A PHP framework for web artisans.</td>\n",
       "    </tr>\n",
       "    <tr>\n",
       "      <th>200</th>\n",
       "      <td>1</td>\n",
       "      <td>ActionScript</td>\n",
       "      <td>open-source-flash</td>\n",
       "      <td>7352</td>\n",
       "      <td>138</td>\n",
       "      <td>ActionScript</td>\n",
       "      <td>https://github.com/open-source-flash/open-sour...</td>\n",
       "      <td>open-source-flash</td>\n",
       "      <td>33</td>\n",
       "      <td>2021-02-24T08:44:01Z</td>\n",
       "      <td>Petition to open source Flash and Shockwave spec</td>\n",
       "    </tr>\n",
       "    <tr>\n",
       "      <th>2400</th>\n",
       "      <td>1</td>\n",
       "      <td>Shell</td>\n",
       "      <td>awesome</td>\n",
       "      <td>165548</td>\n",
       "      <td>21141</td>\n",
       "      <td>Shell</td>\n",
       "      <td>https://github.com/sindresorhus/awesome</td>\n",
       "      <td>sindresorhus</td>\n",
       "      <td>46</td>\n",
       "      <td>2021-07-07T13:52:21Z</td>\n",
       "      <td>😎 Awesome lists about all kinds of interesting...</td>\n",
       "    </tr>\n",
       "    <tr>\n",
       "      <th>2000</th>\n",
       "      <td>1</td>\n",
       "      <td>Python</td>\n",
       "      <td>public-apis</td>\n",
       "      <td>138384</td>\n",
       "      <td>16383</td>\n",
       "      <td>Python</td>\n",
       "      <td>https://github.com/public-apis/public-apis</td>\n",
       "      <td>public-apis</td>\n",
       "      <td>48</td>\n",
       "      <td>2021-07-12T12:46:51Z</td>\n",
       "      <td>A collective list of free APIs</td>\n",
       "    </tr>\n",
       "    <tr>\n",
       "      <th>2600</th>\n",
       "      <td>1</td>\n",
       "      <td>TeX</td>\n",
       "      <td>deeplearningbook-chinese</td>\n",
       "      <td>31357</td>\n",
       "      <td>8826</td>\n",
       "      <td>TeX</td>\n",
       "      <td>https://github.com/exacity/deeplearningbook-ch...</td>\n",
       "      <td>exacity</td>\n",
       "      <td>59</td>\n",
       "      <td>2019-12-03T04:25:44Z</td>\n",
       "      <td>Deep Learning Book Chinese Translation</td>\n",
       "    </tr>\n",
       "  </tbody>\n",
       "</table>\n",
       "</div>"
      ],
      "text/plain": [
       "      rank          item                 repo_name   stars  forks  \\\n",
       "2500     1         Swift               awesome-ios   37923   6316   \n",
       "1800     1          Perl             diff-so-fancy   14502    319   \n",
       "1100     1          HTML              free-for-dev   48100   5157   \n",
       "800      1           CSS               animate.css   71513  15718   \n",
       "1600     1        MATLAB  deep-photo-styletransfer    9804   1431   \n",
       "1900     1           PHP                   laravel   65893  21142   \n",
       "200      1  ActionScript         open-source-flash    7352    138   \n",
       "2400     1         Shell                   awesome  165548  21141   \n",
       "2000     1        Python               public-apis  138384  16383   \n",
       "2600     1           TeX  deeplearningbook-chinese   31357   8826   \n",
       "\n",
       "          language                                           repo_url  \\\n",
       "2500         Swift              https://github.com/vsouza/awesome-ios   \n",
       "1800          Perl          https://github.com/so-fancy/diff-so-fancy   \n",
       "1100          HTML          https://github.com/ripienaar/free-for-dev   \n",
       "800            CSS         https://github.com/animate-css/animate.css   \n",
       "1600        Matlab  https://github.com/luanfujun/deep-photo-stylet...   \n",
       "1900           PHP                 https://github.com/laravel/laravel   \n",
       "200   ActionScript  https://github.com/open-source-flash/open-sour...   \n",
       "2400         Shell            https://github.com/sindresorhus/awesome   \n",
       "2000        Python         https://github.com/public-apis/public-apis   \n",
       "2600           TeX  https://github.com/exacity/deeplearningbook-ch...   \n",
       "\n",
       "               username  issues           last_commit  \\\n",
       "2500             vsouza       2  2021-07-13T14:38:35Z   \n",
       "1800           so-fancy      14  2021-06-26T15:37:33Z   \n",
       "1100          ripienaar      17  2021-07-13T13:40:59Z   \n",
       "800         animate-css      19  2021-07-13T19:02:20Z   \n",
       "1600          luanfujun      30  2017-08-12T08:07:42Z   \n",
       "1900            laravel      30  2021-07-13T14:13:11Z   \n",
       "200   open-source-flash      33  2021-02-24T08:44:01Z   \n",
       "2400       sindresorhus      46  2021-07-07T13:52:21Z   \n",
       "2000        public-apis      48  2021-07-12T12:46:51Z   \n",
       "2600            exacity      59  2019-12-03T04:25:44Z   \n",
       "\n",
       "                                            description  \n",
       "2500  A curated list of awesome iOS ecosystem, inclu...  \n",
       "1800  Good-lookin' diffs. Actually… nah… The best-lo...  \n",
       "1100  A list of SaaS, PaaS and IaaS offerings that h...  \n",
       "800   🍿 A cross-browser library of CSS animations. A...  \n",
       "1600  Code and data for paper \"Deep Photo Style Tran...  \n",
       "1900                  A PHP framework for web artisans.  \n",
       "200    Petition to open source Flash and Shockwave spec  \n",
       "2400  😎 Awesome lists about all kinds of interesting...  \n",
       "2000                     A collective list of free APIs  \n",
       "2600             Deep Learning Book Chinese Translation  "
      ]
     },
     "execution_count": 56,
     "metadata": {},
     "output_type": "execute_result"
    }
   ],
   "source": [
    "sf.sort_values(by=['rank','issues']).head(10)"
   ]
  },
  {
   "cell_type": "code",
   "execution_count": 60,
   "id": "022b9745",
   "metadata": {},
   "outputs": [
    {
     "data": {
      "text/html": [
       "<div>\n",
       "<style scoped>\n",
       "    .dataframe tbody tr th:only-of-type {\n",
       "        vertical-align: middle;\n",
       "    }\n",
       "\n",
       "    .dataframe tbody tr th {\n",
       "        vertical-align: top;\n",
       "    }\n",
       "\n",
       "    .dataframe thead th {\n",
       "        text-align: right;\n",
       "    }\n",
       "</style>\n",
       "<table border=\"1\" class=\"dataframe\">\n",
       "  <thead>\n",
       "    <tr style=\"text-align: right;\">\n",
       "      <th></th>\n",
       "      <th>rank</th>\n",
       "      <th>item</th>\n",
       "      <th>repo_name</th>\n",
       "      <th>stars</th>\n",
       "      <th>forks</th>\n",
       "      <th>language</th>\n",
       "      <th>repo_url</th>\n",
       "      <th>username</th>\n",
       "      <th>issues</th>\n",
       "      <th>last_commit</th>\n",
       "      <th>description</th>\n",
       "    </tr>\n",
       "  </thead>\n",
       "  <tbody>\n",
       "    <tr>\n",
       "      <th>0</th>\n",
       "      <td>17</td>\n",
       "      <td>Java</td>\n",
       "      <td>zxing</td>\n",
       "      <td>28062</td>\n",
       "      <td>9032</td>\n",
       "      <td>Java</td>\n",
       "      <td>https://github.com/zxing/zxing</td>\n",
       "      <td>zxing</td>\n",
       "      <td>10</td>\n",
       "      <td>2021-06-07T12:11:10Z</td>\n",
       "      <td>ZXing (\"Zebra Crossing\") barcode scanning libr...</td>\n",
       "    </tr>\n",
       "    <tr>\n",
       "      <th>1</th>\n",
       "      <td>5</td>\n",
       "      <td>CoffeeScript</td>\n",
       "      <td>zxcvbn</td>\n",
       "      <td>12162</td>\n",
       "      <td>838</td>\n",
       "      <td>CoffeeScript</td>\n",
       "      <td>https://github.com/dropbox/zxcvbn</td>\n",
       "      <td>dropbox</td>\n",
       "      <td>122</td>\n",
       "      <td>2021-05-17T22:14:15Z</td>\n",
       "      <td>Low-Budget Password Strength Estimation</td>\n",
       "    </tr>\n",
       "    <tr>\n",
       "      <th>2</th>\n",
       "      <td>32</td>\n",
       "      <td>C</td>\n",
       "      <td>zstd</td>\n",
       "      <td>15125</td>\n",
       "      <td>1404</td>\n",
       "      <td>C</td>\n",
       "      <td>https://github.com/facebook/zstd</td>\n",
       "      <td>facebook</td>\n",
       "      <td>78</td>\n",
       "      <td>2021-07-10T03:27:22Z</td>\n",
       "      <td>Zstandard - Fast real-time compression algorithm</td>\n",
       "    </tr>\n",
       "    <tr>\n",
       "      <th>3</th>\n",
       "      <td>38</td>\n",
       "      <td>Shell</td>\n",
       "      <td>zsh-syntax-highlighting</td>\n",
       "      <td>12192</td>\n",
       "      <td>890</td>\n",
       "      <td>Shell</td>\n",
       "      <td>https://github.com/zsh-users/zsh-syntax-highli...</td>\n",
       "      <td>zsh-users</td>\n",
       "      <td>144</td>\n",
       "      <td>2021-07-03T19:38:18Z</td>\n",
       "      <td>Fish shell like syntax highlighting for Zsh.</td>\n",
       "    </tr>\n",
       "    <tr>\n",
       "      <th>4</th>\n",
       "      <td>43</td>\n",
       "      <td>Haskell</td>\n",
       "      <td>zsh-git-prompt</td>\n",
       "      <td>1514</td>\n",
       "      <td>368</td>\n",
       "      <td>Haskell</td>\n",
       "      <td>https://github.com/olivierverdier/zsh-git-prompt</td>\n",
       "      <td>olivierverdier</td>\n",
       "      <td>59</td>\n",
       "      <td>2021-06-11T15:08:06Z</td>\n",
       "      <td>Informative git prompt for zsh</td>\n",
       "    </tr>\n",
       "    <tr>\n",
       "      <th>5</th>\n",
       "      <td>19</td>\n",
       "      <td>Shell</td>\n",
       "      <td>zsh-autosuggestions</td>\n",
       "      <td>17817</td>\n",
       "      <td>1065</td>\n",
       "      <td>Shell</td>\n",
       "      <td>https://github.com/zsh-users/zsh-autosuggestions</td>\n",
       "      <td>zsh-users</td>\n",
       "      <td>85</td>\n",
       "      <td>2021-07-07T19:48:55Z</td>\n",
       "      <td>Fish-like autosuggestions for zsh</td>\n",
       "    </tr>\n",
       "    <tr>\n",
       "      <th>6</th>\n",
       "      <td>97</td>\n",
       "      <td>TeX</td>\n",
       "      <td>zjuthesis</td>\n",
       "      <td>829</td>\n",
       "      <td>194</td>\n",
       "      <td>TeX</td>\n",
       "      <td>https://github.com/TheNetAdmin/zjuthesis</td>\n",
       "      <td>TheNetAdmin</td>\n",
       "      <td>3</td>\n",
       "      <td>2021-07-13T13:56:50Z</td>\n",
       "      <td>Zhejiang University Graduation Thesis LaTeX Te...</td>\n",
       "    </tr>\n",
       "    <tr>\n",
       "      <th>7</th>\n",
       "      <td>13</td>\n",
       "      <td>C</td>\n",
       "      <td>zju-icicles</td>\n",
       "      <td>21854</td>\n",
       "      <td>6598</td>\n",
       "      <td>C</td>\n",
       "      <td>https://github.com/QSCTech/zju-icicles</td>\n",
       "      <td>QSCTech</td>\n",
       "      <td>6</td>\n",
       "      <td>2021-07-12T06:31:58Z</td>\n",
       "      <td>浙江大学课程攻略共享计划</td>\n",
       "    </tr>\n",
       "    <tr>\n",
       "      <th>8</th>\n",
       "      <td>72</td>\n",
       "      <td>Java</td>\n",
       "      <td>zipkin</td>\n",
       "      <td>14526</td>\n",
       "      <td>2755</td>\n",
       "      <td>Java</td>\n",
       "      <td>https://github.com/openzipkin/zipkin</td>\n",
       "      <td>openzipkin</td>\n",
       "      <td>154</td>\n",
       "      <td>2021-04-13T14:29:34Z</td>\n",
       "      <td>Zipkin is a distributed tracing system</td>\n",
       "    </tr>\n",
       "    <tr>\n",
       "      <th>9</th>\n",
       "      <td>38</td>\n",
       "      <td>Scala</td>\n",
       "      <td>zio</td>\n",
       "      <td>2933</td>\n",
       "      <td>867</td>\n",
       "      <td>Scala</td>\n",
       "      <td>https://github.com/zio/zio</td>\n",
       "      <td>zio</td>\n",
       "      <td>380</td>\n",
       "      <td>2021-07-13T19:17:16Z</td>\n",
       "      <td>ZIO — A type-safe, composable library for asyn...</td>\n",
       "    </tr>\n",
       "  </tbody>\n",
       "</table>\n",
       "</div>"
      ],
      "text/plain": [
       "   rank          item                repo_name  stars  forks      language  \\\n",
       "0    17          Java                    zxing  28062   9032          Java   \n",
       "1     5  CoffeeScript                   zxcvbn  12162    838  CoffeeScript   \n",
       "2    32             C                     zstd  15125   1404             C   \n",
       "3    38         Shell  zsh-syntax-highlighting  12192    890         Shell   \n",
       "4    43       Haskell           zsh-git-prompt   1514    368       Haskell   \n",
       "5    19         Shell      zsh-autosuggestions  17817   1065         Shell   \n",
       "6    97           TeX                zjuthesis    829    194           TeX   \n",
       "7    13             C              zju-icicles  21854   6598             C   \n",
       "8    72          Java                   zipkin  14526   2755          Java   \n",
       "9    38         Scala                      zio   2933    867         Scala   \n",
       "\n",
       "                                            repo_url        username  issues  \\\n",
       "0                     https://github.com/zxing/zxing           zxing      10   \n",
       "1                  https://github.com/dropbox/zxcvbn         dropbox     122   \n",
       "2                   https://github.com/facebook/zstd        facebook      78   \n",
       "3  https://github.com/zsh-users/zsh-syntax-highli...       zsh-users     144   \n",
       "4   https://github.com/olivierverdier/zsh-git-prompt  olivierverdier      59   \n",
       "5   https://github.com/zsh-users/zsh-autosuggestions       zsh-users      85   \n",
       "6           https://github.com/TheNetAdmin/zjuthesis     TheNetAdmin       3   \n",
       "7             https://github.com/QSCTech/zju-icicles         QSCTech       6   \n",
       "8               https://github.com/openzipkin/zipkin      openzipkin     154   \n",
       "9                         https://github.com/zio/zio             zio     380   \n",
       "\n",
       "            last_commit                                        description  \n",
       "0  2021-06-07T12:11:10Z  ZXing (\"Zebra Crossing\") barcode scanning libr...  \n",
       "1  2021-05-17T22:14:15Z            Low-Budget Password Strength Estimation  \n",
       "2  2021-07-10T03:27:22Z   Zstandard - Fast real-time compression algorithm  \n",
       "3  2021-07-03T19:38:18Z       Fish shell like syntax highlighting for Zsh.  \n",
       "4  2021-06-11T15:08:06Z                     Informative git prompt for zsh  \n",
       "5  2021-07-07T19:48:55Z                  Fish-like autosuggestions for zsh  \n",
       "6  2021-07-13T13:56:50Z  Zhejiang University Graduation Thesis LaTeX Te...  \n",
       "7  2021-07-12T06:31:58Z                                       浙江大学课程攻略共享计划  \n",
       "8  2021-04-13T14:29:34Z             Zipkin is a distributed tracing system  \n",
       "9  2021-07-13T19:17:16Z  ZIO — A type-safe, composable library for asyn...  "
      ]
     },
     "execution_count": 60,
     "metadata": {},
     "output_type": "execute_result"
    }
   ],
   "source": [
    "sf.sort_values(by='repo_name', ascending= False, ignore_index=True).head(10)"
   ]
  },
  {
   "cell_type": "code",
   "execution_count": 61,
   "id": "e0919f0a",
   "metadata": {},
   "outputs": [
    {
     "data": {
      "text/html": [
       "<div>\n",
       "<style scoped>\n",
       "    .dataframe tbody tr th:only-of-type {\n",
       "        vertical-align: middle;\n",
       "    }\n",
       "\n",
       "    .dataframe tbody tr th {\n",
       "        vertical-align: top;\n",
       "    }\n",
       "\n",
       "    .dataframe thead th {\n",
       "        text-align: right;\n",
       "    }\n",
       "</style>\n",
       "<table border=\"1\" class=\"dataframe\">\n",
       "  <thead>\n",
       "    <tr style=\"text-align: right;\">\n",
       "      <th></th>\n",
       "      <th>description</th>\n",
       "      <th>forks</th>\n",
       "      <th>issues</th>\n",
       "      <th>item</th>\n",
       "      <th>language</th>\n",
       "      <th>last_commit</th>\n",
       "      <th>rank</th>\n",
       "      <th>repo_name</th>\n",
       "      <th>repo_url</th>\n",
       "      <th>stars</th>\n",
       "      <th>username</th>\n",
       "    </tr>\n",
       "  </thead>\n",
       "  <tbody>\n",
       "    <tr>\n",
       "      <th>0</th>\n",
       "      <td>freeCodeCamp.org's open-source codebase and cu...</td>\n",
       "      <td>26086</td>\n",
       "      <td>244</td>\n",
       "      <td>top-100-stars</td>\n",
       "      <td>JavaScript</td>\n",
       "      <td>2021-07-14T01:24:39Z</td>\n",
       "      <td>1</td>\n",
       "      <td>freeCodeCamp</td>\n",
       "      <td>https://github.com/freeCodeCamp/freeCodeCamp</td>\n",
       "      <td>326065</td>\n",
       "      <td>freeCodeCamp</td>\n",
       "    </tr>\n",
       "    <tr>\n",
       "      <th>1</th>\n",
       "      <td>Repo for counting stars and contributing. Pres...</td>\n",
       "      <td>21342</td>\n",
       "      <td>16814</td>\n",
       "      <td>top-100-stars</td>\n",
       "      <td>Rust</td>\n",
       "      <td>2021-06-24T11:16:12Z</td>\n",
       "      <td>2</td>\n",
       "      <td>996.ICU</td>\n",
       "      <td>https://github.com/996icu/996.ICU</td>\n",
       "      <td>257895</td>\n",
       "      <td>996icu</td>\n",
       "    </tr>\n",
       "    <tr>\n",
       "      <th>2</th>\n",
       "      <td>:books: Freely available programming books</td>\n",
       "      <td>43254</td>\n",
       "      <td>33</td>\n",
       "      <td>top-100-stars</td>\n",
       "      <td>NaN</td>\n",
       "      <td>2021-07-13T20:36:02Z</td>\n",
       "      <td>3</td>\n",
       "      <td>free-programming-books</td>\n",
       "      <td>https://github.com/EbookFoundation/free-progra...</td>\n",
       "      <td>196494</td>\n",
       "      <td>EbookFoundation</td>\n",
       "    </tr>\n",
       "    <tr>\n",
       "      <th>3</th>\n",
       "      <td>🖖 Vue.js is a progressive, incrementally-adopt...</td>\n",
       "      <td>29607</td>\n",
       "      <td>532</td>\n",
       "      <td>top-100-stars</td>\n",
       "      <td>JavaScript</td>\n",
       "      <td>2021-07-12T06:50:51Z</td>\n",
       "      <td>4</td>\n",
       "      <td>vue</td>\n",
       "      <td>https://github.com/vuejs/vue</td>\n",
       "      <td>185599</td>\n",
       "      <td>vuejs</td>\n",
       "    </tr>\n",
       "    <tr>\n",
       "      <th>4</th>\n",
       "      <td>A complete computer science study plan to beco...</td>\n",
       "      <td>50104</td>\n",
       "      <td>46</td>\n",
       "      <td>top-100-stars</td>\n",
       "      <td>NaN</td>\n",
       "      <td>2021-07-13T01:07:39Z</td>\n",
       "      <td>5</td>\n",
       "      <td>coding-interview-university</td>\n",
       "      <td>https://github.com/jwasham/coding-interview-un...</td>\n",
       "      <td>184072</td>\n",
       "      <td>jwasham</td>\n",
       "    </tr>\n",
       "  </tbody>\n",
       "</table>\n",
       "</div>"
      ],
      "text/plain": [
       "                                         description  forks  issues  \\\n",
       "0  freeCodeCamp.org's open-source codebase and cu...  26086     244   \n",
       "1  Repo for counting stars and contributing. Pres...  21342   16814   \n",
       "2         :books: Freely available programming books  43254      33   \n",
       "3  🖖 Vue.js is a progressive, incrementally-adopt...  29607     532   \n",
       "4  A complete computer science study plan to beco...  50104      46   \n",
       "\n",
       "            item    language           last_commit  rank  \\\n",
       "0  top-100-stars  JavaScript  2021-07-14T01:24:39Z     1   \n",
       "1  top-100-stars        Rust  2021-06-24T11:16:12Z     2   \n",
       "2  top-100-stars         NaN  2021-07-13T20:36:02Z     3   \n",
       "3  top-100-stars  JavaScript  2021-07-12T06:50:51Z     4   \n",
       "4  top-100-stars         NaN  2021-07-13T01:07:39Z     5   \n",
       "\n",
       "                     repo_name  \\\n",
       "0                 freeCodeCamp   \n",
       "1                      996.ICU   \n",
       "2       free-programming-books   \n",
       "3                          vue   \n",
       "4  coding-interview-university   \n",
       "\n",
       "                                            repo_url   stars         username  \n",
       "0       https://github.com/freeCodeCamp/freeCodeCamp  326065     freeCodeCamp  \n",
       "1                  https://github.com/996icu/996.ICU  257895           996icu  \n",
       "2  https://github.com/EbookFoundation/free-progra...  196494  EbookFoundation  \n",
       "3                       https://github.com/vuejs/vue  185599            vuejs  \n",
       "4  https://github.com/jwasham/coding-interview-un...  184072          jwasham  "
      ]
     },
     "execution_count": 61,
     "metadata": {},
     "output_type": "execute_result"
    }
   ],
   "source": [
    "#sorting by column names\n",
    "sf.sort_index(axis=1).head(5)"
   ]
  },
  {
   "cell_type": "code",
   "execution_count": 45,
   "id": "2547c20b",
   "metadata": {},
   "outputs": [
    {
     "data": {
      "text/html": [
       "<div>\n",
       "<style scoped>\n",
       "    .dataframe tbody tr th:only-of-type {\n",
       "        vertical-align: middle;\n",
       "    }\n",
       "\n",
       "    .dataframe tbody tr th {\n",
       "        vertical-align: top;\n",
       "    }\n",
       "\n",
       "    .dataframe thead th {\n",
       "        text-align: right;\n",
       "    }\n",
       "</style>\n",
       "<table border=\"1\" class=\"dataframe\">\n",
       "  <thead>\n",
       "    <tr style=\"text-align: right;\">\n",
       "      <th></th>\n",
       "      <th>rank</th>\n",
       "      <th>item</th>\n",
       "      <th>repo_name</th>\n",
       "      <th>stars</th>\n",
       "      <th>forks</th>\n",
       "      <th>language</th>\n",
       "      <th>repo_url</th>\n",
       "      <th>username</th>\n",
       "      <th>issues</th>\n",
       "      <th>last_commit</th>\n",
       "      <th>description</th>\n",
       "    </tr>\n",
       "  </thead>\n",
       "  <tbody>\n",
       "    <tr>\n",
       "      <th>2795</th>\n",
       "      <td>96</td>\n",
       "      <td>Vim-script</td>\n",
       "      <td>nerdtree-git-plugin</td>\n",
       "      <td>1863</td>\n",
       "      <td>144</td>\n",
       "      <td>Vim script</td>\n",
       "      <td>https://github.com/Xuyuanp/nerdtree-git-plugin</td>\n",
       "      <td>Xuyuanp</td>\n",
       "      <td>1</td>\n",
       "      <td>2021-06-04T05:27:31Z</td>\n",
       "      <td>A plugin of NERDTree showing git status</td>\n",
       "    </tr>\n",
       "    <tr>\n",
       "      <th>2796</th>\n",
       "      <td>97</td>\n",
       "      <td>Vim-script</td>\n",
       "      <td>vim-ruby</td>\n",
       "      <td>1856</td>\n",
       "      <td>292</td>\n",
       "      <td>Vim script</td>\n",
       "      <td>https://github.com/vim-ruby/vim-ruby</td>\n",
       "      <td>vim-ruby</td>\n",
       "      <td>63</td>\n",
       "      <td>2021-07-12T18:27:44Z</td>\n",
       "      <td>Vim/Ruby Configuration Files</td>\n",
       "    </tr>\n",
       "    <tr>\n",
       "      <th>2797</th>\n",
       "      <td>98</td>\n",
       "      <td>Vim-script</td>\n",
       "      <td>undotree</td>\n",
       "      <td>1830</td>\n",
       "      <td>71</td>\n",
       "      <td>Vim script</td>\n",
       "      <td>https://github.com/mbbill/undotree</td>\n",
       "      <td>mbbill</td>\n",
       "      <td>16</td>\n",
       "      <td>2021-05-28T21:52:01Z</td>\n",
       "      <td>The undo history visualizer for VIM</td>\n",
       "    </tr>\n",
       "    <tr>\n",
       "      <th>2798</th>\n",
       "      <td>99</td>\n",
       "      <td>Vim-script</td>\n",
       "      <td>delimitMate</td>\n",
       "      <td>1824</td>\n",
       "      <td>116</td>\n",
       "      <td>Vim script</td>\n",
       "      <td>https://github.com/Raimondi/delimitMate</td>\n",
       "      <td>Raimondi</td>\n",
       "      <td>44</td>\n",
       "      <td>2020-12-14T04:12:49Z</td>\n",
       "      <td>Vim plugin, provides insert mode auto-completi...</td>\n",
       "    </tr>\n",
       "    <tr>\n",
       "      <th>2799</th>\n",
       "      <td>100</td>\n",
       "      <td>Vim-script</td>\n",
       "      <td>dotfiles</td>\n",
       "      <td>1818</td>\n",
       "      <td>414</td>\n",
       "      <td>Vim script</td>\n",
       "      <td>https://github.com/garybernhardt/dotfiles</td>\n",
       "      <td>garybernhardt</td>\n",
       "      <td>0</td>\n",
       "      <td>2021-05-14T00:19:36Z</td>\n",
       "      <td>~grb. Things in here are often interdependent....</td>\n",
       "    </tr>\n",
       "  </tbody>\n",
       "</table>\n",
       "</div>"
      ],
      "text/plain": [
       "      rank        item            repo_name  stars  forks    language  \\\n",
       "2795    96  Vim-script  nerdtree-git-plugin   1863    144  Vim script   \n",
       "2796    97  Vim-script             vim-ruby   1856    292  Vim script   \n",
       "2797    98  Vim-script             undotree   1830     71  Vim script   \n",
       "2798    99  Vim-script          delimitMate   1824    116  Vim script   \n",
       "2799   100  Vim-script             dotfiles   1818    414  Vim script   \n",
       "\n",
       "                                            repo_url       username  issues  \\\n",
       "2795  https://github.com/Xuyuanp/nerdtree-git-plugin        Xuyuanp       1   \n",
       "2796            https://github.com/vim-ruby/vim-ruby       vim-ruby      63   \n",
       "2797              https://github.com/mbbill/undotree         mbbill      16   \n",
       "2798         https://github.com/Raimondi/delimitMate       Raimondi      44   \n",
       "2799       https://github.com/garybernhardt/dotfiles  garybernhardt       0   \n",
       "\n",
       "               last_commit                                        description  \n",
       "2795  2021-06-04T05:27:31Z            A plugin of NERDTree showing git status  \n",
       "2796  2021-07-12T18:27:44Z                       Vim/Ruby Configuration Files  \n",
       "2797  2021-05-28T21:52:01Z                The undo history visualizer for VIM  \n",
       "2798  2020-12-14T04:12:49Z  Vim plugin, provides insert mode auto-completi...  \n",
       "2799  2021-05-14T00:19:36Z  ~grb. Things in here are often interdependent....  "
      ]
     },
     "execution_count": 45,
     "metadata": {},
     "output_type": "execute_result"
    }
   ],
   "source": [
    "sf.tail()"
   ]
  },
  {
   "cell_type": "code",
   "execution_count": 46,
   "id": "acfc44dc",
   "metadata": {},
   "outputs": [
    {
     "name": "stdout",
     "output_type": "stream",
     "text": [
      "<class 'pandas.core.frame.DataFrame'>\n",
      "RangeIndex: 2800 entries, 0 to 2799\n",
      "Data columns (total 11 columns):\n",
      " #   Column       Non-Null Count  Dtype \n",
      "---  ------       --------------  ----- \n",
      " 0   rank         2800 non-null   int64 \n",
      " 1   item         2800 non-null   object\n",
      " 2   repo_name    2800 non-null   object\n",
      " 3   stars        2800 non-null   int64 \n",
      " 4   forks        2800 non-null   int64 \n",
      " 5   language     2771 non-null   object\n",
      " 6   repo_url     2800 non-null   object\n",
      " 7   username     2800 non-null   object\n",
      " 8   issues       2800 non-null   int64 \n",
      " 9   last_commit  2800 non-null   object\n",
      " 10  description  2760 non-null   object\n",
      "dtypes: int64(4), object(7)\n",
      "memory usage: 240.8+ KB\n"
     ]
    }
   ],
   "source": [
    "sf.info()"
   ]
  },
  {
   "cell_type": "code",
   "execution_count": 64,
   "id": "26ace27f",
   "metadata": {},
   "outputs": [
    {
     "data": {
      "text/plain": [
       "['kin', 'kim', 'yuong', 'ung', nan]"
      ]
     },
     "execution_count": 64,
     "metadata": {},
     "output_type": "execute_result"
    }
   ],
   "source": [
    "#Vectorized String functions in Pandas\n",
    "#stp:1    creating data\n",
    "inf=['kin','kim','yuong','ung',np.nan]\n",
    "inf\n"
   ]
  },
  {
   "cell_type": "code",
   "execution_count": 67,
   "id": "277cf971",
   "metadata": {},
   "outputs": [],
   "source": [
    "#converting data in to Series:\n",
    "name=pd.Series(inf)\n"
   ]
  },
  {
   "cell_type": "code",
   "execution_count": 69,
   "id": "a4d7624b",
   "metadata": {},
   "outputs": [
    {
     "data": {
      "text/plain": [
       "0      Kin\n",
       "1      Kim\n",
       "2    Yuong\n",
       "3      Ung\n",
       "4      NaN\n",
       "dtype: object"
      ]
     },
     "execution_count": 69,
     "metadata": {},
     "output_type": "execute_result"
    }
   ],
   "source": [
    "name.str.capitalize()"
   ]
  },
  {
   "cell_type": "code",
   "execution_count": 70,
   "id": "33b63d75",
   "metadata": {},
   "outputs": [
    {
     "data": {
      "text/plain": [
       "0    3.0\n",
       "1    3.0\n",
       "2    5.0\n",
       "3    3.0\n",
       "4    NaN\n",
       "dtype: float64"
      ]
     },
     "execution_count": 70,
     "metadata": {},
     "output_type": "execute_result"
    }
   ],
   "source": [
    "name.str.len()"
   ]
  },
  {
   "cell_type": "code",
   "execution_count": 71,
   "id": "00f59e87",
   "metadata": {},
   "outputs": [
    {
     "data": {
      "text/plain": [
       "0    False\n",
       "1    False\n",
       "2    False\n",
       "3    False\n",
       "4      NaN\n",
       "dtype: object"
      ]
     },
     "execution_count": 71,
     "metadata": {},
     "output_type": "execute_result"
    }
   ],
   "source": [
    "name.str.startswith('n')"
   ]
  },
  {
   "cell_type": "code",
   "execution_count": 72,
   "id": "5ce5e27d",
   "metadata": {},
   "outputs": [
    {
     "data": {
      "text/plain": [
       "0      [kin]\n",
       "1      [kim]\n",
       "2    [yuong]\n",
       "3      [ung]\n",
       "4        NaN\n",
       "dtype: object"
      ]
     },
     "execution_count": 72,
     "metadata": {},
     "output_type": "execute_result"
    }
   ],
   "source": [
    "name.str.split()"
   ]
  },
  {
   "cell_type": "code",
   "execution_count": 74,
   "id": "0b0df6df",
   "metadata": {},
   "outputs": [
    {
     "data": {
      "text/plain": [
       "0       [i, kim, o]\n",
       "1    [o, ollie, pp]\n",
       "2         [y, o, y]\n",
       "dtype: object"
      ]
     },
     "execution_count": 74,
     "metadata": {},
     "output_type": "execute_result"
    }
   ],
   "source": [
    "sfi=pd.Series(['i_kim_o','o_ollie_pp','y_o_y'])\n",
    "sfi.str.split('_')"
   ]
  },
  {
   "cell_type": "code",
   "execution_count": 77,
   "id": "9753a87e",
   "metadata": {},
   "outputs": [
    {
     "data": {
      "text/plain": [
       "0     o\n",
       "1    pp\n",
       "2     y\n",
       "dtype: object"
      ]
     },
     "execution_count": 77,
     "metadata": {},
     "output_type": "execute_result"
    }
   ],
   "source": [
    "sfi.str.split(\"_\").str[2]"
   ]
  },
  {
   "cell_type": "code",
   "execution_count": 78,
   "id": "97d95977",
   "metadata": {},
   "outputs": [
    {
     "data": {
      "text/plain": [
       "0       i_kem_o\n",
       "1    o_ollie_pp\n",
       "2         y_o_y\n",
       "dtype: object"
      ]
     },
     "execution_count": 78,
     "metadata": {},
     "output_type": "execute_result"
    }
   ],
   "source": [
    "#Replace()\n",
    "sfi.str.replace('kim','kem')"
   ]
  },
  {
   "cell_type": "code",
   "execution_count": 79,
   "id": "0d627cdd",
   "metadata": {},
   "outputs": [
    {
     "data": {
      "text/plain": [
       "0      i_kim_o\n",
       "1    o_olie_pp\n",
       "2        y_o_y\n",
       "dtype: object"
      ]
     },
     "execution_count": 79,
     "metadata": {},
     "output_type": "execute_result"
    }
   ],
   "source": [
    "sfi.str.replace('ollie','olie')"
   ]
  },
  {
   "cell_type": "code",
   "execution_count": 80,
   "id": "48272add",
   "metadata": {},
   "outputs": [
    {
     "data": {
      "text/plain": [
       "0        i_kim_yo\n",
       "1    yo_yollie_pp\n",
       "2          y_yo_y\n",
       "dtype: object"
      ]
     },
     "execution_count": 80,
     "metadata": {},
     "output_type": "execute_result"
    }
   ],
   "source": [
    "sfi.str.replace('o','yo')"
   ]
  },
  {
   "cell_type": "code",
   "execution_count": 81,
   "id": "b31b855f",
   "metadata": {},
   "outputs": [
    {
     "name": "stdout",
     "output_type": "stream",
     "text": [
      "display.max_rows=  60\n"
     ]
    }
   ],
   "source": [
    "import pandas as pd\n",
    "print('display.max_rows= ',pd.get_option('display.max_rows'))"
   ]
  },
  {
   "cell_type": "code",
   "execution_count": 82,
   "id": "9a166131",
   "metadata": {},
   "outputs": [
    {
     "name": "stdout",
     "output_type": "stream",
     "text": [
      "display.max_columns=  20\n"
     ]
    }
   ],
   "source": [
    "import pandas as pd\n",
    "print('display.max_columns= ',pd.get_option('display.max_columns'))"
   ]
  },
  {
   "cell_type": "code",
   "execution_count": 85,
   "id": "790904e7",
   "metadata": {},
   "outputs": [
    {
     "name": "stdout",
     "output_type": "stream",
     "text": [
      "Before setting the maximum rows 60\n",
      "\n",
      "\n",
      "after setting the maxium rows 85\n"
     ]
    }
   ],
   "source": [
    "#set option(parameter, value)\n",
    "import pandas as pd\n",
    "print('Before setting the maximum rows',pd.get_option('display.max_rows'))\n",
    "\n",
    "print('\\n')\n",
    "pd.set_option('display.max_rows',85)\n",
    "print('after setting the maxium rows',pd.get_option('display.max_rows'))"
   ]
  },
  {
   "cell_type": "code",
   "execution_count": 91,
   "id": "e09e47e8",
   "metadata": {},
   "outputs": [
    {
     "name": "stdout",
     "output_type": "stream",
     "text": [
      "before setting maximum columns=  40\n",
      "\n",
      "\n",
      "after stting the maximum columns =  40\n"
     ]
    }
   ],
   "source": [
    "import pandas as pd\n",
    "print('before setting maximum columns= ',pd.get_option('display.max_columns'))\n",
    "print('\\n')\n",
    "pd.set_option('display.max_columns',40)\n",
    "print('after stting the maximum columns = ',pd.get_option('display.max_columns'))"
   ]
  },
  {
   "cell_type": "code",
   "execution_count": 94,
   "id": "d81ff715",
   "metadata": {},
   "outputs": [
    {
     "name": "stdout",
     "output_type": "stream",
     "text": [
      "after applying the  display.max_rows=  134\n",
      "reset the display rows =   60\n"
     ]
    }
   ],
   "source": [
    "#reset_option(parameter):- to change the value back to the default number of rows displayed\n",
    "import pandas as pd\n",
    "pd.set_option('display.max_rows',134)\n",
    "print('after applying the  display.max_rows= ',pd.get_option('display.max_rows'))\n",
    "pd.reset_option('display.max_rows')\n",
    "print('reset the display rows =  ', pd.get_option('display.max_rows'))\n"
   ]
  },
  {
   "cell_type": "code",
   "execution_count": 95,
   "id": "be062b18",
   "metadata": {},
   "outputs": [
    {
     "name": "stdout",
     "output_type": "stream",
     "text": [
      "display.max_rows : int\n",
      "    If max_rows is exceeded, switch to truncate view. Depending on\n",
      "    `large_repr`, objects are either centrally truncated or printed as\n",
      "    a summary view. 'None' value means unlimited.\n",
      "\n",
      "    In case python/IPython is running in a terminal and `large_repr`\n",
      "    equals 'truncate' this can be set to 0 and pandas will auto-detect\n",
      "    the height of the terminal and print a truncated object which fits\n",
      "    the screen height. The IPython notebook, IPython qtconsole, or\n",
      "    IDLE do not run in a terminal and hence it is not possible to do\n",
      "    correct auto-detection.\n",
      "    [default: 60] [currently: 60]\n"
     ]
    }
   ],
   "source": [
    "#describe option()\n",
    "#print the description of the parameter\n",
    "import pandas as pd\n",
    "pd.describe_option('display.max_rows')\n"
   ]
  },
  {
   "cell_type": "code",
   "execution_count": 98,
   "id": "5889b286",
   "metadata": {},
   "outputs": [
    {
     "name": "stdout",
     "output_type": "stream",
     "text": [
      "dispaly.get.max_rows\n"
     ]
    }
   ],
   "source": [
    "#option_context(): it is used to temporarily set options in a statement.option value are automatically restored when when you exist blocks.\n",
    "import pandas as pd\n",
    "with pd.option_context('display.max_rows',20):\n",
    "    print('dispaly.get.max_rows')\n"
   ]
  },
  {
   "cell_type": "markdown",
   "id": "d4283e87",
   "metadata": {},
   "source": [
    "# indexing and selecting the data:\n"
   ]
  },
  {
   "cell_type": "code",
   "execution_count": 106,
   "id": "8c5e3c44",
   "metadata": {},
   "outputs": [
    {
     "data": {
      "text/html": [
       "<div>\n",
       "<style scoped>\n",
       "    .dataframe tbody tr th:only-of-type {\n",
       "        vertical-align: middle;\n",
       "    }\n",
       "\n",
       "    .dataframe tbody tr th {\n",
       "        vertical-align: top;\n",
       "    }\n",
       "\n",
       "    .dataframe thead th {\n",
       "        text-align: right;\n",
       "    }\n",
       "</style>\n",
       "<table border=\"1\" class=\"dataframe\">\n",
       "  <thead>\n",
       "    <tr style=\"text-align: right;\">\n",
       "      <th></th>\n",
       "      <th>A1</th>\n",
       "      <th>A2</th>\n",
       "      <th>A3</th>\n",
       "      <th>A4</th>\n",
       "      <th>A5</th>\n",
       "      <th>A6</th>\n",
       "    </tr>\n",
       "  </thead>\n",
       "  <tbody>\n",
       "    <tr>\n",
       "      <th>a</th>\n",
       "      <td>0.682891</td>\n",
       "      <td>0.608600</td>\n",
       "      <td>0.366050</td>\n",
       "      <td>0.378517</td>\n",
       "      <td>0.317712</td>\n",
       "      <td>0.379745</td>\n",
       "    </tr>\n",
       "    <tr>\n",
       "      <th>b</th>\n",
       "      <td>0.869955</td>\n",
       "      <td>0.189925</td>\n",
       "      <td>0.110128</td>\n",
       "      <td>0.270839</td>\n",
       "      <td>0.401083</td>\n",
       "      <td>0.206962</td>\n",
       "    </tr>\n",
       "    <tr>\n",
       "      <th>c</th>\n",
       "      <td>0.057362</td>\n",
       "      <td>0.189727</td>\n",
       "      <td>0.636060</td>\n",
       "      <td>0.153345</td>\n",
       "      <td>0.809545</td>\n",
       "      <td>0.224935</td>\n",
       "    </tr>\n",
       "    <tr>\n",
       "      <th>d</th>\n",
       "      <td>0.241313</td>\n",
       "      <td>0.868764</td>\n",
       "      <td>0.648707</td>\n",
       "      <td>0.989455</td>\n",
       "      <td>0.241310</td>\n",
       "      <td>0.793444</td>\n",
       "    </tr>\n",
       "    <tr>\n",
       "      <th>e</th>\n",
       "      <td>0.559507</td>\n",
       "      <td>0.198656</td>\n",
       "      <td>0.411456</td>\n",
       "      <td>0.567733</td>\n",
       "      <td>0.765684</td>\n",
       "      <td>0.681271</td>\n",
       "    </tr>\n",
       "    <tr>\n",
       "      <th>f</th>\n",
       "      <td>0.985487</td>\n",
       "      <td>0.429715</td>\n",
       "      <td>0.737996</td>\n",
       "      <td>0.657787</td>\n",
       "      <td>0.853290</td>\n",
       "      <td>0.236313</td>\n",
       "    </tr>\n",
       "    <tr>\n",
       "      <th>g</th>\n",
       "      <td>0.923511</td>\n",
       "      <td>0.939880</td>\n",
       "      <td>0.393856</td>\n",
       "      <td>0.931284</td>\n",
       "      <td>0.176548</td>\n",
       "      <td>0.860711</td>\n",
       "    </tr>\n",
       "    <tr>\n",
       "      <th>h</th>\n",
       "      <td>0.469227</td>\n",
       "      <td>0.301536</td>\n",
       "      <td>0.587652</td>\n",
       "      <td>0.179050</td>\n",
       "      <td>0.809543</td>\n",
       "      <td>0.722173</td>\n",
       "    </tr>\n",
       "  </tbody>\n",
       "</table>\n",
       "</div>"
      ],
      "text/plain": [
       "         A1        A2        A3        A4        A5        A6\n",
       "a  0.682891  0.608600  0.366050  0.378517  0.317712  0.379745\n",
       "b  0.869955  0.189925  0.110128  0.270839  0.401083  0.206962\n",
       "c  0.057362  0.189727  0.636060  0.153345  0.809545  0.224935\n",
       "d  0.241313  0.868764  0.648707  0.989455  0.241310  0.793444\n",
       "e  0.559507  0.198656  0.411456  0.567733  0.765684  0.681271\n",
       "f  0.985487  0.429715  0.737996  0.657787  0.853290  0.236313\n",
       "g  0.923511  0.939880  0.393856  0.931284  0.176548  0.860711\n",
       "h  0.469227  0.301536  0.587652  0.179050  0.809543  0.722173"
      ]
     },
     "execution_count": 106,
     "metadata": {},
     "output_type": "execute_result"
    }
   ],
   "source": [
    "#rows and columns have indexes. it like the address that how a datapoint across the dataframe or SERIES can be accessed.\n",
    "#axis labeling index useful for 'identifies the data using known indicators', important for data analysis, visulaization and interactive display\n",
    "# it enables automatic and explicit data alignment\n",
    "# Allows inituitives getting and setting of datasets\n",
    "#loc\n",
    "import pandas as pd\n",
    "import numpy as np\n",
    "sf=pd.DataFrame(np.random.rand(8,6),index=['a','b','c','d','e','f','g','h'], columns=['A1','A2','A3','A4','A5','A6'])\n",
    "sf\n",
    "\n"
   ]
  },
  {
   "cell_type": "code",
   "execution_count": 115,
   "id": "4646eca9",
   "metadata": {},
   "outputs": [
    {
     "name": "stdout",
     "output_type": "stream",
     "text": [
      "Empty DataFrame\n",
      "Columns: [A1, A2, A3, A4, A5, A6]\n",
      "Index: []\n"
     ]
    }
   ],
   "source": [
    "#TO ACCESS THE SINGLE ROW\n",
    "print(sf.loc['A1':'A3'])"
   ]
  },
  {
   "cell_type": "code",
   "execution_count": 111,
   "id": "5b4cc0c6",
   "metadata": {},
   "outputs": [
    {
     "name": "stdout",
     "output_type": "stream",
     "text": [
      "A1    True\n",
      "A2    True\n",
      "A3    True\n",
      "A4    True\n",
      "A5    True\n",
      "A6    True\n",
      "Name: a, dtype: bool\n"
     ]
    }
   ],
   "source": [
    "print(sf.loc['a']>0)"
   ]
  },
  {
   "cell_type": "code",
   "execution_count": 112,
   "id": "afb63ad0",
   "metadata": {},
   "outputs": [
    {
     "name": "stdout",
     "output_type": "stream",
     "text": [
      "A1    False\n",
      "A2    False\n",
      "A3    False\n",
      "A4    False\n",
      "A5    False\n",
      "A6    False\n",
      "Name: c, dtype: bool\n"
     ]
    }
   ],
   "source": [
    "print(sf.loc['c']<0)"
   ]
  },
  {
   "cell_type": "code",
   "execution_count": 113,
   "id": "df4a5f0e",
   "metadata": {},
   "outputs": [
    {
     "name": "stdout",
     "output_type": "stream",
     "text": [
      "A1    True\n",
      "A2    True\n",
      "A3    True\n",
      "A4    True\n",
      "A5    True\n",
      "A6    True\n",
      "Name: g, dtype: bool\n"
     ]
    }
   ],
   "source": [
    "print(sf.loc['g']>0.1)"
   ]
  },
  {
   "cell_type": "code",
   "execution_count": 114,
   "id": "74d78bee",
   "metadata": {},
   "outputs": [
    {
     "name": "stdout",
     "output_type": "stream",
     "text": [
      "A1     True\n",
      "A2    False\n",
      "A3     True\n",
      "A4     True\n",
      "A5     True\n",
      "A6    False\n",
      "Name: f, dtype: bool\n"
     ]
    }
   ],
   "source": [
    "print(sf.loc['f']>0.5)"
   ]
  },
  {
   "cell_type": "code",
   "execution_count": 116,
   "id": "30718650",
   "metadata": {},
   "outputs": [
    {
     "name": "stdout",
     "output_type": "stream",
     "text": [
      "a    0.378517\n",
      "b    0.270839\n",
      "c    0.153345\n",
      "d    0.989455\n",
      "e    0.567733\n",
      "f    0.657787\n",
      "g    0.931284\n",
      "h    0.179050\n",
      "Name: A4, dtype: float64\n"
     ]
    }
   ],
   "source": [
    "#to acess only one column\n",
    "print(sf.loc[:,'A4'])"
   ]
  },
  {
   "cell_type": "code",
   "execution_count": 118,
   "id": "273167fd",
   "metadata": {},
   "outputs": [
    {
     "name": "stdout",
     "output_type": "stream",
     "text": [
      "a    0.317712\n",
      "b    0.401083\n",
      "c    0.809545\n",
      "d    0.241310\n",
      "e    0.765684\n",
      "f    0.853290\n",
      "g    0.176548\n",
      "h    0.809543\n",
      "Name: A5, dtype: float64\n"
     ]
    }
   ],
   "source": [
    "print(sf.loc[:,'A5'])"
   ]
  },
  {
   "cell_type": "code",
   "execution_count": 124,
   "id": "53a7674f",
   "metadata": {},
   "outputs": [
    {
     "name": "stdout",
     "output_type": "stream",
     "text": [
      "a    0.366050\n",
      "b    0.110128\n",
      "c    0.636060\n",
      "d    0.648707\n",
      "e    0.411456\n",
      "f    0.737996\n",
      "g    0.393856\n",
      "h    0.587652\n",
      "Name: A3, dtype: float64\n"
     ]
    }
   ],
   "source": [
    "print(sf.loc[:,'A3'])"
   ]
  },
  {
   "cell_type": "code",
   "execution_count": 127,
   "id": "78ae2336",
   "metadata": {},
   "outputs": [
    {
     "data": {
      "text/html": [
       "<div>\n",
       "<style scoped>\n",
       "    .dataframe tbody tr th:only-of-type {\n",
       "        vertical-align: middle;\n",
       "    }\n",
       "\n",
       "    .dataframe tbody tr th {\n",
       "        vertical-align: top;\n",
       "    }\n",
       "\n",
       "    .dataframe thead th {\n",
       "        text-align: right;\n",
       "    }\n",
       "</style>\n",
       "<table border=\"1\" class=\"dataframe\">\n",
       "  <thead>\n",
       "    <tr style=\"text-align: right;\">\n",
       "      <th></th>\n",
       "      <th>A</th>\n",
       "      <th>B</th>\n",
       "      <th>C</th>\n",
       "    </tr>\n",
       "  </thead>\n",
       "  <tbody>\n",
       "    <tr>\n",
       "      <th>0</th>\n",
       "      <td>0.932771</td>\n",
       "      <td>0.318200</td>\n",
       "      <td>0.000524</td>\n",
       "    </tr>\n",
       "    <tr>\n",
       "      <th>1</th>\n",
       "      <td>0.232249</td>\n",
       "      <td>0.641270</td>\n",
       "      <td>0.107895</td>\n",
       "    </tr>\n",
       "    <tr>\n",
       "      <th>2</th>\n",
       "      <td>0.543803</td>\n",
       "      <td>0.772780</td>\n",
       "      <td>0.250064</td>\n",
       "    </tr>\n",
       "    <tr>\n",
       "      <th>3</th>\n",
       "      <td>0.102287</td>\n",
       "      <td>0.911341</td>\n",
       "      <td>0.302184</td>\n",
       "    </tr>\n",
       "    <tr>\n",
       "      <th>4</th>\n",
       "      <td>0.357343</td>\n",
       "      <td>0.078283</td>\n",
       "      <td>0.471676</td>\n",
       "    </tr>\n",
       "    <tr>\n",
       "      <th>5</th>\n",
       "      <td>0.352090</td>\n",
       "      <td>0.458277</td>\n",
       "      <td>0.881005</td>\n",
       "    </tr>\n",
       "    <tr>\n",
       "      <th>6</th>\n",
       "      <td>0.585168</td>\n",
       "      <td>0.337895</td>\n",
       "      <td>0.627821</td>\n",
       "    </tr>\n",
       "  </tbody>\n",
       "</table>\n",
       "</div>"
      ],
      "text/plain": [
       "          A         B         C\n",
       "0  0.932771  0.318200  0.000524\n",
       "1  0.232249  0.641270  0.107895\n",
       "2  0.543803  0.772780  0.250064\n",
       "3  0.102287  0.911341  0.302184\n",
       "4  0.357343  0.078283  0.471676\n",
       "5  0.352090  0.458277  0.881005\n",
       "6  0.585168  0.337895  0.627821"
      ]
     },
     "execution_count": 127,
     "metadata": {},
     "output_type": "execute_result"
    }
   ],
   "source": [
    "#iloc():it is the primarily interger based from(0- length=1)also used as boolean array.\n",
    "'''\n",
    "an allowed inputs are:\n",
    "an integer\n",
    "an  list or array of integers\n",
    "a slice object with int 1:7\n",
    "a boolean array\n",
    "'''\n",
    "import pandas as pd\n",
    "gf=pd.DataFrame(np.random.rand(7,3),columns=['A','B','C'])\n",
    "gf"
   ]
  },
  {
   "cell_type": "code",
   "execution_count": 34,
   "id": "c35f9351",
   "metadata": {},
   "outputs": [
    {
     "ename": "NameError",
     "evalue": "name 'gf' is not defined",
     "output_type": "error",
     "traceback": [
      "\u001b[1;31m---------------------------------------------------------------------------\u001b[0m",
      "\u001b[1;31mNameError\u001b[0m                                 Traceback (most recent call last)",
      "\u001b[1;32m~\\AppData\\Local\\Temp/ipykernel_15752/372870088.py\u001b[0m in \u001b[0;36m<module>\u001b[1;34m\u001b[0m\n\u001b[1;32m----> 1\u001b[1;33m \u001b[0mgf\u001b[0m\u001b[1;33m.\u001b[0m\u001b[0mastype\u001b[0m\u001b[1;33m(\u001b[0m\u001b[0mint\u001b[0m\u001b[1;33m)\u001b[0m\u001b[1;33m\u001b[0m\u001b[1;33m\u001b[0m\u001b[0m\n\u001b[0m",
      "\u001b[1;31mNameError\u001b[0m: name 'gf' is not defined"
     ]
    }
   ],
   "source": [
    "gf.astype(int)"
   ]
  },
  {
   "cell_type": "code",
   "execution_count": 142,
   "id": "ef782154",
   "metadata": {},
   "outputs": [
    {
     "data": {
      "text/html": [
       "<div>\n",
       "<style scoped>\n",
       "    .dataframe tbody tr th:only-of-type {\n",
       "        vertical-align: middle;\n",
       "    }\n",
       "\n",
       "    .dataframe tbody tr th {\n",
       "        vertical-align: top;\n",
       "    }\n",
       "\n",
       "    .dataframe thead th {\n",
       "        text-align: right;\n",
       "    }\n",
       "</style>\n",
       "<table border=\"1\" class=\"dataframe\">\n",
       "  <thead>\n",
       "    <tr style=\"text-align: right;\">\n",
       "      <th></th>\n",
       "      <th>A</th>\n",
       "      <th>B</th>\n",
       "      <th>C</th>\n",
       "    </tr>\n",
       "  </thead>\n",
       "  <tbody>\n",
       "    <tr>\n",
       "      <th>0</th>\n",
       "      <td>0.932771</td>\n",
       "      <td>0.318200</td>\n",
       "      <td>0.000524</td>\n",
       "    </tr>\n",
       "    <tr>\n",
       "      <th>1</th>\n",
       "      <td>0.232249</td>\n",
       "      <td>0.641270</td>\n",
       "      <td>0.107895</td>\n",
       "    </tr>\n",
       "    <tr>\n",
       "      <th>2</th>\n",
       "      <td>0.543803</td>\n",
       "      <td>0.772780</td>\n",
       "      <td>0.250064</td>\n",
       "    </tr>\n",
       "    <tr>\n",
       "      <th>3</th>\n",
       "      <td>0.102287</td>\n",
       "      <td>0.911341</td>\n",
       "      <td>0.302184</td>\n",
       "    </tr>\n",
       "  </tbody>\n",
       "</table>\n",
       "</div>"
      ],
      "text/plain": [
       "          A         B         C\n",
       "0  0.932771  0.318200  0.000524\n",
       "1  0.232249  0.641270  0.107895\n",
       "2  0.543803  0.772780  0.250064\n",
       "3  0.102287  0.911341  0.302184"
      ]
     },
     "execution_count": 142,
     "metadata": {},
     "output_type": "execute_result"
    }
   ],
   "source": [
    "gf.iloc[:4,:3]"
   ]
  },
  {
   "cell_type": "code",
   "execution_count": 144,
   "id": "c45f793b",
   "metadata": {},
   "outputs": [
    {
     "name": "stdout",
     "output_type": "stream",
     "text": [
      "Empty DataFrame\n",
      "Columns: []\n",
      "Index: []\n"
     ]
    }
   ],
   "source": [
    "print(gf.iloc[3:1,4:2])"
   ]
  },
  {
   "cell_type": "markdown",
   "id": "b03ec89f",
   "metadata": {},
   "source": [
    "# Basic descriptive Statistics"
   ]
  },
  {
   "cell_type": "code",
   "execution_count": 20,
   "id": "afcf02d6",
   "metadata": {},
   "outputs": [
    {
     "data": {
      "application/javascript": [
       "\n",
       "        if (window._pyforest_update_imports_cell) { window._pyforest_update_imports_cell('import numpy as np\\nimport pandas as pd'); }\n",
       "    "
      ],
      "text/plain": [
       "<IPython.core.display.Javascript object>"
      ]
     },
     "metadata": {},
     "output_type": "display_data"
    },
    {
     "name": "stdout",
     "output_type": "stream",
     "text": [
      "                    0         1         2\n",
      "savings      0.651650  0.962923  0.929771\n",
      "modifcation  0.345689  0.878987  0.171113\n",
      "expenditure  0.481898  0.684499  0.599923\n"
     ]
    }
   ],
   "source": [
    "#.mean(),meidan(),mode(),standard deviation(),variance(),co-variance(),percentage_change(),Rank()\n",
    "import pandas as pd\n",
    "s=pd.DataFrame(np.random.rand(3,3),index=['savings','modifcation','expenditure'],)\n",
    "print()"
   ]
  },
  {
   "cell_type": "code",
   "execution_count": 32,
   "id": "dae34d5b",
   "metadata": {},
   "outputs": [
    {
     "name": "stdout",
     "output_type": "stream",
     "text": [
      "Mean of s is 366.8181818181818\n",
      "\n",
      "\n",
      "Median of es is 312.0\n",
      "\n",
      "\n",
      "Standard deviation of es is 409.8145478583742\n",
      "\n",
      "\n",
      "Variance of es i s167947.96363636368\n",
      "\n",
      "\n"
     ]
    },
    {
     "data": {
      "application/javascript": [
       "\n",
       "        if (window._pyforest_update_imports_cell) { window._pyforest_update_imports_cell('import numpy as np\\nimport pandas as pd'); }\n",
       "    "
      ],
      "text/plain": [
       "<IPython.core.display.Javascript object>"
      ]
     },
     "metadata": {},
     "output_type": "display_data"
    },
    {
     "name": "stdout",
     "output_type": "stream",
     "text": [
      "covariance of es is nan\n"
     ]
    }
   ],
   "source": [
    "es=pd.Series([12,34,546,879,423,21,21,13,1231,312,543])\n",
    "print('Mean of s is {}'.format(es.mean()))\n",
    "print('\\n')\n",
    "print('Median of es is {}'.format(es.median()))\n",
    "print('\\n')\n",
    "print('Standard deviation of es is {}'.format(es.std()))\n",
    "print('\\n')\n",
    "print('Variance of es i s{}'.format(es.var()))\n",
    "print('\\n')\n",
    "s=pd.DataFrame(np.random.rand(3,3),index=['savings','modifcation','expenditure'],)\n",
    "print('covariance of es is {}'.format(es.cov(s)))"
   ]
  },
  {
   "cell_type": "code",
   "execution_count": 33,
   "id": "43cafd13",
   "metadata": {},
   "outputs": [
    {
     "data": {
      "application/javascript": [
       "\n",
       "        if (window._pyforest_update_imports_cell) { window._pyforest_update_imports_cell('import numpy as np\\nimport pandas as pd'); }\n",
       "    "
      ],
      "text/plain": [
       "<IPython.core.display.Javascript object>"
      ]
     },
     "metadata": {},
     "output_type": "display_data"
    },
    {
     "data": {
      "text/plain": [
       "0     0.241929\n",
       "1     0.797609\n",
       "2     0.634795\n",
       "3     0.145050\n",
       "4     0.181051\n",
       "5     0.065001\n",
       "6     0.774259\n",
       "7     0.172469\n",
       "8     0.851743\n",
       "9     0.954139\n",
       "10    0.763839\n",
       "11    0.075639\n",
       "dtype: float64"
      ]
     },
     "execution_count": 33,
     "metadata": {},
     "output_type": "execute_result"
    }
   ],
   "source": [
    "#Percent_change()\n",
    "s2=pd.Series(np.random.random(12))\n",
    "s2"
   ]
  },
  {
   "cell_type": "code",
   "execution_count": 38,
   "id": "65ffbd3e",
   "metadata": {},
   "outputs": [
    {
     "data": {
      "application/javascript": [
       "\n",
       "        if (window._pyforest_update_imports_cell) { window._pyforest_update_imports_cell('import numpy as np\\nimport pandas as pd'); }\n",
       "    "
      ],
      "text/plain": [
       "<IPython.core.display.Javascript object>"
      ]
     },
     "metadata": {},
     "output_type": "display_data"
    },
    {
     "data": {
      "text/html": [
       "<div>\n",
       "<style scoped>\n",
       "    .dataframe tbody tr th:only-of-type {\n",
       "        vertical-align: middle;\n",
       "    }\n",
       "\n",
       "    .dataframe tbody tr th {\n",
       "        vertical-align: top;\n",
       "    }\n",
       "\n",
       "    .dataframe thead th {\n",
       "        text-align: right;\n",
       "    }\n",
       "</style>\n",
       "<table border=\"1\" class=\"dataframe\">\n",
       "  <thead>\n",
       "    <tr style=\"text-align: right;\">\n",
       "      <th></th>\n",
       "      <th>parks</th>\n",
       "      <th>schools</th>\n",
       "    </tr>\n",
       "  </thead>\n",
       "  <tbody>\n",
       "    <tr>\n",
       "      <th>Chennai</th>\n",
       "      <td>146</td>\n",
       "      <td>98</td>\n",
       "    </tr>\n",
       "    <tr>\n",
       "      <th>Hyderabad</th>\n",
       "      <td>27</td>\n",
       "      <td>-4</td>\n",
       "    </tr>\n",
       "    <tr>\n",
       "      <th>varanasi</th>\n",
       "      <td>173</td>\n",
       "      <td>103</td>\n",
       "    </tr>\n",
       "    <tr>\n",
       "      <th>mumbai</th>\n",
       "      <td>132</td>\n",
       "      <td>71</td>\n",
       "    </tr>\n",
       "    <tr>\n",
       "      <th>delhi</th>\n",
       "      <td>109</td>\n",
       "      <td>192</td>\n",
       "    </tr>\n",
       "    <tr>\n",
       "      <th>warangal</th>\n",
       "      <td>86</td>\n",
       "      <td>37</td>\n",
       "    </tr>\n",
       "    <tr>\n",
       "      <th>banglore</th>\n",
       "      <td>114</td>\n",
       "      <td>73</td>\n",
       "    </tr>\n",
       "    <tr>\n",
       "      <th>vijayawada</th>\n",
       "      <td>159</td>\n",
       "      <td>57</td>\n",
       "    </tr>\n",
       "  </tbody>\n",
       "</table>\n",
       "</div>"
      ],
      "text/plain": [
       "            parks  schools\n",
       "Chennai       146       98\n",
       "Hyderabad      27       -4\n",
       "varanasi      173      103\n",
       "mumbai        132       71\n",
       "delhi         109      192\n",
       "warangal       86       37\n",
       "banglore      114       73\n",
       "vijayawada    159       57"
      ]
     },
     "execution_count": 38,
     "metadata": {},
     "output_type": "execute_result"
    }
   ],
   "source": [
    "er=pd.DataFrame(data=np.random.normal(loc=90,scale=50,size=(8,2)),columns=('parks', 'schools'),\n",
    "       index=['Chennai','Hyderabad','varanasi','mumbai','delhi','warangal','banglore','vijayawada'])\n",
    "er=er.astype(int)\n",
    "er"
   ]
  },
  {
   "cell_type": "code",
   "execution_count": 46,
   "id": "1fc74070",
   "metadata": {},
   "outputs": [
    {
     "data": {
      "text/html": [
       "<div>\n",
       "<style scoped>\n",
       "    .dataframe tbody tr th:only-of-type {\n",
       "        vertical-align: middle;\n",
       "    }\n",
       "\n",
       "    .dataframe tbody tr th {\n",
       "        vertical-align: top;\n",
       "    }\n",
       "\n",
       "    .dataframe thead th {\n",
       "        text-align: right;\n",
       "    }\n",
       "</style>\n",
       "<table border=\"1\" class=\"dataframe\">\n",
       "  <thead>\n",
       "    <tr style=\"text-align: right;\">\n",
       "      <th></th>\n",
       "      <th>parks</th>\n",
       "      <th>schools</th>\n",
       "      <th>park_rank</th>\n",
       "    </tr>\n",
       "  </thead>\n",
       "  <tbody>\n",
       "    <tr>\n",
       "      <th>Chennai</th>\n",
       "      <td>146</td>\n",
       "      <td>98</td>\n",
       "      <td>6.0</td>\n",
       "    </tr>\n",
       "    <tr>\n",
       "      <th>Hyderabad</th>\n",
       "      <td>27</td>\n",
       "      <td>-4</td>\n",
       "      <td>1.0</td>\n",
       "    </tr>\n",
       "    <tr>\n",
       "      <th>varanasi</th>\n",
       "      <td>173</td>\n",
       "      <td>103</td>\n",
       "      <td>8.0</td>\n",
       "    </tr>\n",
       "    <tr>\n",
       "      <th>mumbai</th>\n",
       "      <td>132</td>\n",
       "      <td>71</td>\n",
       "      <td>5.0</td>\n",
       "    </tr>\n",
       "    <tr>\n",
       "      <th>delhi</th>\n",
       "      <td>109</td>\n",
       "      <td>192</td>\n",
       "      <td>3.0</td>\n",
       "    </tr>\n",
       "    <tr>\n",
       "      <th>warangal</th>\n",
       "      <td>86</td>\n",
       "      <td>37</td>\n",
       "      <td>2.0</td>\n",
       "    </tr>\n",
       "    <tr>\n",
       "      <th>banglore</th>\n",
       "      <td>114</td>\n",
       "      <td>73</td>\n",
       "      <td>4.0</td>\n",
       "    </tr>\n",
       "    <tr>\n",
       "      <th>vijayawada</th>\n",
       "      <td>159</td>\n",
       "      <td>57</td>\n",
       "      <td>7.0</td>\n",
       "    </tr>\n",
       "  </tbody>\n",
       "</table>\n",
       "</div>"
      ],
      "text/plain": [
       "            parks  schools  park_rank\n",
       "Chennai       146       98        6.0\n",
       "Hyderabad      27       -4        1.0\n",
       "varanasi      173      103        8.0\n",
       "mumbai        132       71        5.0\n",
       "delhi         109      192        3.0\n",
       "warangal       86       37        2.0\n",
       "banglore      114       73        4.0\n",
       "vijayawada    159       57        7.0"
      ]
     },
     "execution_count": 46,
     "metadata": {},
     "output_type": "execute_result"
    }
   ],
   "source": [
    "df=er.copy()\n",
    "df['park_rank']=df['parks'].rank(ascending=True)\n",
    "df"
   ]
  },
  {
   "cell_type": "code",
   "execution_count": 49,
   "id": "8899921d",
   "metadata": {},
   "outputs": [],
   "source": [
    "#Rank with ascending or desecnding order\n",
    "we=er.copy()\n",
    "we['kacha_badam']= we['parks'].rank(ascending = False)"
   ]
  },
  {
   "cell_type": "markdown",
   "id": "3b16cde6",
   "metadata": {},
   "source": [
    "# Python Pandas Windows Functions"
   ]
  },
  {
   "cell_type": "code",
   "execution_count": 52,
   "id": "3f8bb6fd",
   "metadata": {},
   "outputs": [
    {
     "data": {
      "application/javascript": [
       "\n",
       "        if (window._pyforest_update_imports_cell) { window._pyforest_update_imports_cell('import numpy as np\\nimport pandas as pd'); }\n",
       "    "
      ],
      "text/plain": [
       "<IPython.core.display.Javascript object>"
      ]
     },
     "metadata": {},
     "output_type": "display_data"
    },
    {
     "data": {
      "text/html": [
       "<div>\n",
       "<style scoped>\n",
       "    .dataframe tbody tr th:only-of-type {\n",
       "        vertical-align: middle;\n",
       "    }\n",
       "\n",
       "    .dataframe tbody tr th {\n",
       "        vertical-align: top;\n",
       "    }\n",
       "\n",
       "    .dataframe thead th {\n",
       "        text-align: right;\n",
       "    }\n",
       "</style>\n",
       "<table border=\"1\" class=\"dataframe\">\n",
       "  <thead>\n",
       "    <tr style=\"text-align: right;\">\n",
       "      <th></th>\n",
       "      <th>q</th>\n",
       "      <th>w</th>\n",
       "      <th>e</th>\n",
       "      <th>u</th>\n",
       "      <th>t</th>\n",
       "    </tr>\n",
       "  </thead>\n",
       "  <tbody>\n",
       "    <tr>\n",
       "      <th>1969-12-31 23:59:59.999997978</th>\n",
       "      <td>NaN</td>\n",
       "      <td>NaN</td>\n",
       "      <td>NaN</td>\n",
       "      <td>NaN</td>\n",
       "      <td>NaN</td>\n",
       "    </tr>\n",
       "    <tr>\n",
       "      <th>1970-01-01 23:59:59.999997978</th>\n",
       "      <td>NaN</td>\n",
       "      <td>NaN</td>\n",
       "      <td>NaN</td>\n",
       "      <td>NaN</td>\n",
       "      <td>NaN</td>\n",
       "    </tr>\n",
       "    <tr>\n",
       "      <th>1970-01-02 23:59:59.999997978</th>\n",
       "      <td>-0.347361</td>\n",
       "      <td>0.326403</td>\n",
       "      <td>0.519674</td>\n",
       "      <td>0.833114</td>\n",
       "      <td>0.096772</td>\n",
       "    </tr>\n",
       "    <tr>\n",
       "      <th>1970-01-03 23:59:59.999997978</th>\n",
       "      <td>0.309359</td>\n",
       "      <td>-0.672712</td>\n",
       "      <td>-0.584834</td>\n",
       "      <td>0.803872</td>\n",
       "      <td>0.407156</td>\n",
       "    </tr>\n",
       "    <tr>\n",
       "      <th>1970-01-04 23:59:59.999997978</th>\n",
       "      <td>-0.210383</td>\n",
       "      <td>0.165923</td>\n",
       "      <td>-0.265980</td>\n",
       "      <td>-0.045801</td>\n",
       "      <td>-0.116117</td>\n",
       "    </tr>\n",
       "    <tr>\n",
       "      <th>1970-01-05 23:59:59.999997978</th>\n",
       "      <td>-0.590570</td>\n",
       "      <td>-0.245946</td>\n",
       "      <td>-1.356412</td>\n",
       "      <td>-0.073827</td>\n",
       "      <td>-0.059976</td>\n",
       "    </tr>\n",
       "    <tr>\n",
       "      <th>1970-01-06 23:59:59.999997978</th>\n",
       "      <td>-0.862426</td>\n",
       "      <td>0.200419</td>\n",
       "      <td>-0.940484</td>\n",
       "      <td>-0.969019</td>\n",
       "      <td>-0.485089</td>\n",
       "    </tr>\n",
       "    <tr>\n",
       "      <th>1970-01-07 23:59:59.999997978</th>\n",
       "      <td>0.103929</td>\n",
       "      <td>-0.334492</td>\n",
       "      <td>-0.785799</td>\n",
       "      <td>-0.633129</td>\n",
       "      <td>0.096540</td>\n",
       "    </tr>\n",
       "    <tr>\n",
       "      <th>1970-01-08 23:59:59.999997978</th>\n",
       "      <td>0.189124</td>\n",
       "      <td>-0.122683</td>\n",
       "      <td>0.021145</td>\n",
       "      <td>-0.389486</td>\n",
       "      <td>-0.007468</td>\n",
       "    </tr>\n",
       "    <tr>\n",
       "      <th>1970-01-09 23:59:59.999997978</th>\n",
       "      <td>0.079600</td>\n",
       "      <td>-0.351764</td>\n",
       "      <td>0.257091</td>\n",
       "      <td>-0.474141</td>\n",
       "      <td>0.118720</td>\n",
       "    </tr>\n",
       "  </tbody>\n",
       "</table>\n",
       "</div>"
      ],
      "text/plain": [
       "                                      q         w         e         u  \\\n",
       "1969-12-31 23:59:59.999997978       NaN       NaN       NaN       NaN   \n",
       "1970-01-01 23:59:59.999997978       NaN       NaN       NaN       NaN   \n",
       "1970-01-02 23:59:59.999997978 -0.347361  0.326403  0.519674  0.833114   \n",
       "1970-01-03 23:59:59.999997978  0.309359 -0.672712 -0.584834  0.803872   \n",
       "1970-01-04 23:59:59.999997978 -0.210383  0.165923 -0.265980 -0.045801   \n",
       "1970-01-05 23:59:59.999997978 -0.590570 -0.245946 -1.356412 -0.073827   \n",
       "1970-01-06 23:59:59.999997978 -0.862426  0.200419 -0.940484 -0.969019   \n",
       "1970-01-07 23:59:59.999997978  0.103929 -0.334492 -0.785799 -0.633129   \n",
       "1970-01-08 23:59:59.999997978  0.189124 -0.122683  0.021145 -0.389486   \n",
       "1970-01-09 23:59:59.999997978  0.079600 -0.351764  0.257091 -0.474141   \n",
       "\n",
       "                                      t  \n",
       "1969-12-31 23:59:59.999997978       NaN  \n",
       "1970-01-01 23:59:59.999997978       NaN  \n",
       "1970-01-02 23:59:59.999997978  0.096772  \n",
       "1970-01-03 23:59:59.999997978  0.407156  \n",
       "1970-01-04 23:59:59.999997978 -0.116117  \n",
       "1970-01-05 23:59:59.999997978 -0.059976  \n",
       "1970-01-06 23:59:59.999997978 -0.485089  \n",
       "1970-01-07 23:59:59.999997978  0.096540  \n",
       "1970-01-08 23:59:59.999997978 -0.007468  \n",
       "1970-01-09 23:59:59.999997978  0.118720  "
      ]
     },
     "execution_count": 52,
     "metadata": {},
     "output_type": "execute_result"
    }
   ],
   "source": [
    "#These window fn are used to discover patterns in data by smoothing the curve graphically.\n",
    "'''For numerical data, pandas provide few variants 'rolling','expanding','exponentially moving weights'for window stats\n",
    "among many techniques, one technique is to take sample and plot them\n",
    "another is to apply window calculations and display the graph\n",
    "'''\n",
    "#rolling(): this fucntion can be applied on series of data\n",
    "hf=pd.DataFrame(np.random.randn(10,5), index= pd.date_range(3-3-2022, periods=10), columns=['q','w','e','u','t'])\n",
    "\n",
    "hf.rolling(window=3).mean()\n"
   ]
  },
  {
   "cell_type": "code",
   "execution_count": 59,
   "id": "a0025638",
   "metadata": {},
   "outputs": [
    {
     "data": {
      "application/javascript": [
       "\n",
       "        if (window._pyforest_update_imports_cell) { window._pyforest_update_imports_cell('import numpy as np\\nimport pandas as pd'); }\n",
       "    "
      ],
      "text/plain": [
       "<IPython.core.display.Javascript object>"
      ]
     },
     "metadata": {},
     "output_type": "display_data"
    },
    {
     "data": {
      "text/html": [
       "<div>\n",
       "<style scoped>\n",
       "    .dataframe tbody tr th:only-of-type {\n",
       "        vertical-align: middle;\n",
       "    }\n",
       "\n",
       "    .dataframe tbody tr th {\n",
       "        vertical-align: top;\n",
       "    }\n",
       "\n",
       "    .dataframe thead th {\n",
       "        text-align: right;\n",
       "    }\n",
       "</style>\n",
       "<table border=\"1\" class=\"dataframe\">\n",
       "  <thead>\n",
       "    <tr style=\"text-align: right;\">\n",
       "      <th></th>\n",
       "      <th>a1</th>\n",
       "      <th>a2</th>\n",
       "      <th>a3</th>\n",
       "      <th>a4</th>\n",
       "      <th>a5</th>\n",
       "    </tr>\n",
       "  </thead>\n",
       "  <tbody>\n",
       "    <tr>\n",
       "      <th>2022-04-04</th>\n",
       "      <td>NaN</td>\n",
       "      <td>NaN</td>\n",
       "      <td>NaN</td>\n",
       "      <td>NaN</td>\n",
       "      <td>NaN</td>\n",
       "    </tr>\n",
       "    <tr>\n",
       "      <th>2022-04-05</th>\n",
       "      <td>NaN</td>\n",
       "      <td>NaN</td>\n",
       "      <td>NaN</td>\n",
       "      <td>NaN</td>\n",
       "      <td>NaN</td>\n",
       "    </tr>\n",
       "    <tr>\n",
       "      <th>2022-04-06</th>\n",
       "      <td>NaN</td>\n",
       "      <td>NaN</td>\n",
       "      <td>NaN</td>\n",
       "      <td>NaN</td>\n",
       "      <td>NaN</td>\n",
       "    </tr>\n",
       "    <tr>\n",
       "      <th>2022-04-07</th>\n",
       "      <td>0.715859</td>\n",
       "      <td>-0.329099</td>\n",
       "      <td>0.733029</td>\n",
       "      <td>-0.353230</td>\n",
       "      <td>0.358746</td>\n",
       "    </tr>\n",
       "    <tr>\n",
       "      <th>2022-04-08</th>\n",
       "      <td>0.704792</td>\n",
       "      <td>-0.254654</td>\n",
       "      <td>0.751796</td>\n",
       "      <td>0.073991</td>\n",
       "      <td>0.421474</td>\n",
       "    </tr>\n",
       "    <tr>\n",
       "      <th>2022-04-09</th>\n",
       "      <td>0.611139</td>\n",
       "      <td>-0.176538</td>\n",
       "      <td>0.873150</td>\n",
       "      <td>0.353792</td>\n",
       "      <td>0.422650</td>\n",
       "    </tr>\n",
       "    <tr>\n",
       "      <th>2022-04-10</th>\n",
       "      <td>0.801307</td>\n",
       "      <td>-0.093454</td>\n",
       "      <td>0.726169</td>\n",
       "      <td>0.158954</td>\n",
       "      <td>0.054399</td>\n",
       "    </tr>\n",
       "    <tr>\n",
       "      <th>2022-04-11</th>\n",
       "      <td>0.576213</td>\n",
       "      <td>0.239672</td>\n",
       "      <td>0.509874</td>\n",
       "      <td>0.085970</td>\n",
       "      <td>0.182476</td>\n",
       "    </tr>\n",
       "    <tr>\n",
       "      <th>2022-04-12</th>\n",
       "      <td>0.612367</td>\n",
       "      <td>0.290327</td>\n",
       "      <td>0.440767</td>\n",
       "      <td>0.145745</td>\n",
       "      <td>0.255998</td>\n",
       "    </tr>\n",
       "  </tbody>\n",
       "</table>\n",
       "</div>"
      ],
      "text/plain": [
       "                  a1        a2        a3        a4        a5\n",
       "2022-04-04       NaN       NaN       NaN       NaN       NaN\n",
       "2022-04-05       NaN       NaN       NaN       NaN       NaN\n",
       "2022-04-06       NaN       NaN       NaN       NaN       NaN\n",
       "2022-04-07  0.715859 -0.329099  0.733029 -0.353230  0.358746\n",
       "2022-04-08  0.704792 -0.254654  0.751796  0.073991  0.421474\n",
       "2022-04-09  0.611139 -0.176538  0.873150  0.353792  0.422650\n",
       "2022-04-10  0.801307 -0.093454  0.726169  0.158954  0.054399\n",
       "2022-04-11  0.576213  0.239672  0.509874  0.085970  0.182476\n",
       "2022-04-12  0.612367  0.290327  0.440767  0.145745  0.255998"
      ]
     },
     "execution_count": 59,
     "metadata": {},
     "output_type": "execute_result"
    }
   ],
   "source": [
    "qu=pd.DataFrame(np.random.randn(9,5),index=pd.date_range('4/4/2022',periods=9), columns=['a1','a2','a3','a4','a5'])\n",
    "qu.expanding(min_periods=4).mean()"
   ]
  },
  {
   "cell_type": "code",
   "execution_count": 65,
   "id": "89f0a4c6",
   "metadata": {},
   "outputs": [
    {
     "data": {
      "text/html": [
       "<div>\n",
       "<style scoped>\n",
       "    .dataframe tbody tr th:only-of-type {\n",
       "        vertical-align: middle;\n",
       "    }\n",
       "\n",
       "    .dataframe tbody tr th {\n",
       "        vertical-align: top;\n",
       "    }\n",
       "\n",
       "    .dataframe thead th {\n",
       "        text-align: right;\n",
       "    }\n",
       "</style>\n",
       "<table border=\"1\" class=\"dataframe\">\n",
       "  <thead>\n",
       "    <tr style=\"text-align: right;\">\n",
       "      <th></th>\n",
       "      <th>a1</th>\n",
       "      <th>a2</th>\n",
       "      <th>a3</th>\n",
       "      <th>a4</th>\n",
       "      <th>a5</th>\n",
       "    </tr>\n",
       "  </thead>\n",
       "  <tbody>\n",
       "    <tr>\n",
       "      <th>2022-04-04</th>\n",
       "      <td>0.494962</td>\n",
       "      <td>-1.698962</td>\n",
       "      <td>1.196598</td>\n",
       "      <td>0.829698</td>\n",
       "      <td>2.422772</td>\n",
       "    </tr>\n",
       "    <tr>\n",
       "      <th>2022-04-05</th>\n",
       "      <td>0.318119</td>\n",
       "      <td>-0.964441</td>\n",
       "      <td>0.889189</td>\n",
       "      <td>-0.603280</td>\n",
       "      <td>0.974898</td>\n",
       "    </tr>\n",
       "    <tr>\n",
       "      <th>2022-04-06</th>\n",
       "      <td>0.608408</td>\n",
       "      <td>-0.017605</td>\n",
       "      <td>0.993497</td>\n",
       "      <td>-0.406416</td>\n",
       "      <td>-0.096615</td>\n",
       "    </tr>\n",
       "    <tr>\n",
       "      <th>2022-04-07</th>\n",
       "      <td>1.015825</td>\n",
       "      <td>0.214252</td>\n",
       "      <td>0.388499</td>\n",
       "      <td>-0.576210</td>\n",
       "      <td>-0.314825</td>\n",
       "    </tr>\n",
       "    <tr>\n",
       "      <th>2022-04-08</th>\n",
       "      <td>0.819755</td>\n",
       "      <td>0.119819</td>\n",
       "      <td>0.630408</td>\n",
       "      <td>0.725626</td>\n",
       "      <td>0.229956</td>\n",
       "    </tr>\n",
       "    <tr>\n",
       "      <th>2022-04-09</th>\n",
       "      <td>0.450399</td>\n",
       "      <td>0.171234</td>\n",
       "      <td>1.093963</td>\n",
       "      <td>1.286127</td>\n",
       "      <td>0.338315</td>\n",
       "    </tr>\n",
       "    <tr>\n",
       "      <th>2022-04-10</th>\n",
       "      <td>1.260343</td>\n",
       "      <td>0.298170</td>\n",
       "      <td>0.415529</td>\n",
       "      <td>0.039548</td>\n",
       "      <td>-1.015334</td>\n",
       "    </tr>\n",
       "    <tr>\n",
       "      <th>2022-04-11</th>\n",
       "      <td>0.036403</td>\n",
       "      <td>1.529470</td>\n",
       "      <td>-0.353415</td>\n",
       "      <td>-0.212015</td>\n",
       "      <td>0.119000</td>\n",
       "    </tr>\n",
       "    <tr>\n",
       "      <th>2022-04-12</th>\n",
       "      <td>0.504507</td>\n",
       "      <td>1.078302</td>\n",
       "      <td>-0.222848</td>\n",
       "      <td>0.240270</td>\n",
       "      <td>0.511345</td>\n",
       "    </tr>\n",
       "  </tbody>\n",
       "</table>\n",
       "</div>"
      ],
      "text/plain": [
       "                  a1        a2        a3        a4        a5\n",
       "2022-04-04  0.494962 -1.698962  1.196598  0.829698  2.422772\n",
       "2022-04-05  0.318119 -0.964441  0.889189 -0.603280  0.974898\n",
       "2022-04-06  0.608408 -0.017605  0.993497 -0.406416 -0.096615\n",
       "2022-04-07  1.015825  0.214252  0.388499 -0.576210 -0.314825\n",
       "2022-04-08  0.819755  0.119819  0.630408  0.725626  0.229956\n",
       "2022-04-09  0.450399  0.171234  1.093963  1.286127  0.338315\n",
       "2022-04-10  1.260343  0.298170  0.415529  0.039548 -1.015334\n",
       "2022-04-11  0.036403  1.529470 -0.353415 -0.212015  0.119000\n",
       "2022-04-12  0.504507  1.078302 -0.222848  0.240270  0.511345"
      ]
     },
     "execution_count": 65,
     "metadata": {},
     "output_type": "execute_result"
    }
   ],
   "source": [
    "#ewm():- among these must specify\n",
    "'''1.com\n",
    "(or)\n",
    "2.pan\n",
    "(or)\n",
    "3.halflife\n",
    "'''\n",
    "qu.ewm(com=0.85).mean()\n",
    "\n"
   ]
  },
  {
   "cell_type": "code",
   "execution_count": 63,
   "id": "cba603e3",
   "metadata": {},
   "outputs": [
    {
     "data": {
      "text/html": [
       "<div>\n",
       "<style scoped>\n",
       "    .dataframe tbody tr th:only-of-type {\n",
       "        vertical-align: middle;\n",
       "    }\n",
       "\n",
       "    .dataframe tbody tr th {\n",
       "        vertical-align: top;\n",
       "    }\n",
       "\n",
       "    .dataframe thead th {\n",
       "        text-align: right;\n",
       "    }\n",
       "</style>\n",
       "<table border=\"1\" class=\"dataframe\">\n",
       "  <thead>\n",
       "    <tr style=\"text-align: right;\">\n",
       "      <th></th>\n",
       "      <th>a1</th>\n",
       "      <th>a2</th>\n",
       "      <th>a3</th>\n",
       "      <th>a4</th>\n",
       "      <th>a5</th>\n",
       "    </tr>\n",
       "  </thead>\n",
       "  <tbody>\n",
       "    <tr>\n",
       "      <th>2022-04-04</th>\n",
       "      <td>0.494962</td>\n",
       "      <td>-1.698962</td>\n",
       "      <td>1.196598</td>\n",
       "      <td>0.829698</td>\n",
       "      <td>2.422772</td>\n",
       "    </tr>\n",
       "    <tr>\n",
       "      <th>2022-04-05</th>\n",
       "      <td>0.310193</td>\n",
       "      <td>-0.931518</td>\n",
       "      <td>0.875410</td>\n",
       "      <td>-0.667509</td>\n",
       "      <td>0.910002</td>\n",
       "    </tr>\n",
       "    <tr>\n",
       "      <th>2022-04-06</th>\n",
       "      <td>0.627286</td>\n",
       "      <td>0.064934</td>\n",
       "      <td>0.996382</td>\n",
       "      <td>-0.414603</td>\n",
       "      <td>-0.199880</td>\n",
       "    </tr>\n",
       "    <tr>\n",
       "      <th>2022-04-07</th>\n",
       "      <td>1.061006</td>\n",
       "      <td>0.267354</td>\n",
       "      <td>0.333204</td>\n",
       "      <td>-0.595160</td>\n",
       "      <td>-0.374562</td>\n",
       "    </tr>\n",
       "    <tr>\n",
       "      <th>2022-04-08</th>\n",
       "      <td>0.817053</td>\n",
       "      <td>0.130768</td>\n",
       "      <td>0.633916</td>\n",
       "      <td>0.853409</td>\n",
       "      <td>0.263181</td>\n",
       "    </tr>\n",
       "    <tr>\n",
       "      <th>2022-04-09</th>\n",
       "      <td>0.408828</td>\n",
       "      <td>0.181191</td>\n",
       "      <td>1.146183</td>\n",
       "      <td>1.398002</td>\n",
       "      <td>0.363304</td>\n",
       "    </tr>\n",
       "    <tr>\n",
       "      <th>2022-04-10</th>\n",
       "      <td>1.335189</td>\n",
       "      <td>0.316422</td>\n",
       "      <td>0.359725</td>\n",
       "      <td>-0.056685</td>\n",
       "      <td>-1.158035</td>\n",
       "    </tr>\n",
       "    <tr>\n",
       "      <th>2022-04-11</th>\n",
       "      <td>-0.073815</td>\n",
       "      <td>1.677440</td>\n",
       "      <td>-0.463428</td>\n",
       "      <td>-0.278922</td>\n",
       "      <td>0.192072</td>\n",
       "    </tr>\n",
       "    <tr>\n",
       "      <th>2022-04-12</th>\n",
       "      <td>0.514653</td>\n",
       "      <td>1.085082</td>\n",
       "      <td>-0.251465</td>\n",
       "      <td>0.265778</td>\n",
       "      <td>0.585485</td>\n",
       "    </tr>\n",
       "  </tbody>\n",
       "</table>\n",
       "</div>"
      ],
      "text/plain": [
       "                  a1        a2        a3        a4        a5\n",
       "2022-04-04  0.494962 -1.698962  1.196598  0.829698  2.422772\n",
       "2022-04-05  0.310193 -0.931518  0.875410 -0.667509  0.910002\n",
       "2022-04-06  0.627286  0.064934  0.996382 -0.414603 -0.199880\n",
       "2022-04-07  1.061006  0.267354  0.333204 -0.595160 -0.374562\n",
       "2022-04-08  0.817053  0.130768  0.633916  0.853409  0.263181\n",
       "2022-04-09  0.408828  0.181191  1.146183  1.398002  0.363304\n",
       "2022-04-10  1.335189  0.316422  0.359725 -0.056685 -1.158035\n",
       "2022-04-11 -0.073815  1.677440 -0.463428 -0.278922  0.192072\n",
       "2022-04-12  0.514653  1.085082 -0.251465  0.265778  0.585485"
      ]
     },
     "execution_count": 63,
     "metadata": {},
     "output_type": "execute_result"
    }
   ],
   "source": [
    "qu.ewm(halflife=0.75).mean()"
   ]
  },
  {
   "cell_type": "markdown",
   "id": "d35d7a5d",
   "metadata": {},
   "source": [
    "# Python Pandas Date Functionality"
   ]
  },
  {
   "cell_type": "code",
   "execution_count": 68,
   "id": "0d5724ed",
   "metadata": {},
   "outputs": [
    {
     "data": {
      "text/plain": [
       "datetime.date(2022, 8, 3)"
      ]
     },
     "execution_count": 68,
     "metadata": {},
     "output_type": "execute_result"
    }
   ],
   "source": [
    "from datetime import date\n",
    "d=date(2022,8,3)\n",
    "d\n"
   ]
  },
  {
   "cell_type": "code",
   "execution_count": 69,
   "id": "bf388a57",
   "metadata": {},
   "outputs": [
    {
     "data": {
      "text/plain": [
       "datetime.date"
      ]
     },
     "execution_count": 69,
     "metadata": {},
     "output_type": "execute_result"
    }
   ],
   "source": [
    "\n",
    "type(d)"
   ]
  },
  {
   "cell_type": "code",
   "execution_count": 70,
   "id": "2faf4da7",
   "metadata": {},
   "outputs": [
    {
     "data": {
      "text/plain": [
       "datetime.date(2022, 2, 3)"
      ]
     },
     "execution_count": 70,
     "metadata": {},
     "output_type": "execute_result"
    }
   ],
   "source": [
    "d1=date.today()\n",
    "d1"
   ]
  },
  {
   "cell_type": "code",
   "execution_count": 77,
   "id": "eeeb74bb",
   "metadata": {},
   "outputs": [
    {
     "name": "stdout",
     "output_type": "stream",
     "text": [
      "Day:  3\n",
      "Month : 2\n",
      "year :  2022\n"
     ]
    }
   ],
   "source": [
    "from datetime import date\n",
    "print('Day: ',d1.day)\n",
    "print('Month :',d1.month)\n",
    "print('year : ',d1.year)"
   ]
  },
  {
   "cell_type": "code",
   "execution_count": 75,
   "id": "5147a96b",
   "metadata": {},
   "outputs": [
    {
     "data": {
      "text/plain": [
       "datetime.time(13, 22, 40, 12)"
      ]
     },
     "execution_count": 75,
     "metadata": {},
     "output_type": "execute_result"
    }
   ],
   "source": [
    "from datetime import time\n",
    "t=time(13,22,40,12)\n",
    "t"
   ]
  },
  {
   "cell_type": "code",
   "execution_count": 76,
   "id": "772ed591",
   "metadata": {},
   "outputs": [
    {
     "data": {
      "text/plain": [
       "datetime.time"
      ]
     },
     "execution_count": 76,
     "metadata": {},
     "output_type": "execute_result"
    }
   ],
   "source": [
    "type(t)"
   ]
  },
  {
   "cell_type": "code",
   "execution_count": 82,
   "id": "7a9823c2",
   "metadata": {},
   "outputs": [
    {
     "name": "stdout",
     "output_type": "stream",
     "text": [
      "Hour:  13\n",
      "minute: 22\n",
      "second: 40\n",
      "microsecond:  12\n"
     ]
    }
   ],
   "source": [
    "print('Hour: ',t.hour)\n",
    "print('minute:',t.minute)\n",
    "print('second:',t.second)\n",
    "print('microsecond: ',t.microsecond)"
   ]
  },
  {
   "cell_type": "code",
   "execution_count": 85,
   "id": "ae589ea4",
   "metadata": {},
   "outputs": [
    {
     "ename": "NameError",
     "evalue": "name 'datetime' is not defined",
     "output_type": "error",
     "traceback": [
      "\u001b[1;31m---------------------------------------------------------------------------\u001b[0m",
      "\u001b[1;31mNameError\u001b[0m                                 Traceback (most recent call last)",
      "\u001b[1;32m~\\AppData\\Local\\Temp/ipykernel_15752/2349853785.py\u001b[0m in \u001b[0;36m<module>\u001b[1;34m\u001b[0m\n\u001b[1;32m----> 1\u001b[1;33m \u001b[0md1\u001b[0m\u001b[1;33m=\u001b[0m\u001b[0mdatetime\u001b[0m\u001b[1;33m.\u001b[0m\u001b[0mnow\u001b[0m\u001b[1;33m(\u001b[0m\u001b[1;33m)\u001b[0m\u001b[1;33m\u001b[0m\u001b[1;33m\u001b[0m\u001b[0m\n\u001b[0m",
      "\u001b[1;31mNameError\u001b[0m: name 'datetime' is not defined"
     ]
    }
   ],
   "source": [
    "d1=datetime.now()"
   ]
  },
  {
   "cell_type": "code",
   "execution_count": 90,
   "id": "b0dfd100",
   "metadata": {},
   "outputs": [
    {
     "data": {
      "text/html": [
       "<div>\n",
       "<style scoped>\n",
       "    .dataframe tbody tr th:only-of-type {\n",
       "        vertical-align: middle;\n",
       "    }\n",
       "\n",
       "    .dataframe tbody tr th {\n",
       "        vertical-align: top;\n",
       "    }\n",
       "\n",
       "    .dataframe thead th {\n",
       "        text-align: right;\n",
       "    }\n",
       "</style>\n",
       "<table border=\"1\" class=\"dataframe\">\n",
       "  <thead>\n",
       "    <tr style=\"text-align: right;\">\n",
       "      <th></th>\n",
       "      <th>date</th>\n",
       "      <th>value</th>\n",
       "    </tr>\n",
       "  </thead>\n",
       "  <tbody>\n",
       "    <tr>\n",
       "      <th>0</th>\n",
       "      <td>2022-03-10</td>\n",
       "      <td>2</td>\n",
       "    </tr>\n",
       "    <tr>\n",
       "      <th>1</th>\n",
       "      <td>2022-03-11</td>\n",
       "      <td>3</td>\n",
       "    </tr>\n",
       "    <tr>\n",
       "      <th>2</th>\n",
       "      <td>2022-03-12</td>\n",
       "      <td>4</td>\n",
       "    </tr>\n",
       "  </tbody>\n",
       "</table>\n",
       "</div>"
      ],
      "text/plain": [
       "        date  value\n",
       "0 2022-03-10      2\n",
       "1 2022-03-11      3\n",
       "2 2022-03-12      4"
      ]
     },
     "execution_count": 90,
     "metadata": {},
     "output_type": "execute_result"
    }
   ],
   "source": [
    "#convert strings in to datetime\n",
    "hk=pd.DataFrame({'date':['3/10/2022','3/11/2022','3/12/2022'],'value':[2,3,4]})\n",
    "hk['date']=pd.to_datetime(hk['date'])\n",
    "hk"
   ]
  },
  {
   "cell_type": "code",
   "execution_count": 94,
   "id": "6147daa3",
   "metadata": {},
   "outputs": [
    {
     "data": {
      "text/html": [
       "<div>\n",
       "<style scoped>\n",
       "    .dataframe tbody tr th:only-of-type {\n",
       "        vertical-align: middle;\n",
       "    }\n",
       "\n",
       "    .dataframe tbody tr th {\n",
       "        vertical-align: top;\n",
       "    }\n",
       "\n",
       "    .dataframe thead th {\n",
       "        text-align: right;\n",
       "    }\n",
       "</style>\n",
       "<table border=\"1\" class=\"dataframe\">\n",
       "  <thead>\n",
       "    <tr style=\"text-align: right;\">\n",
       "      <th></th>\n",
       "      <th>date</th>\n",
       "      <th>value</th>\n",
       "    </tr>\n",
       "  </thead>\n",
       "  <tbody>\n",
       "    <tr>\n",
       "      <th>0</th>\n",
       "      <td>2022-02-04</td>\n",
       "      <td>1</td>\n",
       "    </tr>\n",
       "    <tr>\n",
       "      <th>1</th>\n",
       "      <td>2022-02-05</td>\n",
       "      <td>2</td>\n",
       "    </tr>\n",
       "    <tr>\n",
       "      <th>2</th>\n",
       "      <td>2022-02-06</td>\n",
       "      <td>3</td>\n",
       "    </tr>\n",
       "  </tbody>\n",
       "</table>\n",
       "</div>"
      ],
      "text/plain": [
       "        date  value\n",
       "0 2022-02-04      1\n",
       "1 2022-02-05      2\n",
       "2 2022-02-06      3"
      ]
     },
     "execution_count": 94,
     "metadata": {},
     "output_type": "execute_result"
    }
   ],
   "source": [
    "#Day first format()\n",
    "pk=pd.DataFrame({'date':['4/2/2022','5/2/2022','6/2/2022'],'value':[1,2,3]})\n",
    "pk['date']=pd.to_datetime(pk['date'], dayfirst=True)\n",
    "pk"
   ]
  },
  {
   "cell_type": "code",
   "execution_count": 95,
   "id": "68bf2cd7",
   "metadata": {},
   "outputs": [
    {
     "data": {
      "text/html": [
       "<div>\n",
       "<style scoped>\n",
       "    .dataframe tbody tr th:only-of-type {\n",
       "        vertical-align: middle;\n",
       "    }\n",
       "\n",
       "    .dataframe tbody tr th {\n",
       "        vertical-align: top;\n",
       "    }\n",
       "\n",
       "    .dataframe thead th {\n",
       "        text-align: right;\n",
       "    }\n",
       "</style>\n",
       "<table border=\"1\" class=\"dataframe\">\n",
       "  <thead>\n",
       "    <tr style=\"text-align: right;\">\n",
       "      <th></th>\n",
       "      <th>date</th>\n",
       "      <th>value</th>\n",
       "    </tr>\n",
       "  </thead>\n",
       "  <tbody>\n",
       "    <tr>\n",
       "      <th>0</th>\n",
       "      <td>2022-03-10</td>\n",
       "      <td>2</td>\n",
       "    </tr>\n",
       "    <tr>\n",
       "      <th>1</th>\n",
       "      <td>2022-03-11</td>\n",
       "      <td>3</td>\n",
       "    </tr>\n",
       "    <tr>\n",
       "      <th>2</th>\n",
       "      <td>2022-03-12</td>\n",
       "      <td>4</td>\n",
       "    </tr>\n",
       "  </tbody>\n",
       "</table>\n",
       "</div>"
      ],
      "text/plain": [
       "        date  value\n",
       "0 2022-03-10      2\n",
       "1 2022-03-11      3\n",
       "2 2022-03-12      4"
      ]
     },
     "execution_count": 95,
     "metadata": {},
     "output_type": "execute_result"
    }
   ],
   "source": [
    "#handling parsing error:you will end with a typeerror\n",
    "hk=pd.DataFrame({'date':['3/10/2022','3/11/2022','3/12/2022'],'value':[2,3,4]})\n",
    "hk['date']=pd.to_datetime(hk['date'], errors='ignore')\n",
    "hk"
   ]
  },
  {
   "cell_type": "code",
   "execution_count": 98,
   "id": "77267d43",
   "metadata": {},
   "outputs": [
    {
     "data": {
      "text/html": [
       "<div>\n",
       "<style scoped>\n",
       "    .dataframe tbody tr th:only-of-type {\n",
       "        vertical-align: middle;\n",
       "    }\n",
       "\n",
       "    .dataframe tbody tr th {\n",
       "        vertical-align: top;\n",
       "    }\n",
       "\n",
       "    .dataframe thead th {\n",
       "        text-align: right;\n",
       "    }\n",
       "</style>\n",
       "<table border=\"1\" class=\"dataframe\">\n",
       "  <thead>\n",
       "    <tr style=\"text-align: right;\">\n",
       "      <th></th>\n",
       "      <th>year</th>\n",
       "      <th>month</th>\n",
       "      <th>day</th>\n",
       "      <th>date</th>\n",
       "    </tr>\n",
       "  </thead>\n",
       "  <tbody>\n",
       "    <tr>\n",
       "      <th>0</th>\n",
       "      <td>2022</td>\n",
       "      <td>2</td>\n",
       "      <td>3</td>\n",
       "      <td>2022-02-03</td>\n",
       "    </tr>\n",
       "    <tr>\n",
       "      <th>1</th>\n",
       "      <td>2021</td>\n",
       "      <td>1</td>\n",
       "      <td>4</td>\n",
       "      <td>2021-01-04</td>\n",
       "    </tr>\n",
       "  </tbody>\n",
       "</table>\n",
       "</div>"
      ],
      "text/plain": [
       "   year  month  day       date\n",
       "0  2022      2    3 2022-02-03\n",
       "1  2021      1    4 2021-01-04"
      ]
     },
     "execution_count": 98,
     "metadata": {},
     "output_type": "execute_result"
    }
   ],
   "source": [
    "#Assembling a datetime from multiple columns:\n",
    "kl=pd.DataFrame({'year':[2022,2021],'month':[2,1],'day':[3,4]})\n",
    "kl['date']=pd.to_datetime(kl)\n",
    "kl"
   ]
  },
  {
   "cell_type": "code",
   "execution_count": 2,
   "id": "6b472278",
   "metadata": {},
   "outputs": [
    {
     "data": {
      "application/javascript": [
       "\n",
       "        if (window._pyforest_update_imports_cell) { window._pyforest_update_imports_cell('import pandas as pd'); }\n",
       "    "
      ],
      "text/plain": [
       "<IPython.core.display.Javascript object>"
      ]
     },
     "metadata": {},
     "output_type": "display_data"
    },
    {
     "data": {
      "application/javascript": [
       "\n",
       "        if (window._pyforest_update_imports_cell) { window._pyforest_update_imports_cell('import pandas as pd'); }\n",
       "    "
      ],
      "text/plain": [
       "<IPython.core.display.Javascript object>"
      ]
     },
     "metadata": {},
     "output_type": "display_data"
    },
    {
     "data": {
      "text/html": [
       "<div>\n",
       "<style scoped>\n",
       "    .dataframe tbody tr th:only-of-type {\n",
       "        vertical-align: middle;\n",
       "    }\n",
       "\n",
       "    .dataframe tbody tr th {\n",
       "        vertical-align: top;\n",
       "    }\n",
       "\n",
       "    .dataframe thead th {\n",
       "        text-align: right;\n",
       "    }\n",
       "</style>\n",
       "<table border=\"1\" class=\"dataframe\">\n",
       "  <thead>\n",
       "    <tr style=\"text-align: right;\">\n",
       "      <th></th>\n",
       "      <th>Name</th>\n",
       "      <th>DoB</th>\n",
       "      <th>year</th>\n",
       "      <th>month</th>\n",
       "      <th>day</th>\n",
       "    </tr>\n",
       "  </thead>\n",
       "  <tbody>\n",
       "    <tr>\n",
       "      <th>0</th>\n",
       "      <td>tom</td>\n",
       "      <td>2022-03-02</td>\n",
       "      <td>2022</td>\n",
       "      <td>3</td>\n",
       "      <td>2</td>\n",
       "    </tr>\n",
       "    <tr>\n",
       "      <th>1</th>\n",
       "      <td>jerry</td>\n",
       "      <td>2022-04-02</td>\n",
       "      <td>2022</td>\n",
       "      <td>4</td>\n",
       "      <td>2</td>\n",
       "    </tr>\n",
       "    <tr>\n",
       "      <th>2</th>\n",
       "      <td>nancy</td>\n",
       "      <td>2022-05-02</td>\n",
       "      <td>2022</td>\n",
       "      <td>5</td>\n",
       "      <td>2</td>\n",
       "    </tr>\n",
       "    <tr>\n",
       "      <th>3</th>\n",
       "      <td>goku</td>\n",
       "      <td>2022-06-02</td>\n",
       "      <td>2022</td>\n",
       "      <td>6</td>\n",
       "      <td>2</td>\n",
       "    </tr>\n",
       "  </tbody>\n",
       "</table>\n",
       "</div>"
      ],
      "text/plain": [
       "    Name        DoB  year  month  day\n",
       "0    tom 2022-03-02  2022      3    2\n",
       "1  jerry 2022-04-02  2022      4    2\n",
       "2  nancy 2022-05-02  2022      5    2\n",
       "3   goku 2022-06-02  2022      6    2"
      ]
     },
     "execution_count": 2,
     "metadata": {},
     "output_type": "execute_result"
    }
   ],
   "source": [
    "#Get year month day:\n",
    "#creating dummy dataframe and parse DoB to datetime\n",
    "'''dt.year()\n",
    "dt.month()\n",
    "dt.day() are inbuilt functions'''\n",
    "ro=pd.DataFrame({'Name':['tom','jerry','nancy','goku'],'DoB':['3/2/2022','4/2/2022','5/2/2022','6/2/2022']})\n",
    "ro['DoB']= pd.to_datetime(ro['DoB'])\n",
    "#to get Month, Day, Year\n",
    "ro['year']=ro['DoB'].dt.year\n",
    "ro['month']= ro['DoB'].dt.month\n",
    "ro['day']= ro['DoB'].dt.day\n",
    "ro"
   ]
  },
  {
   "cell_type": "code",
   "execution_count": 6,
   "id": "c74ff22f",
   "metadata": {},
   "outputs": [
    {
     "ename": "AttributeError",
     "evalue": "'list' object has no attribute 'ro'",
     "output_type": "error",
     "traceback": [
      "\u001b[1;31m---------------------------------------------------------------------------\u001b[0m",
      "\u001b[1;31mAttributeError\u001b[0m                            Traceback (most recent call last)",
      "\u001b[1;32m~\\AppData\\Local\\Temp/ipykernel_17040/821514793.py\u001b[0m in \u001b[0;36m<module>\u001b[1;34m\u001b[0m\n\u001b[0;32m      1\u001b[0m \u001b[1;31m#Get the week of the year,the day of the week,leap year\u001b[0m\u001b[1;33m\u001b[0m\u001b[1;33m\u001b[0m\u001b[1;33m\u001b[0m\u001b[0m\n\u001b[1;32m----> 2\u001b[1;33m \u001b[0mro\u001b[0m\u001b[1;33m[\u001b[0m\u001b[1;34m'week_of_year'\u001b[0m\u001b[1;33m]\u001b[0m\u001b[1;33m=\u001b[0m\u001b[1;33m[\u001b[0m\u001b[1;34m'DoB'\u001b[0m\u001b[1;33m]\u001b[0m\u001b[1;33m.\u001b[0m\u001b[0mro\u001b[0m\u001b[1;33m.\u001b[0m\u001b[0mweek\u001b[0m\u001b[1;33m\u001b[0m\u001b[1;33m\u001b[0m\u001b[0m\n\u001b[0m\u001b[0;32m      3\u001b[0m \u001b[0mro\u001b[0m\u001b[1;33m[\u001b[0m \u001b[1;34m'day_of_week'\u001b[0m\u001b[1;33m]\u001b[0m\u001b[1;33m=\u001b[0m\u001b[1;33m[\u001b[0m\u001b[1;34m'DoB'\u001b[0m\u001b[1;33m]\u001b[0m\u001b[1;33m.\u001b[0m\u001b[0mro\u001b[0m\u001b[1;33m.\u001b[0m\u001b[0mdayofweek\u001b[0m\u001b[1;33m\u001b[0m\u001b[1;33m\u001b[0m\u001b[0m\n\u001b[0;32m      4\u001b[0m \u001b[0mro\u001b[0m\u001b[1;33m[\u001b[0m\u001b[1;34m'is_leap_year'\u001b[0m\u001b[1;33m]\u001b[0m\u001b[1;33m=\u001b[0m\u001b[1;33m[\u001b[0m\u001b[1;34m'DoB'\u001b[0m\u001b[1;33m]\u001b[0m\u001b[1;33m.\u001b[0m\u001b[0mro\u001b[0m\u001b[1;33m.\u001b[0m\u001b[0mis_leap_year\u001b[0m\u001b[1;33m\u001b[0m\u001b[1;33m\u001b[0m\u001b[0m\n\u001b[0;32m      5\u001b[0m \u001b[0mro\u001b[0m\u001b[1;33m\u001b[0m\u001b[1;33m\u001b[0m\u001b[0m\n",
      "\u001b[1;31mAttributeError\u001b[0m: 'list' object has no attribute 'ro'"
     ]
    }
   ],
   "source": [
    "#Get the week of the year,the day of the week,leap year\n",
    "ro['week_of_year']=ro['DoB'].ro.week\n",
    "ro[ 'day_of_week']=ro['DoB'].ro.dayofweek\n",
    "ro['is_leap_year']=ro['DoB'].ro.is_leap_year\n",
    "ro"
   ]
  },
  {
   "cell_type": "markdown",
   "id": "92f5d241",
   "metadata": {},
   "source": [
    "# Time Delta"
   ]
  },
  {
   "cell_type": "code",
   "execution_count": 17,
   "id": "e6d3889d",
   "metadata": {},
   "outputs": [
    {
     "data": {
      "application/javascript": [
       "\n",
       "        if (window._pyforest_update_imports_cell) { window._pyforest_update_imports_cell('import pandas as pd'); }\n",
       "    "
      ],
      "text/plain": [
       "<IPython.core.display.Javascript object>"
      ]
     },
     "metadata": {},
     "output_type": "display_data"
    },
    {
     "data": {
      "application/javascript": [
       "\n",
       "        if (window._pyforest_update_imports_cell) { window._pyforest_update_imports_cell('import pandas as pd'); }\n",
       "    "
      ],
      "text/plain": [
       "<IPython.core.display.Javascript object>"
      ]
     },
     "metadata": {},
     "output_type": "display_data"
    },
    {
     "name": "stdout",
     "output_type": "stream",
     "text": [
      "-1 day, 23:59:02\n"
     ]
    }
   ],
   "source": [
    "#to find duration between two dates which can be very useful in data set\n",
    "import datetime\n",
    "f1=pd.datetime(2022,2,3,13,11,12)\n",
    "f2=pd.datetime(2022,2,3,13,12,10)\n",
    "duration= f1-f2\n",
    "print(duration)"
   ]
  },
  {
   "cell_type": "code",
   "execution_count": 18,
   "id": "284da7c7",
   "metadata": {},
   "outputs": [
    {
     "name": "stdout",
     "output_type": "stream",
     "text": [
      "-1\n",
      "86342\n"
     ]
    }
   ],
   "source": [
    "print(duration.days)\n",
    "print(duration.seconds)"
   ]
  },
  {
   "cell_type": "code",
   "execution_count": 32,
   "id": "76c2f4d0",
   "metadata": {},
   "outputs": [
    {
     "name": "stdout",
     "output_type": "stream",
     "text": [
      "Duration in hrs: -0.01611111111111111\n",
      "Duration in Mins: -0.9666666666666667\n",
      "Duration in sec: -58.0\n"
     ]
    }
   ],
   "source": [
    "#timedelta is an datetime module\n",
    "from datetime import timedelta\n",
    "#duration in hours:\n",
    "print('Duration in hrs:',duration/datetime.timedelta(hours=1))\n",
    "print('Duration in Mins:',duration/datetime.timedelta(minutes=1))\n",
    "print('Duration in sec:',duration/datetime.timedelta(seconds=1))"
   ]
  },
  {
   "cell_type": "code",
   "execution_count": 29,
   "id": "134b6213",
   "metadata": {},
   "outputs": [
    {
     "data": {
      "application/javascript": [
       "\n",
       "        if (window._pyforest_update_imports_cell) { window._pyforest_update_imports_cell('import pandas as pd'); }\n",
       "    "
      ],
      "text/plain": [
       "<IPython.core.display.Javascript object>"
      ]
     },
     "metadata": {},
     "output_type": "display_data"
    },
    {
     "name": "stdout",
     "output_type": "stream",
     "text": [
      "Today_s date is: 2022-02-04 12:41:02.665987\n",
      "DAate 2 days from today 2022-02-06 12:41:02.665987\n",
      "Date 2 weks from today 2022-02-18 12:41:02.665987\n"
     ]
    }
   ],
   "source": [
    "#Add and Subtract the integers in datetime object:\n",
    "#s.datetime.now()\n",
    "#s+5\n",
    "import datetime\n",
    "h=pd.datetime.now()\n",
    "print('Today_s date is:',h)\n",
    "h1=h+timedelta(days=2)\n",
    "print('DAate 2 days from today',h1)\n",
    "h2=h+timedelta(weeks=2)\n",
    "print('Date 2 weks from today',h2)"
   ]
  },
  {
   "cell_type": "code",
   "execution_count": 34,
   "id": "ff1d3557",
   "metadata": {},
   "outputs": [
    {
     "data": {
      "application/javascript": [
       "\n",
       "        if (window._pyforest_update_imports_cell) { window._pyforest_update_imports_cell('import pandas as pd'); }\n",
       "    "
      ],
      "text/plain": [
       "<IPython.core.display.Javascript object>"
      ]
     },
     "metadata": {},
     "output_type": "display_data"
    },
    {
     "name": "stdout",
     "output_type": "stream",
     "text": [
      "Todays time is 2022-02-04 12:45:01.709029\n",
      "Todays date 2 weeks ans 2 days as of now 2022-02-20 12:45:01.709029\n"
     ]
    }
   ],
   "source": [
    "#practice of time delta\n",
    "import datetime\n",
    "j1=pd.datetime.now()\n",
    "print('Todays time is',j1)\n",
    "j2=j1+timedelta(days=2,weeks=2)\n",
    "print('Todays date 2 weeks ans 2 days as of now',j2)"
   ]
  },
  {
   "cell_type": "code",
   "execution_count": 42,
   "id": "768b1218",
   "metadata": {},
   "outputs": [
    {
     "data": {
      "application/javascript": [
       "\n",
       "        if (window._pyforest_update_imports_cell) { window._pyforest_update_imports_cell('import pandas as pd'); }\n",
       "    "
      ],
      "text/plain": [
       "<IPython.core.display.Javascript object>"
      ]
     },
     "metadata": {},
     "output_type": "display_data"
    },
    {
     "data": {
      "text/plain": [
       "DatetimeIndex(['2022-04-02', '2022-04-03'], dtype='datetime64[ns]', freq='D')"
      ]
     },
     "execution_count": 42,
     "metadata": {},
     "output_type": "execute_result"
    }
   ],
   "source": [
    "#Date Rate(change):It accepts the start dat, end date and frequency rate.\n",
    "pd.date_range(start='4/2/2022', end='4/3/2022', freq='D')\n"
   ]
  },
  {
   "cell_type": "code",
   "execution_count": 48,
   "id": "6c844af5",
   "metadata": {},
   "outputs": [
    {
     "data": {
      "application/javascript": [
       "\n",
       "        if (window._pyforest_update_imports_cell) { window._pyforest_update_imports_cell('import pandas as pd'); }\n",
       "    "
      ],
      "text/plain": [
       "<IPython.core.display.Javascript object>"
      ]
     },
     "metadata": {},
     "output_type": "display_data"
    },
    {
     "data": {
      "text/plain": [
       "DatetimeIndex(['2022-08-31', '2022-09-30'], dtype='datetime64[ns]', freq='M')"
      ]
     },
     "execution_count": 48,
     "metadata": {},
     "output_type": "execute_result"
    }
   ],
   "source": [
    "pd.date_range(start='20/8/2022',end='20/10/2022',freq='M')"
   ]
  },
  {
   "cell_type": "code",
   "execution_count": 50,
   "id": "06484d2e",
   "metadata": {},
   "outputs": [
    {
     "data": {
      "application/javascript": [
       "\n",
       "        if (window._pyforest_update_imports_cell) { window._pyforest_update_imports_cell('import pandas as pd'); }\n",
       "    "
      ],
      "text/plain": [
       "<IPython.core.display.Javascript object>"
      ]
     },
     "metadata": {},
     "output_type": "display_data"
    },
    {
     "data": {
      "text/plain": [
       "DatetimeIndex(['2022-02-02', '2022-02-03', '2022-02-04', '2022-02-05',\n",
       "               '2022-02-06', '2022-02-07', '2022-02-08', '2022-02-09',\n",
       "               '2022-02-10', '2022-02-11', '2022-02-12', '2022-02-13',\n",
       "               '2022-02-14', '2022-02-15', '2022-02-16', '2022-02-17',\n",
       "               '2022-02-18', '2022-02-19', '2022-02-20', '2022-02-21',\n",
       "               '2022-02-22', '2022-02-23', '2022-02-24', '2022-02-25',\n",
       "               '2022-02-26', '2022-02-27', '2022-02-28', '2022-03-01',\n",
       "               '2022-03-02', '2022-03-03', '2022-03-04'],\n",
       "              dtype='datetime64[ns]', freq='D')"
      ]
     },
     "execution_count": 50,
     "metadata": {},
     "output_type": "execute_result"
    }
   ],
   "source": [
    "pd.date_range(start='2/2/2022', end='3/4/2022', freq='D')"
   ]
  },
  {
   "cell_type": "markdown",
   "id": "0e0ba012",
   "metadata": {},
   "source": [
    "# Python pandas-categorical data"
   ]
  },
  {
   "cell_type": "code",
   "execution_count": 51,
   "id": "6281d297",
   "metadata": {},
   "outputs": [
    {
     "data": {
      "application/javascript": [
       "\n",
       "        if (window._pyforest_update_imports_cell) { window._pyforest_update_imports_cell('import pandas as pd'); }\n",
       "    "
      ],
      "text/plain": [
       "<IPython.core.display.Javascript object>"
      ]
     },
     "metadata": {},
     "output_type": "display_data"
    },
    {
     "data": {
      "text/plain": [
       "0    a\n",
       "1    b\n",
       "2    d\n",
       "3    f\n",
       "4    a\n",
       "5    d\n",
       "dtype: object"
      ]
     },
     "execution_count": 51,
     "metadata": {},
     "output_type": "execute_result"
    }
   ],
   "source": [
    "# a categorical variable takes on limite, usually fixed no of variables.\n",
    "s=pd.Series(['a','b','d','f','a','d'])\n",
    "s"
   ]
  },
  {
   "cell_type": "code",
   "execution_count": 55,
   "id": "8ac3f8b3",
   "metadata": {},
   "outputs": [
    {
     "data": {
      "application/javascript": [
       "\n",
       "        if (window._pyforest_update_imports_cell) { window._pyforest_update_imports_cell('import pandas as pd'); }\n",
       "    "
      ],
      "text/plain": [
       "<IPython.core.display.Javascript object>"
      ]
     },
     "metadata": {},
     "output_type": "display_data"
    },
    {
     "data": {
      "text/html": [
       "<div>\n",
       "<style scoped>\n",
       "    .dataframe tbody tr th:only-of-type {\n",
       "        vertical-align: middle;\n",
       "    }\n",
       "\n",
       "    .dataframe tbody tr th {\n",
       "        vertical-align: top;\n",
       "    }\n",
       "\n",
       "    .dataframe thead th {\n",
       "        text-align: right;\n",
       "    }\n",
       "</style>\n",
       "<table border=\"1\" class=\"dataframe\">\n",
       "  <thead>\n",
       "    <tr style=\"text-align: right;\">\n",
       "      <th></th>\n",
       "      <th>a1</th>\n",
       "      <th>B</th>\n",
       "    </tr>\n",
       "  </thead>\n",
       "  <tbody>\n",
       "    <tr>\n",
       "      <th>0</th>\n",
       "      <td>a</td>\n",
       "      <td>a</td>\n",
       "    </tr>\n",
       "    <tr>\n",
       "      <th>1</th>\n",
       "      <td>b</td>\n",
       "      <td>b</td>\n",
       "    </tr>\n",
       "    <tr>\n",
       "      <th>2</th>\n",
       "      <td>d</td>\n",
       "      <td>d</td>\n",
       "    </tr>\n",
       "    <tr>\n",
       "      <th>3</th>\n",
       "      <td>e</td>\n",
       "      <td>e</td>\n",
       "    </tr>\n",
       "  </tbody>\n",
       "</table>\n",
       "</div>"
      ],
      "text/plain": [
       "  a1  B\n",
       "0  a  a\n",
       "1  b  b\n",
       "2  d  d\n",
       "3  e  e"
      ]
     },
     "execution_count": 55,
     "metadata": {},
     "output_type": "execute_result"
    }
   ],
   "source": [
    "#to convert existing column in to categorical dataset.\n",
    "lf=pd.DataFrame({'a1':['a','b','d','e']})\n",
    "lf['B']=lf['a1'].astype('category')\n",
    "lf"
   ]
  },
  {
   "cell_type": "code",
   "execution_count": 59,
   "id": "215178bb",
   "metadata": {},
   "outputs": [
    {
     "data": {
      "application/javascript": [
       "\n",
       "        if (window._pyforest_update_imports_cell) { window._pyforest_update_imports_cell('import pandas as pd'); }\n",
       "    "
      ],
      "text/plain": [
       "<IPython.core.display.Javascript object>"
      ]
     },
     "metadata": {},
     "output_type": "display_data"
    },
    {
     "data": {
      "text/plain": [
       "A1    category\n",
       "B1    category\n",
       "dtype: object"
      ]
     },
     "execution_count": 59,
     "metadata": {},
     "output_type": "execute_result"
    }
   ],
   "source": [
    "#DataFrame creation: here by using DataFrame creation we can convert in to categorical data of whole data set instead of selected particular orw or cloulmn\n",
    "#dtype=category\n",
    "gd=pd.DataFrame({'A1':list('bcdsafa'),'B1':list('abcdert')},dtype='category')\n",
    "gd.dtypes\n"
   ]
  },
  {
   "cell_type": "code",
   "execution_count": 63,
   "id": "6ea7aad1",
   "metadata": {},
   "outputs": [
    {
     "data": {
      "application/javascript": [
       "\n",
       "        if (window._pyforest_update_imports_cell) { window._pyforest_update_imports_cell('import pandas as pd'); }\n",
       "    "
      ],
      "text/plain": [
       "<IPython.core.display.Javascript object>"
      ]
     },
     "metadata": {},
     "output_type": "display_data"
    },
    {
     "data": {
      "text/plain": [
       "f1    category\n",
       "g1    category\n",
       "dtype: object"
      ]
     },
     "execution_count": 63,
     "metadata": {},
     "output_type": "execute_result"
    }
   ],
   "source": [
    "fd=pd.DataFrame({'f1':list('edfger'),'g1':list('ghjkfa')},dtype='category')\n",
    "fd.dtypes"
   ]
  },
  {
   "cell_type": "code",
   "execution_count": 66,
   "id": "676f81ee",
   "metadata": {},
   "outputs": [
    {
     "data": {
      "text/plain": [
       "CategoricalDtype(categories=['a', 'a2', 'a3'], ordered=False)"
      ]
     },
     "execution_count": 66,
     "metadata": {},
     "output_type": "execute_result"
    }
   ],
   "source": [
    "#Categorical Dtype:\n",
    "#1.Categories: a sequence of unique values an dno missing values\n",
    "#2.ordered: booelan values\n",
    "#pandas.categorical\n",
    "from  pandas.api.types import CategoricalDtype\n",
    "CategoricalDtype(['a','a2','a3'])\n"
   ]
  },
  {
   "cell_type": "code",
   "execution_count": 67,
   "id": "72e5d01c",
   "metadata": {},
   "outputs": [
    {
     "data": {
      "text/plain": [
       "CategoricalDtype(categories=['b1', 'w1', 'e2', 'r3'], ordered=True)"
      ]
     },
     "execution_count": 67,
     "metadata": {},
     "output_type": "execute_result"
    }
   ],
   "source": [
    "CategoricalDtype(['b1','w1','e2','r3'],ordered = True)"
   ]
  },
  {
   "cell_type": "code",
   "execution_count": 83,
   "id": "9ed53200",
   "metadata": {},
   "outputs": [
    {
     "data": {
      "application/javascript": [
       "\n",
       "        if (window._pyforest_update_imports_cell) { window._pyforest_update_imports_cell('import pandas as pd\\nimport numpy as np'); }\n",
       "    "
      ],
      "text/plain": [
       "<IPython.core.display.Javascript object>"
      ]
     },
     "metadata": {},
     "output_type": "display_data"
    },
    {
     "data": {
      "application/javascript": [
       "\n",
       "        if (window._pyforest_update_imports_cell) { window._pyforest_update_imports_cell('import pandas as pd\\nimport numpy as np'); }\n",
       "    "
      ],
      "text/plain": [
       "<IPython.core.display.Javascript object>"
      ]
     },
     "metadata": {},
     "output_type": "display_data"
    },
    {
     "data": {
      "application/javascript": [
       "\n",
       "        if (window._pyforest_update_imports_cell) { window._pyforest_update_imports_cell('import pandas as pd\\nimport numpy as np'); }\n",
       "    "
      ],
      "text/plain": [
       "<IPython.core.display.Javascript object>"
      ]
     },
     "metadata": {},
     "output_type": "display_data"
    },
    {
     "data": {
      "application/javascript": [
       "\n",
       "        if (window._pyforest_update_imports_cell) { window._pyforest_update_imports_cell('import pandas as pd\\nimport numpy as np'); }\n",
       "    "
      ],
      "text/plain": [
       "<IPython.core.display.Javascript object>"
      ]
     },
     "metadata": {},
     "output_type": "display_data"
    },
    {
     "data": {
      "text/html": [
       "<div>\n",
       "<style scoped>\n",
       "    .dataframe tbody tr th:only-of-type {\n",
       "        vertical-align: middle;\n",
       "    }\n",
       "\n",
       "    .dataframe tbody tr th {\n",
       "        vertical-align: top;\n",
       "    }\n",
       "\n",
       "    .dataframe thead th {\n",
       "        text-align: right;\n",
       "    }\n",
       "</style>\n",
       "<table border=\"1\" class=\"dataframe\">\n",
       "  <thead>\n",
       "    <tr style=\"text-align: right;\">\n",
       "      <th></th>\n",
       "      <th>dog</th>\n",
       "      <th>d</th>\n",
       "    </tr>\n",
       "  </thead>\n",
       "  <tbody>\n",
       "    <tr>\n",
       "      <th>count</th>\n",
       "      <td>1</td>\n",
       "      <td>3</td>\n",
       "    </tr>\n",
       "    <tr>\n",
       "      <th>unique</th>\n",
       "      <td>1</td>\n",
       "      <td>3</td>\n",
       "    </tr>\n",
       "    <tr>\n",
       "      <th>top</th>\n",
       "      <td>a</td>\n",
       "      <td>a</td>\n",
       "    </tr>\n",
       "    <tr>\n",
       "      <th>freq</th>\n",
       "      <td>1</td>\n",
       "      <td>1</td>\n",
       "    </tr>\n",
       "  </tbody>\n",
       "</table>\n",
       "</div>"
      ],
      "text/plain": [
       "       dog  d\n",
       "count    1  3\n",
       "unique   1  3\n",
       "top      a  a\n",
       "freq     1  1"
      ]
     },
     "execution_count": 83,
     "metadata": {},
     "output_type": "execute_result"
    }
   ],
   "source": [
    "#decribe(): using categorical data it  produces similar output to a series or dataFrames of a string type\n",
    "dog=pd.Categorical(['a','e','r',np.nan], categories=['a','f','g','t'])\n",
    "sd=pd.DataFrame({'dog':dog,'d':['a','e','r',np.nan]})\n",
    "sd.describe()"
   ]
  },
  {
   "cell_type": "code",
   "execution_count": 84,
   "id": "9c84fedf",
   "metadata": {},
   "outputs": [
    {
     "data": {
      "application/javascript": [
       "\n",
       "        if (window._pyforest_update_imports_cell) { window._pyforest_update_imports_cell('import pandas as pd\\nimport numpy as np'); }\n",
       "    "
      ],
      "text/plain": [
       "<IPython.core.display.Javascript object>"
      ]
     },
     "metadata": {},
     "output_type": "display_data"
    },
    {
     "data": {
      "application/javascript": [
       "\n",
       "        if (window._pyforest_update_imports_cell) { window._pyforest_update_imports_cell('import pandas as pd\\nimport numpy as np'); }\n",
       "    "
      ],
      "text/plain": [
       "<IPython.core.display.Javascript object>"
      ]
     },
     "metadata": {},
     "output_type": "display_data"
    },
    {
     "data": {
      "application/javascript": [
       "\n",
       "        if (window._pyforest_update_imports_cell) { window._pyforest_update_imports_cell('import pandas as pd\\nimport numpy as np'); }\n",
       "    "
      ],
      "text/plain": [
       "<IPython.core.display.Javascript object>"
      ]
     },
     "metadata": {},
     "output_type": "display_data"
    },
    {
     "data": {
      "application/javascript": [
       "\n",
       "        if (window._pyforest_update_imports_cell) { window._pyforest_update_imports_cell('import pandas as pd\\nimport numpy as np'); }\n",
       "    "
      ],
      "text/plain": [
       "<IPython.core.display.Javascript object>"
      ]
     },
     "metadata": {},
     "output_type": "display_data"
    },
    {
     "data": {
      "application/javascript": [
       "\n",
       "        if (window._pyforest_update_imports_cell) { window._pyforest_update_imports_cell('import pandas as pd\\nimport numpy as np'); }\n",
       "    "
      ],
      "text/plain": [
       "<IPython.core.display.Javascript object>"
      ]
     },
     "metadata": {},
     "output_type": "display_data"
    },
    {
     "data": {
      "application/javascript": [
       "\n",
       "        if (window._pyforest_update_imports_cell) { window._pyforest_update_imports_cell('import pandas as pd\\nimport numpy as np'); }\n",
       "    "
      ],
      "text/plain": [
       "<IPython.core.display.Javascript object>"
      ]
     },
     "metadata": {},
     "output_type": "display_data"
    },
    {
     "data": {
      "text/html": [
       "<div>\n",
       "<style scoped>\n",
       "    .dataframe tbody tr th:only-of-type {\n",
       "        vertical-align: middle;\n",
       "    }\n",
       "\n",
       "    .dataframe tbody tr th {\n",
       "        vertical-align: top;\n",
       "    }\n",
       "\n",
       "    .dataframe thead th {\n",
       "        text-align: right;\n",
       "    }\n",
       "</style>\n",
       "<table border=\"1\" class=\"dataframe\">\n",
       "  <thead>\n",
       "    <tr style=\"text-align: right;\">\n",
       "      <th></th>\n",
       "      <th>fish</th>\n",
       "      <th>fr</th>\n",
       "    </tr>\n",
       "  </thead>\n",
       "  <tbody>\n",
       "    <tr>\n",
       "      <th>count</th>\n",
       "      <td>1</td>\n",
       "      <td>6</td>\n",
       "    </tr>\n",
       "    <tr>\n",
       "      <th>unique</th>\n",
       "      <td>1</td>\n",
       "      <td>6</td>\n",
       "    </tr>\n",
       "    <tr>\n",
       "      <th>top</th>\n",
       "      <td>a</td>\n",
       "      <td>a</td>\n",
       "    </tr>\n",
       "    <tr>\n",
       "      <th>freq</th>\n",
       "      <td>1</td>\n",
       "      <td>1</td>\n",
       "    </tr>\n",
       "  </tbody>\n",
       "</table>\n",
       "</div>"
      ],
      "text/plain": [
       "       fish fr\n",
       "count     1  6\n",
       "unique    1  6\n",
       "top       a  a\n",
       "freq      1  1"
      ]
     },
     "execution_count": 84,
     "metadata": {},
     "output_type": "execute_result"
    }
   ],
   "source": [
    "fish=pd.Categorical(['a','b','c','d','e','r',np.nan,np.nan],categories=['a','f','h','j','y'])\n",
    "er=pd.DataFrame({'fish':fish,'fr':['a','b','c','d','e','r',np.nan,np.nan]})\n",
    "er.describe()"
   ]
  },
  {
   "cell_type": "code",
   "execution_count": 94,
   "id": "674c98f9",
   "metadata": {},
   "outputs": [
    {
     "data": {
      "application/javascript": [
       "\n",
       "        if (window._pyforest_update_imports_cell) { window._pyforest_update_imports_cell('import pandas as pd\\nimport numpy as np'); }\n",
       "    "
      ],
      "text/plain": [
       "<IPython.core.display.Javascript object>"
      ]
     },
     "metadata": {},
     "output_type": "display_data"
    },
    {
     "ename": "AttributeError",
     "evalue": "'DataFrame' object has no attribute 't'",
     "output_type": "error",
     "traceback": [
      "\u001b[1;31m---------------------------------------------------------------------------\u001b[0m",
      "\u001b[1;31mAttributeError\u001b[0m                            Traceback (most recent call last)",
      "\u001b[1;32m~\\AppData\\Local\\Temp/ipykernel_17040/874370715.py\u001b[0m in \u001b[0;36m<module>\u001b[1;34m\u001b[0m\n\u001b[0;32m      3\u001b[0m \u001b[1;32mfrom\u001b[0m  \u001b[0mpandas\u001b[0m\u001b[1;33m.\u001b[0m\u001b[0mapi\u001b[0m\u001b[1;33m.\u001b[0m\u001b[0mtypes\u001b[0m \u001b[1;32mimport\u001b[0m \u001b[0mCategoricalDtype\u001b[0m\u001b[1;33m\u001b[0m\u001b[1;33m\u001b[0m\u001b[0m\n\u001b[0;32m      4\u001b[0m \u001b[0mt\u001b[0m\u001b[1;33m=\u001b[0m\u001b[0mpd\u001b[0m\u001b[1;33m.\u001b[0m\u001b[0mSeries\u001b[0m\u001b[1;33m(\u001b[0m\u001b[1;33m[\u001b[0m\u001b[1;34m's'\u001b[0m\u001b[1;33m,\u001b[0m\u001b[1;34m'f'\u001b[0m\u001b[1;33m,\u001b[0m\u001b[1;34m'g'\u001b[0m\u001b[1;33m,\u001b[0m\u001b[1;34m't'\u001b[0m\u001b[1;33m,\u001b[0m\u001b[1;34m'p'\u001b[0m\u001b[1;33m,\u001b[0m\u001b[1;34m'e'\u001b[0m\u001b[1;33m]\u001b[0m\u001b[1;33m,\u001b[0m\u001b[0mdtype\u001b[0m\u001b[1;33m=\u001b[0m \u001b[1;34m'category'\u001b[0m\u001b[1;33m)\u001b[0m\u001b[1;33m\u001b[0m\u001b[1;33m\u001b[0m\u001b[0m\n\u001b[1;32m----> 5\u001b[1;33m \u001b[0mtri\u001b[0m\u001b[1;33m=\u001b[0m\u001b[0mer\u001b[0m\u001b[1;33m.\u001b[0m\u001b[0mt\u001b[0m\u001b[1;33m.\u001b[0m\u001b[0mrename_categories\u001b[0m\u001b[1;33m(\u001b[0m\u001b[1;33m[\u001b[0m\u001b[1;36m1\u001b[0m\u001b[1;33m,\u001b[0m\u001b[1;36m2\u001b[0m\u001b[1;33m,\u001b[0m\u001b[1;36m3\u001b[0m\u001b[1;33m,\u001b[0m\u001b[1;36m4\u001b[0m\u001b[1;33m]\u001b[0m\u001b[1;33m)\u001b[0m\u001b[1;33m\u001b[0m\u001b[1;33m\u001b[0m\u001b[0m\n\u001b[0m\u001b[0;32m      6\u001b[0m \u001b[1;33m\u001b[0m\u001b[0m\n\u001b[0;32m      7\u001b[0m \u001b[1;33m\u001b[0m\u001b[0m\n",
      "\u001b[1;32mc:\\users\\pc\\appdata\\local\\programs\\python\\python38\\lib\\site-packages\\pandas\\core\\generic.py\u001b[0m in \u001b[0;36m__getattr__\u001b[1;34m(self, name)\u001b[0m\n\u001b[0;32m   5476\u001b[0m         ):\n\u001b[0;32m   5477\u001b[0m             \u001b[1;32mreturn\u001b[0m \u001b[0mself\u001b[0m\u001b[1;33m[\u001b[0m\u001b[0mname\u001b[0m\u001b[1;33m]\u001b[0m\u001b[1;33m\u001b[0m\u001b[1;33m\u001b[0m\u001b[0m\n\u001b[1;32m-> 5478\u001b[1;33m         \u001b[1;32mreturn\u001b[0m \u001b[0mobject\u001b[0m\u001b[1;33m.\u001b[0m\u001b[0m__getattribute__\u001b[0m\u001b[1;33m(\u001b[0m\u001b[0mself\u001b[0m\u001b[1;33m,\u001b[0m \u001b[0mname\u001b[0m\u001b[1;33m)\u001b[0m\u001b[1;33m\u001b[0m\u001b[1;33m\u001b[0m\u001b[0m\n\u001b[0m\u001b[0;32m   5479\u001b[0m \u001b[1;33m\u001b[0m\u001b[0m\n\u001b[0;32m   5480\u001b[0m     \u001b[1;32mdef\u001b[0m \u001b[0m__setattr__\u001b[0m\u001b[1;33m(\u001b[0m\u001b[0mself\u001b[0m\u001b[1;33m,\u001b[0m \u001b[0mname\u001b[0m\u001b[1;33m:\u001b[0m \u001b[0mstr\u001b[0m\u001b[1;33m,\u001b[0m \u001b[0mvalue\u001b[0m\u001b[1;33m)\u001b[0m \u001b[1;33m->\u001b[0m \u001b[1;32mNone\u001b[0m\u001b[1;33m:\u001b[0m\u001b[1;33m\u001b[0m\u001b[1;33m\u001b[0m\u001b[0m\n",
      "\u001b[1;31mAttributeError\u001b[0m: 'DataFrame' object has no attribute 't'"
     ]
    }
   ],
   "source": [
    "#Renaming categories:\n",
    "#it is done by assigning the new values to the series.categories property, using rename_categories\n",
    "from  pandas.api.types import CategoricalDtype\n",
    "t=pd.Series(['s','f','g','t','p','e'],dtype= 'category')\n",
    "tri=er.t.rename_categories([1,2,3,4])\n",
    "\n",
    "\n"
   ]
  },
  {
   "cell_type": "markdown",
   "id": "3197cf91",
   "metadata": {},
   "source": [
    "# Python Pandas Data Visualization"
   ]
  },
  {
   "cell_type": "code",
   "execution_count": 95,
   "id": "33f05bfb",
   "metadata": {},
   "outputs": [
    {
     "data": {
      "text/html": [
       "<div>\n",
       "<style scoped>\n",
       "    .dataframe tbody tr th:only-of-type {\n",
       "        vertical-align: middle;\n",
       "    }\n",
       "\n",
       "    .dataframe tbody tr th {\n",
       "        vertical-align: top;\n",
       "    }\n",
       "\n",
       "    .dataframe thead th {\n",
       "        text-align: right;\n",
       "    }\n",
       "</style>\n",
       "<table border=\"1\" class=\"dataframe\">\n",
       "  <thead>\n",
       "    <tr style=\"text-align: right;\">\n",
       "      <th></th>\n",
       "      <th>a1</th>\n",
       "      <th>a2</th>\n",
       "      <th>a3</th>\n",
       "      <th>a4</th>\n",
       "    </tr>\n",
       "  </thead>\n",
       "  <tbody>\n",
       "    <tr>\n",
       "      <th>0</th>\n",
       "      <td>0.752552</td>\n",
       "      <td>0.052785</td>\n",
       "      <td>0.057237</td>\n",
       "      <td>0.047666</td>\n",
       "    </tr>\n",
       "    <tr>\n",
       "      <th>1</th>\n",
       "      <td>0.550881</td>\n",
       "      <td>0.809027</td>\n",
       "      <td>0.853836</td>\n",
       "      <td>0.614709</td>\n",
       "    </tr>\n",
       "    <tr>\n",
       "      <th>2</th>\n",
       "      <td>0.158685</td>\n",
       "      <td>0.966382</td>\n",
       "      <td>0.318492</td>\n",
       "      <td>0.035719</td>\n",
       "    </tr>\n",
       "    <tr>\n",
       "      <th>3</th>\n",
       "      <td>0.120534</td>\n",
       "      <td>0.094361</td>\n",
       "      <td>0.019284</td>\n",
       "      <td>0.275357</td>\n",
       "    </tr>\n",
       "    <tr>\n",
       "      <th>4</th>\n",
       "      <td>0.062290</td>\n",
       "      <td>0.054193</td>\n",
       "      <td>0.187672</td>\n",
       "      <td>0.106625</td>\n",
       "    </tr>\n",
       "    <tr>\n",
       "      <th>5</th>\n",
       "      <td>0.305652</td>\n",
       "      <td>0.404292</td>\n",
       "      <td>0.303917</td>\n",
       "      <td>0.871080</td>\n",
       "    </tr>\n",
       "  </tbody>\n",
       "</table>\n",
       "</div>"
      ],
      "text/plain": [
       "         a1        a2        a3        a4\n",
       "0  0.752552  0.052785  0.057237  0.047666\n",
       "1  0.550881  0.809027  0.853836  0.614709\n",
       "2  0.158685  0.966382  0.318492  0.035719\n",
       "3  0.120534  0.094361  0.019284  0.275357\n",
       "4  0.062290  0.054193  0.187672  0.106625\n",
       "5  0.305652  0.404292  0.303917  0.871080"
      ]
     },
     "execution_count": 95,
     "metadata": {},
     "output_type": "execute_result"
    }
   ],
   "source": [
    "#it is an essential part in data analysis as it provides the summary of the data. It helps us to understand the underlying structure in the dataset.\n",
    "#it is not an library for visulaization but it can display basic plots in exploratory data analysis.(EDA).It is practical and useful.\n",
    "# to visualize we data and we will create random dataset.\n",
    "import pandas as pd\n",
    "import numpy as np\n",
    "s=pd.DataFrame(np.random.rand(6,4),dtype=float,columns=['a1','a2','a3','a4'])\n",
    "s\n"
   ]
  },
  {
   "cell_type": "code",
   "execution_count": 102,
   "id": "09fa4d7a",
   "metadata": {},
   "outputs": [
    {
     "data": {
      "text/plain": [
       "<AxesSubplot:>"
      ]
     },
     "execution_count": 102,
     "metadata": {},
     "output_type": "execute_result"
    },
    {
     "data": {
      "image/png": "[encoded data removed]",
      "text/plain": [
       "<Figure size 432x288 with 1 Axes>"
      ]
     },
     "metadata": {
      "needs_background": "light"
     },
     "output_type": "display_data"
    }
   ],
   "source": [
    "s.plot()"
   ]
  },
  {
   "cell_type": "code",
   "execution_count": 104,
   "id": "5303dbae",
   "metadata": {},
   "outputs": [
    {
     "data": {
      "text/plain": [
       "<AxesSubplot:xlabel='a1'>"
      ]
     },
     "execution_count": 104,
     "metadata": {},
     "output_type": "execute_result"
    },
    {
     "data": {
      "image/png": "[encoded data removed]",
      "text/plain": [
       "<Figure size 432x288 with 1 Axes>"
      ]
     },
     "metadata": {
      "needs_background": "light"
     },
     "output_type": "display_data"
    }
   ],
   "source": [
    "#s.plot(x='col1',y='col2')\n",
    "s.plot(x='a1',y='a2')"
   ]
  },
  {
   "cell_type": "code",
   "execution_count": 106,
   "id": "cb90a54e",
   "metadata": {},
   "outputs": [
    {
     "data": {
      "text/plain": [
       "array([<AxesSubplot:>, <AxesSubplot:>, <AxesSubplot:>, <AxesSubplot:>],\n",
       "      dtype=object)"
      ]
     },
     "execution_count": 106,
     "metadata": {},
     "output_type": "execute_result"
    },
    {
     "data": {
      "image/png": "[encoded data removed]",
      "text/plain": [
       "<Figure size 504x504 with 4 Axes>"
      ]
     },
     "metadata": {
      "needs_background": "light"
     },
     "output_type": "display_data"
    }
   ],
   "source": [
    "s.plot(subplots=True, figsize=(7,7))"
   ]
  },
  {
   "cell_type": "code",
   "execution_count": 107,
   "id": "b0158936",
   "metadata": {},
   "outputs": [
    {
     "data": {
      "text/plain": [
       "<AxesSubplot:>"
      ]
     },
     "execution_count": 107,
     "metadata": {},
     "output_type": "execute_result"
    },
    {
     "data": {
      "image/png": "[encoded data removed]",
      "text/plain": [
       "<Figure size 432x288 with 1 Axes>"
      ]
     },
     "metadata": {
      "needs_background": "light"
     },
     "output_type": "display_data"
    }
   ],
   "source": [
    "#Barplot: dataframe.plot.bar()\n",
    "s.plot.bar()"
   ]
  },
  {
   "cell_type": "code",
   "execution_count": 109,
   "id": "378d9204",
   "metadata": {},
   "outputs": [
    {
     "data": {
      "text/plain": [
       "<AxesSubplot:>"
      ]
     },
     "execution_count": 109,
     "metadata": {},
     "output_type": "execute_result"
    },
    {
     "data": {
      "image/png": "[encoded data removed]",
      "text/plain": [
       "<Figure size 432x288 with 1 Axes>"
      ]
     },
     "metadata": {
      "needs_background": "light"
     },
     "output_type": "display_data"
    }
   ],
   "source": [
    "s.plot(kind='bar')"
   ]
  },
  {
   "cell_type": "code",
   "execution_count": 110,
   "id": "e244afd2",
   "metadata": {},
   "outputs": [
    {
     "data": {
      "text/plain": [
       "<AxesSubplot:>"
      ]
     },
     "execution_count": 110,
     "metadata": {},
     "output_type": "execute_result"
    },
    {
     "data": {
      "image/png": "[encoded data removed]",
      "text/plain": [
       "<Figure size 432x288 with 1 Axes>"
      ]
     },
     "metadata": {
      "needs_background": "light"
     },
     "output_type": "display_data"
    }
   ],
   "source": [
    "#df.plot.bar(stacked=True)\n",
    "s.plot.bar(stacked='bar')"
   ]
  },
  {
   "cell_type": "code",
   "execution_count": 111,
   "id": "9604df01",
   "metadata": {},
   "outputs": [
    {
     "data": {
      "text/plain": [
       "<AxesSubplot:ylabel='Frequency'>"
      ]
     },
     "execution_count": 111,
     "metadata": {},
     "output_type": "execute_result"
    },
    {
     "data": {
      "image/png": "[encoded data removed]",
      "text/plain": [
       "<Figure size 432x288 with 1 Axes>"
      ]
     },
     "metadata": {
      "needs_background": "light"
     },
     "output_type": "display_data"
    }
   ],
   "source": [
    "#dataframe.plot.hist()\n",
    "s.plot.hist()"
   ]
  },
  {
   "cell_type": "code",
   "execution_count": 114,
   "id": "feac9eb7",
   "metadata": {},
   "outputs": [
    {
     "data": {
      "text/plain": [
       "array([[<AxesSubplot:title={'center':'a1'}>,\n",
       "        <AxesSubplot:title={'center':'a2'}>],\n",
       "       [<AxesSubplot:title={'center':'a3'}>,\n",
       "        <AxesSubplot:title={'center':'a4'}>]], dtype=object)"
      ]
     },
     "execution_count": 114,
     "metadata": {},
     "output_type": "execute_result"
    },
    {
     "data": {
      "image/png": "[encoded data removed]",
      "text/plain": [
       "<Figure size 432x288 with 4 Axes>"
      ]
     },
     "metadata": {
      "needs_background": "light"
     },
     "output_type": "display_data"
    }
   ],
   "source": [
    "#dataframe.diff.hist()\n",
    "s.diff().hist()"
   ]
  },
  {
   "cell_type": "code",
   "execution_count": 115,
   "id": "68331b06",
   "metadata": {},
   "outputs": [
    {
     "data": {
      "text/plain": [
       "<AxesSubplot:>"
      ]
     },
     "execution_count": 115,
     "metadata": {},
     "output_type": "execute_result"
    },
    {
     "data": {
      "image/png": "[encoded data removed]",
      "text/plain": [
       "<Figure size 432x288 with 1 Axes>"
      ]
     },
     "metadata": {
      "needs_background": "light"
     },
     "output_type": "display_data"
    }
   ],
   "source": [
    "#dataframe.plot.box()\n",
    "#dataframe.boxplot()\n",
    "s.plot.box()"
   ]
  },
  {
   "cell_type": "code",
   "execution_count": 116,
   "id": "b76d3cae",
   "metadata": {},
   "outputs": [
    {
     "data": {
      "text/plain": [
       "<AxesSubplot:>"
      ]
     },
     "execution_count": 116,
     "metadata": {},
     "output_type": "execute_result"
    },
    {
     "data": {
      "image/png": "[encoded data removed]",
      "text/plain": [
       "<Figure size 432x288 with 1 Axes>"
      ]
     },
     "metadata": {
      "needs_background": "light"
     },
     "output_type": "display_data"
    }
   ],
   "source": [
    "#Dataframe.plot.area()\n",
    "s.plot.area()"
   ]
  },
  {
   "cell_type": "code",
   "execution_count": 117,
   "id": "3924270a",
   "metadata": {},
   "outputs": [
    {
     "data": {
      "text/plain": [
       "<AxesSubplot:>"
      ]
     },
     "execution_count": 117,
     "metadata": {},
     "output_type": "execute_result"
    },
    {
     "data": {
      "image/png": "[encoded data removed]",
      "text/plain": [
       "<Figure size 432x288 with 1 Axes>"
      ]
     },
     "metadata": {
      "needs_background": "light"
     },
     "output_type": "display_data"
    }
   ],
   "source": [
    "s.plot.area(stacked=False)"
   ]
  },
  {
   "cell_type": "code",
   "execution_count": 120,
   "id": "2fda7515",
   "metadata": {},
   "outputs": [
    {
     "data": {
      "text/plain": [
       "<AxesSubplot:xlabel='a2', ylabel='a3'>"
      ]
     },
     "execution_count": 120,
     "metadata": {},
     "output_type": "execute_result"
    },
    {
     "data": {
      "image/png": "[encoded data removed]",
      "text/plain": [
       "<Figure size 432x288 with 1 Axes>"
      ]
     },
     "metadata": {
      "needs_background": "light"
     },
     "output_type": "display_data"
    }
   ],
   "source": [
    "#dataframe.plot.scatter()\n",
    "s.plot.scatter(x='a2',y='a3')"
   ]
  },
  {
   "cell_type": "code",
   "execution_count": 121,
   "id": "c009edb3",
   "metadata": {},
   "outputs": [
    {
     "data": {
      "text/plain": [
       "<AxesSubplot:xlabel='a1', ylabel='a3'>"
      ]
     },
     "execution_count": 121,
     "metadata": {},
     "output_type": "execute_result"
    },
    {
     "data": {
      "image/png": "[encoded data removed]",
      "text/plain": [
       "<Figure size 432x288 with 2 Axes>"
      ]
     },
     "metadata": {
      "needs_background": "light"
     },
     "output_type": "display_data"
    }
   ],
   "source": [
    "s.plot.scatter(x='a1',y='a3', s=100,c='a2')"
   ]
  },
  {
   "cell_type": "code",
   "execution_count": 123,
   "id": "faa9bddd",
   "metadata": {},
   "outputs": [
    {
     "data": {
      "text/plain": [
       "<AxesSubplot:ylabel='a3'>"
      ]
     },
     "execution_count": 123,
     "metadata": {},
     "output_type": "execute_result"
    },
    {
     "data": {
      "image/png": "[encoded data removed]",
      "text/plain": [
       "<Figure size 432x288 with 1 Axes>"
      ]
     },
     "metadata": {},
     "output_type": "display_data"
    }
   ],
   "source": [
    "#pie char:- dataframe.plot.pie() or Series.plot.pie()\n",
    "s.plot.pie(y='a3')"
   ]
  },
  {
   "cell_type": "code",
   "execution_count": 126,
   "id": "b97ecd50",
   "metadata": {},
   "outputs": [
    {
     "data": {
      "text/plain": [
       "0    0.266024\n",
       "1    0.435472\n",
       "2    0.137055\n",
       "3    0.528468\n",
       "4    0.361978\n",
       "5    0.236209\n",
       "dtype: float64"
      ]
     },
     "execution_count": 126,
     "metadata": {},
     "output_type": "execute_result"
    }
   ],
   "source": [
    "#series.plot.pie()\n",
    "q=pd.Series(np.random.rand(6))\n",
    "q"
   ]
  },
  {
   "cell_type": "code",
   "execution_count": 127,
   "id": "6d1e2e8c",
   "metadata": {},
   "outputs": [
    {
     "name": "stdout",
     "output_type": "stream",
     "text": [
      "AxesSubplot(0.260833,0.125;0.503333x0.755)\n"
     ]
    },
    {
     "data": {
      "image/png": "[encoded data removed]",
      "text/plain": [
       "<Figure size 432x288 with 1 Axes>"
      ]
     },
     "metadata": {},
     "output_type": "display_data"
    }
   ],
   "source": [
    "print(q.plot.pie())"
   ]
  },
  {
   "cell_type": "code",
   "execution_count": 128,
   "id": "ba37e9f1",
   "metadata": {},
   "outputs": [
    {
     "data": {
      "text/html": [
       "<div>\n",
       "<style scoped>\n",
       "    .dataframe tbody tr th:only-of-type {\n",
       "        vertical-align: middle;\n",
       "    }\n",
       "\n",
       "    .dataframe tbody tr th {\n",
       "        vertical-align: top;\n",
       "    }\n",
       "\n",
       "    .dataframe thead th {\n",
       "        text-align: right;\n",
       "    }\n",
       "</style>\n",
       "<table border=\"1\" class=\"dataframe\">\n",
       "  <thead>\n",
       "    <tr style=\"text-align: right;\">\n",
       "      <th></th>\n",
       "      <th>f1</th>\n",
       "      <th>f2</th>\n",
       "      <th>f3</th>\n",
       "    </tr>\n",
       "  </thead>\n",
       "  <tbody>\n",
       "    <tr>\n",
       "      <th>education</th>\n",
       "      <td>0.941493</td>\n",
       "      <td>0.284319</td>\n",
       "      <td>0.885119</td>\n",
       "    </tr>\n",
       "    <tr>\n",
       "      <th>sports</th>\n",
       "      <td>0.984795</td>\n",
       "      <td>0.056003</td>\n",
       "      <td>0.275725</td>\n",
       "    </tr>\n",
       "    <tr>\n",
       "      <th>carpenter</th>\n",
       "      <td>0.515222</td>\n",
       "      <td>0.051392</td>\n",
       "      <td>0.697757</td>\n",
       "    </tr>\n",
       "    <tr>\n",
       "      <th>business</th>\n",
       "      <td>0.738916</td>\n",
       "      <td>0.476523</td>\n",
       "      <td>0.236277</td>\n",
       "    </tr>\n",
       "    <tr>\n",
       "      <th>caption_ship</th>\n",
       "      <td>0.601140</td>\n",
       "      <td>0.626207</td>\n",
       "      <td>0.246823</td>\n",
       "    </tr>\n",
       "    <tr>\n",
       "      <th>fishing</th>\n",
       "      <td>0.117500</td>\n",
       "      <td>0.726923</td>\n",
       "      <td>0.287899</td>\n",
       "    </tr>\n",
       "  </tbody>\n",
       "</table>\n",
       "</div>"
      ],
      "text/plain": [
       "                    f1        f2        f3\n",
       "education     0.941493  0.284319  0.885119\n",
       "sports        0.984795  0.056003  0.275725\n",
       "carpenter     0.515222  0.051392  0.697757\n",
       "business      0.738916  0.476523  0.236277\n",
       "caption_ship  0.601140  0.626207  0.246823\n",
       "fishing       0.117500  0.726923  0.287899"
      ]
     },
     "execution_count": 128,
     "metadata": {},
     "output_type": "execute_result"
    }
   ],
   "source": [
    "#Creating a dataframe\n",
    "gh=pd.DataFrame(np.random.rand(6,3),index=['education','sports','carpenter','business','caption_ship','fishing'] ,columns=['f1','f2','f3'])\n",
    "gh"
   ]
  },
  {
   "cell_type": "code",
   "execution_count": 130,
   "id": "6338341d",
   "metadata": {},
   "outputs": [
    {
     "data": {
      "text/plain": [
       "array([<AxesSubplot:ylabel='f1'>, <AxesSubplot:ylabel='f2'>,\n",
       "       <AxesSubplot:ylabel='f3'>], dtype=object)"
      ]
     },
     "execution_count": 130,
     "metadata": {},
     "output_type": "execute_result"
    },
    {
     "data": {
      "image/png": "[encoded data removed]",
      "text/plain": [
       "<Figure size 1080x1080 with 3 Axes>"
      ]
     },
     "metadata": {},
     "output_type": "display_data"
    }
   ],
   "source": [
    "#lets' generate pie chart of each column in dataframe\n",
    "gh.plot.pie(subplots= True, figsize=(15,15))"
   ]
  },
  {
   "cell_type": "code",
   "execution_count": null,
   "id": "3280451e",
   "metadata": {},
   "outputs": [],
   "source": []
  }
 ],
 "metadata": {
  "kernelspec": {
   "display_name": "Python 3 (ipykernel)",
   "language": "python",
   "name": "python3"
  },
  "language_info": {
   "codemirror_mode": {
    "name": "ipython",
    "version": 3
   },
   "file_extension": ".py",
   "mimetype": "text/x-python",
   "name": "python",
   "nbconvert_exporter": "python",
   "pygments_lexer": "ipython3",
   "version": "3.8.5"
  }
 },
 "nbformat": 4,
 "nbformat_minor": 5
}
