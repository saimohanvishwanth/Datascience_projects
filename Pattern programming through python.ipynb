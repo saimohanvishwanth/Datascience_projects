{
 "cells": [
  {
   "cell_type": "code",
   "execution_count": 98,
   "id": "9dec51de",
   "metadata": {},
   "outputs": [
    {
     "name": "stdout",
     "output_type": "stream",
     "text": [
      "Enter th enumber of rows7\n",
      " *  \n",
      " *   *  \n",
      " *   *   *  \n",
      " *   *   *   *  \n",
      " *   *   *   *   *  \n",
      " *   *   *   *   *   *  \n",
      " *   *   *   *   *   *   *  \n"
     ]
    }
   ],
   "source": [
    "#Wrtite a Python program to print half pyramid using *\n",
    "row = int(input('Enter th enumber of rows'))\n",
    "for i in range(row):#outer for loop, range(start=0, stop=4, step=1)\n",
    "    for j in range(i+1):#inner for loop start=0, stop=2 , step=1\n",
    "        print(\" * \", end = \" \")\n",
    "    print()"
   ]
  },
  {
   "cell_type": "code",
   "execution_count": 99,
   "id": "d13ab1be",
   "metadata": {},
   "outputs": [
    {
     "name": "stdout",
     "output_type": "stream",
     "text": [
      "Enter the number of rows8\n",
      "1 \n",
      "1 2 \n",
      "1 2 3 \n",
      "1 2 3 4 \n",
      "1 2 3 4 5 \n",
      "1 2 3 4 5 6 \n",
      "1 2 3 4 5 6 7 \n",
      "1 2 3 4 5 6 7 8 \n"
     ]
    }
   ],
   "source": [
    "#write a python program ro print half pyramid using number\n",
    "row =int(input('Enter the number of rows'))# row =4\n",
    "for i  in range(row):# outer loop start=0 stop=4 step=1 i i \n",
    "    for j in range(i+1):# inner for loop start=0 stop=1 step=1 j o j<stop 0<1 True\n",
    "        print(j+1, end= ' ')# 1 j=j+step 0+1 1 j=1\n",
    "    print()# to go the new line"
   ]
  },
  {
   "cell_type": "code",
   "execution_count": 100,
   "id": "bf9c5f26",
   "metadata": {},
   "outputs": [
    {
     "name": "stdout",
     "output_type": "stream",
     "text": [
      "Enter the number of rows6\n",
      "* * * * * * \n",
      "* * * * * \n",
      "* * * * \n",
      "* * * \n",
      "* * \n",
      "* \n"
     ]
    }
   ],
   "source": [
    "#python program to print half pyramid using *\n",
    " \n",
    "row= int(input('Enter the number of rows'))# row =3\n",
    "for i in range(row,0,-1):# start=3 stop =0 step=-1, i=3 i>stop 3>0\n",
    "    for j in range(i): # inner loop start=0 , stop =3, step=1 j=0 j<stop 0<3 True\n",
    "        print(\"*\", end= \" \")# * j=j+step\n",
    "    print()"
   ]
  },
  {
   "cell_type": "code",
   "execution_count": 101,
   "id": "3b657b93",
   "metadata": {},
   "outputs": [
    {
     "name": "stdout",
     "output_type": "stream",
     "text": [
      "Enter the number of rows6\n",
      "1 2 3 4 5 6 \n",
      "1 2 3 4 5 \n",
      "1 2 3 4 \n",
      "1 2 3 \n",
      "1 2 \n",
      "1 \n"
     ]
    }
   ],
   "source": [
    "#python program to print inverted half pyramid using numbers\n",
    "row = int(input('Enter the number of rows'))# row =4 \n",
    "for i in range(row, 0 ,-1):# start = 3 . step=0. step=-1 i=3, i=3 i>stop 3>0 true\n",
    "    for j in range(1, i+1):# start=1 stop=4 step=1 , j 1 then j<stop 1<4 True\n",
    "        print(j, end=\" \") #1 j=j+step\n",
    "    print()"
   ]
  },
  {
   "cell_type": "code",
   "execution_count": 103,
   "id": "c7649adb",
   "metadata": {},
   "outputs": [
    {
     "name": "stdout",
     "output_type": "stream",
     "text": [
      "Enter the number9\n",
      "9 is a neon number\n"
     ]
    }
   ],
   "source": [
    "#python program to verify given number is neon number or not\n",
    "\n",
    "# A neon number is a snumber where the sum of the digits of sqaure of the number is equal to the number.\n",
    "\n",
    "\"\"\"\n",
    "1.Compute the square of the original number\n",
    "2. find the individual digits in the square\n",
    "3. compute the sum of individal digits in the square\n",
    "4. computer the sum with number\n",
    "5. if both are equal , print neon number else :   print not a neon number\n",
    "ex number = 9\n",
    "   square = 81\n",
    "    8\n",
    "    1\n",
    "    sum=8+1 =9\n",
    "    sum== number neon number\n",
    "    sum =8\n",
    "    square =64\n",
    "    6\n",
    "    4\n",
    "    sum=6+4 = 10 sp, not a neon number\n",
    "    \n",
    "\"\"\"\n",
    "number = int(input('Enter the number'))# number =9\n",
    "square = number**2 #number *number , square = 81\n",
    "sum=0 # sum 0\n",
    "while(square!=0):#sqaure !=0  81!=0 True\n",
    "    rem=square % 10 # rem=sqaure%10 , 81%10  1 rem 1\n",
    "    sum= sum+rem  # sum=0 +1 =1\n",
    "    square=square//10  #sqaure=81//10 =8\n",
    "if(sum== number): # 81 *81 =6561 , 6+5+6+1=18!=81\n",
    "    print(number, \"is a neon number\")\n",
    "else:\n",
    "    print(number, \"is not a neon number\")"
   ]
  },
  {
   "cell_type": "code",
   "execution_count": null,
   "id": "143ff69d",
   "metadata": {},
   "outputs": [],
   "source": [
    "#Python program to print half pyramid using alphabets\n",
    "\n",
    "row= int(input('Enter the number of rows'))\n",
    "#nested loop sequence\n",
    "value= 65 # ASCI (American Standard code for information interface), so each and every letter have ASCII  value \n",
    "# if A =65 B= 66 C 67 D 68 a 97 b 98 c 99 d 100\n",
    "for i in range(row): # start=0  stop=3  step=1 i=0 i<stop, 0<3 True\n",
    "    for j in range(i+1):# start =0  stop=1 step=1 j=0 j<stop 0<1 True\n",
    "        print(chr(value), end =\" \") # A \n",
    "    value = value +1 # value = 65\n",
    "    print()\n",
    "        "
   ]
  },
  {
   "cell_type": "code",
   "execution_count": null,
   "id": "78bac5fa",
   "metadata": {},
   "outputs": [],
   "source": [
    "#funcions is a group of related statements that performs a specific task\n",
    "\"\"\"\n",
    "it helps to break our program in to smaller and modulare chunks\n",
    "reusability\n",
    "readability\n",
    "easy to debug\n",
    "1) pre defined functions\n",
    "2) user defined functions\n",
    "Steps in using user defined functions\n",
    "function definition and fucntion calling\n",
    "def function name\n",
    " statement 1\n",
    " statement 2\n",
    " ....\n",
    " return\n",
    "\n",
    "\"\"\"\n",
    "def sum(a,b):\n",
    "    c=a+b\n",
    "    return c\n",
    "a= input('Enter the number')\n",
    "b= input(\"Enter the  number\")\n",
    "d=sum(a,b)\n",
    "print"
   ]
  },
  {
   "cell_type": "code",
   "execution_count": null,
   "id": "078713b8",
   "metadata": {},
   "outputs": [],
   "source": [
    "#types of Arguments\n",
    "'''\n",
    "1) Required arguments- no of arguments in the function definition declaration should be same and sequence should be same\n",
    "def display(a,b)\n",
    "print('a value is')\n",
    "print('b value is ')\n",
    "a= int(input('EEnter the number'))\n",
    "b= int(input('EEnter the number'))\n",
    "display(a,b)\n",
    "display(20,70)\n",
    "\n",
    "2)keyword arguments:\n",
    "def display(a,b)\n",
    "print('a value is')\n",
    "print('b value is ')\n",
    "display(b=20, a= 40)\n",
    "\n",
    "3) default arguments: here the no of parameters in fuctions definition and calling may not be same\n",
    "def display(a,b=20)\n",
    "print(a)\n",
    "print(b)\n",
    "print(10,40)\n",
    "print(10)\n",
    "\n",
    "4)variable length arguments:\n",
    "def display(kcourses):\n",
    "for i in kcourses:\n",
    "print(i , end = ' ')\n",
    "display(\"c\",'java',\"c++\",\"python\")\n",
    "\n",
    " \n",
    "'''"
   ]
  },
  {
   "cell_type": "code",
   "execution_count": null,
   "id": "0978acc2",
   "metadata": {},
   "outputs": [],
   "source": [
    "def display(a,b):\n",
    "    print('A value is ',a)\n",
    "    print(\"b value is\",b)\n",
    "a=int(input('Enter the a value'))\n",
    "b=int(input('Enter the b value'))\n",
    "display(b,a)"
   ]
  },
  {
   "cell_type": "code",
   "execution_count": null,
   "id": "70159746",
   "metadata": {},
   "outputs": [],
   "source": [
    "def display(a,b):\n",
    "    print('a value is', a)\n",
    "    print('b value is', b)\n",
    "display(b=50,a=90)"
   ]
  },
  {
   "cell_type": "code",
   "execution_count": null,
   "id": "40e321a3",
   "metadata": {},
   "outputs": [],
   "source": [
    "def display(a,b=40):\n",
    "    print('a value is', a)\n",
    "    print('b value is', b)\n",
    "display(10,60)"
   ]
  },
  {
   "cell_type": "code",
   "execution_count": null,
   "id": "fbef6e13",
   "metadata": {},
   "outputs": [],
   "source": [
    "#variable length arguments:\n",
    "def display(*courses):\n",
    "    for i in courses:\n",
    "        print(i, end= \" \")\n",
    "display(\"c\",\"python\",\"java\")"
   ]
  },
  {
   "cell_type": "code",
   "execution_count": null,
   "id": "55b5c973",
   "metadata": {},
   "outputs": [],
   "source": [
    "# passing the list as sparameter to the function:\n",
    "\n",
    "def count(lst):\n",
    "    even=0\n",
    "    odd=0\n",
    "    for i in lst:\n",
    "        if(i%2==0):\n",
    "            even =even+1\n",
    "        else:\n",
    "            odd=odd+1\n",
    "    return even, odd\n",
    "lst = [1,2,3,44,56,78,90,34,23,12]\n",
    "even, odd = count(lst)\n",
    "print(\"the even numbers count is\", even)\n",
    "print(\"the odd numbers count is \", odd)"
   ]
  },
  {
   "cell_type": "code",
   "execution_count": null,
   "id": "090dd937",
   "metadata": {},
   "outputs": [],
   "source": [
    "# return a list as a parameter\n",
    "def display(lst):\n",
    "    evenlist=[]\n",
    "    oddlist=[]\n",
    "    for i in lst:\n",
    "        if(i%2==0):\n",
    "            evenlist.append(i)\n",
    "        else:\n",
    "            oddlist.append(i)\n",
    "    return evenlist, oddlist\n",
    "lst=[1,2,34,456,78,90,23,64,745,76]\n",
    "evenlist,oddlist=display(lst)\n",
    "print(evenlist)\n",
    "print(oddlist)\n"
   ]
  },
  {
   "cell_type": "code",
   "execution_count": null,
   "id": "7d5565a3",
   "metadata": {},
   "outputs": [],
   "source": [
    "#Recursion \n",
    "# a function calls itself directly or indirectly is called recursion\n",
    "#For a complex problem we can able to use Recursion \n",
    "# sequence creation is simple through recursion than utilizing any nested iteration\n",
    "\n",
    "'''\n",
    "def recursion():\n",
    "    st1\n",
    "    st2\n",
    "    recursion()\n",
    "'''\n",
    "# factorial of a number using recursion\n",
    "def factorial(n):\n",
    "    if(n==0 or n==1):\n",
    "        return 1\n",
    "    else:\n",
    "        return(n * factorial(n-1))\n",
    "n= int(input('Enter a positive number'))\n",
    "result = factorial(n)\n",
    "print(\"the factorial of a given number is \" , result)"
   ]
  },
  {
   "cell_type": "code",
   "execution_count": null,
   "id": "13b316d1",
   "metadata": {},
   "outputs": [],
   "source": [
    "#fibanocci series\n",
    "#the next element is the sum of the present element and past element\n",
    "#program\n",
    "def fib(i):# start=0 stop=5 step=1\n",
    "    if(i==0):\n",
    "        return 0\n",
    "    elif(i==1):\n",
    "        return 1\n",
    "    else:\n",
    "        return(fib(i-1)+fib(i-2))\n",
    "n=int(input('Enter the n value'))\n",
    "for j in range(n):\n",
    "    print(fib(j))"
   ]
  },
  {
   "cell_type": "code",
   "execution_count": null,
   "id": "3279a119",
   "metadata": {},
   "outputs": [],
   "source": [
    "#Global variable vs local variable\n",
    "a=16# global variable\n",
    "def display():\n",
    "    a=90\n",
    "    print('a value inside the function is',a)#-output 6\n",
    "    c=globals()['a']\n",
    "    globals()['a'] =380\n",
    "    display() \n",
    "print(\"a value outside the function is\",a )"
   ]
  },
  {
   "cell_type": "code",
   "execution_count": null,
   "id": "1e627c92",
   "metadata": {},
   "outputs": [],
   "source": [
    "# finding out prime number\n",
    "n= int(input('Enter a value'))\n",
    "for i in range(2, n+1):# start stop step\n",
    "    for j in range(2,i):\n",
    "        if(i%j==0)\n",
    "        break\n",
    "else:\n",
    "    print(i)"
   ]
  },
  {
   "cell_type": "code",
   "execution_count": null,
   "id": "96fb3c00",
   "metadata": {},
   "outputs": [],
   "source": [
    "n= int(input('Enter a value'))\n",
    "for i in range(2, n+1):\n",
    "    for j in range(2,(i//2)+1):\n",
    "        if(i%j==0):\n",
    "            break\n",
    "    else:\n",
    "            print(i) "
   ]
  },
  {
   "cell_type": "code",
   "execution_count": null,
   "id": "d4af5060",
   "metadata": {},
   "outputs": [],
   "source": [
    "#Anonymous functions or LAMBDA functions\n",
    "'''\n",
    "1.lambda function doesnot use def keyword\n",
    "2. lambda keyword\n",
    "it returns an expressions\n",
    "single lin efunctions\n",
    "any number of arguments one can pass\n",
    "any nuumber of arguments \n",
    "so,\n",
    "lambda arguments:expression\n",
    "\n",
    "'''\n",
    "y=lambda a,b :a+b\n",
    "g=lambda e,f :e*f\n",
    "sum =y(2,3)\n",
    "mul =g(3,4)\n",
    "sub = y(5,1)\n",
    "print(sum)\n",
    "print(mul)"
   ]
  },
  {
   "cell_type": "code",
   "execution_count": null,
   "id": "abb0db1e",
   "metadata": {},
   "outputs": [],
   "source": [
    "#map, filter and reduce\n",
    "'''\n",
    "filter: useful for sum of the elements\n",
    "map: list of operations\n",
    "reduce: compute the elements\n",
    "'''\n",
    "from functools import reduce\n",
    "num=[2,3,4,5,25,6,7,8,99,23]\n",
    "#evens= list(filter('functions','list of elements')) when we want to convert the sequence in to list .So, we use out side the bracket.\n",
    "evens=list(filter(lambda n:n%2==0,num))\n",
    "print(evens)#[2,4,6,8]\n",
    "map1= list(map(lambda n:n*2, evens))\n",
    "print(map1)#[4,8,12,16]\n",
    "reduce1=reduce(lambda a,b:a+b, map1)\n",
    "print(reduce1)#40\n",
    "\n",
    "# or\n",
    "def iseven(n):\n",
    "    return n%2==0\n",
    "nums=[1,2,34,5,6,7,8,9,12]\n",
    "evens=list(filter(iseven, nums))\n",
    "print(evens)\n",
    "map1=list(map(lambda n:n*2, evens))\n",
    "print(map1)\n",
    "reduce1 = reduce(lambda a,b:a+b, map1)\n",
    "print(reduce1)"
   ]
  },
  {
   "cell_type": "code",
   "execution_count": null,
   "id": "09430c0a",
   "metadata": {},
   "outputs": [],
   "source": [
    "#User defined modules\n",
    "'''\n",
    "from funcitons imoprt reduce'''\n",
    "def sum(a,b):# function definition\n",
    "    print('the sum is {}', a+b)\n",
    "sum(45,67)"
   ]
  },
  {
   "cell_type": "code",
   "execution_count": null,
   "id": "b55e2452",
   "metadata": {},
   "outputs": [],
   "source": [
    "# here in the separate pt txt file i have given definitions\n",
    "import pt\n",
    "result =pt.sum(59,34)\n",
    "print(result)"
   ]
  },
  {
   "cell_type": "code",
   "execution_count": null,
   "id": "42a08741",
   "metadata": {},
   "outputs": [],
   "source": [
    "#How to pass a function as an argument to another function\n",
    "\n",
    "def div(a,b):\n",
    "    return a//b\n",
    "def operate(func,a,b):\n",
    "    print(\"the resultant is\")\n",
    "    result =func(a,b) #div(a,b) div(15,5) result =3\n",
    "    print('The division is', result)\n",
    "operate(div, 15,5)# operate function calling\n",
    "    \n",
    "    \n"
   ]
  },
  {
   "cell_type": "code",
   "execution_count": null,
   "id": "5641cabc",
   "metadata": {},
   "outputs": [],
   "source": [
    "def inc(x):\n",
    "    return x+2\n",
    "def opam(inc, x): #inc, x=15\n",
    "    result= inc(x) #inc(15) res=1\n",
    "print('the final result is ', result)\n",
    "opam(inc , 15)\n",
    "    "
   ]
  },
  {
   "cell_type": "code",
   "execution_count": null,
   "id": "b3f30ab1",
   "metadata": {},
   "outputs": [],
   "source": [
    "#how to return a function as a value\n",
    "\n",
    "def operate():\n",
    "    print('yo are alright')\n",
    "    def execute():\n",
    "        print('lke')\n",
    "        print('good one')\n",
    "    return execute\n",
    "a=operate()\n",
    "a()"
   ]
  },
  {
   "cell_type": "code",
   "execution_count": null,
   "id": "8f66a807",
   "metadata": {},
   "outputs": [],
   "source": [
    "# how to define a function in another function\n",
    "def operate():# outer function\n",
    "    print('we just called you')\n",
    "    def exceute():# inner function\n",
    "        print('where are you')\n",
    "        print('where have u been')\n",
    "    exceute()#inner function calling\n",
    "operate()# outer function calling"
   ]
  },
  {
   "cell_type": "code",
   "execution_count": null,
   "id": "0efa0565",
   "metadata": {},
   "outputs": [],
   "source": [
    "# decorators in python\n",
    "'''\n",
    "A python decoration is a function that takes a function, adds some functionality to it and returns the original function\n",
    "\n",
    "\n",
    "'''\n",
    "def display():\n",
    "    print('Good morning')\n",
    "    print('did you had tea')\n",
    "def display_info(func):\n",
    "    def add_display():\n",
    "        print('had your shower')\n",
    "        func()\n",
    "        print('had you breakfast')\n",
    "    return add_display\n",
    "display()\n",
    "\n",
    "a = display_info(display)\n",
    "a()\n",
    "\n"
   ]
  },
  {
   "cell_type": "code",
   "execution_count": null,
   "id": "03d324a8",
   "metadata": {},
   "outputs": [],
   "source": [
    "#it's another way of coding where we can use decorators, where we adds much functionality\n",
    "def display_info(func):# professional way of coding\n",
    "    def add_display():\n",
    "        print('like ')\n",
    "        func()\n",
    "        print('subscriber')\n",
    "    return add_display\n",
    "@display_info\n",
    "def display():\n",
    "    print('good morning')\n",
    "    print('welcome to pt')\n",
    "display()"
   ]
  },
  {
   "cell_type": "code",
   "execution_count": null,
   "id": "98ee4a82",
   "metadata": {},
   "outputs": [],
   "source": [
    "#decorators with parameters\n",
    "'''\n",
    "def div(a,b):\n",
    "    return a//b\n",
    "\n",
    "def smart_div(func):\n",
    "    def inner(a,b):\n",
    "        print('welcome to paragliding')\n",
    "        if (b==0):\n",
    "            print('donot fly')\n",
    "        return \n",
    "    return func(a,b)\n",
    "return inner\n",
    "@samrt_div\n",
    "\n",
    "re1 =div(15,5)\n",
    "print(re1) \n",
    "'''\n",
    "\n",
    "\n",
    "    "
   ]
  },
  {
   "cell_type": "code",
   "execution_count": null,
   "id": "49103af1",
   "metadata": {},
   "outputs": [],
   "source": [
    "def smart_div(func):\n",
    "    def inner(e,f):\n",
    "        print('welcome to india')\n",
    "        if(f==0):\n",
    "            print('hotel has been not booked')\n",
    "            return\n",
    "        return func(e,f)\n",
    "    return inner\n",
    "@smart_div\n",
    "def div(e,f):\n",
    "    return e//f\n",
    "result=div(432,12)\n",
    "print('your hotel is booked',result)"
   ]
  },
  {
   "cell_type": "code",
   "execution_count": 1,
   "id": "15f51284",
   "metadata": {},
   "outputs": [
    {
     "data": {
      "text/plain": [
       "\"\\ntry:\\na=int(input('enter a number'))\\nb=int(input('enter another number'))\\nprint(a//b)\\n\\nexcept:\\nprint('you cannot divide a number by zero')\\nprint('so, as it is')\\n\""
      ]
     },
     "execution_count": 1,
     "metadata": {},
     "output_type": "execute_result"
    }
   ],
   "source": [
    "#complie time errors: like missing letters or mistyping of code.\n",
    "#run time errors: when user gives wrong inputs, such kind of errors is called value error\n",
    "#value error:\n",
    "#index error: for example list=[1,2,3] then print(list[4])which is not there.\n",
    "#how can we handle this?\n",
    "'''\n",
    "try:\n",
    "a=int(input('enter a number'))\n",
    "b=int(input('enter another number'))\n",
    "print(a//b)\n",
    "\n",
    "except:\n",
    "print('you cannot divide a number by zero')\n",
    "print('so, as it is')\n",
    "'''"
   ]
  },
  {
   "cell_type": "code",
   "execution_count": 2,
   "id": "b5bcda4a",
   "metadata": {},
   "outputs": [
    {
     "data": {
      "text/plain": [
       "\"\\ntry:\\na=int(input('enter a numbrt'))\\nb= int(input('enter another number'))\\nprint(a//b)\\nlist=[1,2,3,4]\\nind=int(input('enter the index'))\\nprint(list[ind])\\nexcept ZeroDivisionError:\\nprint('you cannot divide by zero')\\nexcept IndexError:\\nprint('wrong index')\""
      ]
     },
     "execution_count": 2,
     "metadata": {},
     "output_type": "execute_result"
    }
   ],
   "source": [
    "'''\n",
    "try:\n",
    "a=int(input('enter a numbrt'))\n",
    "b= int(input('enter another number'))\n",
    "print(a//b)\n",
    "list=[1,2,3,4]\n",
    "ind=int(input('enter the index'))\n",
    "print(list[ind])\n",
    "except ZeroDivisionError:\n",
    "print('you cannot divide by zero')\n",
    "except IndexError:\n",
    "print('wrong index')'''"
   ]
  },
  {
   "cell_type": "code",
   "execution_count": 3,
   "id": "91cd6f3c",
   "metadata": {},
   "outputs": [
    {
     "data": {
      "text/plain": [
       "\"\\ntry:\\na=int(input('enter a number'))\\nprint(a)\\nexcept ZeroDivisionError:\\nprint('you cannot divide')\\nexcept IndexError:\\nprint('wrong index')\\nexcept Exception:\\nprint('something went wrong')\\nFinally:\\nprint('give away dude')\\n\""
      ]
     },
     "execution_count": 3,
     "metadata": {},
     "output_type": "execute_result"
    }
   ],
   "source": [
    "'''\n",
    "try:\n",
    "a=int(input('enter a number'))\n",
    "print(a)\n",
    "except ZeroDivisionError:\n",
    "print('you cannot divide')\n",
    "except IndexError:\n",
    "print('wrong index')\n",
    "except Exception:\n",
    "print('something went wrong')\n",
    "finally:\n",
    "print('give away dude')\n",
    "'''"
   ]
  },
  {
   "cell_type": "code",
   "execution_count": null,
   "id": "946eaeda",
   "metadata": {},
   "outputs": [],
   "source": [
    "try:\n",
    "    a= int(input('enter the value'))\n",
    "    b=int(input('enter b value'))\n",
    "    print(a//b)\n",
    "    list1=[1,2,3,4,5]  # 0 1, 1 2, 2 3, 3 4, 4 5\n",
    "    ind=int(input('enter an index'))\n",
    "    print(list1[ind])\n",
    "    z=int(input('Enter an index'))\n",
    "    print(z)\n",
    "except ZeroDivisionError:\n",
    "    print('you cannot divide a number by zero')\n",
    "except IndexError:\n",
    "    print('wrong index')\n",
    "except Exception:\n",
    "    print('somethingthing went wrong')\n",
    "finally:\n",
    "    print('good bye')"
   ]
  },
  {
   "cell_type": "code",
   "execution_count": null,
   "id": "330a4fc4",
   "metadata": {},
   "outputs": [],
   "source": []
  },
  {
   "cell_type": "code",
   "execution_count": null,
   "id": "19317cde",
   "metadata": {},
   "outputs": [],
   "source": []
  }
 ],
 "metadata": {
  "kernelspec": {
   "display_name": "Python 3 (ipykernel)",
   "language": "python",
   "name": "python3"
  },
  "language_info": {
   "codemirror_mode": {
    "name": "ipython",
    "version": 3
   },
   "file_extension": ".py",
   "mimetype": "text/x-python",
   "name": "python",
   "nbconvert_exporter": "python",
   "pygments_lexer": "ipython3",
   "version": "3.10.5"
  }
 },
 "nbformat": 4,
 "nbformat_minor": 5
}
